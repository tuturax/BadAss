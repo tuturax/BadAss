{
 "cells": [
  {
   "cell_type": "markdown",
   "metadata": {},
   "source": [
    "# <font color='red'> [0] Build the model </font> "
   ]
  },
  {
   "cell_type": "markdown",
   "metadata": {},
   "source": [
    "## <font color='green'> [0.1] Importation of the package </font> "
   ]
  },
  {
   "cell_type": "code",
   "execution_count": 1,
   "metadata": {},
   "outputs": [],
   "source": [
    "from main import *"
   ]
  },
  {
   "cell_type": "markdown",
   "metadata": {},
   "source": [
    "## <font color='green'> [0.2] Creation of an empty model </font> "
   ]
  },
  {
   "cell_type": "code",
   "execution_count": 2,
   "metadata": {},
   "outputs": [
    {
     "name": "stdout",
     "output_type": "stream",
     "text": [
      "Model created \n",
      " \n",
      "To add metabolite, use .metabolites.add_meta \n",
      "To add reaction,   use .reactions.add_reaction\n"
     ]
    }
   ],
   "source": [
    "momo = model()"
   ]
  },
  {
   "cell_type": "markdown",
   "metadata": {},
   "source": [
    "## <font color='green'> [0.3] Add of reaction and metabolite </font> "
   ]
  },
  {
   "cell_type": "code",
   "execution_count": 3,
   "metadata": {},
   "outputs": [
    {
     "name": "stdout",
     "output_type": "stream",
     "text": [
      "Don't worry, the metabolite will be add after the add of the 1st reaction\n",
      "The metabolite \"H2O\" is already in the model !\n",
      "True\n"
     ]
    }
   ],
   "source": [
    "momo.metabolites.add(name = \"H2O\", external = True, concentration = 1.0)\n",
    "\n",
    "metabolite_reaction = {\"H2O\" : 1.0,\n",
    "                       \"H2\"  :-1.0,\n",
    "                       \"O2\"  :-0.5}\n",
    "momo.reactions.add(name = \"combustion\", metabolites = metabolite_reaction, k_eq = 1.0, law = \"\", flux=1.0)"
   ]
  },
  {
   "cell_type": "code",
   "execution_count": 4,
   "metadata": {},
   "outputs": [
    {
     "name": "stdout",
     "output_type": "stream",
     "text": [
      "True\n"
     ]
    }
   ],
   "source": [
    "metabolite_reaction2 = {\"H2O\" : -1.0,\n",
    "                       \"H2\"  : 0.5,\n",
    "                       \"O2\"  : 0.5}\n",
    "momo.reactions.add(name = \"test\", metabolites = metabolite_reaction2, k_eq = 1.0, law = \"\", flux=1.0)"
   ]
  },
  {
   "cell_type": "code",
   "execution_count": 5,
   "metadata": {},
   "outputs": [
    {
     "data": {
      "text/html": [
       "<div>\n",
       "<style scoped>\n",
       "    .dataframe tbody tr th:only-of-type {\n",
       "        vertical-align: middle;\n",
       "    }\n",
       "\n",
       "    .dataframe tbody tr th {\n",
       "        vertical-align: top;\n",
       "    }\n",
       "\n",
       "    .dataframe thead th {\n",
       "        text-align: right;\n",
       "    }\n",
       "</style>\n",
       "<table border=\"1\" class=\"dataframe\">\n",
       "  <thead>\n",
       "    <tr style=\"text-align: right;\">\n",
       "      <th></th>\n",
       "      <th>Metabolites</th>\n",
       "      <th>Equilibrium constant</th>\n",
       "      <th>Law</th>\n",
       "      <th>Flux (mmol/gDW/h)</th>\n",
       "    </tr>\n",
       "  </thead>\n",
       "  <tbody>\n",
       "    <tr>\n",
       "      <th>combustion</th>\n",
       "      <td>{'H2O': 1.0, 'H2': -1.0, 'O2': -0.5}</td>\n",
       "      <td>1.0</td>\n",
       "      <td></td>\n",
       "      <td>1.0</td>\n",
       "    </tr>\n",
       "    <tr>\n",
       "      <th>test</th>\n",
       "      <td>{'H2O': -1.0, 'H2': 0.5, 'O2': 0.5}</td>\n",
       "      <td>1.0</td>\n",
       "      <td></td>\n",
       "      <td>1.0</td>\n",
       "    </tr>\n",
       "  </tbody>\n",
       "</table>\n",
       "</div>"
      ],
      "text/plain": [
       "                                     Metabolites  Equilibrium constant Law  \\\n",
       "combustion  {'H2O': 1.0, 'H2': -1.0, 'O2': -0.5}                   1.0       \n",
       "test         {'H2O': -1.0, 'H2': 0.5, 'O2': 0.5}                   1.0       \n",
       "\n",
       "            Flux (mmol/gDW/h)  \n",
       "combustion                1.0  \n",
       "test                      1.0  "
      ]
     },
     "execution_count": 5,
     "metadata": {},
     "output_type": "execute_result"
    }
   ],
   "source": [
    "momo.reactions.df"
   ]
  },
  {
   "cell_type": "markdown",
   "metadata": {},
   "source": [
    "#### Add a reaction with specified metabolite and stoichiometric coefficient automaticaly adds them to the model"
   ]
  },
  {
   "cell_type": "code",
   "execution_count": 6,
   "metadata": {},
   "outputs": [
    {
     "data": {
      "text/html": [
       "<div>\n",
       "<style scoped>\n",
       "    .dataframe tbody tr th:only-of-type {\n",
       "        vertical-align: middle;\n",
       "    }\n",
       "\n",
       "    .dataframe tbody tr th {\n",
       "        vertical-align: top;\n",
       "    }\n",
       "\n",
       "    .dataframe thead th {\n",
       "        text-align: right;\n",
       "    }\n",
       "</style>\n",
       "<table border=\"1\" class=\"dataframe\">\n",
       "  <thead>\n",
       "    <tr style=\"text-align: right;\">\n",
       "      <th></th>\n",
       "      <th>External</th>\n",
       "      <th>Concentration (mmol/gDW)</th>\n",
       "    </tr>\n",
       "  </thead>\n",
       "  <tbody>\n",
       "    <tr>\n",
       "      <th>H2O</th>\n",
       "      <td>True</td>\n",
       "      <td>1.0</td>\n",
       "    </tr>\n",
       "    <tr>\n",
       "      <th>H2</th>\n",
       "      <td>False</td>\n",
       "      <td>1.0</td>\n",
       "    </tr>\n",
       "    <tr>\n",
       "      <th>O2</th>\n",
       "      <td>False</td>\n",
       "      <td>1.0</td>\n",
       "    </tr>\n",
       "  </tbody>\n",
       "</table>\n",
       "</div>"
      ],
      "text/plain": [
       "     External  Concentration (mmol/gDW)\n",
       "H2O      True                       1.0\n",
       "H2      False                       1.0\n",
       "O2      False                       1.0"
      ]
     },
     "execution_count": 6,
     "metadata": {},
     "output_type": "execute_result"
    }
   ],
   "source": [
    "momo.metabolites.df"
   ]
  },
  {
   "cell_type": "code",
   "execution_count": 7,
   "metadata": {},
   "outputs": [
    {
     "data": {
      "text/html": [
       "<div>\n",
       "<style scoped>\n",
       "    .dataframe tbody tr th:only-of-type {\n",
       "        vertical-align: middle;\n",
       "    }\n",
       "\n",
       "    .dataframe tbody tr th {\n",
       "        vertical-align: top;\n",
       "    }\n",
       "\n",
       "    .dataframe thead th {\n",
       "        text-align: right;\n",
       "    }\n",
       "</style>\n",
       "<table border=\"1\" class=\"dataframe\">\n",
       "  <thead>\n",
       "    <tr style=\"text-align: right;\">\n",
       "      <th></th>\n",
       "      <th>combustion</th>\n",
       "      <th>test</th>\n",
       "    </tr>\n",
       "  </thead>\n",
       "  <tbody>\n",
       "    <tr>\n",
       "      <th>H2O</th>\n",
       "      <td>1.0</td>\n",
       "      <td>-1.0</td>\n",
       "    </tr>\n",
       "    <tr>\n",
       "      <th>H2</th>\n",
       "      <td>-1.0</td>\n",
       "      <td>0.5</td>\n",
       "    </tr>\n",
       "    <tr>\n",
       "      <th>O2</th>\n",
       "      <td>-0.5</td>\n",
       "      <td>0.5</td>\n",
       "    </tr>\n",
       "  </tbody>\n",
       "</table>\n",
       "</div>"
      ],
      "text/plain": [
       "     combustion  test\n",
       "H2O         1.0  -1.0\n",
       "H2         -1.0   0.5\n",
       "O2         -0.5   0.5"
      ]
     },
     "execution_count": 7,
     "metadata": {},
     "output_type": "execute_result"
    }
   ],
   "source": [
    "momo.Stoichio_matrix"
   ]
  },
  {
   "cell_type": "code",
   "execution_count": 8,
   "metadata": {},
   "outputs": [
    {
     "data": {
      "text/html": [
       "<div>\n",
       "<style scoped>\n",
       "    .dataframe tbody tr th:only-of-type {\n",
       "        vertical-align: middle;\n",
       "    }\n",
       "\n",
       "    .dataframe tbody tr th {\n",
       "        vertical-align: top;\n",
       "    }\n",
       "\n",
       "    .dataframe thead th {\n",
       "        text-align: right;\n",
       "    }\n",
       "</style>\n",
       "<table border=\"1\" class=\"dataframe\">\n",
       "  <thead>\n",
       "    <tr style=\"text-align: right;\">\n",
       "      <th></th>\n",
       "      <th>Temperature</th>\n",
       "    </tr>\n",
       "  </thead>\n",
       "  <tbody>\n",
       "    <tr>\n",
       "      <th>combustion</th>\n",
       "      <td>0</td>\n",
       "    </tr>\n",
       "    <tr>\n",
       "      <th>test</th>\n",
       "      <td>0</td>\n",
       "    </tr>\n",
       "  </tbody>\n",
       "</table>\n",
       "</div>"
      ],
      "text/plain": [
       "            Temperature\n",
       "combustion            0\n",
       "test                  0"
      ]
     },
     "execution_count": 8,
     "metadata": {},
     "output_type": "execute_result"
    }
   ],
   "source": [
    "momo.elasticity.p"
   ]
  },
  {
   "cell_type": "code",
   "execution_count": 10,
   "metadata": {},
   "outputs": [
    {
     "data": {
      "text/html": [
       "<div>\n",
       "<style scoped>\n",
       "    .dataframe tbody tr th:only-of-type {\n",
       "        vertical-align: middle;\n",
       "    }\n",
       "\n",
       "    .dataframe tbody tr th {\n",
       "        vertical-align: top;\n",
       "    }\n",
       "\n",
       "    .dataframe thead th {\n",
       "        text-align: right;\n",
       "    }\n",
       "</style>\n",
       "<table border=\"1\" class=\"dataframe\">\n",
       "  <thead>\n",
       "    <tr style=\"text-align: right;\">\n",
       "      <th></th>\n",
       "      <th>H2O</th>\n",
       "      <th>H2</th>\n",
       "      <th>O2</th>\n",
       "    </tr>\n",
       "  </thead>\n",
       "  <tbody>\n",
       "    <tr>\n",
       "      <th>0</th>\n",
       "      <td>NaN</td>\n",
       "      <td>NaN</td>\n",
       "      <td>0</td>\n",
       "    </tr>\n",
       "  </tbody>\n",
       "</table>\n",
       "</div>"
      ],
      "text/plain": [
       "   H2O  H2  O2\n",
       "0  NaN NaN   0"
      ]
     },
     "execution_count": 10,
     "metadata": {},
     "output_type": "execute_result"
    }
   ],
   "source": [
    "momo.elasticity.s.df"
   ]
  },
  {
   "cell_type": "code",
   "execution_count": 19,
   "metadata": {},
   "outputs": [
    {
     "ename": "ValueError",
     "evalue": "could not broadcast input array from shape (2,3) into shape (0,3)",
     "output_type": "error",
     "traceback": [
      "\u001b[0;31m---------------------------------------------------------------------------\u001b[0m",
      "\u001b[0;31mValueError\u001b[0m                                Traceback (most recent call last)",
      "\u001b[1;32m/home/alequertier/Documents/BadAss/test_class.ipynb Cell 15\u001b[0m line \u001b[0;36m1\n\u001b[0;32m----> <a href='vscode-notebook-cell:/home/alequertier/Documents/BadAss/test_class.ipynb#X20sZmlsZQ%3D%3D?line=0'>1</a>\u001b[0m momo\u001b[39m.\u001b[39melasticity\u001b[39m.\u001b[39ms\u001b[39m.\u001b[39mfill_sub_elasticity()\n",
      "File \u001b[0;32m~/Documents/BadAss/layer_1/layer_2/sub_elasticity.py:162\u001b[0m, in \u001b[0;36mSub_Elasticity_class.fill_sub_elasticity\u001b[0;34m(self, a, b)\u001b[0m\n\u001b[1;32m    158\u001b[0m W_acti \u001b[39m=\u001b[39m W_inib \u001b[39m=\u001b[39m np\u001b[39m.\u001b[39mones(np\u001b[39m.\u001b[39mshape(np\u001b[39m.\u001b[39mtranspose(N)))\n\u001b[1;32m    160\u001b[0m ela_regu \u001b[39m=\u001b[39m np\u001b[39m.\u001b[39mmultiply(alpha, W_acti) \u001b[39m-\u001b[39m np\u001b[39m.\u001b[39mmultiply(beta, W_inib)\n\u001b[0;32m--> 162\u001b[0m \u001b[39mself\u001b[39;49m\u001b[39m.\u001b[39;49mregulation\u001b[39m.\u001b[39;49mvalues[:,:] \u001b[39m=\u001b[39m ela_regu\n\u001b[1;32m    164\u001b[0m \u001b[39mfor\u001b[39;00m i,index \u001b[39min\u001b[39;00m \u001b[39menumerate\u001b[39m( \u001b[39mself\u001b[39m\u001b[39m.\u001b[39mregulation\u001b[39m.\u001b[39mindex ) :\n\u001b[1;32m    165\u001b[0m     \u001b[39mfor\u001b[39;00m j,column \u001b[39min\u001b[39;00m \u001b[39menumerate\u001b[39m( \u001b[39mself\u001b[39m\u001b[39m.\u001b[39mregulation\u001b[39m.\u001b[39mcolumns ) :\n",
      "\u001b[0;31mValueError\u001b[0m: could not broadcast input array from shape (2,3) into shape (0,3)"
     ]
    }
   ],
   "source": [
    "momo.elasticity.s.fill_sub_elasticity()"
   ]
  },
  {
   "cell_type": "code",
   "execution_count": null,
   "metadata": {},
   "outputs": [],
   "source": [
    "momo.elasticity.s.df"
   ]
  },
  {
   "cell_type": "code",
   "execution_count": null,
   "metadata": {},
   "outputs": [
    {
     "data": {
      "text/html": [
       "<div>\n",
       "<style scoped>\n",
       "    .dataframe tbody tr th:only-of-type {\n",
       "        vertical-align: middle;\n",
       "    }\n",
       "\n",
       "    .dataframe tbody tr th {\n",
       "        vertical-align: top;\n",
       "    }\n",
       "\n",
       "    .dataframe thead th {\n",
       "        text-align: right;\n",
       "    }\n",
       "</style>\n",
       "<table border=\"1\" class=\"dataframe\">\n",
       "  <thead>\n",
       "    <tr style=\"text-align: right;\">\n",
       "      <th></th>\n",
       "      <th>H2O</th>\n",
       "      <th>H2</th>\n",
       "      <th>O2</th>\n",
       "    </tr>\n",
       "  </thead>\n",
       "  <tbody>\n",
       "    <tr>\n",
       "      <th>combustion</th>\n",
       "      <td>0.921624</td>\n",
       "      <td>-0.193176</td>\n",
       "      <td>-0.059246</td>\n",
       "    </tr>\n",
       "    <tr>\n",
       "      <th>test</th>\n",
       "      <td>-0.906697</td>\n",
       "      <td>0.160548</td>\n",
       "      <td>0.016504</td>\n",
       "    </tr>\n",
       "  </tbody>\n",
       "</table>\n",
       "</div>"
      ],
      "text/plain": [
       "                 H2O        H2        O2\n",
       "combustion  0.921624 -0.193176 -0.059246\n",
       "test       -0.906697  0.160548  0.016504"
      ]
     },
     "execution_count": 36,
     "metadata": {},
     "output_type": "execute_result"
    }
   ],
   "source": [
    "momo.elasticity.s.enzyme"
   ]
  },
  {
   "cell_type": "markdown",
   "metadata": {},
   "source": [
    "#### Print the stoichiometric matrix"
   ]
  },
  {
   "cell_type": "code",
   "execution_count": null,
   "metadata": {},
   "outputs": [
    {
     "data": {
      "text/html": [
       "<div>\n",
       "<style scoped>\n",
       "    .dataframe tbody tr th:only-of-type {\n",
       "        vertical-align: middle;\n",
       "    }\n",
       "\n",
       "    .dataframe tbody tr th {\n",
       "        vertical-align: top;\n",
       "    }\n",
       "\n",
       "    .dataframe thead th {\n",
       "        text-align: right;\n",
       "    }\n",
       "</style>\n",
       "<table border=\"1\" class=\"dataframe\">\n",
       "  <thead>\n",
       "    <tr style=\"text-align: right;\">\n",
       "      <th></th>\n",
       "      <th>combustion</th>\n",
       "      <th>test</th>\n",
       "    </tr>\n",
       "  </thead>\n",
       "  <tbody>\n",
       "    <tr>\n",
       "      <th>H2O</th>\n",
       "      <td>1.0</td>\n",
       "      <td>-1.0</td>\n",
       "    </tr>\n",
       "    <tr>\n",
       "      <th>H2</th>\n",
       "      <td>-1.0</td>\n",
       "      <td>0.5</td>\n",
       "    </tr>\n",
       "    <tr>\n",
       "      <th>O2</th>\n",
       "      <td>-0.5</td>\n",
       "      <td>0.5</td>\n",
       "    </tr>\n",
       "  </tbody>\n",
       "</table>\n",
       "</div>"
      ],
      "text/plain": [
       "     combustion  test\n",
       "H2O         1.0  -1.0\n",
       "H2         -1.0   0.5\n",
       "O2         -0.5   0.5"
      ]
     },
     "execution_count": 12,
     "metadata": {},
     "output_type": "execute_result"
    }
   ],
   "source": [
    "momo.Stoichio_matrix"
   ]
  },
  {
   "cell_type": "markdown",
   "metadata": {},
   "source": [
    "#### It is also possible to remove a metabolite or a reaction to the model"
   ]
  },
  {
   "cell_type": "code",
   "execution_count": null,
   "metadata": {},
   "outputs": [
    {
     "data": {
      "text/html": [
       "<div>\n",
       "<style scoped>\n",
       "    .dataframe tbody tr th:only-of-type {\n",
       "        vertical-align: middle;\n",
       "    }\n",
       "\n",
       "    .dataframe tbody tr th {\n",
       "        vertical-align: top;\n",
       "    }\n",
       "\n",
       "    .dataframe thead th {\n",
       "        text-align: right;\n",
       "    }\n",
       "</style>\n",
       "<table border=\"1\" class=\"dataframe\">\n",
       "  <thead>\n",
       "    <tr style=\"text-align: right;\">\n",
       "      <th></th>\n",
       "      <th>External</th>\n",
       "      <th>Concentration (mmol/gDW)</th>\n",
       "    </tr>\n",
       "  </thead>\n",
       "  <tbody>\n",
       "    <tr>\n",
       "      <th>H2O</th>\n",
       "      <td>True</td>\n",
       "      <td>1.0</td>\n",
       "    </tr>\n",
       "    <tr>\n",
       "      <th>H2</th>\n",
       "      <td>False</td>\n",
       "      <td>1.0</td>\n",
       "    </tr>\n",
       "  </tbody>\n",
       "</table>\n",
       "</div>"
      ],
      "text/plain": [
       "     External  Concentration (mmol/gDW)\n",
       "H2O      True                       1.0\n",
       "H2      False                       1.0"
      ]
     },
     "execution_count": 13,
     "metadata": {},
     "output_type": "execute_result"
    }
   ],
   "source": [
    "momo.metabolites.remove(\"O2\")\n",
    "momo.metabolites.df"
   ]
  },
  {
   "cell_type": "markdown",
   "metadata": {},
   "source": [
    "#### Removing a metabolite remove also every mention of it in the reactions dataframe and in the stoichiometric matrix"
   ]
  },
  {
   "cell_type": "code",
   "execution_count": null,
   "metadata": {},
   "outputs": [
    {
     "data": {
      "text/html": [
       "<div>\n",
       "<style scoped>\n",
       "    .dataframe tbody tr th:only-of-type {\n",
       "        vertical-align: middle;\n",
       "    }\n",
       "\n",
       "    .dataframe tbody tr th {\n",
       "        vertical-align: top;\n",
       "    }\n",
       "\n",
       "    .dataframe thead th {\n",
       "        text-align: right;\n",
       "    }\n",
       "</style>\n",
       "<table border=\"1\" class=\"dataframe\">\n",
       "  <thead>\n",
       "    <tr style=\"text-align: right;\">\n",
       "      <th></th>\n",
       "      <th>Metabolites</th>\n",
       "      <th>Equilibrium constant</th>\n",
       "      <th>Law</th>\n",
       "      <th>Flux (mmol/gDW/h)</th>\n",
       "    </tr>\n",
       "  </thead>\n",
       "  <tbody>\n",
       "    <tr>\n",
       "      <th>combustion</th>\n",
       "      <td>{'H2O': 1.0, 'H2': -1.0}</td>\n",
       "      <td>1.0</td>\n",
       "      <td></td>\n",
       "      <td>1.0</td>\n",
       "    </tr>\n",
       "    <tr>\n",
       "      <th>test</th>\n",
       "      <td>{'H2O': -1.0, 'H2': 0.5}</td>\n",
       "      <td>1.0</td>\n",
       "      <td></td>\n",
       "      <td>1.0</td>\n",
       "    </tr>\n",
       "  </tbody>\n",
       "</table>\n",
       "</div>"
      ],
      "text/plain": [
       "                         Metabolites  Equilibrium constant Law  \\\n",
       "combustion  {'H2O': 1.0, 'H2': -1.0}                   1.0       \n",
       "test        {'H2O': -1.0, 'H2': 0.5}                   1.0       \n",
       "\n",
       "            Flux (mmol/gDW/h)  \n",
       "combustion                1.0  \n",
       "test                      1.0  "
      ]
     },
     "execution_count": 14,
     "metadata": {},
     "output_type": "execute_result"
    }
   ],
   "source": [
    "momo.reactions.df"
   ]
  },
  {
   "cell_type": "code",
   "execution_count": null,
   "metadata": {},
   "outputs": [
    {
     "data": {
      "text/html": [
       "<div>\n",
       "<style scoped>\n",
       "    .dataframe tbody tr th:only-of-type {\n",
       "        vertical-align: middle;\n",
       "    }\n",
       "\n",
       "    .dataframe tbody tr th {\n",
       "        vertical-align: top;\n",
       "    }\n",
       "\n",
       "    .dataframe thead th {\n",
       "        text-align: right;\n",
       "    }\n",
       "</style>\n",
       "<table border=\"1\" class=\"dataframe\">\n",
       "  <thead>\n",
       "    <tr style=\"text-align: right;\">\n",
       "      <th></th>\n",
       "      <th>combustion</th>\n",
       "      <th>test</th>\n",
       "    </tr>\n",
       "  </thead>\n",
       "  <tbody>\n",
       "    <tr>\n",
       "      <th>H2O</th>\n",
       "      <td>1.0</td>\n",
       "      <td>-1.0</td>\n",
       "    </tr>\n",
       "    <tr>\n",
       "      <th>H2</th>\n",
       "      <td>-1.0</td>\n",
       "      <td>0.5</td>\n",
       "    </tr>\n",
       "  </tbody>\n",
       "</table>\n",
       "</div>"
      ],
      "text/plain": [
       "     combustion  test\n",
       "H2O         1.0  -1.0\n",
       "H2         -1.0   0.5"
      ]
     },
     "execution_count": 15,
     "metadata": {},
     "output_type": "execute_result"
    }
   ],
   "source": [
    "momo.Stoichio_matrix"
   ]
  },
  {
   "cell_type": "code",
   "execution_count": null,
   "metadata": {},
   "outputs": [
    {
     "data": {
      "text/html": [
       "<div>\n",
       "<style scoped>\n",
       "    .dataframe tbody tr th:only-of-type {\n",
       "        vertical-align: middle;\n",
       "    }\n",
       "\n",
       "    .dataframe tbody tr th {\n",
       "        vertical-align: top;\n",
       "    }\n",
       "\n",
       "    .dataframe thead th {\n",
       "        text-align: right;\n",
       "    }\n",
       "</style>\n",
       "<table border=\"1\" class=\"dataframe\">\n",
       "  <thead>\n",
       "    <tr style=\"text-align: right;\">\n",
       "      <th></th>\n",
       "      <th>Metabolites</th>\n",
       "      <th>Equilibrium constant</th>\n",
       "      <th>Law</th>\n",
       "      <th>Flux (mmol/gDW/h)</th>\n",
       "    </tr>\n",
       "  </thead>\n",
       "  <tbody>\n",
       "    <tr>\n",
       "      <th>test</th>\n",
       "      <td>{'H2O': -1.0, 'H2': 0.5}</td>\n",
       "      <td>1.0</td>\n",
       "      <td></td>\n",
       "      <td>1.0</td>\n",
       "    </tr>\n",
       "  </tbody>\n",
       "</table>\n",
       "</div>"
      ],
      "text/plain": [
       "                   Metabolites  Equilibrium constant Law  Flux (mmol/gDW/h)\n",
       "test  {'H2O': -1.0, 'H2': 0.5}                   1.0                    1.0"
      ]
     },
     "execution_count": 16,
     "metadata": {},
     "output_type": "execute_result"
    }
   ],
   "source": [
    "momo.reactions.remove(name=\"combustion\")\n",
    "momo.reactions.df"
   ]
  },
  {
   "cell_type": "markdown",
   "metadata": {},
   "source": [
    "## <font color='green'> [0.4] Stoichiometric matrix from an existant one </font> "
   ]
  },
  {
   "cell_type": "code",
   "execution_count": null,
   "metadata": {},
   "outputs": [],
   "source": [
    "reactions = {'Combustion': [1. , -1., -0.5],\n",
    "            'Reaction_2': [0. ,  0.,   0. ]}\n",
    "\n",
    "metabolites = ['H2O', 'H2', 'O2']\n",
    "\n",
    "dataframe = pd.DataFrame(reactions, index=metabolites)\n",
    "\n",
    "momo.Stoichio_matrix = dataframe"
   ]
  },
  {
   "cell_type": "markdown",
   "metadata": {},
   "source": [
    "#### And the metabolites and reactions dataframes are automatically update"
   ]
  },
  {
   "cell_type": "code",
   "execution_count": null,
   "metadata": {},
   "outputs": [
    {
     "data": {
      "text/html": [
       "<div>\n",
       "<style scoped>\n",
       "    .dataframe tbody tr th:only-of-type {\n",
       "        vertical-align: middle;\n",
       "    }\n",
       "\n",
       "    .dataframe tbody tr th {\n",
       "        vertical-align: top;\n",
       "    }\n",
       "\n",
       "    .dataframe thead th {\n",
       "        text-align: right;\n",
       "    }\n",
       "</style>\n",
       "<table border=\"1\" class=\"dataframe\">\n",
       "  <thead>\n",
       "    <tr style=\"text-align: right;\">\n",
       "      <th></th>\n",
       "      <th>Combustion</th>\n",
       "      <th>Reaction_2</th>\n",
       "    </tr>\n",
       "  </thead>\n",
       "  <tbody>\n",
       "    <tr>\n",
       "      <th>H2O</th>\n",
       "      <td>1.0</td>\n",
       "      <td>0.0</td>\n",
       "    </tr>\n",
       "    <tr>\n",
       "      <th>H2</th>\n",
       "      <td>-1.0</td>\n",
       "      <td>0.0</td>\n",
       "    </tr>\n",
       "    <tr>\n",
       "      <th>O2</th>\n",
       "      <td>-0.5</td>\n",
       "      <td>0.0</td>\n",
       "    </tr>\n",
       "  </tbody>\n",
       "</table>\n",
       "</div>"
      ],
      "text/plain": [
       "     Combustion  Reaction_2\n",
       "H2O         1.0         0.0\n",
       "H2         -1.0         0.0\n",
       "O2         -0.5         0.0"
      ]
     },
     "execution_count": 18,
     "metadata": {},
     "output_type": "execute_result"
    }
   ],
   "source": [
    "momo.Stoichio_matrix"
   ]
  },
  {
   "cell_type": "code",
   "execution_count": null,
   "metadata": {},
   "outputs": [
    {
     "data": {
      "text/html": [
       "<div>\n",
       "<style scoped>\n",
       "    .dataframe tbody tr th:only-of-type {\n",
       "        vertical-align: middle;\n",
       "    }\n",
       "\n",
       "    .dataframe tbody tr th {\n",
       "        vertical-align: top;\n",
       "    }\n",
       "\n",
       "    .dataframe thead th {\n",
       "        text-align: right;\n",
       "    }\n",
       "</style>\n",
       "<table border=\"1\" class=\"dataframe\">\n",
       "  <thead>\n",
       "    <tr style=\"text-align: right;\">\n",
       "      <th></th>\n",
       "      <th>Metabolites</th>\n",
       "      <th>Equilibrium constant</th>\n",
       "      <th>Law</th>\n",
       "      <th>Flux (mmol/gDW/h)</th>\n",
       "    </tr>\n",
       "  </thead>\n",
       "  <tbody>\n",
       "    <tr>\n",
       "      <th>Combustion</th>\n",
       "      <td>{'H2O': 1.0, 'H2': -1.0, 'O2': -0.5}</td>\n",
       "      <td>1.0</td>\n",
       "      <td></td>\n",
       "      <td>1</td>\n",
       "    </tr>\n",
       "    <tr>\n",
       "      <th>Reaction_2</th>\n",
       "      <td>{}</td>\n",
       "      <td>1.0</td>\n",
       "      <td></td>\n",
       "      <td>1</td>\n",
       "    </tr>\n",
       "  </tbody>\n",
       "</table>\n",
       "</div>"
      ],
      "text/plain": [
       "                                     Metabolites  Equilibrium constant Law  \\\n",
       "Combustion  {'H2O': 1.0, 'H2': -1.0, 'O2': -0.5}                   1.0       \n",
       "Reaction_2                                    {}                   1.0       \n",
       "\n",
       "            Flux (mmol/gDW/h)  \n",
       "Combustion                  1  \n",
       "Reaction_2                  1  "
      ]
     },
     "execution_count": 19,
     "metadata": {},
     "output_type": "execute_result"
    }
   ],
   "source": [
    "momo.reactions.df"
   ]
  },
  {
   "cell_type": "code",
   "execution_count": null,
   "metadata": {},
   "outputs": [
    {
     "data": {
      "text/html": [
       "<div>\n",
       "<style scoped>\n",
       "    .dataframe tbody tr th:only-of-type {\n",
       "        vertical-align: middle;\n",
       "    }\n",
       "\n",
       "    .dataframe tbody tr th {\n",
       "        vertical-align: top;\n",
       "    }\n",
       "\n",
       "    .dataframe thead th {\n",
       "        text-align: right;\n",
       "    }\n",
       "</style>\n",
       "<table border=\"1\" class=\"dataframe\">\n",
       "  <thead>\n",
       "    <tr style=\"text-align: right;\">\n",
       "      <th></th>\n",
       "      <th>External</th>\n",
       "      <th>Concentration (mmol/gDW)</th>\n",
       "    </tr>\n",
       "  </thead>\n",
       "  <tbody>\n",
       "    <tr>\n",
       "      <th>H2O</th>\n",
       "      <td>False</td>\n",
       "      <td>1</td>\n",
       "    </tr>\n",
       "    <tr>\n",
       "      <th>H2</th>\n",
       "      <td>False</td>\n",
       "      <td>1</td>\n",
       "    </tr>\n",
       "    <tr>\n",
       "      <th>O2</th>\n",
       "      <td>False</td>\n",
       "      <td>1</td>\n",
       "    </tr>\n",
       "  </tbody>\n",
       "</table>\n",
       "</div>"
      ],
      "text/plain": [
       "     External  Concentration (mmol/gDW)\n",
       "H2O     False                         1\n",
       "H2      False                         1\n",
       "O2      False                         1"
      ]
     },
     "execution_count": 20,
     "metadata": {},
     "output_type": "execute_result"
    }
   ],
   "source": [
    "momo.metabolites.df"
   ]
  },
  {
   "cell_type": "markdown",
   "metadata": {},
   "source": [
    "## <font color='green'> [0.5] Create a linear system </font> "
   ]
  },
  {
   "cell_type": "code",
   "execution_count": null,
   "metadata": {},
   "outputs": [
    {
     "name": "stdout",
     "output_type": "stream",
     "text": [
      "Model created \n",
      " \n",
      "To add metabolite, use .metabolites.add_meta \n",
      "To add reaction,   use .reactions.add_reaction\n",
      "Empty DataFrame\n",
      "Columns: [Temperature]\n",
      "Index: []\n"
     ]
    }
   ],
   "source": [
    "momo.creat_linear(4)"
   ]
  },
  {
   "cell_type": "markdown",
   "metadata": {},
   "source": [
    "### Display the variables of the system"
   ]
  },
  {
   "cell_type": "code",
   "execution_count": null,
   "metadata": {},
   "outputs": [
    {
     "data": {
      "text/html": [
       "<div>\n",
       "<style scoped>\n",
       "    .dataframe tbody tr th:only-of-type {\n",
       "        vertical-align: middle;\n",
       "    }\n",
       "\n",
       "    .dataframe tbody tr th {\n",
       "        vertical-align: top;\n",
       "    }\n",
       "\n",
       "    .dataframe thead th {\n",
       "        text-align: right;\n",
       "    }\n",
       "</style>\n",
       "<table border=\"1\" class=\"dataframe\">\n",
       "  <thead>\n",
       "    <tr style=\"text-align: right;\">\n",
       "      <th></th>\n",
       "      <th>External</th>\n",
       "      <th>Concentration (mmol/gDW)</th>\n",
       "    </tr>\n",
       "  </thead>\n",
       "  <tbody>\n",
       "    <tr>\n",
       "      <th>meta_0</th>\n",
       "      <td>True</td>\n",
       "      <td>1</td>\n",
       "    </tr>\n",
       "    <tr>\n",
       "      <th>meta_1</th>\n",
       "      <td>False</td>\n",
       "      <td>1</td>\n",
       "    </tr>\n",
       "    <tr>\n",
       "      <th>meta_2</th>\n",
       "      <td>False</td>\n",
       "      <td>1</td>\n",
       "    </tr>\n",
       "    <tr>\n",
       "      <th>meta_3</th>\n",
       "      <td>True</td>\n",
       "      <td>1</td>\n",
       "    </tr>\n",
       "  </tbody>\n",
       "</table>\n",
       "</div>"
      ],
      "text/plain": [
       "        External  Concentration (mmol/gDW)\n",
       "meta_0      True                         1\n",
       "meta_1     False                         1\n",
       "meta_2     False                         1\n",
       "meta_3      True                         1"
      ]
     },
     "execution_count": 22,
     "metadata": {},
     "output_type": "execute_result"
    }
   ],
   "source": [
    "momo.metabolites.df"
   ]
  },
  {
   "cell_type": "code",
   "execution_count": null,
   "metadata": {},
   "outputs": [
    {
     "data": {
      "text/html": [
       "<div>\n",
       "<style scoped>\n",
       "    .dataframe tbody tr th:only-of-type {\n",
       "        vertical-align: middle;\n",
       "    }\n",
       "\n",
       "    .dataframe tbody tr th {\n",
       "        vertical-align: top;\n",
       "    }\n",
       "\n",
       "    .dataframe thead th {\n",
       "        text-align: right;\n",
       "    }\n",
       "</style>\n",
       "<table border=\"1\" class=\"dataframe\">\n",
       "  <thead>\n",
       "    <tr style=\"text-align: right;\">\n",
       "      <th></th>\n",
       "      <th>Metabolites</th>\n",
       "      <th>Equilibrium constant</th>\n",
       "      <th>Law</th>\n",
       "      <th>Flux (mmol/gDW/h)</th>\n",
       "    </tr>\n",
       "  </thead>\n",
       "  <tbody>\n",
       "    <tr>\n",
       "      <th>reaction_0</th>\n",
       "      <td>{'meta_0': -1, 'meta_1': 1}</td>\n",
       "      <td>1.0</td>\n",
       "      <td></td>\n",
       "      <td>1</td>\n",
       "    </tr>\n",
       "    <tr>\n",
       "      <th>reaction_1</th>\n",
       "      <td>{'meta_1': -1, 'meta_2': 1}</td>\n",
       "      <td>1.0</td>\n",
       "      <td></td>\n",
       "      <td>1</td>\n",
       "    </tr>\n",
       "    <tr>\n",
       "      <th>reaction_2</th>\n",
       "      <td>{'meta_2': -1, 'meta_3': 1}</td>\n",
       "      <td>1.0</td>\n",
       "      <td></td>\n",
       "      <td>1</td>\n",
       "    </tr>\n",
       "  </tbody>\n",
       "</table>\n",
       "</div>"
      ],
      "text/plain": [
       "                            Metabolites  Equilibrium constant Law  \\\n",
       "reaction_0  {'meta_0': -1, 'meta_1': 1}                   1.0       \n",
       "reaction_1  {'meta_1': -1, 'meta_2': 1}                   1.0       \n",
       "reaction_2  {'meta_2': -1, 'meta_3': 1}                   1.0       \n",
       "\n",
       "            Flux (mmol/gDW/h)  \n",
       "reaction_0                  1  \n",
       "reaction_1                  1  \n",
       "reaction_2                  1  "
      ]
     },
     "execution_count": 23,
     "metadata": {},
     "output_type": "execute_result"
    }
   ],
   "source": [
    "momo.reactions.df"
   ]
  },
  {
   "cell_type": "markdown",
   "metadata": {},
   "source": [
    "## <font color='green'> [0.6] Read a CSV file </font> "
   ]
  },
  {
   "cell_type": "code",
   "execution_count": null,
   "metadata": {},
   "outputs": [],
   "source": [
    "momo.read_CSV()"
   ]
  },
  {
   "cell_type": "code",
   "execution_count": null,
   "metadata": {},
   "outputs": [
    {
     "data": {
      "text/html": [
       "<div>\n",
       "<style scoped>\n",
       "    .dataframe tbody tr th:only-of-type {\n",
       "        vertical-align: middle;\n",
       "    }\n",
       "\n",
       "    .dataframe tbody tr th {\n",
       "        vertical-align: top;\n",
       "    }\n",
       "\n",
       "    .dataframe thead th {\n",
       "        text-align: right;\n",
       "    }\n",
       "</style>\n",
       "<table border=\"1\" class=\"dataframe\">\n",
       "  <thead>\n",
       "    <tr style=\"text-align: right;\">\n",
       "      <th></th>\n",
       "      <th>ACALD</th>\n",
       "      <th>ACALDt</th>\n",
       "      <th>ACKr</th>\n",
       "      <th>ACONTa</th>\n",
       "      <th>ACONTb</th>\n",
       "      <th>ACt2r</th>\n",
       "      <th>ADK1</th>\n",
       "      <th>AKGDH</th>\n",
       "      <th>AKGt2r</th>\n",
       "      <th>ALCD2x</th>\n",
       "      <th>...</th>\n",
       "      <th>RPI</th>\n",
       "      <th>SUCCt2_2</th>\n",
       "      <th>SUCCt3</th>\n",
       "      <th>SUCDi</th>\n",
       "      <th>SUCOAS</th>\n",
       "      <th>TALA</th>\n",
       "      <th>THD2</th>\n",
       "      <th>TKT1</th>\n",
       "      <th>TKT2</th>\n",
       "      <th>TPI</th>\n",
       "    </tr>\n",
       "  </thead>\n",
       "  <tbody>\n",
       "    <tr>\n",
       "      <th>13dpg</th>\n",
       "      <td>0</td>\n",
       "      <td>0</td>\n",
       "      <td>0</td>\n",
       "      <td>0</td>\n",
       "      <td>0</td>\n",
       "      <td>0</td>\n",
       "      <td>0</td>\n",
       "      <td>0</td>\n",
       "      <td>0</td>\n",
       "      <td>0</td>\n",
       "      <td>...</td>\n",
       "      <td>0</td>\n",
       "      <td>0</td>\n",
       "      <td>0</td>\n",
       "      <td>0</td>\n",
       "      <td>0</td>\n",
       "      <td>0</td>\n",
       "      <td>0</td>\n",
       "      <td>0</td>\n",
       "      <td>0</td>\n",
       "      <td>0</td>\n",
       "    </tr>\n",
       "    <tr>\n",
       "      <th>2pg</th>\n",
       "      <td>0</td>\n",
       "      <td>0</td>\n",
       "      <td>0</td>\n",
       "      <td>0</td>\n",
       "      <td>0</td>\n",
       "      <td>0</td>\n",
       "      <td>0</td>\n",
       "      <td>0</td>\n",
       "      <td>0</td>\n",
       "      <td>0</td>\n",
       "      <td>...</td>\n",
       "      <td>0</td>\n",
       "      <td>0</td>\n",
       "      <td>0</td>\n",
       "      <td>0</td>\n",
       "      <td>0</td>\n",
       "      <td>0</td>\n",
       "      <td>0</td>\n",
       "      <td>0</td>\n",
       "      <td>0</td>\n",
       "      <td>0</td>\n",
       "    </tr>\n",
       "    <tr>\n",
       "      <th>3pg</th>\n",
       "      <td>0</td>\n",
       "      <td>0</td>\n",
       "      <td>0</td>\n",
       "      <td>0</td>\n",
       "      <td>0</td>\n",
       "      <td>0</td>\n",
       "      <td>0</td>\n",
       "      <td>0</td>\n",
       "      <td>0</td>\n",
       "      <td>0</td>\n",
       "      <td>...</td>\n",
       "      <td>0</td>\n",
       "      <td>0</td>\n",
       "      <td>0</td>\n",
       "      <td>0</td>\n",
       "      <td>0</td>\n",
       "      <td>0</td>\n",
       "      <td>0</td>\n",
       "      <td>0</td>\n",
       "      <td>0</td>\n",
       "      <td>0</td>\n",
       "    </tr>\n",
       "    <tr>\n",
       "      <th>6pgc</th>\n",
       "      <td>0</td>\n",
       "      <td>0</td>\n",
       "      <td>0</td>\n",
       "      <td>0</td>\n",
       "      <td>0</td>\n",
       "      <td>0</td>\n",
       "      <td>0</td>\n",
       "      <td>0</td>\n",
       "      <td>0</td>\n",
       "      <td>0</td>\n",
       "      <td>...</td>\n",
       "      <td>0</td>\n",
       "      <td>0</td>\n",
       "      <td>0</td>\n",
       "      <td>0</td>\n",
       "      <td>0</td>\n",
       "      <td>0</td>\n",
       "      <td>0</td>\n",
       "      <td>0</td>\n",
       "      <td>0</td>\n",
       "      <td>0</td>\n",
       "    </tr>\n",
       "    <tr>\n",
       "      <th>6pgl</th>\n",
       "      <td>0</td>\n",
       "      <td>0</td>\n",
       "      <td>0</td>\n",
       "      <td>0</td>\n",
       "      <td>0</td>\n",
       "      <td>0</td>\n",
       "      <td>0</td>\n",
       "      <td>0</td>\n",
       "      <td>0</td>\n",
       "      <td>0</td>\n",
       "      <td>...</td>\n",
       "      <td>0</td>\n",
       "      <td>0</td>\n",
       "      <td>0</td>\n",
       "      <td>0</td>\n",
       "      <td>0</td>\n",
       "      <td>0</td>\n",
       "      <td>0</td>\n",
       "      <td>0</td>\n",
       "      <td>0</td>\n",
       "      <td>0</td>\n",
       "    </tr>\n",
       "    <tr>\n",
       "      <th>...</th>\n",
       "      <td>...</td>\n",
       "      <td>...</td>\n",
       "      <td>...</td>\n",
       "      <td>...</td>\n",
       "      <td>...</td>\n",
       "      <td>...</td>\n",
       "      <td>...</td>\n",
       "      <td>...</td>\n",
       "      <td>...</td>\n",
       "      <td>...</td>\n",
       "      <td>...</td>\n",
       "      <td>...</td>\n",
       "      <td>...</td>\n",
       "      <td>...</td>\n",
       "      <td>...</td>\n",
       "      <td>...</td>\n",
       "      <td>...</td>\n",
       "      <td>...</td>\n",
       "      <td>...</td>\n",
       "      <td>...</td>\n",
       "      <td>...</td>\n",
       "    </tr>\n",
       "    <tr>\n",
       "      <th>s7p</th>\n",
       "      <td>0</td>\n",
       "      <td>0</td>\n",
       "      <td>0</td>\n",
       "      <td>0</td>\n",
       "      <td>0</td>\n",
       "      <td>0</td>\n",
       "      <td>0</td>\n",
       "      <td>0</td>\n",
       "      <td>0</td>\n",
       "      <td>0</td>\n",
       "      <td>...</td>\n",
       "      <td>0</td>\n",
       "      <td>0</td>\n",
       "      <td>0</td>\n",
       "      <td>0</td>\n",
       "      <td>0</td>\n",
       "      <td>-1</td>\n",
       "      <td>0</td>\n",
       "      <td>1</td>\n",
       "      <td>0</td>\n",
       "      <td>0</td>\n",
       "    </tr>\n",
       "    <tr>\n",
       "      <th>succ</th>\n",
       "      <td>0</td>\n",
       "      <td>0</td>\n",
       "      <td>0</td>\n",
       "      <td>0</td>\n",
       "      <td>0</td>\n",
       "      <td>0</td>\n",
       "      <td>0</td>\n",
       "      <td>0</td>\n",
       "      <td>0</td>\n",
       "      <td>0</td>\n",
       "      <td>...</td>\n",
       "      <td>0</td>\n",
       "      <td>1</td>\n",
       "      <td>-1</td>\n",
       "      <td>-1</td>\n",
       "      <td>-1</td>\n",
       "      <td>0</td>\n",
       "      <td>0</td>\n",
       "      <td>0</td>\n",
       "      <td>0</td>\n",
       "      <td>0</td>\n",
       "    </tr>\n",
       "    <tr>\n",
       "      <th>succ(e)</th>\n",
       "      <td>0</td>\n",
       "      <td>0</td>\n",
       "      <td>0</td>\n",
       "      <td>0</td>\n",
       "      <td>0</td>\n",
       "      <td>0</td>\n",
       "      <td>0</td>\n",
       "      <td>0</td>\n",
       "      <td>0</td>\n",
       "      <td>0</td>\n",
       "      <td>...</td>\n",
       "      <td>0</td>\n",
       "      <td>-1</td>\n",
       "      <td>1</td>\n",
       "      <td>0</td>\n",
       "      <td>0</td>\n",
       "      <td>0</td>\n",
       "      <td>0</td>\n",
       "      <td>0</td>\n",
       "      <td>0</td>\n",
       "      <td>0</td>\n",
       "    </tr>\n",
       "    <tr>\n",
       "      <th>succoa</th>\n",
       "      <td>0</td>\n",
       "      <td>0</td>\n",
       "      <td>0</td>\n",
       "      <td>0</td>\n",
       "      <td>0</td>\n",
       "      <td>0</td>\n",
       "      <td>0</td>\n",
       "      <td>1</td>\n",
       "      <td>0</td>\n",
       "      <td>0</td>\n",
       "      <td>...</td>\n",
       "      <td>0</td>\n",
       "      <td>0</td>\n",
       "      <td>0</td>\n",
       "      <td>0</td>\n",
       "      <td>1</td>\n",
       "      <td>0</td>\n",
       "      <td>0</td>\n",
       "      <td>0</td>\n",
       "      <td>0</td>\n",
       "      <td>0</td>\n",
       "    </tr>\n",
       "    <tr>\n",
       "      <th>xu5p-D</th>\n",
       "      <td>0</td>\n",
       "      <td>0</td>\n",
       "      <td>0</td>\n",
       "      <td>0</td>\n",
       "      <td>0</td>\n",
       "      <td>0</td>\n",
       "      <td>0</td>\n",
       "      <td>0</td>\n",
       "      <td>0</td>\n",
       "      <td>0</td>\n",
       "      <td>...</td>\n",
       "      <td>0</td>\n",
       "      <td>0</td>\n",
       "      <td>0</td>\n",
       "      <td>0</td>\n",
       "      <td>0</td>\n",
       "      <td>0</td>\n",
       "      <td>0</td>\n",
       "      <td>-1</td>\n",
       "      <td>-1</td>\n",
       "      <td>0</td>\n",
       "    </tr>\n",
       "  </tbody>\n",
       "</table>\n",
       "<p>72 rows × 95 columns</p>\n",
       "</div>"
      ],
      "text/plain": [
       "        ACALD ACALDt ACKr ACONTa ACONTb ACt2r ADK1 AKGDH AKGt2r ALCD2x  ...  \\\n",
       "13dpg       0      0    0      0      0     0    0     0      0      0  ...   \n",
       "2pg         0      0    0      0      0     0    0     0      0      0  ...   \n",
       "3pg         0      0    0      0      0     0    0     0      0      0  ...   \n",
       "6pgc        0      0    0      0      0     0    0     0      0      0  ...   \n",
       "6pgl        0      0    0      0      0     0    0     0      0      0  ...   \n",
       "...       ...    ...  ...    ...    ...   ...  ...   ...    ...    ...  ...   \n",
       "s7p         0      0    0      0      0     0    0     0      0      0  ...   \n",
       "succ        0      0    0      0      0     0    0     0      0      0  ...   \n",
       "succ(e)     0      0    0      0      0     0    0     0      0      0  ...   \n",
       "succoa      0      0    0      0      0     0    0     1      0      0  ...   \n",
       "xu5p-D      0      0    0      0      0     0    0     0      0      0  ...   \n",
       "\n",
       "        RPI SUCCt2_2 SUCCt3 SUCDi SUCOAS TALA THD2 TKT1 TKT2 TPI  \n",
       "13dpg     0        0      0     0      0    0    0    0    0   0  \n",
       "2pg       0        0      0     0      0    0    0    0    0   0  \n",
       "3pg       0        0      0     0      0    0    0    0    0   0  \n",
       "6pgc      0        0      0     0      0    0    0    0    0   0  \n",
       "6pgl      0        0      0     0      0    0    0    0    0   0  \n",
       "...      ..      ...    ...   ...    ...  ...  ...  ...  ...  ..  \n",
       "s7p       0        0      0     0      0   -1    0    1    0   0  \n",
       "succ      0        1     -1    -1     -1    0    0    0    0   0  \n",
       "succ(e)   0       -1      1     0      0    0    0    0    0   0  \n",
       "succoa    0        0      0     0      1    0    0    0    0   0  \n",
       "xu5p-D    0        0      0     0      0    0    0   -1   -1   0  \n",
       "\n",
       "[72 rows x 95 columns]"
      ]
     },
     "execution_count": 25,
     "metadata": {},
     "output_type": "execute_result"
    }
   ],
   "source": [
    "momo.Stoichio_matrix"
   ]
  },
  {
   "cell_type": "markdown",
   "metadata": {},
   "source": [
    "## <font color='green'> [0.7] Read a SBML file </font> "
   ]
  },
  {
   "cell_type": "code",
   "execution_count": null,
   "metadata": {},
   "outputs": [
    {
     "name": "stdout",
     "output_type": "stream",
     "text": [
      "Model created \n",
      " \n",
      "To add metabolite, use .metabolites.add_meta \n",
      "To add reaction,   use .reactions.add_reaction\n",
      "Model created \n",
      " \n",
      "To add metabolite, use .metabolites.add_meta \n",
      "To add reaction,   use .reactions.add_reaction\n",
      "0 error detected in your SBML file\n",
      "Empty DataFrame\n",
      "Columns: [Temperature]\n",
      "Index: []\n",
      "Warning : The metabolite _S__Malate is not in the SBML file of the metabolic network !\n"
     ]
    },
    {
     "ename": "AttributeError",
     "evalue": "'Elasticity_class' object has no attribute 'half_satured'",
     "output_type": "error",
     "traceback": [
      "\u001b[0;31m---------------------------------------------------------------------------\u001b[0m",
      "\u001b[0;31mAttributeError\u001b[0m                            Traceback (most recent call last)",
      "\u001b[1;32m/home/alequertier/Documents/BadAss/test_class.ipynb Cell 40\u001b[0m line \u001b[0;36m5\n\u001b[1;32m      <a href='vscode-notebook-cell:/home/alequertier/Documents/BadAss/test_class.ipynb#X55sZmlsZQ%3D%3D?line=1'>2</a>\u001b[0m momo \u001b[39m=\u001b[39m model()\n\u001b[1;32m      <a href='vscode-notebook-cell:/home/alequertier/Documents/BadAss/test_class.ipynb#X55sZmlsZQ%3D%3D?line=2'>3</a>\u001b[0m momo\u001b[39m.\u001b[39mread_SBML()\n\u001b[0;32m----> <a href='vscode-notebook-cell:/home/alequertier/Documents/BadAss/test_class.ipynb#X55sZmlsZQ%3D%3D?line=4'>5</a>\u001b[0m momo\u001b[39m.\u001b[39melasticity\u001b[39m.\u001b[39mhalf_satured()\n",
      "\u001b[0;31mAttributeError\u001b[0m: 'Elasticity_class' object has no attribute 'half_satured'"
     ]
    }
   ],
   "source": [
    "from main import *\n",
    "momo = model()\n",
    "momo.read_SBML()\n",
    "\n",
    "momo.elasticity.half_satured()"
   ]
  },
  {
   "cell_type": "markdown",
   "metadata": {},
   "source": [
    "Here, a warning occurs because one of the metabolite of the refence state file isn't in the main SBML file ( \"_S__Malate\" insteed of \"_S_Malate\" )"
   ]
  },
  {
   "cell_type": "markdown",
   "metadata": {},
   "source": [
    "# <font color='red'> [1] Play with the variables </font> "
   ]
  },
  {
   "cell_type": "code",
   "execution_count": null,
   "metadata": {},
   "outputs": [
    {
     "name": "stdout",
     "output_type": "stream",
     "text": [
      "Model created \n",
      " \n",
      "To add metabolite, use .metabolites.add_meta \n",
      "To add reaction,   use .reactions.add_reaction\n"
     ]
    }
   ],
   "source": [
    "momo.creat_linear(4)"
   ]
  },
  {
   "cell_type": "markdown",
   "metadata": {},
   "source": [
    "## <font color='green'> [1.1] Display the data </font> "
   ]
  },
  {
   "cell_type": "markdown",
   "metadata": {},
   "source": [
    "### <font color='white'> [1.1.1] Display the stoichiometric matrix </font> "
   ]
  },
  {
   "cell_type": "code",
   "execution_count": null,
   "metadata": {},
   "outputs": [
    {
     "data": {
      "text/html": [
       "<div>\n",
       "<style scoped>\n",
       "    .dataframe tbody tr th:only-of-type {\n",
       "        vertical-align: middle;\n",
       "    }\n",
       "\n",
       "    .dataframe tbody tr th {\n",
       "        vertical-align: top;\n",
       "    }\n",
       "\n",
       "    .dataframe thead th {\n",
       "        text-align: right;\n",
       "    }\n",
       "</style>\n",
       "<table border=\"1\" class=\"dataframe\">\n",
       "  <thead>\n",
       "    <tr style=\"text-align: right;\">\n",
       "      <th></th>\n",
       "      <th>reaction_0</th>\n",
       "      <th>reaction_1</th>\n",
       "      <th>reaction_2</th>\n",
       "    </tr>\n",
       "  </thead>\n",
       "  <tbody>\n",
       "    <tr>\n",
       "      <th>meta_0</th>\n",
       "      <td>-1</td>\n",
       "      <td>0</td>\n",
       "      <td>0</td>\n",
       "    </tr>\n",
       "    <tr>\n",
       "      <th>meta_1</th>\n",
       "      <td>1</td>\n",
       "      <td>-1</td>\n",
       "      <td>0</td>\n",
       "    </tr>\n",
       "    <tr>\n",
       "      <th>meta_2</th>\n",
       "      <td>0</td>\n",
       "      <td>1</td>\n",
       "      <td>-1</td>\n",
       "    </tr>\n",
       "    <tr>\n",
       "      <th>meta_3</th>\n",
       "      <td>0</td>\n",
       "      <td>0</td>\n",
       "      <td>1</td>\n",
       "    </tr>\n",
       "  </tbody>\n",
       "</table>\n",
       "</div>"
      ],
      "text/plain": [
       "        reaction_0  reaction_1  reaction_2\n",
       "meta_0          -1           0           0\n",
       "meta_1           1          -1           0\n",
       "meta_2           0           1          -1\n",
       "meta_3           0           0           1"
      ]
     },
     "execution_count": 22,
     "metadata": {},
     "output_type": "execute_result"
    }
   ],
   "source": [
    "momo.Stoichio_matrix"
   ]
  },
  {
   "cell_type": "markdown",
   "metadata": {},
   "source": [
    "### <font color='white'> [1.1.2] Display the metabolite dataframe </font> "
   ]
  },
  {
   "cell_type": "code",
   "execution_count": null,
   "metadata": {},
   "outputs": [
    {
     "data": {
      "text/html": [
       "<div>\n",
       "<style scoped>\n",
       "    .dataframe tbody tr th:only-of-type {\n",
       "        vertical-align: middle;\n",
       "    }\n",
       "\n",
       "    .dataframe tbody tr th {\n",
       "        vertical-align: top;\n",
       "    }\n",
       "\n",
       "    .dataframe thead th {\n",
       "        text-align: right;\n",
       "    }\n",
       "</style>\n",
       "<table border=\"1\" class=\"dataframe\">\n",
       "  <thead>\n",
       "    <tr style=\"text-align: right;\">\n",
       "      <th></th>\n",
       "      <th>External</th>\n",
       "      <th>Concentration (mmol/gDW)</th>\n",
       "    </tr>\n",
       "  </thead>\n",
       "  <tbody>\n",
       "    <tr>\n",
       "      <th>meta_0</th>\n",
       "      <td>True</td>\n",
       "      <td>1</td>\n",
       "    </tr>\n",
       "    <tr>\n",
       "      <th>meta_1</th>\n",
       "      <td>False</td>\n",
       "      <td>1</td>\n",
       "    </tr>\n",
       "    <tr>\n",
       "      <th>meta_2</th>\n",
       "      <td>False</td>\n",
       "      <td>1</td>\n",
       "    </tr>\n",
       "    <tr>\n",
       "      <th>meta_3</th>\n",
       "      <td>True</td>\n",
       "      <td>1</td>\n",
       "    </tr>\n",
       "  </tbody>\n",
       "</table>\n",
       "</div>"
      ],
      "text/plain": [
       "        External  Concentration (mmol/gDW)\n",
       "meta_0      True                         1\n",
       "meta_1     False                         1\n",
       "meta_2     False                         1\n",
       "meta_3      True                         1"
      ]
     },
     "execution_count": 23,
     "metadata": {},
     "output_type": "execute_result"
    }
   ],
   "source": [
    "momo.metabolites.df"
   ]
  },
  {
   "cell_type": "markdown",
   "metadata": {},
   "source": [
    "### <font color='white'> [1.1.3] Display the reactions dataframe </font> "
   ]
  },
  {
   "cell_type": "code",
   "execution_count": null,
   "metadata": {},
   "outputs": [
    {
     "data": {
      "text/html": [
       "<div>\n",
       "<style scoped>\n",
       "    .dataframe tbody tr th:only-of-type {\n",
       "        vertical-align: middle;\n",
       "    }\n",
       "\n",
       "    .dataframe tbody tr th {\n",
       "        vertical-align: top;\n",
       "    }\n",
       "\n",
       "    .dataframe thead th {\n",
       "        text-align: right;\n",
       "    }\n",
       "</style>\n",
       "<table border=\"1\" class=\"dataframe\">\n",
       "  <thead>\n",
       "    <tr style=\"text-align: right;\">\n",
       "      <th></th>\n",
       "      <th>Metabolites</th>\n",
       "      <th>Equilibrium constant</th>\n",
       "      <th>Law</th>\n",
       "      <th>Flux (mmol/gDW/h)</th>\n",
       "    </tr>\n",
       "  </thead>\n",
       "  <tbody>\n",
       "    <tr>\n",
       "      <th>reaction_0</th>\n",
       "      <td>{'meta_0': -1, 'meta_1': 1}</td>\n",
       "      <td>1.0</td>\n",
       "      <td></td>\n",
       "      <td>1</td>\n",
       "    </tr>\n",
       "    <tr>\n",
       "      <th>reaction_1</th>\n",
       "      <td>{'meta_1': -1, 'meta_2': 1}</td>\n",
       "      <td>1.0</td>\n",
       "      <td></td>\n",
       "      <td>1</td>\n",
       "    </tr>\n",
       "    <tr>\n",
       "      <th>reaction_2</th>\n",
       "      <td>{'meta_2': -1, 'meta_3': 1}</td>\n",
       "      <td>1.0</td>\n",
       "      <td></td>\n",
       "      <td>1</td>\n",
       "    </tr>\n",
       "  </tbody>\n",
       "</table>\n",
       "</div>"
      ],
      "text/plain": [
       "                            Metabolites  Equilibrium constant Law  \\\n",
       "reaction_0  {'meta_0': -1, 'meta_1': 1}                   1.0       \n",
       "reaction_1  {'meta_1': -1, 'meta_2': 1}                   1.0       \n",
       "reaction_2  {'meta_2': -1, 'meta_3': 1}                   1.0       \n",
       "\n",
       "            Flux (mmol/gDW/h)  \n",
       "reaction_0                  1  \n",
       "reaction_1                  1  \n",
       "reaction_2                  1  "
      ]
     },
     "execution_count": 24,
     "metadata": {},
     "output_type": "execute_result"
    }
   ],
   "source": [
    "momo.reactions.df"
   ]
  },
  {
   "cell_type": "markdown",
   "metadata": {},
   "source": [
    "### <font color='white'> [1.1.4] Display the enzymes dataframe </font> "
   ]
  },
  {
   "cell_type": "code",
   "execution_count": null,
   "metadata": {},
   "outputs": [
    {
     "data": {
      "text/html": [
       "<div>\n",
       "<style scoped>\n",
       "    .dataframe tbody tr th:only-of-type {\n",
       "        vertical-align: middle;\n",
       "    }\n",
       "\n",
       "    .dataframe tbody tr th {\n",
       "        vertical-align: top;\n",
       "    }\n",
       "\n",
       "    .dataframe thead th {\n",
       "        text-align: right;\n",
       "    }\n",
       "</style>\n",
       "<table border=\"1\" class=\"dataframe\">\n",
       "  <thead>\n",
       "    <tr style=\"text-align: right;\">\n",
       "      <th></th>\n",
       "      <th>Concentration / Activity</th>\n",
       "      <th>Reactions linked</th>\n",
       "    </tr>\n",
       "  </thead>\n",
       "  <tbody>\n",
       "  </tbody>\n",
       "</table>\n",
       "</div>"
      ],
      "text/plain": [
       "Empty DataFrame\n",
       "Columns: [Concentration / Activity, Reactions linked]\n",
       "Index: []"
      ]
     },
     "execution_count": 25,
     "metadata": {},
     "output_type": "execute_result"
    }
   ],
   "source": [
    "momo.enzymes.df"
   ]
  },
  {
   "cell_type": "markdown",
   "metadata": {},
   "source": [
    "### <font color='white'> [1.1.5] Display the elasticities matrices </font> "
   ]
  },
  {
   "cell_type": "code",
   "execution_count": null,
   "metadata": {},
   "outputs": [
    {
     "data": {
      "text/html": [
       "<div>\n",
       "<style scoped>\n",
       "    .dataframe tbody tr th:only-of-type {\n",
       "        vertical-align: middle;\n",
       "    }\n",
       "\n",
       "    .dataframe tbody tr th {\n",
       "        vertical-align: top;\n",
       "    }\n",
       "\n",
       "    .dataframe thead th {\n",
       "        text-align: right;\n",
       "    }\n",
       "</style>\n",
       "<table border=\"1\" class=\"dataframe\">\n",
       "  <thead>\n",
       "    <tr style=\"text-align: right;\">\n",
       "      <th></th>\n",
       "      <th>meta_0</th>\n",
       "      <th>meta_1</th>\n",
       "      <th>meta_2</th>\n",
       "      <th>meta_3</th>\n",
       "    </tr>\n",
       "  </thead>\n",
       "  <tbody>\n",
       "    <tr>\n",
       "      <th>reaction_0</th>\n",
       "      <td>0</td>\n",
       "      <td>0</td>\n",
       "      <td>0</td>\n",
       "      <td>0</td>\n",
       "    </tr>\n",
       "    <tr>\n",
       "      <th>reaction_1</th>\n",
       "      <td>0</td>\n",
       "      <td>0</td>\n",
       "      <td>0</td>\n",
       "      <td>0</td>\n",
       "    </tr>\n",
       "    <tr>\n",
       "      <th>reaction_2</th>\n",
       "      <td>0</td>\n",
       "      <td>0</td>\n",
       "      <td>0</td>\n",
       "      <td>0</td>\n",
       "    </tr>\n",
       "  </tbody>\n",
       "</table>\n",
       "</div>"
      ],
      "text/plain": [
       "            meta_0  meta_1  meta_2  meta_3\n",
       "reaction_0       0       0       0       0\n",
       "reaction_1       0       0       0       0\n",
       "reaction_2       0       0       0       0"
      ]
     },
     "execution_count": 26,
     "metadata": {},
     "output_type": "execute_result"
    }
   ],
   "source": [
    "momo.elasticity.s"
   ]
  },
  {
   "cell_type": "code",
   "execution_count": null,
   "metadata": {},
   "outputs": [
    {
     "data": {
      "text/html": [
       "<div>\n",
       "<style scoped>\n",
       "    .dataframe tbody tr th:only-of-type {\n",
       "        vertical-align: middle;\n",
       "    }\n",
       "\n",
       "    .dataframe tbody tr th {\n",
       "        vertical-align: top;\n",
       "    }\n",
       "\n",
       "    .dataframe thead th {\n",
       "        text-align: right;\n",
       "    }\n",
       "</style>\n",
       "<table border=\"1\" class=\"dataframe\">\n",
       "  <thead>\n",
       "    <tr style=\"text-align: right;\">\n",
       "      <th></th>\n",
       "      <th>Temperature</th>\n",
       "    </tr>\n",
       "  </thead>\n",
       "  <tbody>\n",
       "    <tr>\n",
       "      <th>reaction_0</th>\n",
       "      <td>0</td>\n",
       "    </tr>\n",
       "    <tr>\n",
       "      <th>reaction_1</th>\n",
       "      <td>0</td>\n",
       "    </tr>\n",
       "    <tr>\n",
       "      <th>reaction_2</th>\n",
       "      <td>0</td>\n",
       "    </tr>\n",
       "  </tbody>\n",
       "</table>\n",
       "</div>"
      ],
      "text/plain": [
       "            Temperature\n",
       "reaction_0            0\n",
       "reaction_1            0\n",
       "reaction_2            0"
      ]
     },
     "execution_count": 27,
     "metadata": {},
     "output_type": "execute_result"
    }
   ],
   "source": [
    "momo.elasticity.p"
   ]
  },
  {
   "cell_type": "markdown",
   "metadata": {},
   "source": [
    "### <font color='white'> [1.1.6] Display the enzymes dataframes </font> "
   ]
  },
  {
   "cell_type": "code",
   "execution_count": null,
   "metadata": {},
   "outputs": [
    {
     "data": {
      "text/html": [
       "<div>\n",
       "<style scoped>\n",
       "    .dataframe tbody tr th:only-of-type {\n",
       "        vertical-align: middle;\n",
       "    }\n",
       "\n",
       "    .dataframe tbody tr th {\n",
       "        vertical-align: top;\n",
       "    }\n",
       "\n",
       "    .dataframe thead th {\n",
       "        text-align: right;\n",
       "    }\n",
       "</style>\n",
       "<table border=\"1\" class=\"dataframe\">\n",
       "  <thead>\n",
       "    <tr style=\"text-align: right;\">\n",
       "      <th></th>\n",
       "      <th>Concentration / Activity</th>\n",
       "      <th>Reactions linked</th>\n",
       "    </tr>\n",
       "  </thead>\n",
       "  <tbody>\n",
       "  </tbody>\n",
       "</table>\n",
       "</div>"
      ],
      "text/plain": [
       "Empty DataFrame\n",
       "Columns: [Concentration / Activity, Reactions linked]\n",
       "Index: []"
      ]
     },
     "execution_count": 28,
     "metadata": {},
     "output_type": "execute_result"
    }
   ],
   "source": [
    "momo.enzymes.df"
   ]
  },
  {
   "cell_type": "markdown",
   "metadata": {},
   "source": [
    "## <font color='green'> [1.2] Enzymes </font> "
   ]
  },
  {
   "cell_type": "markdown",
   "metadata": {},
   "source": [
    "#### The enzyme dataframe is initially empty"
   ]
  },
  {
   "cell_type": "markdown",
   "metadata": {},
   "source": [
    "### <font color='white'> [1.2.1] Add enzymes linked to each reactions </font> "
   ]
  },
  {
   "cell_type": "code",
   "execution_count": null,
   "metadata": {},
   "outputs": [],
   "source": [
    "momo.enzymes.add_to_all_reaction()"
   ]
  },
  {
   "cell_type": "code",
   "execution_count": null,
   "metadata": {},
   "outputs": [
    {
     "data": {
      "text/html": [
       "<div>\n",
       "<style scoped>\n",
       "    .dataframe tbody tr th:only-of-type {\n",
       "        vertical-align: middle;\n",
       "    }\n",
       "\n",
       "    .dataframe tbody tr th {\n",
       "        vertical-align: top;\n",
       "    }\n",
       "\n",
       "    .dataframe thead th {\n",
       "        text-align: right;\n",
       "    }\n",
       "</style>\n",
       "<table border=\"1\" class=\"dataframe\">\n",
       "  <thead>\n",
       "    <tr style=\"text-align: right;\">\n",
       "      <th></th>\n",
       "      <th>Concentration / Activity</th>\n",
       "      <th>Reactions linked</th>\n",
       "    </tr>\n",
       "  </thead>\n",
       "  <tbody>\n",
       "    <tr>\n",
       "      <th>enzyme_reaction_0</th>\n",
       "      <td>1</td>\n",
       "      <td>[reaction_0]</td>\n",
       "    </tr>\n",
       "    <tr>\n",
       "      <th>enzyme_reaction_1</th>\n",
       "      <td>1</td>\n",
       "      <td>[reaction_1]</td>\n",
       "    </tr>\n",
       "    <tr>\n",
       "      <th>enzyme_reaction_2</th>\n",
       "      <td>1</td>\n",
       "      <td>[reaction_2]</td>\n",
       "    </tr>\n",
       "  </tbody>\n",
       "</table>\n",
       "</div>"
      ],
      "text/plain": [
       "                   Concentration / Activity Reactions linked\n",
       "enzyme_reaction_0                         1     [reaction_0]\n",
       "enzyme_reaction_1                         1     [reaction_1]\n",
       "enzyme_reaction_2                         1     [reaction_2]"
      ]
     },
     "execution_count": 30,
     "metadata": {},
     "output_type": "execute_result"
    }
   ],
   "source": [
    "momo.enzymes.df"
   ]
  },
  {
   "cell_type": "markdown",
   "metadata": {},
   "source": [
    "### <font color='white'> [1.2.1] Add a specific enzyme </font> "
   ]
  },
  {
   "cell_type": "code",
   "execution_count": null,
   "metadata": {},
   "outputs": [],
   "source": [
    "momo.enzymes.add(name = \"name_enzyme\", mean = 1.0, reaction_linked = [\"PTS_RPTSsy\", \"PGI_R02740\", \"PFK_R04779\"])"
   ]
  },
  {
   "cell_type": "markdown",
   "metadata": {},
   "source": [
    "### <font color='white'> [1.2.1] Remove a specific enzyme </font> "
   ]
  },
  {
   "cell_type": "code",
   "execution_count": null,
   "metadata": {},
   "outputs": [],
   "source": [
    "momo.enzymes.remove(name = \"name_enzyme\")"
   ]
  },
  {
   "cell_type": "markdown",
   "metadata": {},
   "source": [
    "But on this state, the enzymes hasn't any influence on our study, we have to consider our enzyme as a parameters to create a elasticity between it and flux"
   ]
  },
  {
   "cell_type": "markdown",
   "metadata": {},
   "source": [
    "## <font color='green'> [1.3] Parameters </font> "
   ]
  },
  {
   "cell_type": "markdown",
   "metadata": {},
   "source": [
    "### Adding a new parameters automatcally update the E_p elasticiy matix by adding a new column"
   ]
  },
  {
   "cell_type": "markdown",
   "metadata": {},
   "source": [
    "There is only the temperture by default in the parameters dataframe"
   ]
  },
  {
   "cell_type": "code",
   "execution_count": null,
   "metadata": {},
   "outputs": [
    {
     "data": {
      "text/html": [
       "<div>\n",
       "<style scoped>\n",
       "    .dataframe tbody tr th:only-of-type {\n",
       "        vertical-align: middle;\n",
       "    }\n",
       "\n",
       "    .dataframe tbody tr th {\n",
       "        vertical-align: top;\n",
       "    }\n",
       "\n",
       "    .dataframe thead th {\n",
       "        text-align: right;\n",
       "    }\n",
       "</style>\n",
       "<table border=\"1\" class=\"dataframe\">\n",
       "  <thead>\n",
       "    <tr style=\"text-align: right;\">\n",
       "      <th></th>\n",
       "      <th>Mean values</th>\n",
       "      <th>Standard deviation</th>\n",
       "    </tr>\n",
       "  </thead>\n",
       "  <tbody>\n",
       "    <tr>\n",
       "      <th>Temperature</th>\n",
       "      <td>273.15</td>\n",
       "      <td>1.0</td>\n",
       "    </tr>\n",
       "  </tbody>\n",
       "</table>\n",
       "</div>"
      ],
      "text/plain": [
       "            Mean values Standard deviation\n",
       "Temperature      273.15                1.0"
      ]
     },
     "execution_count": 33,
     "metadata": {},
     "output_type": "execute_result"
    }
   ],
   "source": [
    "momo.parameters.df"
   ]
  },
  {
   "cell_type": "markdown",
   "metadata": {},
   "source": [
    "### <font color='white'> [1.3.1] Add a specific parameter one by one </font> "
   ]
  },
  {
   "cell_type": "code",
   "execution_count": null,
   "metadata": {},
   "outputs": [],
   "source": [
    "momo.parameters.add(name = \"name_parameter\", mean = 1.0, Standard_deviation = 0.5)"
   ]
  },
  {
   "cell_type": "markdown",
   "metadata": {},
   "source": [
    "### <font color='white'> [1.3.2] Removing a specific parameter </font> "
   ]
  },
  {
   "cell_type": "code",
   "execution_count": null,
   "metadata": {},
   "outputs": [
    {
     "name": "stdout",
     "output_type": "stream",
     "text": [
      "Nom du paramètre retiré : name_parameter\n"
     ]
    }
   ],
   "source": [
    "momo.parameters.remove(name = \"name_parameter\")"
   ]
  },
  {
   "cell_type": "markdown",
   "metadata": {},
   "source": [
    "### <font color='white'> [1.3.3] Add every externals metabolite as parameters </font> "
   ]
  },
  {
   "cell_type": "code",
   "execution_count": null,
   "metadata": {},
   "outputs": [],
   "source": [
    "momo.parameters.add_externals()"
   ]
  },
  {
   "cell_type": "code",
   "execution_count": null,
   "metadata": {},
   "outputs": [
    {
     "data": {
      "text/html": [
       "<div>\n",
       "<style scoped>\n",
       "    .dataframe tbody tr th:only-of-type {\n",
       "        vertical-align: middle;\n",
       "    }\n",
       "\n",
       "    .dataframe tbody tr th {\n",
       "        vertical-align: top;\n",
       "    }\n",
       "\n",
       "    .dataframe thead th {\n",
       "        text-align: right;\n",
       "    }\n",
       "</style>\n",
       "<table border=\"1\" class=\"dataframe\">\n",
       "  <thead>\n",
       "    <tr style=\"text-align: right;\">\n",
       "      <th></th>\n",
       "      <th>Mean values</th>\n",
       "      <th>Standard deviation</th>\n",
       "    </tr>\n",
       "  </thead>\n",
       "  <tbody>\n",
       "    <tr>\n",
       "      <th>Temperature</th>\n",
       "      <td>273.15</td>\n",
       "      <td>1.0</td>\n",
       "    </tr>\n",
       "    <tr>\n",
       "      <th>meta_0_para</th>\n",
       "      <td>1.0</td>\n",
       "      <td>1.0</td>\n",
       "    </tr>\n",
       "    <tr>\n",
       "      <th>meta_3_para</th>\n",
       "      <td>1.0</td>\n",
       "      <td>1.0</td>\n",
       "    </tr>\n",
       "  </tbody>\n",
       "</table>\n",
       "</div>"
      ],
      "text/plain": [
       "            Mean values Standard deviation\n",
       "Temperature      273.15                1.0\n",
       "meta_0_para         1.0                1.0\n",
       "meta_3_para         1.0                1.0"
      ]
     },
     "execution_count": 37,
     "metadata": {},
     "output_type": "execute_result"
    }
   ],
   "source": [
    "momo.parameters.df"
   ]
  },
  {
   "cell_type": "markdown",
   "metadata": {},
   "source": [
    "##### And the enzymes too"
   ]
  },
  {
   "cell_type": "markdown",
   "metadata": {},
   "source": [
    "### <font color='white'> [1.3.4] Add every enzymes as parameters </font> "
   ]
  },
  {
   "cell_type": "code",
   "execution_count": null,
   "metadata": {},
   "outputs": [],
   "source": [
    "momo.parameters.add_enzymes()"
   ]
  },
  {
   "cell_type": "code",
   "execution_count": null,
   "metadata": {},
   "outputs": [
    {
     "data": {
      "text/html": [
       "<div>\n",
       "<style scoped>\n",
       "    .dataframe tbody tr th:only-of-type {\n",
       "        vertical-align: middle;\n",
       "    }\n",
       "\n",
       "    .dataframe tbody tr th {\n",
       "        vertical-align: top;\n",
       "    }\n",
       "\n",
       "    .dataframe thead th {\n",
       "        text-align: right;\n",
       "    }\n",
       "</style>\n",
       "<table border=\"1\" class=\"dataframe\">\n",
       "  <thead>\n",
       "    <tr style=\"text-align: right;\">\n",
       "      <th></th>\n",
       "      <th>Mean values</th>\n",
       "      <th>Standard deviation</th>\n",
       "    </tr>\n",
       "  </thead>\n",
       "  <tbody>\n",
       "    <tr>\n",
       "      <th>Temperature</th>\n",
       "      <td>273.15</td>\n",
       "      <td>1.0</td>\n",
       "    </tr>\n",
       "    <tr>\n",
       "      <th>meta_0_para</th>\n",
       "      <td>1.0</td>\n",
       "      <td>1.0</td>\n",
       "    </tr>\n",
       "    <tr>\n",
       "      <th>meta_3_para</th>\n",
       "      <td>1.0</td>\n",
       "      <td>1.0</td>\n",
       "    </tr>\n",
       "    <tr>\n",
       "      <th>enzyme_reaction_0_para</th>\n",
       "      <td>1.0</td>\n",
       "      <td>1.0</td>\n",
       "    </tr>\n",
       "    <tr>\n",
       "      <th>enzyme_reaction_1_para</th>\n",
       "      <td>1.0</td>\n",
       "      <td>1.0</td>\n",
       "    </tr>\n",
       "    <tr>\n",
       "      <th>enzyme_reaction_2_para</th>\n",
       "      <td>1.0</td>\n",
       "      <td>1.0</td>\n",
       "    </tr>\n",
       "  </tbody>\n",
       "</table>\n",
       "</div>"
      ],
      "text/plain": [
       "                       Mean values Standard deviation\n",
       "Temperature                 273.15                1.0\n",
       "meta_0_para                    1.0                1.0\n",
       "meta_3_para                    1.0                1.0\n",
       "enzyme_reaction_0_para         1.0                1.0\n",
       "enzyme_reaction_1_para         1.0                1.0\n",
       "enzyme_reaction_2_para         1.0                1.0"
      ]
     },
     "execution_count": 39,
     "metadata": {},
     "output_type": "execute_result"
    }
   ],
   "source": [
    "momo.parameters.df"
   ]
  },
  {
   "cell_type": "markdown",
   "metadata": {},
   "source": [
    "## <font color='green'> [1.4] Elasticities </font> "
   ]
  },
  {
   "cell_type": "markdown",
   "metadata": {},
   "source": [
    "#### When the .add_externals() and .add_enzymes() are call, it automatically add default values considering the link in the dataframe"
   ]
  },
  {
   "cell_type": "code",
   "execution_count": null,
   "metadata": {},
   "outputs": [
    {
     "data": {
      "text/html": [
       "<div>\n",
       "<style scoped>\n",
       "    .dataframe tbody tr th:only-of-type {\n",
       "        vertical-align: middle;\n",
       "    }\n",
       "\n",
       "    .dataframe tbody tr th {\n",
       "        vertical-align: top;\n",
       "    }\n",
       "\n",
       "    .dataframe thead th {\n",
       "        text-align: right;\n",
       "    }\n",
       "</style>\n",
       "<table border=\"1\" class=\"dataframe\">\n",
       "  <thead>\n",
       "    <tr style=\"text-align: right;\">\n",
       "      <th></th>\n",
       "      <th>Temperature</th>\n",
       "      <th>meta_0_para</th>\n",
       "      <th>meta_3_para</th>\n",
       "      <th>enzyme_reaction_0_para</th>\n",
       "      <th>enzyme_reaction_1_para</th>\n",
       "      <th>enzyme_reaction_2_para</th>\n",
       "    </tr>\n",
       "  </thead>\n",
       "  <tbody>\n",
       "    <tr>\n",
       "      <th>reaction_0</th>\n",
       "      <td>0</td>\n",
       "      <td>0.5</td>\n",
       "      <td>0.0</td>\n",
       "      <td>1.0</td>\n",
       "      <td>0.0</td>\n",
       "      <td>0.0</td>\n",
       "    </tr>\n",
       "    <tr>\n",
       "      <th>reaction_1</th>\n",
       "      <td>0</td>\n",
       "      <td>0.0</td>\n",
       "      <td>0.0</td>\n",
       "      <td>0.0</td>\n",
       "      <td>1.0</td>\n",
       "      <td>0.0</td>\n",
       "    </tr>\n",
       "    <tr>\n",
       "      <th>reaction_2</th>\n",
       "      <td>0</td>\n",
       "      <td>0.0</td>\n",
       "      <td>-0.5</td>\n",
       "      <td>0.0</td>\n",
       "      <td>0.0</td>\n",
       "      <td>1.0</td>\n",
       "    </tr>\n",
       "  </tbody>\n",
       "</table>\n",
       "</div>"
      ],
      "text/plain": [
       "            Temperature  meta_0_para  meta_3_para  enzyme_reaction_0_para  \\\n",
       "reaction_0            0          0.5          0.0                     1.0   \n",
       "reaction_1            0          0.0          0.0                     0.0   \n",
       "reaction_2            0          0.0         -0.5                     0.0   \n",
       "\n",
       "            enzyme_reaction_1_para  enzyme_reaction_2_para  \n",
       "reaction_0                     0.0                     0.0  \n",
       "reaction_1                     1.0                     0.0  \n",
       "reaction_2                     0.0                     1.0  "
      ]
     },
     "execution_count": 40,
     "metadata": {},
     "output_type": "execute_result"
    }
   ],
   "source": [
    "momo.elasticity.p"
   ]
  },
  {
   "cell_type": "code",
   "execution_count": null,
   "metadata": {},
   "outputs": [
    {
     "data": {
      "text/html": [
       "<div>\n",
       "<style scoped>\n",
       "    .dataframe tbody tr th:only-of-type {\n",
       "        vertical-align: middle;\n",
       "    }\n",
       "\n",
       "    .dataframe tbody tr th {\n",
       "        vertical-align: top;\n",
       "    }\n",
       "\n",
       "    .dataframe thead th {\n",
       "        text-align: right;\n",
       "    }\n",
       "</style>\n",
       "<table border=\"1\" class=\"dataframe\">\n",
       "  <thead>\n",
       "    <tr style=\"text-align: right;\">\n",
       "      <th></th>\n",
       "      <th>meta_0</th>\n",
       "      <th>meta_1</th>\n",
       "      <th>meta_2</th>\n",
       "      <th>meta_3</th>\n",
       "    </tr>\n",
       "  </thead>\n",
       "  <tbody>\n",
       "    <tr>\n",
       "      <th>reaction_0</th>\n",
       "      <td>0</td>\n",
       "      <td>0</td>\n",
       "      <td>0</td>\n",
       "      <td>0</td>\n",
       "    </tr>\n",
       "    <tr>\n",
       "      <th>reaction_1</th>\n",
       "      <td>0</td>\n",
       "      <td>0</td>\n",
       "      <td>0</td>\n",
       "      <td>0</td>\n",
       "    </tr>\n",
       "    <tr>\n",
       "      <th>reaction_2</th>\n",
       "      <td>0</td>\n",
       "      <td>0</td>\n",
       "      <td>0</td>\n",
       "      <td>0</td>\n",
       "    </tr>\n",
       "  </tbody>\n",
       "</table>\n",
       "</div>"
      ],
      "text/plain": [
       "            meta_0  meta_1  meta_2  meta_3\n",
       "reaction_0       0       0       0       0\n",
       "reaction_1       0       0       0       0\n",
       "reaction_2       0       0       0       0"
      ]
     },
     "execution_count": 41,
     "metadata": {},
     "output_type": "execute_result"
    }
   ],
   "source": [
    "momo.elasticity.s"
   ]
  },
  {
   "cell_type": "markdown",
   "metadata": {},
   "source": [
    "#### We can add default value to the E_s matrix too"
   ]
  },
  {
   "cell_type": "code",
   "execution_count": null,
   "metadata": {},
   "outputs": [
    {
     "data": {
      "text/html": [
       "<div>\n",
       "<style scoped>\n",
       "    .dataframe tbody tr th:only-of-type {\n",
       "        vertical-align: middle;\n",
       "    }\n",
       "\n",
       "    .dataframe tbody tr th {\n",
       "        vertical-align: top;\n",
       "    }\n",
       "\n",
       "    .dataframe thead th {\n",
       "        text-align: right;\n",
       "    }\n",
       "</style>\n",
       "<table border=\"1\" class=\"dataframe\">\n",
       "  <thead>\n",
       "    <tr style=\"text-align: right;\">\n",
       "      <th></th>\n",
       "      <th>meta_0</th>\n",
       "      <th>meta_1</th>\n",
       "      <th>meta_2</th>\n",
       "      <th>meta_3</th>\n",
       "    </tr>\n",
       "  </thead>\n",
       "  <tbody>\n",
       "    <tr>\n",
       "      <th>reaction_0</th>\n",
       "      <td>0.5</td>\n",
       "      <td>-0.5</td>\n",
       "      <td>-0.0</td>\n",
       "      <td>-0.0</td>\n",
       "    </tr>\n",
       "    <tr>\n",
       "      <th>reaction_1</th>\n",
       "      <td>-0.0</td>\n",
       "      <td>0.5</td>\n",
       "      <td>-0.5</td>\n",
       "      <td>-0.0</td>\n",
       "    </tr>\n",
       "    <tr>\n",
       "      <th>reaction_2</th>\n",
       "      <td>-0.0</td>\n",
       "      <td>-0.0</td>\n",
       "      <td>0.5</td>\n",
       "      <td>-0.5</td>\n",
       "    </tr>\n",
       "  </tbody>\n",
       "</table>\n",
       "</div>"
      ],
      "text/plain": [
       "            meta_0  meta_1  meta_2  meta_3\n",
       "reaction_0     0.5    -0.5    -0.0    -0.0\n",
       "reaction_1    -0.0     0.5    -0.5    -0.0\n",
       "reaction_2    -0.0    -0.0     0.5    -0.5"
      ]
     },
     "execution_count": 42,
     "metadata": {},
     "output_type": "execute_result"
    }
   ],
   "source": [
    "momo.elasticity.half_satured()\n",
    "\n",
    "momo.elasticity.s"
   ]
  },
  {
   "cell_type": "markdown",
   "metadata": {},
   "source": [
    "### To modify an elestacity coefficient, use the Pandas paradigme."
   ]
  },
  {
   "cell_type": "code",
   "execution_count": null,
   "metadata": {},
   "outputs": [
    {
     "data": {
      "text/html": [
       "<div>\n",
       "<style scoped>\n",
       "    .dataframe tbody tr th:only-of-type {\n",
       "        vertical-align: middle;\n",
       "    }\n",
       "\n",
       "    .dataframe tbody tr th {\n",
       "        vertical-align: top;\n",
       "    }\n",
       "\n",
       "    .dataframe thead th {\n",
       "        text-align: right;\n",
       "    }\n",
       "</style>\n",
       "<table border=\"1\" class=\"dataframe\">\n",
       "  <thead>\n",
       "    <tr style=\"text-align: right;\">\n",
       "      <th></th>\n",
       "      <th>meta_0</th>\n",
       "      <th>meta_1</th>\n",
       "      <th>meta_2</th>\n",
       "      <th>meta_3</th>\n",
       "    </tr>\n",
       "  </thead>\n",
       "  <tbody>\n",
       "    <tr>\n",
       "      <th>reaction_0</th>\n",
       "      <td>0.5</td>\n",
       "      <td>-0.5</td>\n",
       "      <td>-0.0</td>\n",
       "      <td>-0.0</td>\n",
       "    </tr>\n",
       "    <tr>\n",
       "      <th>reaction_1</th>\n",
       "      <td>-1.0</td>\n",
       "      <td>-1.0</td>\n",
       "      <td>-1.0</td>\n",
       "      <td>-1.0</td>\n",
       "    </tr>\n",
       "    <tr>\n",
       "      <th>reaction_2</th>\n",
       "      <td>2.0</td>\n",
       "      <td>-0.0</td>\n",
       "      <td>0.5</td>\n",
       "      <td>-0.5</td>\n",
       "    </tr>\n",
       "  </tbody>\n",
       "</table>\n",
       "</div>"
      ],
      "text/plain": [
       "            meta_0  meta_1  meta_2  meta_3\n",
       "reaction_0     0.5    -0.5    -0.0    -0.0\n",
       "reaction_1    -1.0    -1.0    -1.0    -1.0\n",
       "reaction_2     2.0    -0.0     0.5    -0.5"
      ]
     },
     "execution_count": 43,
     "metadata": {},
     "output_type": "execute_result"
    }
   ],
   "source": [
    "momo.elasticity.s.at[\"reaction_2\", \"meta_0\"] = 2\n",
    "momo.elasticity.s.loc[\"reaction_1\"] = [-1 for i in range(momo.elasticity.s.shape[1])]\n",
    "\n",
    "momo.elasticity.s"
   ]
  },
  {
   "cell_type": "markdown",
   "metadata": {},
   "source": [
    "# <font color='red'> [2] Post-simulation analysis </font> "
   ]
  },
  {
   "cell_type": "markdown",
   "metadata": {},
   "source": [
    "## <font color='green'> [2.0] Accessing the MCA coefficient </font> "
   ]
  },
  {
   "cell_type": "code",
   "execution_count": null,
   "metadata": {},
   "outputs": [
    {
     "data": {
      "text/html": [
       "<div>\n",
       "<style scoped>\n",
       "    .dataframe tbody tr th:only-of-type {\n",
       "        vertical-align: middle;\n",
       "    }\n",
       "\n",
       "    .dataframe tbody tr th {\n",
       "        vertical-align: top;\n",
       "    }\n",
       "\n",
       "    .dataframe thead th {\n",
       "        text-align: right;\n",
       "    }\n",
       "</style>\n",
       "<table border=\"1\" class=\"dataframe\">\n",
       "  <thead>\n",
       "    <tr style=\"text-align: right;\">\n",
       "      <th></th>\n",
       "      <th>meta_1</th>\n",
       "      <th>meta_2</th>\n",
       "    </tr>\n",
       "  </thead>\n",
       "  <tbody>\n",
       "    <tr>\n",
       "      <th>meta_1</th>\n",
       "      <td>-0.833333</td>\n",
       "      <td>-0.166667</td>\n",
       "    </tr>\n",
       "    <tr>\n",
       "      <th>meta_2</th>\n",
       "      <td>1.166667</td>\n",
       "      <td>-0.166667</td>\n",
       "    </tr>\n",
       "  </tbody>\n",
       "</table>\n",
       "</div>"
      ],
      "text/plain": [
       "          meta_1    meta_2\n",
       "meta_1 -0.833333 -0.166667\n",
       "meta_2  1.166667 -0.166667"
      ]
     },
     "execution_count": 44,
     "metadata": {},
     "output_type": "execute_result"
    }
   ],
   "source": [
    "momo.Jacobian"
   ]
  },
  {
   "cell_type": "code",
   "execution_count": null,
   "metadata": {},
   "outputs": [
    {
     "name": "stdout",
     "output_type": "stream",
     "text": [
      "(7, 6)\n"
     ]
    },
    {
     "data": {
      "text/html": [
       "<div>\n",
       "<style scoped>\n",
       "    .dataframe tbody tr th:only-of-type {\n",
       "        vertical-align: middle;\n",
       "    }\n",
       "\n",
       "    .dataframe tbody tr th {\n",
       "        vertical-align: top;\n",
       "    }\n",
       "\n",
       "    .dataframe thead th {\n",
       "        text-align: right;\n",
       "    }\n",
       "</style>\n",
       "<table border=\"1\" class=\"dataframe\">\n",
       "  <thead>\n",
       "    <tr style=\"text-align: right;\">\n",
       "      <th></th>\n",
       "      <th>Temperature</th>\n",
       "      <th>meta_0_para</th>\n",
       "      <th>meta_3_para</th>\n",
       "      <th>enzyme_reaction_0_para</th>\n",
       "      <th>enzyme_reaction_1_para</th>\n",
       "      <th>enzyme_reaction_2_para</th>\n",
       "    </tr>\n",
       "  </thead>\n",
       "  <tbody>\n",
       "    <tr>\n",
       "      <th>meta_0</th>\n",
       "      <td>-0.0</td>\n",
       "      <td>-7.500000e-01</td>\n",
       "      <td>-2.500000e-01</td>\n",
       "      <td>-1.500000e+00</td>\n",
       "      <td>1.0</td>\n",
       "      <td>5.000000e-01</td>\n",
       "    </tr>\n",
       "    <tr>\n",
       "      <th>meta_1</th>\n",
       "      <td>-0.0</td>\n",
       "      <td>2.500000e-01</td>\n",
       "      <td>-2.500000e-01</td>\n",
       "      <td>5.000000e-01</td>\n",
       "      <td>-1.0</td>\n",
       "      <td>5.000000e-01</td>\n",
       "    </tr>\n",
       "    <tr>\n",
       "      <th>meta_2</th>\n",
       "      <td>-0.0</td>\n",
       "      <td>1.750000e+00</td>\n",
       "      <td>1.250000e+00</td>\n",
       "      <td>3.500000e+00</td>\n",
       "      <td>-1.0</td>\n",
       "      <td>-2.500000e+00</td>\n",
       "    </tr>\n",
       "    <tr>\n",
       "      <th>meta_3</th>\n",
       "      <td>-0.0</td>\n",
       "      <td>-1.250000e+00</td>\n",
       "      <td>-7.500000e-01</td>\n",
       "      <td>-2.500000e+00</td>\n",
       "      <td>1.0</td>\n",
       "      <td>1.500000e+00</td>\n",
       "    </tr>\n",
       "    <tr>\n",
       "      <th>reaction_0</th>\n",
       "      <td>0.0</td>\n",
       "      <td>0.000000e+00</td>\n",
       "      <td>0.000000e+00</td>\n",
       "      <td>0.000000e+00</td>\n",
       "      <td>1.0</td>\n",
       "      <td>0.000000e+00</td>\n",
       "    </tr>\n",
       "    <tr>\n",
       "      <th>reaction_1</th>\n",
       "      <td>0.0</td>\n",
       "      <td>0.000000e+00</td>\n",
       "      <td>1.110223e-16</td>\n",
       "      <td>0.000000e+00</td>\n",
       "      <td>1.0</td>\n",
       "      <td>-2.220446e-16</td>\n",
       "    </tr>\n",
       "    <tr>\n",
       "      <th>reaction_2</th>\n",
       "      <td>0.0</td>\n",
       "      <td>-1.110223e-16</td>\n",
       "      <td>0.000000e+00</td>\n",
       "      <td>-2.220446e-16</td>\n",
       "      <td>1.0</td>\n",
       "      <td>0.000000e+00</td>\n",
       "    </tr>\n",
       "  </tbody>\n",
       "</table>\n",
       "</div>"
      ],
      "text/plain": [
       "            Temperature   meta_0_para   meta_3_para  enzyme_reaction_0_para  \\\n",
       "meta_0             -0.0 -7.500000e-01 -2.500000e-01           -1.500000e+00   \n",
       "meta_1             -0.0  2.500000e-01 -2.500000e-01            5.000000e-01   \n",
       "meta_2             -0.0  1.750000e+00  1.250000e+00            3.500000e+00   \n",
       "meta_3             -0.0 -1.250000e+00 -7.500000e-01           -2.500000e+00   \n",
       "reaction_0          0.0  0.000000e+00  0.000000e+00            0.000000e+00   \n",
       "reaction_1          0.0  0.000000e+00  1.110223e-16            0.000000e+00   \n",
       "reaction_2          0.0 -1.110223e-16  0.000000e+00           -2.220446e-16   \n",
       "\n",
       "            enzyme_reaction_1_para  enzyme_reaction_2_para  \n",
       "meta_0                         1.0            5.000000e-01  \n",
       "meta_1                        -1.0            5.000000e-01  \n",
       "meta_2                        -1.0           -2.500000e+00  \n",
       "meta_3                         1.0            1.500000e+00  \n",
       "reaction_0                     1.0            0.000000e+00  \n",
       "reaction_1                     1.0           -2.220446e-16  \n",
       "reaction_2                     1.0            0.000000e+00  "
      ]
     },
     "execution_count": 45,
     "metadata": {},
     "output_type": "execute_result"
    }
   ],
   "source": [
    "momo.R"
   ]
  },
  {
   "cell_type": "markdown",
   "metadata": {},
   "source": [
    "## <font color='green'> [2.1] Correlation and Mutual Information </font> "
   ]
  },
  {
   "cell_type": "markdown",
   "metadata": {},
   "source": [
    "### <font color='white'> [2.1.0] Correlation </font> "
   ]
  },
  {
   "cell_type": "code",
   "execution_count": null,
   "metadata": {},
   "outputs": [
    {
     "name": "stdout",
     "output_type": "stream",
     "text": [
      "(7, 6)\n"
     ]
    },
    {
     "data": {
      "text/html": [
       "<div>\n",
       "<style scoped>\n",
       "    .dataframe tbody tr th:only-of-type {\n",
       "        vertical-align: middle;\n",
       "    }\n",
       "\n",
       "    .dataframe tbody tr th {\n",
       "        vertical-align: top;\n",
       "    }\n",
       "\n",
       "    .dataframe thead th {\n",
       "        text-align: right;\n",
       "    }\n",
       "</style>\n",
       "<table border=\"1\" class=\"dataframe\">\n",
       "  <thead>\n",
       "    <tr style=\"text-align: right;\">\n",
       "      <th></th>\n",
       "      <th>Temperature</th>\n",
       "      <th>meta_0_para</th>\n",
       "      <th>meta_3_para</th>\n",
       "      <th>enzyme_reaction_0_para</th>\n",
       "      <th>enzyme_reaction_1_para</th>\n",
       "      <th>enzyme_reaction_2_para</th>\n",
       "    </tr>\n",
       "  </thead>\n",
       "  <tbody>\n",
       "    <tr>\n",
       "      <th>meta_0</th>\n",
       "      <td>-0.0</td>\n",
       "      <td>-7.500000e-01</td>\n",
       "      <td>-2.500000e-01</td>\n",
       "      <td>-1.500000e+00</td>\n",
       "      <td>1.0</td>\n",
       "      <td>5.000000e-01</td>\n",
       "    </tr>\n",
       "    <tr>\n",
       "      <th>meta_1</th>\n",
       "      <td>-0.0</td>\n",
       "      <td>2.500000e-01</td>\n",
       "      <td>-2.500000e-01</td>\n",
       "      <td>5.000000e-01</td>\n",
       "      <td>-1.0</td>\n",
       "      <td>5.000000e-01</td>\n",
       "    </tr>\n",
       "    <tr>\n",
       "      <th>meta_2</th>\n",
       "      <td>-0.0</td>\n",
       "      <td>1.750000e+00</td>\n",
       "      <td>1.250000e+00</td>\n",
       "      <td>3.500000e+00</td>\n",
       "      <td>-1.0</td>\n",
       "      <td>-2.500000e+00</td>\n",
       "    </tr>\n",
       "    <tr>\n",
       "      <th>meta_3</th>\n",
       "      <td>-0.0</td>\n",
       "      <td>-1.250000e+00</td>\n",
       "      <td>-7.500000e-01</td>\n",
       "      <td>-2.500000e+00</td>\n",
       "      <td>1.0</td>\n",
       "      <td>1.500000e+00</td>\n",
       "    </tr>\n",
       "    <tr>\n",
       "      <th>reaction_0</th>\n",
       "      <td>0.0</td>\n",
       "      <td>0.000000e+00</td>\n",
       "      <td>0.000000e+00</td>\n",
       "      <td>0.000000e+00</td>\n",
       "      <td>1.0</td>\n",
       "      <td>0.000000e+00</td>\n",
       "    </tr>\n",
       "    <tr>\n",
       "      <th>reaction_1</th>\n",
       "      <td>0.0</td>\n",
       "      <td>0.000000e+00</td>\n",
       "      <td>1.110223e-16</td>\n",
       "      <td>0.000000e+00</td>\n",
       "      <td>1.0</td>\n",
       "      <td>-2.220446e-16</td>\n",
       "    </tr>\n",
       "    <tr>\n",
       "      <th>reaction_2</th>\n",
       "      <td>0.0</td>\n",
       "      <td>-1.110223e-16</td>\n",
       "      <td>0.000000e+00</td>\n",
       "      <td>-2.220446e-16</td>\n",
       "      <td>1.0</td>\n",
       "      <td>0.000000e+00</td>\n",
       "    </tr>\n",
       "  </tbody>\n",
       "</table>\n",
       "</div>"
      ],
      "text/plain": [
       "            Temperature   meta_0_para   meta_3_para  enzyme_reaction_0_para  \\\n",
       "meta_0             -0.0 -7.500000e-01 -2.500000e-01           -1.500000e+00   \n",
       "meta_1             -0.0  2.500000e-01 -2.500000e-01            5.000000e-01   \n",
       "meta_2             -0.0  1.750000e+00  1.250000e+00            3.500000e+00   \n",
       "meta_3             -0.0 -1.250000e+00 -7.500000e-01           -2.500000e+00   \n",
       "reaction_0          0.0  0.000000e+00  0.000000e+00            0.000000e+00   \n",
       "reaction_1          0.0  0.000000e+00  1.110223e-16            0.000000e+00   \n",
       "reaction_2          0.0 -1.110223e-16  0.000000e+00           -2.220446e-16   \n",
       "\n",
       "            enzyme_reaction_1_para  enzyme_reaction_2_para  \n",
       "meta_0                         1.0            5.000000e-01  \n",
       "meta_1                        -1.0            5.000000e-01  \n",
       "meta_2                        -1.0           -2.500000e+00  \n",
       "meta_3                         1.0            1.500000e+00  \n",
       "reaction_0                     1.0            0.000000e+00  \n",
       "reaction_1                     1.0           -2.220446e-16  \n",
       "reaction_2                     1.0            0.000000e+00  "
      ]
     },
     "execution_count": 46,
     "metadata": {},
     "output_type": "execute_result"
    }
   ],
   "source": [
    "momo.R"
   ]
  },
  {
   "cell_type": "code",
   "execution_count": null,
   "metadata": {},
   "outputs": [],
   "source": [
    "Cov = momo.rho().to_numpy()"
   ]
  },
  {
   "cell_type": "code",
   "execution_count": null,
   "metadata": {},
   "outputs": [
    {
     "name": "stdout",
     "output_type": "stream",
     "text": [
      "-0.992730836301255\n"
     ]
    }
   ],
   "source": [
    "mini = Cov[0][0]\n",
    "for i in range(Cov.shape[0]) :\n",
    "    for j in range(Cov.shape[1]) :\n",
    "        if Cov[i][j] < mini :\n",
    "            mini = Cov[i][j]\n",
    "\n",
    "print(mini)"
   ]
  },
  {
   "cell_type": "code",
   "execution_count": null,
   "metadata": {},
   "outputs": [
    {
     "data": {
      "text/html": [
       "<div>\n",
       "<style scoped>\n",
       "    .dataframe tbody tr th:only-of-type {\n",
       "        vertical-align: middle;\n",
       "    }\n",
       "\n",
       "    .dataframe tbody tr th {\n",
       "        vertical-align: top;\n",
       "    }\n",
       "\n",
       "    .dataframe thead th {\n",
       "        text-align: right;\n",
       "    }\n",
       "</style>\n",
       "<table border=\"1\" class=\"dataframe\">\n",
       "  <thead>\n",
       "    <tr style=\"text-align: right;\">\n",
       "      <th></th>\n",
       "      <th>Temperature</th>\n",
       "      <th>meta_0_para</th>\n",
       "      <th>meta_3_para</th>\n",
       "      <th>enzyme_reaction_0_para</th>\n",
       "      <th>enzyme_reaction_1_para</th>\n",
       "      <th>enzyme_reaction_2_para</th>\n",
       "      <th>meta_0</th>\n",
       "      <th>meta_1</th>\n",
       "      <th>meta_2</th>\n",
       "      <th>meta_3</th>\n",
       "      <th>reaction_0</th>\n",
       "      <th>reaction_1</th>\n",
       "      <th>reaction_2</th>\n",
       "    </tr>\n",
       "  </thead>\n",
       "  <tbody>\n",
       "    <tr>\n",
       "      <th>Temperature</th>\n",
       "      <td>1.0</td>\n",
       "      <td>0.000000e+00</td>\n",
       "      <td>0.000000e+00</td>\n",
       "      <td>0.000000e+00</td>\n",
       "      <td>0.000000</td>\n",
       "      <td>0.000000e+00</td>\n",
       "      <td>0.000000</td>\n",
       "      <td>0.000000</td>\n",
       "      <td>0.000000</td>\n",
       "      <td>0.000000</td>\n",
       "      <td>0.000000</td>\n",
       "      <td>0.000000e+00</td>\n",
       "      <td>0.000000e+00</td>\n",
       "    </tr>\n",
       "    <tr>\n",
       "      <th>meta_0_para</th>\n",
       "      <td>0.0</td>\n",
       "      <td>1.000000e+00</td>\n",
       "      <td>0.000000e+00</td>\n",
       "      <td>0.000000e+00</td>\n",
       "      <td>0.000000</td>\n",
       "      <td>0.000000e+00</td>\n",
       "      <td>-0.369274</td>\n",
       "      <td>0.196116</td>\n",
       "      <td>0.356291</td>\n",
       "      <td>-0.366618</td>\n",
       "      <td>0.000000</td>\n",
       "      <td>0.000000e+00</td>\n",
       "      <td>-1.110223e-16</td>\n",
       "    </tr>\n",
       "    <tr>\n",
       "      <th>meta_3_para</th>\n",
       "      <td>0.0</td>\n",
       "      <td>0.000000e+00</td>\n",
       "      <td>1.000000e+00</td>\n",
       "      <td>0.000000e+00</td>\n",
       "      <td>0.000000</td>\n",
       "      <td>0.000000e+00</td>\n",
       "      <td>-0.123091</td>\n",
       "      <td>-0.196116</td>\n",
       "      <td>0.254493</td>\n",
       "      <td>-0.219971</td>\n",
       "      <td>0.000000</td>\n",
       "      <td>1.110223e-16</td>\n",
       "      <td>0.000000e+00</td>\n",
       "    </tr>\n",
       "    <tr>\n",
       "      <th>enzyme_reaction_0_para</th>\n",
       "      <td>0.0</td>\n",
       "      <td>0.000000e+00</td>\n",
       "      <td>0.000000e+00</td>\n",
       "      <td>1.000000e+00</td>\n",
       "      <td>0.000000</td>\n",
       "      <td>0.000000e+00</td>\n",
       "      <td>-0.738549</td>\n",
       "      <td>0.392232</td>\n",
       "      <td>0.712581</td>\n",
       "      <td>-0.733236</td>\n",
       "      <td>0.000000</td>\n",
       "      <td>0.000000e+00</td>\n",
       "      <td>-2.220446e-16</td>\n",
       "    </tr>\n",
       "    <tr>\n",
       "      <th>enzyme_reaction_1_para</th>\n",
       "      <td>0.0</td>\n",
       "      <td>0.000000e+00</td>\n",
       "      <td>0.000000e+00</td>\n",
       "      <td>0.000000e+00</td>\n",
       "      <td>1.000000</td>\n",
       "      <td>0.000000e+00</td>\n",
       "      <td>0.492366</td>\n",
       "      <td>-0.784465</td>\n",
       "      <td>-0.203595</td>\n",
       "      <td>0.293294</td>\n",
       "      <td>1.000000</td>\n",
       "      <td>1.000000e+00</td>\n",
       "      <td>1.000000e+00</td>\n",
       "    </tr>\n",
       "    <tr>\n",
       "      <th>enzyme_reaction_2_para</th>\n",
       "      <td>0.0</td>\n",
       "      <td>0.000000e+00</td>\n",
       "      <td>0.000000e+00</td>\n",
       "      <td>0.000000e+00</td>\n",
       "      <td>0.000000</td>\n",
       "      <td>1.000000e+00</td>\n",
       "      <td>0.246183</td>\n",
       "      <td>0.392232</td>\n",
       "      <td>-0.508987</td>\n",
       "      <td>0.439941</td>\n",
       "      <td>0.000000</td>\n",
       "      <td>-2.220446e-16</td>\n",
       "      <td>0.000000e+00</td>\n",
       "    </tr>\n",
       "    <tr>\n",
       "      <th>meta_0</th>\n",
       "      <td>0.0</td>\n",
       "      <td>-3.692745e-01</td>\n",
       "      <td>-1.230915e-01</td>\n",
       "      <td>-7.385489e-01</td>\n",
       "      <td>0.492366</td>\n",
       "      <td>2.461830e-01</td>\n",
       "      <td>1.000000</td>\n",
       "      <td>-0.627646</td>\n",
       "      <td>-0.914718</td>\n",
       "      <td>0.956704</td>\n",
       "      <td>0.492366</td>\n",
       "      <td>4.923660e-01</td>\n",
       "      <td>4.923660e-01</td>\n",
       "    </tr>\n",
       "    <tr>\n",
       "      <th>meta_1</th>\n",
       "      <td>0.0</td>\n",
       "      <td>1.961161e-01</td>\n",
       "      <td>-1.961161e-01</td>\n",
       "      <td>3.922323e-01</td>\n",
       "      <td>-0.784465</td>\n",
       "      <td>3.922323e-01</td>\n",
       "      <td>-0.627646</td>\n",
       "      <td>1.000000</td>\n",
       "      <td>0.259533</td>\n",
       "      <td>-0.373878</td>\n",
       "      <td>-0.784465</td>\n",
       "      <td>-7.844645e-01</td>\n",
       "      <td>-7.844645e-01</td>\n",
       "    </tr>\n",
       "    <tr>\n",
       "      <th>meta_2</th>\n",
       "      <td>0.0</td>\n",
       "      <td>3.562906e-01</td>\n",
       "      <td>2.544933e-01</td>\n",
       "      <td>7.125812e-01</td>\n",
       "      <td>-0.203595</td>\n",
       "      <td>-5.089866e-01</td>\n",
       "      <td>-0.914718</td>\n",
       "      <td>0.259533</td>\n",
       "      <td>1.000000</td>\n",
       "      <td>-0.992731</td>\n",
       "      <td>-0.203595</td>\n",
       "      <td>-2.035946e-01</td>\n",
       "      <td>-2.035946e-01</td>\n",
       "    </tr>\n",
       "    <tr>\n",
       "      <th>meta_3</th>\n",
       "      <td>0.0</td>\n",
       "      <td>-3.666178e-01</td>\n",
       "      <td>-2.199707e-01</td>\n",
       "      <td>-7.332356e-01</td>\n",
       "      <td>0.293294</td>\n",
       "      <td>4.399413e-01</td>\n",
       "      <td>0.956704</td>\n",
       "      <td>-0.373878</td>\n",
       "      <td>-0.992731</td>\n",
       "      <td>1.000000</td>\n",
       "      <td>0.293294</td>\n",
       "      <td>2.932942e-01</td>\n",
       "      <td>2.932942e-01</td>\n",
       "    </tr>\n",
       "    <tr>\n",
       "      <th>reaction_0</th>\n",
       "      <td>0.0</td>\n",
       "      <td>0.000000e+00</td>\n",
       "      <td>0.000000e+00</td>\n",
       "      <td>0.000000e+00</td>\n",
       "      <td>1.000000</td>\n",
       "      <td>0.000000e+00</td>\n",
       "      <td>0.492366</td>\n",
       "      <td>-0.784465</td>\n",
       "      <td>-0.203595</td>\n",
       "      <td>0.293294</td>\n",
       "      <td>1.000000</td>\n",
       "      <td>1.000000e+00</td>\n",
       "      <td>1.000000e+00</td>\n",
       "    </tr>\n",
       "    <tr>\n",
       "      <th>reaction_1</th>\n",
       "      <td>0.0</td>\n",
       "      <td>0.000000e+00</td>\n",
       "      <td>1.110223e-16</td>\n",
       "      <td>0.000000e+00</td>\n",
       "      <td>1.000000</td>\n",
       "      <td>-2.220446e-16</td>\n",
       "      <td>0.492366</td>\n",
       "      <td>-0.784465</td>\n",
       "      <td>-0.203595</td>\n",
       "      <td>0.293294</td>\n",
       "      <td>1.000000</td>\n",
       "      <td>1.000000e+00</td>\n",
       "      <td>1.000000e+00</td>\n",
       "    </tr>\n",
       "    <tr>\n",
       "      <th>reaction_2</th>\n",
       "      <td>0.0</td>\n",
       "      <td>-1.110223e-16</td>\n",
       "      <td>0.000000e+00</td>\n",
       "      <td>-2.220446e-16</td>\n",
       "      <td>1.000000</td>\n",
       "      <td>0.000000e+00</td>\n",
       "      <td>0.492366</td>\n",
       "      <td>-0.784465</td>\n",
       "      <td>-0.203595</td>\n",
       "      <td>0.293294</td>\n",
       "      <td>1.000000</td>\n",
       "      <td>1.000000e+00</td>\n",
       "      <td>1.000000e+00</td>\n",
       "    </tr>\n",
       "  </tbody>\n",
       "</table>\n",
       "</div>"
      ],
      "text/plain": [
       "                        Temperature   meta_0_para   meta_3_para  \\\n",
       "Temperature                     1.0  0.000000e+00  0.000000e+00   \n",
       "meta_0_para                     0.0  1.000000e+00  0.000000e+00   \n",
       "meta_3_para                     0.0  0.000000e+00  1.000000e+00   \n",
       "enzyme_reaction_0_para          0.0  0.000000e+00  0.000000e+00   \n",
       "enzyme_reaction_1_para          0.0  0.000000e+00  0.000000e+00   \n",
       "enzyme_reaction_2_para          0.0  0.000000e+00  0.000000e+00   \n",
       "meta_0                          0.0 -3.692745e-01 -1.230915e-01   \n",
       "meta_1                          0.0  1.961161e-01 -1.961161e-01   \n",
       "meta_2                          0.0  3.562906e-01  2.544933e-01   \n",
       "meta_3                          0.0 -3.666178e-01 -2.199707e-01   \n",
       "reaction_0                      0.0  0.000000e+00  0.000000e+00   \n",
       "reaction_1                      0.0  0.000000e+00  1.110223e-16   \n",
       "reaction_2                      0.0 -1.110223e-16  0.000000e+00   \n",
       "\n",
       "                        enzyme_reaction_0_para  enzyme_reaction_1_para  \\\n",
       "Temperature                       0.000000e+00                0.000000   \n",
       "meta_0_para                       0.000000e+00                0.000000   \n",
       "meta_3_para                       0.000000e+00                0.000000   \n",
       "enzyme_reaction_0_para            1.000000e+00                0.000000   \n",
       "enzyme_reaction_1_para            0.000000e+00                1.000000   \n",
       "enzyme_reaction_2_para            0.000000e+00                0.000000   \n",
       "meta_0                           -7.385489e-01                0.492366   \n",
       "meta_1                            3.922323e-01               -0.784465   \n",
       "meta_2                            7.125812e-01               -0.203595   \n",
       "meta_3                           -7.332356e-01                0.293294   \n",
       "reaction_0                        0.000000e+00                1.000000   \n",
       "reaction_1                        0.000000e+00                1.000000   \n",
       "reaction_2                       -2.220446e-16                1.000000   \n",
       "\n",
       "                        enzyme_reaction_2_para    meta_0    meta_1    meta_2  \\\n",
       "Temperature                       0.000000e+00  0.000000  0.000000  0.000000   \n",
       "meta_0_para                       0.000000e+00 -0.369274  0.196116  0.356291   \n",
       "meta_3_para                       0.000000e+00 -0.123091 -0.196116  0.254493   \n",
       "enzyme_reaction_0_para            0.000000e+00 -0.738549  0.392232  0.712581   \n",
       "enzyme_reaction_1_para            0.000000e+00  0.492366 -0.784465 -0.203595   \n",
       "enzyme_reaction_2_para            1.000000e+00  0.246183  0.392232 -0.508987   \n",
       "meta_0                            2.461830e-01  1.000000 -0.627646 -0.914718   \n",
       "meta_1                            3.922323e-01 -0.627646  1.000000  0.259533   \n",
       "meta_2                           -5.089866e-01 -0.914718  0.259533  1.000000   \n",
       "meta_3                            4.399413e-01  0.956704 -0.373878 -0.992731   \n",
       "reaction_0                        0.000000e+00  0.492366 -0.784465 -0.203595   \n",
       "reaction_1                       -2.220446e-16  0.492366 -0.784465 -0.203595   \n",
       "reaction_2                        0.000000e+00  0.492366 -0.784465 -0.203595   \n",
       "\n",
       "                          meta_3  reaction_0    reaction_1    reaction_2  \n",
       "Temperature             0.000000    0.000000  0.000000e+00  0.000000e+00  \n",
       "meta_0_para            -0.366618    0.000000  0.000000e+00 -1.110223e-16  \n",
       "meta_3_para            -0.219971    0.000000  1.110223e-16  0.000000e+00  \n",
       "enzyme_reaction_0_para -0.733236    0.000000  0.000000e+00 -2.220446e-16  \n",
       "enzyme_reaction_1_para  0.293294    1.000000  1.000000e+00  1.000000e+00  \n",
       "enzyme_reaction_2_para  0.439941    0.000000 -2.220446e-16  0.000000e+00  \n",
       "meta_0                  0.956704    0.492366  4.923660e-01  4.923660e-01  \n",
       "meta_1                 -0.373878   -0.784465 -7.844645e-01 -7.844645e-01  \n",
       "meta_2                 -0.992731   -0.203595 -2.035946e-01 -2.035946e-01  \n",
       "meta_3                  1.000000    0.293294  2.932942e-01  2.932942e-01  \n",
       "reaction_0              0.293294    1.000000  1.000000e+00  1.000000e+00  \n",
       "reaction_1              0.293294    1.000000  1.000000e+00  1.000000e+00  \n",
       "reaction_2              0.293294    1.000000  1.000000e+00  1.000000e+00  "
      ]
     },
     "execution_count": 49,
     "metadata": {},
     "output_type": "execute_result"
    }
   ],
   "source": [
    "momo.rho()"
   ]
  },
  {
   "cell_type": "markdown",
   "metadata": {},
   "source": [
    "### <font color='white'> [2.1.1] Mutual information </font> "
   ]
  },
  {
   "cell_type": "code",
   "execution_count": null,
   "metadata": {},
   "outputs": [
    {
     "data": {
      "text/html": [
       "<div>\n",
       "<style scoped>\n",
       "    .dataframe tbody tr th:only-of-type {\n",
       "        vertical-align: middle;\n",
       "    }\n",
       "\n",
       "    .dataframe tbody tr th {\n",
       "        vertical-align: top;\n",
       "    }\n",
       "\n",
       "    .dataframe thead th {\n",
       "        text-align: right;\n",
       "    }\n",
       "</style>\n",
       "<table border=\"1\" class=\"dataframe\">\n",
       "  <thead>\n",
       "    <tr style=\"text-align: right;\">\n",
       "      <th></th>\n",
       "      <th>Temperature</th>\n",
       "      <th>meta_0_para</th>\n",
       "      <th>meta_3_para</th>\n",
       "      <th>enzyme_reaction_0_para</th>\n",
       "      <th>enzyme_reaction_1_para</th>\n",
       "      <th>enzyme_reaction_2_para</th>\n",
       "      <th>meta_0</th>\n",
       "      <th>meta_1</th>\n",
       "      <th>meta_2</th>\n",
       "      <th>meta_3</th>\n",
       "      <th>reaction_0</th>\n",
       "      <th>reaction_1</th>\n",
       "      <th>reaction_2</th>\n",
       "    </tr>\n",
       "  </thead>\n",
       "  <tbody>\n",
       "    <tr>\n",
       "      <th>Temperature</th>\n",
       "      <td>1.0</td>\n",
       "      <td>0.000000e+00</td>\n",
       "      <td>0.000000e+00</td>\n",
       "      <td>0.000000e+00</td>\n",
       "      <td>0.000000</td>\n",
       "      <td>0.000000e+00</td>\n",
       "      <td>0.000000</td>\n",
       "      <td>0.000000</td>\n",
       "      <td>0.000000</td>\n",
       "      <td>0.000000</td>\n",
       "      <td>0.000000</td>\n",
       "      <td>0.000000e+00</td>\n",
       "      <td>0.000000e+00</td>\n",
       "    </tr>\n",
       "    <tr>\n",
       "      <th>meta_0_para</th>\n",
       "      <td>0.0</td>\n",
       "      <td>1.000000e+00</td>\n",
       "      <td>0.000000e+00</td>\n",
       "      <td>0.000000e+00</td>\n",
       "      <td>0.000000</td>\n",
       "      <td>0.000000e+00</td>\n",
       "      <td>-0.369274</td>\n",
       "      <td>0.196116</td>\n",
       "      <td>0.356291</td>\n",
       "      <td>-0.366618</td>\n",
       "      <td>0.000000</td>\n",
       "      <td>0.000000e+00</td>\n",
       "      <td>-1.110223e-16</td>\n",
       "    </tr>\n",
       "    <tr>\n",
       "      <th>meta_3_para</th>\n",
       "      <td>0.0</td>\n",
       "      <td>0.000000e+00</td>\n",
       "      <td>1.000000e+00</td>\n",
       "      <td>0.000000e+00</td>\n",
       "      <td>0.000000</td>\n",
       "      <td>0.000000e+00</td>\n",
       "      <td>-0.123091</td>\n",
       "      <td>-0.196116</td>\n",
       "      <td>0.254493</td>\n",
       "      <td>-0.219971</td>\n",
       "      <td>0.000000</td>\n",
       "      <td>1.110223e-16</td>\n",
       "      <td>0.000000e+00</td>\n",
       "    </tr>\n",
       "    <tr>\n",
       "      <th>enzyme_reaction_0_para</th>\n",
       "      <td>0.0</td>\n",
       "      <td>0.000000e+00</td>\n",
       "      <td>0.000000e+00</td>\n",
       "      <td>1.000000e+00</td>\n",
       "      <td>0.000000</td>\n",
       "      <td>0.000000e+00</td>\n",
       "      <td>-0.738549</td>\n",
       "      <td>0.392232</td>\n",
       "      <td>0.712581</td>\n",
       "      <td>-0.733236</td>\n",
       "      <td>0.000000</td>\n",
       "      <td>0.000000e+00</td>\n",
       "      <td>-2.220446e-16</td>\n",
       "    </tr>\n",
       "    <tr>\n",
       "      <th>enzyme_reaction_1_para</th>\n",
       "      <td>0.0</td>\n",
       "      <td>0.000000e+00</td>\n",
       "      <td>0.000000e+00</td>\n",
       "      <td>0.000000e+00</td>\n",
       "      <td>1.000000</td>\n",
       "      <td>0.000000e+00</td>\n",
       "      <td>0.492366</td>\n",
       "      <td>-0.784465</td>\n",
       "      <td>-0.203595</td>\n",
       "      <td>0.293294</td>\n",
       "      <td>1.000000</td>\n",
       "      <td>1.000000e+00</td>\n",
       "      <td>1.000000e+00</td>\n",
       "    </tr>\n",
       "    <tr>\n",
       "      <th>enzyme_reaction_2_para</th>\n",
       "      <td>0.0</td>\n",
       "      <td>0.000000e+00</td>\n",
       "      <td>0.000000e+00</td>\n",
       "      <td>0.000000e+00</td>\n",
       "      <td>0.000000</td>\n",
       "      <td>1.000000e+00</td>\n",
       "      <td>0.246183</td>\n",
       "      <td>0.392232</td>\n",
       "      <td>-0.508987</td>\n",
       "      <td>0.439941</td>\n",
       "      <td>0.000000</td>\n",
       "      <td>-2.220446e-16</td>\n",
       "      <td>0.000000e+00</td>\n",
       "    </tr>\n",
       "    <tr>\n",
       "      <th>meta_0</th>\n",
       "      <td>0.0</td>\n",
       "      <td>-3.692745e-01</td>\n",
       "      <td>-1.230915e-01</td>\n",
       "      <td>-7.385489e-01</td>\n",
       "      <td>0.492366</td>\n",
       "      <td>2.461830e-01</td>\n",
       "      <td>1.000000</td>\n",
       "      <td>-0.627646</td>\n",
       "      <td>-0.914718</td>\n",
       "      <td>0.956704</td>\n",
       "      <td>0.492366</td>\n",
       "      <td>4.923660e-01</td>\n",
       "      <td>4.923660e-01</td>\n",
       "    </tr>\n",
       "    <tr>\n",
       "      <th>meta_1</th>\n",
       "      <td>0.0</td>\n",
       "      <td>1.961161e-01</td>\n",
       "      <td>-1.961161e-01</td>\n",
       "      <td>3.922323e-01</td>\n",
       "      <td>-0.784465</td>\n",
       "      <td>3.922323e-01</td>\n",
       "      <td>-0.627646</td>\n",
       "      <td>1.000000</td>\n",
       "      <td>0.259533</td>\n",
       "      <td>-0.373878</td>\n",
       "      <td>-0.784465</td>\n",
       "      <td>-7.844645e-01</td>\n",
       "      <td>-7.844645e-01</td>\n",
       "    </tr>\n",
       "    <tr>\n",
       "      <th>meta_2</th>\n",
       "      <td>0.0</td>\n",
       "      <td>3.562906e-01</td>\n",
       "      <td>2.544933e-01</td>\n",
       "      <td>7.125812e-01</td>\n",
       "      <td>-0.203595</td>\n",
       "      <td>-5.089866e-01</td>\n",
       "      <td>-0.914718</td>\n",
       "      <td>0.259533</td>\n",
       "      <td>1.000000</td>\n",
       "      <td>-0.992731</td>\n",
       "      <td>-0.203595</td>\n",
       "      <td>-2.035946e-01</td>\n",
       "      <td>-2.035946e-01</td>\n",
       "    </tr>\n",
       "    <tr>\n",
       "      <th>meta_3</th>\n",
       "      <td>0.0</td>\n",
       "      <td>-3.666178e-01</td>\n",
       "      <td>-2.199707e-01</td>\n",
       "      <td>-7.332356e-01</td>\n",
       "      <td>0.293294</td>\n",
       "      <td>4.399413e-01</td>\n",
       "      <td>0.956704</td>\n",
       "      <td>-0.373878</td>\n",
       "      <td>-0.992731</td>\n",
       "      <td>1.000000</td>\n",
       "      <td>0.293294</td>\n",
       "      <td>2.932942e-01</td>\n",
       "      <td>2.932942e-01</td>\n",
       "    </tr>\n",
       "    <tr>\n",
       "      <th>reaction_0</th>\n",
       "      <td>0.0</td>\n",
       "      <td>0.000000e+00</td>\n",
       "      <td>0.000000e+00</td>\n",
       "      <td>0.000000e+00</td>\n",
       "      <td>1.000000</td>\n",
       "      <td>0.000000e+00</td>\n",
       "      <td>0.492366</td>\n",
       "      <td>-0.784465</td>\n",
       "      <td>-0.203595</td>\n",
       "      <td>0.293294</td>\n",
       "      <td>1.000000</td>\n",
       "      <td>1.000000e+00</td>\n",
       "      <td>1.000000e+00</td>\n",
       "    </tr>\n",
       "    <tr>\n",
       "      <th>reaction_1</th>\n",
       "      <td>0.0</td>\n",
       "      <td>0.000000e+00</td>\n",
       "      <td>1.110223e-16</td>\n",
       "      <td>0.000000e+00</td>\n",
       "      <td>1.000000</td>\n",
       "      <td>-2.220446e-16</td>\n",
       "      <td>0.492366</td>\n",
       "      <td>-0.784465</td>\n",
       "      <td>-0.203595</td>\n",
       "      <td>0.293294</td>\n",
       "      <td>1.000000</td>\n",
       "      <td>1.000000e+00</td>\n",
       "      <td>1.000000e+00</td>\n",
       "    </tr>\n",
       "    <tr>\n",
       "      <th>reaction_2</th>\n",
       "      <td>0.0</td>\n",
       "      <td>-1.110223e-16</td>\n",
       "      <td>0.000000e+00</td>\n",
       "      <td>-2.220446e-16</td>\n",
       "      <td>1.000000</td>\n",
       "      <td>0.000000e+00</td>\n",
       "      <td>0.492366</td>\n",
       "      <td>-0.784465</td>\n",
       "      <td>-0.203595</td>\n",
       "      <td>0.293294</td>\n",
       "      <td>1.000000</td>\n",
       "      <td>1.000000e+00</td>\n",
       "      <td>1.000000e+00</td>\n",
       "    </tr>\n",
       "  </tbody>\n",
       "</table>\n",
       "</div>"
      ],
      "text/plain": [
       "                        Temperature   meta_0_para   meta_3_para  \\\n",
       "Temperature                     1.0  0.000000e+00  0.000000e+00   \n",
       "meta_0_para                     0.0  1.000000e+00  0.000000e+00   \n",
       "meta_3_para                     0.0  0.000000e+00  1.000000e+00   \n",
       "enzyme_reaction_0_para          0.0  0.000000e+00  0.000000e+00   \n",
       "enzyme_reaction_1_para          0.0  0.000000e+00  0.000000e+00   \n",
       "enzyme_reaction_2_para          0.0  0.000000e+00  0.000000e+00   \n",
       "meta_0                          0.0 -3.692745e-01 -1.230915e-01   \n",
       "meta_1                          0.0  1.961161e-01 -1.961161e-01   \n",
       "meta_2                          0.0  3.562906e-01  2.544933e-01   \n",
       "meta_3                          0.0 -3.666178e-01 -2.199707e-01   \n",
       "reaction_0                      0.0  0.000000e+00  0.000000e+00   \n",
       "reaction_1                      0.0  0.000000e+00  1.110223e-16   \n",
       "reaction_2                      0.0 -1.110223e-16  0.000000e+00   \n",
       "\n",
       "                        enzyme_reaction_0_para  enzyme_reaction_1_para  \\\n",
       "Temperature                       0.000000e+00                0.000000   \n",
       "meta_0_para                       0.000000e+00                0.000000   \n",
       "meta_3_para                       0.000000e+00                0.000000   \n",
       "enzyme_reaction_0_para            1.000000e+00                0.000000   \n",
       "enzyme_reaction_1_para            0.000000e+00                1.000000   \n",
       "enzyme_reaction_2_para            0.000000e+00                0.000000   \n",
       "meta_0                           -7.385489e-01                0.492366   \n",
       "meta_1                            3.922323e-01               -0.784465   \n",
       "meta_2                            7.125812e-01               -0.203595   \n",
       "meta_3                           -7.332356e-01                0.293294   \n",
       "reaction_0                        0.000000e+00                1.000000   \n",
       "reaction_1                        0.000000e+00                1.000000   \n",
       "reaction_2                       -2.220446e-16                1.000000   \n",
       "\n",
       "                        enzyme_reaction_2_para    meta_0    meta_1    meta_2  \\\n",
       "Temperature                       0.000000e+00  0.000000  0.000000  0.000000   \n",
       "meta_0_para                       0.000000e+00 -0.369274  0.196116  0.356291   \n",
       "meta_3_para                       0.000000e+00 -0.123091 -0.196116  0.254493   \n",
       "enzyme_reaction_0_para            0.000000e+00 -0.738549  0.392232  0.712581   \n",
       "enzyme_reaction_1_para            0.000000e+00  0.492366 -0.784465 -0.203595   \n",
       "enzyme_reaction_2_para            1.000000e+00  0.246183  0.392232 -0.508987   \n",
       "meta_0                            2.461830e-01  1.000000 -0.627646 -0.914718   \n",
       "meta_1                            3.922323e-01 -0.627646  1.000000  0.259533   \n",
       "meta_2                           -5.089866e-01 -0.914718  0.259533  1.000000   \n",
       "meta_3                            4.399413e-01  0.956704 -0.373878 -0.992731   \n",
       "reaction_0                        0.000000e+00  0.492366 -0.784465 -0.203595   \n",
       "reaction_1                       -2.220446e-16  0.492366 -0.784465 -0.203595   \n",
       "reaction_2                        0.000000e+00  0.492366 -0.784465 -0.203595   \n",
       "\n",
       "                          meta_3  reaction_0    reaction_1    reaction_2  \n",
       "Temperature             0.000000    0.000000  0.000000e+00  0.000000e+00  \n",
       "meta_0_para            -0.366618    0.000000  0.000000e+00 -1.110223e-16  \n",
       "meta_3_para            -0.219971    0.000000  1.110223e-16  0.000000e+00  \n",
       "enzyme_reaction_0_para -0.733236    0.000000  0.000000e+00 -2.220446e-16  \n",
       "enzyme_reaction_1_para  0.293294    1.000000  1.000000e+00  1.000000e+00  \n",
       "enzyme_reaction_2_para  0.439941    0.000000 -2.220446e-16  0.000000e+00  \n",
       "meta_0                  0.956704    0.492366  4.923660e-01  4.923660e-01  \n",
       "meta_1                 -0.373878   -0.784465 -7.844645e-01 -7.844645e-01  \n",
       "meta_2                 -0.992731   -0.203595 -2.035946e-01 -2.035946e-01  \n",
       "meta_3                  1.000000    0.293294  2.932942e-01  2.932942e-01  \n",
       "reaction_0              0.293294    1.000000  1.000000e+00  1.000000e+00  \n",
       "reaction_1              0.293294    1.000000  1.000000e+00  1.000000e+00  \n",
       "reaction_2              0.293294    1.000000  1.000000e+00  1.000000e+00  "
      ]
     },
     "execution_count": 50,
     "metadata": {},
     "output_type": "execute_result"
    }
   ],
   "source": [
    "momo.rho()"
   ]
  },
  {
   "cell_type": "markdown",
   "metadata": {},
   "source": [
    "### <font color='white'> [2.1.2] Plot </font> "
   ]
  },
  {
   "cell_type": "code",
   "execution_count": null,
   "metadata": {},
   "outputs": [
    {
     "data": {
      "image/png": "[encoded data removed]",
      "text/plain": [
       "<Figure size 640x480 with 2 Axes>"
      ]
     },
     "metadata": {},
     "output_type": "display_data"
    }
   ],
   "source": [
    "momo.plot(result=\"MI\", label=False, value_in_cell=False )"
   ]
  },
  {
   "cell_type": "markdown",
   "metadata": {},
   "source": [
    "## <font color='green'> [2.2] Sampling </font> "
   ]
  },
  {
   "cell_type": "markdown",
   "metadata": {},
   "source": [
    "### <font color='white'> [2.2.0] Let's create an exemple </font> "
   ]
  },
  {
   "cell_type": "code",
   "execution_count": null,
   "metadata": {},
   "outputs": [
    {
     "name": "stdout",
     "output_type": "stream",
     "text": [
      "Model created \n",
      " \n",
      "To add metabolite, use .metabolites.add_meta \n",
      "To add reaction,   use .reactions.add_reaction\n",
      "0 error detected in your SBML file\n",
      "Warning : The metabolite _S__Malate is not in the SBML file of the metabolic network !\n"
     ]
    }
   ],
   "source": [
    "momo.read_SBML()"
   ]
  },
  {
   "cell_type": "code",
   "execution_count": null,
   "metadata": {},
   "outputs": [],
   "source": [
    "momo.enzymes.add_to_all_reaction()\n",
    "momo.parameters.add_externals()\n",
    "momo.parameters.add_enzymes()"
   ]
  },
  {
   "cell_type": "code",
   "execution_count": null,
   "metadata": {},
   "outputs": [],
   "source": [
    "momo.elasticity.half_satured()"
   ]
  },
  {
   "cell_type": "code",
   "execution_count": null,
   "metadata": {},
   "outputs": [
    {
     "name": "stdout",
     "output_type": "stream",
     "text": [
      "Shape of the stoichio matrix : (40, 31) \n",
      "\n",
      "numbers of metabolite in the model : 40 \n",
      "\n",
      "Numbers of reaction in the model : 31 \n",
      "\n",
      "Numbers of enzyme in the model : 31 \n",
      "\n",
      "Numbers of parameters in the model : 44 \n",
      "\n"
     ]
    }
   ],
   "source": [
    "print(f\"Shape of the stoichio matrix : {momo.Stoichio_matrix.shape} \\n\")\n",
    "print(f\"numbers of metabolite in the model : {momo.metabolites.len} \\n\")\n",
    "print(f\"Numbers of reaction in the model : {momo.reactions.len} \\n\")\n",
    "print(f\"Numbers of enzyme in the model : {momo.enzymes.df.shape[0]} \\n\")\n",
    "print(f\"Numbers of parameters in the model : {momo.parameters.df.shape[0]} \\n\")"
   ]
  },
  {
   "cell_type": "markdown",
   "metadata": {},
   "source": [
    "### <font color='white'> [2.2.1] Updating the dataframe of the sampling data </font> "
   ]
  },
  {
   "cell_type": "code",
   "execution_count": null,
   "metadata": {},
   "outputs": [
    {
     "data": {
      "text/html": [
       "<div>\n",
       "<style scoped>\n",
       "    .dataframe tbody tr th:only-of-type {\n",
       "        vertical-align: middle;\n",
       "    }\n",
       "\n",
       "    .dataframe tbody tr th {\n",
       "        vertical-align: top;\n",
       "    }\n",
       "\n",
       "    .dataframe thead th {\n",
       "        text-align: right;\n",
       "    }\n",
       "</style>\n",
       "<table border=\"1\" class=\"dataframe\">\n",
       "  <thead>\n",
       "    <tr style=\"text-align: right;\">\n",
       "      <th></th>\n",
       "      <th>Name</th>\n",
       "      <th>Type</th>\n",
       "      <th>Mean</th>\n",
       "      <th>Standard deviation</th>\n",
       "      <th>Distribution</th>\n",
       "    </tr>\n",
       "  </thead>\n",
       "  <tbody>\n",
       "  </tbody>\n",
       "</table>\n",
       "</div>"
      ],
      "text/plain": [
       "Empty DataFrame\n",
       "Columns: [Name, Type, Mean, Standard deviation, Distribution]\n",
       "Index: []"
      ]
     },
     "execution_count": 56,
     "metadata": {},
     "output_type": "execute_result"
    }
   ],
   "source": [
    "momo.data_sampling"
   ]
  },
  {
   "cell_type": "code",
   "execution_count": null,
   "metadata": {},
   "outputs": [
    {
     "data": {
      "text/html": [
       "<div>\n",
       "<style scoped>\n",
       "    .dataframe tbody tr th:only-of-type {\n",
       "        vertical-align: middle;\n",
       "    }\n",
       "\n",
       "    .dataframe tbody tr th {\n",
       "        vertical-align: top;\n",
       "    }\n",
       "\n",
       "    .dataframe thead th {\n",
       "        text-align: right;\n",
       "    }\n",
       "</style>\n",
       "<table border=\"1\" class=\"dataframe\">\n",
       "  <thead>\n",
       "    <tr style=\"text-align: right;\">\n",
       "      <th></th>\n",
       "      <th>Name</th>\n",
       "      <th>Type</th>\n",
       "      <th>Mean</th>\n",
       "      <th>Standard deviation</th>\n",
       "      <th>Distribution</th>\n",
       "    </tr>\n",
       "  </thead>\n",
       "  <tbody>\n",
       "    <tr>\n",
       "      <th>0</th>\n",
       "      <td>[PTS_RPTSsy, enzyme_PTS_RPTSsy_para]</td>\n",
       "      <td>elasticity_p</td>\n",
       "      <td>1.0</td>\n",
       "      <td>1</td>\n",
       "      <td>uniform</td>\n",
       "    </tr>\n",
       "  </tbody>\n",
       "</table>\n",
       "</div>"
      ],
      "text/plain": [
       "                                   Name          Type  Mean  \\\n",
       "0  [PTS_RPTSsy, enzyme_PTS_RPTSsy_para]  elasticity_p   1.0   \n",
       "\n",
       "   Standard deviation Distribution  \n",
       "0                   1      uniform  "
      ]
     },
     "execution_count": 57,
     "metadata": {},
     "output_type": "execute_result"
    }
   ],
   "source": [
    "momo.add_sampling_data([\"PTS_RPTSsy\",\"enzyme_PTS_RPTSsy_para\"], \"elasticity_p\", mean = True)\n",
    "\n",
    "momo.data_sampling"
   ]
  },
  {
   "cell_type": "markdown",
   "metadata": {},
   "source": [
    "### <font color='white'> [2.2.2] Launching the sampling loop </font> "
   ]
  },
  {
   "cell_type": "code",
   "execution_count": null,
   "metadata": {},
   "outputs": [
    {
     "name": "stdout",
     "output_type": "stream",
     "text": [
      "running tiem of the code : 0.4401824474334717 \n",
      "So 0.04401824474334717 per occurences !\n"
     ]
    },
    {
     "data": {
      "text/plain": [
       "array([[ 1.        ,  0.        ,  0.        , ...,  0.        ,\n",
       "         0.        ,  0.        ],\n",
       "       [ 0.        ,  1.        ,  0.        , ..., -0.00886832,\n",
       "        -0.02173478, -0.00151521],\n",
       "       [ 0.        ,  0.        ,  1.        , ..., -0.0269042 ,\n",
       "        -0.01095692,  0.01758021],\n",
       "       ...,\n",
       "       [ 0.        , -0.00886832, -0.0269042 , ...,  1.        ,\n",
       "        -0.8564132 , -0.48868603],\n",
       "       [ 0.        , -0.02173478, -0.01095692, ..., -0.8564132 ,\n",
       "         1.        ,  0.78171871],\n",
       "       [ 0.        , -0.00151521,  0.01758021, ..., -0.48868603,\n",
       "         0.78171871,  1.        ]])"
      ]
     },
     "execution_count": 58,
     "metadata": {},
     "output_type": "execute_result"
    }
   ],
   "source": [
    "momo.sampling(10, result=\"rho\", seed_constant=False)"
   ]
  },
  {
   "cell_type": "code",
   "execution_count": null,
   "metadata": {},
   "outputs": [
    {
     "data": {
      "text/html": [
       "<div>\n",
       "<style scoped>\n",
       "    .dataframe tbody tr th:only-of-type {\n",
       "        vertical-align: middle;\n",
       "    }\n",
       "\n",
       "    .dataframe tbody tr th {\n",
       "        vertical-align: top;\n",
       "    }\n",
       "\n",
       "    .dataframe thead th {\n",
       "        text-align: right;\n",
       "    }\n",
       "</style>\n",
       "<table border=\"1\" class=\"dataframe\">\n",
       "  <thead>\n",
       "    <tr style=\"text-align: right;\">\n",
       "      <th></th>\n",
       "      <th>0</th>\n",
       "      <th>1</th>\n",
       "      <th>2</th>\n",
       "    </tr>\n",
       "  </thead>\n",
       "  <tbody>\n",
       "    <tr>\n",
       "      <th>0</th>\n",
       "      <td>inf</td>\n",
       "      <td>NaN</td>\n",
       "      <td>0.000428</td>\n",
       "    </tr>\n",
       "    <tr>\n",
       "      <th>1</th>\n",
       "      <td>-inf</td>\n",
       "      <td>NaN</td>\n",
       "      <td>-inf</td>\n",
       "    </tr>\n",
       "    <tr>\n",
       "      <th>2</th>\n",
       "      <td>0.000428</td>\n",
       "      <td>NaN</td>\n",
       "      <td>inf</td>\n",
       "    </tr>\n",
       "  </tbody>\n",
       "</table>\n",
       "</div>"
      ],
      "text/plain": [
       "          0   1         2\n",
       "0       inf NaN  0.000428\n",
       "1      -inf NaN      -inf\n",
       "2  0.000428 NaN       inf"
      ]
     },
     "execution_count": 59,
     "metadata": {},
     "output_type": "execute_result"
    }
   ],
   "source": [
    "momo.MI([[\"enzyme_PTS_RPTSsy_para\",\"enzyme_PGI_R02740_para\"],[\"FUM_R01082\",\"MDH_R00342\"],[\"PPC_R00345\"]])"
   ]
  },
  {
   "cell_type": "code",
   "execution_count": null,
   "metadata": {},
   "outputs": [
    {
     "name": "stdout",
     "output_type": "stream",
     "text": [
      "Model created \n",
      " \n",
      "To add metabolite, use .metabolites.add_meta \n",
      "To add reaction,   use .reactions.add_reaction\n",
      "Model created \n",
      " \n",
      "To add metabolite, use .metabolites.add_meta \n",
      "To add reaction,   use .reactions.add_reaction\n",
      "0 error detected in your SBML file\n",
      "Warning : The metabolite _S__Malate is not in the SBML file of the metabolic network !\n"
     ]
    }
   ],
   "source": [
    "from main import *\n",
    "momo = model()\n",
    "momo.read_SBML()\n",
    "\n",
    "momo.elasticity.half_satured()\n",
    "momo.enzymes.add_to_all_reaction()\n",
    "momo.parameters.add_enzymes()\n",
    "momo.parameters.add_externals()"
   ]
  },
  {
   "cell_type": "code",
   "execution_count": null,
   "metadata": {},
   "outputs": [
    {
     "name": "stdout",
     "output_type": "stream",
     "text": [
      "H2O\n"
     ]
    },
    {
     "data": {
      "text/plain": [
       "Temperature               0.0\n",
       "enzyme_PTS_RPTSsy_para    0.0\n",
       "enzyme_PGI_R02740_para    0.0\n",
       "enzyme_PFK_R04779_para    0.0\n",
       "enzyme_ALD_R01070_para    0.0\n",
       "                         ... \n",
       "FUM_R01082                0.0\n",
       "MDH_R00342                0.0\n",
       "PPC_R00345                0.0\n",
       "Overflow                  0.0\n",
       "OxAConsumption            0.0\n",
       "Name: H2O, Length: 115, dtype: float64"
      ]
     },
     "execution_count": 61,
     "metadata": {},
     "output_type": "execute_result"
    }
   ],
   "source": [
    "a = momo.MI()\n",
    "\n",
    "print(a.index[59])\n",
    "a.loc[a.index[59]]"
   ]
  },
  {
   "cell_type": "code",
   "execution_count": null,
   "metadata": {},
   "outputs": [
    {
     "data": {
      "text/html": [
       "<div>\n",
       "<style scoped>\n",
       "    .dataframe tbody tr th:only-of-type {\n",
       "        vertical-align: middle;\n",
       "    }\n",
       "\n",
       "    .dataframe tbody tr th {\n",
       "        vertical-align: top;\n",
       "    }\n",
       "\n",
       "    .dataframe thead th {\n",
       "        text-align: right;\n",
       "    }\n",
       "</style>\n",
       "<table border=\"1\" class=\"dataframe\">\n",
       "  <thead>\n",
       "    <tr style=\"text-align: right;\">\n",
       "      <th></th>\n",
       "      <th>Temperature</th>\n",
       "      <th>enzyme_PTS_RPTSsy_para</th>\n",
       "      <th>enzyme_PGI_R02740_para</th>\n",
       "      <th>enzyme_PFK_R04779_para</th>\n",
       "      <th>enzyme_ALD_R01070_para</th>\n",
       "      <th>enzyme_TIM_R01015_para</th>\n",
       "      <th>enzyme_GAP_R01061_para</th>\n",
       "      <th>enzyme_PGK_R01512_para</th>\n",
       "      <th>enzyme_PGM_R01518_para</th>\n",
       "      <th>enzyme_PGH_R00658_para</th>\n",
       "      <th>...</th>\n",
       "      <th>ACN_R01900</th>\n",
       "      <th>ICD_R00709</th>\n",
       "      <th>KGD_R08549</th>\n",
       "      <th>SCS_R00405</th>\n",
       "      <th>SDH_R02164</th>\n",
       "      <th>FUM_R01082</th>\n",
       "      <th>MDH_R00342</th>\n",
       "      <th>PPC_R00345</th>\n",
       "      <th>Overflow</th>\n",
       "      <th>OxAConsumption</th>\n",
       "    </tr>\n",
       "  </thead>\n",
       "  <tbody>\n",
       "    <tr>\n",
       "      <th>Temperature</th>\n",
       "      <td>0.0</td>\n",
       "      <td>0.000000</td>\n",
       "      <td>0.000000</td>\n",
       "      <td>0.000000</td>\n",
       "      <td>0.000000</td>\n",
       "      <td>0.000000</td>\n",
       "      <td>0.000000</td>\n",
       "      <td>0.000000</td>\n",
       "      <td>0.000000</td>\n",
       "      <td>0.000000</td>\n",
       "      <td>...</td>\n",
       "      <td>0.000000</td>\n",
       "      <td>0.000000</td>\n",
       "      <td>0.000000</td>\n",
       "      <td>0.000000</td>\n",
       "      <td>0.000000</td>\n",
       "      <td>0.000000</td>\n",
       "      <td>0.000000</td>\n",
       "      <td>0.000000</td>\n",
       "      <td>0.000000</td>\n",
       "      <td>0.000000</td>\n",
       "    </tr>\n",
       "    <tr>\n",
       "      <th>enzyme_PTS_RPTSsy_para</th>\n",
       "      <td>0.0</td>\n",
       "      <td>0.000000</td>\n",
       "      <td>0.000000</td>\n",
       "      <td>0.000000</td>\n",
       "      <td>0.000000</td>\n",
       "      <td>0.000000</td>\n",
       "      <td>0.000000</td>\n",
       "      <td>0.000000</td>\n",
       "      <td>0.000000</td>\n",
       "      <td>0.000000</td>\n",
       "      <td>...</td>\n",
       "      <td>0.000314</td>\n",
       "      <td>0.000314</td>\n",
       "      <td>0.000314</td>\n",
       "      <td>0.000314</td>\n",
       "      <td>0.000314</td>\n",
       "      <td>0.000314</td>\n",
       "      <td>0.000314</td>\n",
       "      <td>0.000227</td>\n",
       "      <td>0.001365</td>\n",
       "      <td>0.000007</td>\n",
       "    </tr>\n",
       "    <tr>\n",
       "      <th>enzyme_PGI_R02740_para</th>\n",
       "      <td>0.0</td>\n",
       "      <td>0.000000</td>\n",
       "      <td>0.000000</td>\n",
       "      <td>0.000000</td>\n",
       "      <td>0.000000</td>\n",
       "      <td>0.000000</td>\n",
       "      <td>0.000000</td>\n",
       "      <td>0.000000</td>\n",
       "      <td>0.000000</td>\n",
       "      <td>0.000000</td>\n",
       "      <td>...</td>\n",
       "      <td>0.000048</td>\n",
       "      <td>0.000048</td>\n",
       "      <td>0.000048</td>\n",
       "      <td>0.000048</td>\n",
       "      <td>0.000048</td>\n",
       "      <td>0.000048</td>\n",
       "      <td>0.000048</td>\n",
       "      <td>0.000201</td>\n",
       "      <td>0.000323</td>\n",
       "      <td>0.000059</td>\n",
       "    </tr>\n",
       "    <tr>\n",
       "      <th>enzyme_PFK_R04779_para</th>\n",
       "      <td>0.0</td>\n",
       "      <td>0.000000</td>\n",
       "      <td>0.000000</td>\n",
       "      <td>0.000000</td>\n",
       "      <td>0.000000</td>\n",
       "      <td>0.000000</td>\n",
       "      <td>0.000000</td>\n",
       "      <td>0.000000</td>\n",
       "      <td>0.000000</td>\n",
       "      <td>0.000000</td>\n",
       "      <td>...</td>\n",
       "      <td>0.006491</td>\n",
       "      <td>0.006491</td>\n",
       "      <td>0.006491</td>\n",
       "      <td>0.006491</td>\n",
       "      <td>0.006491</td>\n",
       "      <td>0.006491</td>\n",
       "      <td>0.006491</td>\n",
       "      <td>0.007881</td>\n",
       "      <td>0.003399</td>\n",
       "      <td>0.000089</td>\n",
       "    </tr>\n",
       "    <tr>\n",
       "      <th>enzyme_ALD_R01070_para</th>\n",
       "      <td>0.0</td>\n",
       "      <td>0.000000</td>\n",
       "      <td>0.000000</td>\n",
       "      <td>0.000000</td>\n",
       "      <td>0.000000</td>\n",
       "      <td>0.000000</td>\n",
       "      <td>0.000000</td>\n",
       "      <td>0.000000</td>\n",
       "      <td>0.000000</td>\n",
       "      <td>0.000000</td>\n",
       "      <td>...</td>\n",
       "      <td>0.010153</td>\n",
       "      <td>0.010153</td>\n",
       "      <td>0.010153</td>\n",
       "      <td>0.010153</td>\n",
       "      <td>0.010153</td>\n",
       "      <td>0.010153</td>\n",
       "      <td>0.010153</td>\n",
       "      <td>0.021687</td>\n",
       "      <td>0.005936</td>\n",
       "      <td>0.002409</td>\n",
       "    </tr>\n",
       "    <tr>\n",
       "      <th>...</th>\n",
       "      <td>...</td>\n",
       "      <td>...</td>\n",
       "      <td>...</td>\n",
       "      <td>...</td>\n",
       "      <td>...</td>\n",
       "      <td>...</td>\n",
       "      <td>...</td>\n",
       "      <td>...</td>\n",
       "      <td>...</td>\n",
       "      <td>...</td>\n",
       "      <td>...</td>\n",
       "      <td>...</td>\n",
       "      <td>...</td>\n",
       "      <td>...</td>\n",
       "      <td>...</td>\n",
       "      <td>...</td>\n",
       "      <td>...</td>\n",
       "      <td>...</td>\n",
       "      <td>...</td>\n",
       "      <td>...</td>\n",
       "      <td>...</td>\n",
       "    </tr>\n",
       "    <tr>\n",
       "      <th>FUM_R01082</th>\n",
       "      <td>0.0</td>\n",
       "      <td>0.000314</td>\n",
       "      <td>0.000048</td>\n",
       "      <td>0.006491</td>\n",
       "      <td>0.010153</td>\n",
       "      <td>0.004805</td>\n",
       "      <td>0.010494</td>\n",
       "      <td>0.020952</td>\n",
       "      <td>0.034363</td>\n",
       "      <td>0.053396</td>\n",
       "      <td>...</td>\n",
       "      <td>NaN</td>\n",
       "      <td>26.031941</td>\n",
       "      <td>25.531941</td>\n",
       "      <td>NaN</td>\n",
       "      <td>NaN</td>\n",
       "      <td>0.000000</td>\n",
       "      <td>0.000000</td>\n",
       "      <td>0.247594</td>\n",
       "      <td>0.008985</td>\n",
       "      <td>0.181311</td>\n",
       "    </tr>\n",
       "    <tr>\n",
       "      <th>MDH_R00342</th>\n",
       "      <td>0.0</td>\n",
       "      <td>0.000314</td>\n",
       "      <td>0.000048</td>\n",
       "      <td>0.006491</td>\n",
       "      <td>0.010153</td>\n",
       "      <td>0.004805</td>\n",
       "      <td>0.010494</td>\n",
       "      <td>0.020952</td>\n",
       "      <td>0.034363</td>\n",
       "      <td>0.053396</td>\n",
       "      <td>...</td>\n",
       "      <td>NaN</td>\n",
       "      <td>NaN</td>\n",
       "      <td>25.531941</td>\n",
       "      <td>26.031941</td>\n",
       "      <td>0.000000</td>\n",
       "      <td>0.000000</td>\n",
       "      <td>0.000000</td>\n",
       "      <td>0.247594</td>\n",
       "      <td>0.008985</td>\n",
       "      <td>0.181311</td>\n",
       "    </tr>\n",
       "    <tr>\n",
       "      <th>PPC_R00345</th>\n",
       "      <td>0.0</td>\n",
       "      <td>0.000227</td>\n",
       "      <td>0.000201</td>\n",
       "      <td>0.007881</td>\n",
       "      <td>0.021687</td>\n",
       "      <td>0.008863</td>\n",
       "      <td>0.024375</td>\n",
       "      <td>0.047349</td>\n",
       "      <td>0.048975</td>\n",
       "      <td>0.059385</td>\n",
       "      <td>...</td>\n",
       "      <td>0.247594</td>\n",
       "      <td>0.247594</td>\n",
       "      <td>0.247594</td>\n",
       "      <td>0.247594</td>\n",
       "      <td>0.247594</td>\n",
       "      <td>0.247594</td>\n",
       "      <td>0.247594</td>\n",
       "      <td>0.000000</td>\n",
       "      <td>0.955642</td>\n",
       "      <td>0.196869</td>\n",
       "    </tr>\n",
       "    <tr>\n",
       "      <th>Overflow</th>\n",
       "      <td>0.0</td>\n",
       "      <td>0.001365</td>\n",
       "      <td>0.000323</td>\n",
       "      <td>0.003399</td>\n",
       "      <td>0.005936</td>\n",
       "      <td>0.001599</td>\n",
       "      <td>0.015930</td>\n",
       "      <td>0.035757</td>\n",
       "      <td>0.048001</td>\n",
       "      <td>0.058109</td>\n",
       "      <td>...</td>\n",
       "      <td>0.008985</td>\n",
       "      <td>0.008985</td>\n",
       "      <td>0.008985</td>\n",
       "      <td>0.008985</td>\n",
       "      <td>0.008985</td>\n",
       "      <td>0.008985</td>\n",
       "      <td>0.008985</td>\n",
       "      <td>0.955642</td>\n",
       "      <td>0.000000</td>\n",
       "      <td>0.681656</td>\n",
       "    </tr>\n",
       "    <tr>\n",
       "      <th>OxAConsumption</th>\n",
       "      <td>0.0</td>\n",
       "      <td>0.000007</td>\n",
       "      <td>0.000059</td>\n",
       "      <td>0.000089</td>\n",
       "      <td>0.002409</td>\n",
       "      <td>0.000707</td>\n",
       "      <td>0.003185</td>\n",
       "      <td>0.005692</td>\n",
       "      <td>0.001452</td>\n",
       "      <td>0.000225</td>\n",
       "      <td>...</td>\n",
       "      <td>0.181311</td>\n",
       "      <td>0.181311</td>\n",
       "      <td>0.181311</td>\n",
       "      <td>0.181311</td>\n",
       "      <td>0.181311</td>\n",
       "      <td>0.181311</td>\n",
       "      <td>0.181311</td>\n",
       "      <td>0.196869</td>\n",
       "      <td>0.681656</td>\n",
       "      <td>0.000000</td>\n",
       "    </tr>\n",
       "  </tbody>\n",
       "</table>\n",
       "<p>115 rows × 115 columns</p>\n",
       "</div>"
      ],
      "text/plain": [
       "                        Temperature  enzyme_PTS_RPTSsy_para  \\\n",
       "Temperature                     0.0                0.000000   \n",
       "enzyme_PTS_RPTSsy_para          0.0                0.000000   \n",
       "enzyme_PGI_R02740_para          0.0                0.000000   \n",
       "enzyme_PFK_R04779_para          0.0                0.000000   \n",
       "enzyme_ALD_R01070_para          0.0                0.000000   \n",
       "...                             ...                     ...   \n",
       "FUM_R01082                      0.0                0.000314   \n",
       "MDH_R00342                      0.0                0.000314   \n",
       "PPC_R00345                      0.0                0.000227   \n",
       "Overflow                        0.0                0.001365   \n",
       "OxAConsumption                  0.0                0.000007   \n",
       "\n",
       "                        enzyme_PGI_R02740_para  enzyme_PFK_R04779_para  \\\n",
       "Temperature                           0.000000                0.000000   \n",
       "enzyme_PTS_RPTSsy_para                0.000000                0.000000   \n",
       "enzyme_PGI_R02740_para                0.000000                0.000000   \n",
       "enzyme_PFK_R04779_para                0.000000                0.000000   \n",
       "enzyme_ALD_R01070_para                0.000000                0.000000   \n",
       "...                                        ...                     ...   \n",
       "FUM_R01082                            0.000048                0.006491   \n",
       "MDH_R00342                            0.000048                0.006491   \n",
       "PPC_R00345                            0.000201                0.007881   \n",
       "Overflow                              0.000323                0.003399   \n",
       "OxAConsumption                        0.000059                0.000089   \n",
       "\n",
       "                        enzyme_ALD_R01070_para  enzyme_TIM_R01015_para  \\\n",
       "Temperature                           0.000000                0.000000   \n",
       "enzyme_PTS_RPTSsy_para                0.000000                0.000000   \n",
       "enzyme_PGI_R02740_para                0.000000                0.000000   \n",
       "enzyme_PFK_R04779_para                0.000000                0.000000   \n",
       "enzyme_ALD_R01070_para                0.000000                0.000000   \n",
       "...                                        ...                     ...   \n",
       "FUM_R01082                            0.010153                0.004805   \n",
       "MDH_R00342                            0.010153                0.004805   \n",
       "PPC_R00345                            0.021687                0.008863   \n",
       "Overflow                              0.005936                0.001599   \n",
       "OxAConsumption                        0.002409                0.000707   \n",
       "\n",
       "                        enzyme_GAP_R01061_para  enzyme_PGK_R01512_para  \\\n",
       "Temperature                           0.000000                0.000000   \n",
       "enzyme_PTS_RPTSsy_para                0.000000                0.000000   \n",
       "enzyme_PGI_R02740_para                0.000000                0.000000   \n",
       "enzyme_PFK_R04779_para                0.000000                0.000000   \n",
       "enzyme_ALD_R01070_para                0.000000                0.000000   \n",
       "...                                        ...                     ...   \n",
       "FUM_R01082                            0.010494                0.020952   \n",
       "MDH_R00342                            0.010494                0.020952   \n",
       "PPC_R00345                            0.024375                0.047349   \n",
       "Overflow                              0.015930                0.035757   \n",
       "OxAConsumption                        0.003185                0.005692   \n",
       "\n",
       "                        enzyme_PGM_R01518_para  enzyme_PGH_R00658_para  ...  \\\n",
       "Temperature                           0.000000                0.000000  ...   \n",
       "enzyme_PTS_RPTSsy_para                0.000000                0.000000  ...   \n",
       "enzyme_PGI_R02740_para                0.000000                0.000000  ...   \n",
       "enzyme_PFK_R04779_para                0.000000                0.000000  ...   \n",
       "enzyme_ALD_R01070_para                0.000000                0.000000  ...   \n",
       "...                                        ...                     ...  ...   \n",
       "FUM_R01082                            0.034363                0.053396  ...   \n",
       "MDH_R00342                            0.034363                0.053396  ...   \n",
       "PPC_R00345                            0.048975                0.059385  ...   \n",
       "Overflow                              0.048001                0.058109  ...   \n",
       "OxAConsumption                        0.001452                0.000225  ...   \n",
       "\n",
       "                        ACN_R01900  ICD_R00709  KGD_R08549  SCS_R00405  \\\n",
       "Temperature               0.000000    0.000000    0.000000    0.000000   \n",
       "enzyme_PTS_RPTSsy_para    0.000314    0.000314    0.000314    0.000314   \n",
       "enzyme_PGI_R02740_para    0.000048    0.000048    0.000048    0.000048   \n",
       "enzyme_PFK_R04779_para    0.006491    0.006491    0.006491    0.006491   \n",
       "enzyme_ALD_R01070_para    0.010153    0.010153    0.010153    0.010153   \n",
       "...                            ...         ...         ...         ...   \n",
       "FUM_R01082                     NaN   26.031941   25.531941         NaN   \n",
       "MDH_R00342                     NaN         NaN   25.531941   26.031941   \n",
       "PPC_R00345                0.247594    0.247594    0.247594    0.247594   \n",
       "Overflow                  0.008985    0.008985    0.008985    0.008985   \n",
       "OxAConsumption            0.181311    0.181311    0.181311    0.181311   \n",
       "\n",
       "                        SDH_R02164  FUM_R01082  MDH_R00342  PPC_R00345  \\\n",
       "Temperature               0.000000    0.000000    0.000000    0.000000   \n",
       "enzyme_PTS_RPTSsy_para    0.000314    0.000314    0.000314    0.000227   \n",
       "enzyme_PGI_R02740_para    0.000048    0.000048    0.000048    0.000201   \n",
       "enzyme_PFK_R04779_para    0.006491    0.006491    0.006491    0.007881   \n",
       "enzyme_ALD_R01070_para    0.010153    0.010153    0.010153    0.021687   \n",
       "...                            ...         ...         ...         ...   \n",
       "FUM_R01082                     NaN    0.000000    0.000000    0.247594   \n",
       "MDH_R00342                0.000000    0.000000    0.000000    0.247594   \n",
       "PPC_R00345                0.247594    0.247594    0.247594    0.000000   \n",
       "Overflow                  0.008985    0.008985    0.008985    0.955642   \n",
       "OxAConsumption            0.181311    0.181311    0.181311    0.196869   \n",
       "\n",
       "                        Overflow  OxAConsumption  \n",
       "Temperature             0.000000        0.000000  \n",
       "enzyme_PTS_RPTSsy_para  0.001365        0.000007  \n",
       "enzyme_PGI_R02740_para  0.000323        0.000059  \n",
       "enzyme_PFK_R04779_para  0.003399        0.000089  \n",
       "enzyme_ALD_R01070_para  0.005936        0.002409  \n",
       "...                          ...             ...  \n",
       "FUM_R01082              0.008985        0.181311  \n",
       "MDH_R00342              0.008985        0.181311  \n",
       "PPC_R00345              0.955642        0.196869  \n",
       "Overflow                0.000000        0.681656  \n",
       "OxAConsumption          0.681656        0.000000  \n",
       "\n",
       "[115 rows x 115 columns]"
      ]
     },
     "execution_count": 62,
     "metadata": {},
     "output_type": "execute_result"
    }
   ],
   "source": [
    "momo.MI()"
   ]
  },
  {
   "cell_type": "code",
   "execution_count": null,
   "metadata": {},
   "outputs": [
    {
     "data": {
      "text/plain": [
       "44"
      ]
     },
     "execution_count": 63,
     "metadata": {},
     "output_type": "execute_result"
    }
   ],
   "source": [
    "momo.parameters.df.shape[0]"
   ]
  },
  {
   "cell_type": "code",
   "execution_count": null,
   "metadata": {},
   "outputs": [
    {
     "name": "stdout",
     "output_type": "stream",
     "text": [
      "Nom du paramètre retiré : Temperature\n"
     ]
    }
   ],
   "source": [
    "momo.parameters.remove(\"Temperature\")"
   ]
  },
  {
   "cell_type": "code",
   "execution_count": null,
   "metadata": {},
   "outputs": [
    {
     "data": {
      "text/plain": [
       "43"
      ]
     },
     "execution_count": 65,
     "metadata": {},
     "output_type": "execute_result"
    }
   ],
   "source": [
    "momo.elasticity.p.shape[1]"
   ]
  },
  {
   "cell_type": "code",
   "execution_count": null,
   "metadata": {},
   "outputs": [
    {
     "data": {
      "image/png": "[encoded data removed]",
      "text/plain": [
       "<Figure size 640x480 with 2 Axes>"
      ]
     },
     "metadata": {},
     "output_type": "display_data"
    }
   ],
   "source": [
    "momo.plot(result='MI')"
   ]
  },
  {
   "cell_type": "code",
   "execution_count": null,
   "metadata": {},
   "outputs": [
    {
     "data": {
      "text/plain": [
       "'H2O'"
      ]
     },
     "execution_count": 67,
     "metadata": {},
     "output_type": "execute_result"
    }
   ],
   "source": [
    "a = momo.MI()\n",
    "\n",
    "a.columns[58]"
   ]
  },
  {
   "cell_type": "code",
   "execution_count": null,
   "metadata": {},
   "outputs": [
    {
     "data": {
      "text/html": [
       "<div>\n",
       "<style scoped>\n",
       "    .dataframe tbody tr th:only-of-type {\n",
       "        vertical-align: middle;\n",
       "    }\n",
       "\n",
       "    .dataframe tbody tr th {\n",
       "        vertical-align: top;\n",
       "    }\n",
       "\n",
       "    .dataframe thead th {\n",
       "        text-align: right;\n",
       "    }\n",
       "</style>\n",
       "<table border=\"1\" class=\"dataframe\">\n",
       "  <thead>\n",
       "    <tr style=\"text-align: right;\">\n",
       "      <th></th>\n",
       "    </tr>\n",
       "  </thead>\n",
       "  <tbody>\n",
       "  </tbody>\n",
       "</table>\n",
       "</div>"
      ],
      "text/plain": [
       "Empty DataFrame\n",
       "Columns: []\n",
       "Index: []"
      ]
     },
     "execution_count": 4,
     "metadata": {},
     "output_type": "execute_result"
    }
   ],
   "source": [
    "momo.elasticity.s.df\n",
    "momo.elasticity.s.half_satured()\n",
    "momo.elasticity.s.df"
   ]
  },
  {
   "cell_type": "code",
   "execution_count": null,
   "metadata": {},
   "outputs": [
    {
     "data": {
      "text/plain": [
       "0"
      ]
     },
     "execution_count": 9,
     "metadata": {},
     "output_type": "execute_result"
    }
   ],
   "source": [
    "a = pd.DataFrame()\n",
    "a.columns.shape[0]"
   ]
  }
 ],
 "metadata": {
  "kernelspec": {
   "display_name": "Python 3",
   "language": "python",
   "name": "python3"
  },
  "language_info": {
   "codemirror_mode": {
    "name": "ipython",
    "version": 3
   },
   "file_extension": ".py",
   "mimetype": "text/x-python",
   "name": "python",
   "nbconvert_exporter": "python",
   "pygments_lexer": "ipython3",
   "version": "3.10.12"
  },
  "orig_nbformat": 4
 },
 "nbformat": 4,
 "nbformat_minor": 2
}
