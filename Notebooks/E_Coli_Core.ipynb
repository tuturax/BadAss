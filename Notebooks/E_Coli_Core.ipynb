{
 "cells": [
  {
   "cell_type": "markdown",
   "metadata": {},
   "source": [
    "## Notebook for the study of the E.Coli Core model"
   ]
  },
  {
   "cell_type": "markdown",
   "metadata": {},
   "source": [
    "#### Importation of the module"
   ]
  },
  {
   "cell_type": "code",
   "execution_count": 5,
   "metadata": {},
   "outputs": [],
   "source": [
    "import sys\n",
    "sys.path.append('../')\n",
    "\n",
    "from main import *"
   ]
  },
  {
   "cell_type": "code",
   "execution_count": 6,
   "metadata": {},
   "outputs": [
    {
     "name": "stdout",
     "output_type": "stream",
     "text": [
      "Model created \n",
      " \n",
      "To add metabolite, use .metabolites.add_meta \n",
      "To add reaction,   use .reactions.add_reaction\n",
      "Model created \n",
      " \n",
      "To add metabolite, use .metabolites.add_meta \n",
      "To add reaction,   use .reactions.add_reaction\n"
     ]
    }
   ],
   "source": [
    "momo = MODEL()\n",
    "\n",
    "momo.read_SBtab()"
   ]
  },
  {
   "cell_type": "code",
   "execution_count": 7,
   "metadata": {},
   "outputs": [
    {
     "name": "stdout",
     "output_type": "stream",
     "text": [
      "Name of the removed parameter : Temperature\n"
     ]
    }
   ],
   "source": [
    "momo.enzymes.add_to_all_reaction()\n",
    "momo.parameters.add_enzymes()\n",
    "\n",
    "momo.parameters.add_externals()\n",
    "\n",
    "momo.elasticity.s.half_satured()\n",
    "\n",
    "momo.parameters.remove(\"Temperature\")"
   ]
  },
  {
   "cell_type": "code",
   "execution_count": 8,
   "metadata": {},
   "outputs": [
    {
     "name": "stdout",
     "output_type": "stream",
     "text": [
      "/home/alequertier/Documents/BadAss/Notebooks\n"
     ]
    },
    {
     "data": {
      "application/vnd.jupyter.widget-view+json": {
       "model_id": "4433598a1c1f4fd29ce21f6973513e0e",
       "version_major": 2,
       "version_minor": 0
      },
      "text/plain": [
       "Builder(height=600, metabolite_data={'acald_c': 0.02047251262120519, 'coa_c': -0.0006691986455819534, 'nad_c':…"
      ]
     },
     "metadata": {},
     "output_type": "display_data"
    }
   ],
   "source": [
    "momo.escher_meta(result=\"MI\")"
   ]
  },
  {
   "cell_type": "code",
   "execution_count": 2,
   "metadata": {},
   "outputs": [],
   "source": [
    "import escher\n",
    "from escher import Builder\n",
    "import cobra\n",
    "from time import sleep\n",
    "\n",
    "escher.rc['never_ask_before_quit'] = True\n",
    "\n",
    "builder = Builder(\n",
    "    height=600,\n",
    "    map_name=None,\n",
    "    model_json='../Exemples/SBTab/e_coli_core.json',\n",
    "    map_json='../Exemples/SBTab/e_coli_core.Core metabolism.json',\n",
    ")"
   ]
  },
  {
   "cell_type": "code",
   "execution_count": 3,
   "metadata": {},
   "outputs": [
    {
     "data": {
      "application/vnd.jupyter.widget-view+json": {
       "model_id": "c7aec341e31e47ff9cf0cf4128a7f6f3",
       "version_major": 2,
       "version_minor": 0
      },
      "text/plain": [
       "Builder(height=600, never_ask_before_quit=True)"
      ]
     },
     "metadata": {},
     "output_type": "display_data"
    }
   ],
   "source": [
    "builder"
   ]
  },
  {
   "cell_type": "code",
   "execution_count": null,
   "metadata": {},
   "outputs": [
    {
     "data": {
      "text/plain": [
       "[{'type': 'min', 'color': '#fffaf0', 'size': 20},\n",
       " {'type': 'median', 'color': '#f1c470', 'size': 30},\n",
       " {'type': 'max', 'color': '#800000', 'size': 40}]"
      ]
     },
     "execution_count": 8,
     "metadata": {},
     "output_type": "execute_result"
    }
   ],
   "source": [
    "builder.metabolite_scale"
   ]
  },
  {
   "cell_type": "code",
   "execution_count": null,
   "metadata": {},
   "outputs": [],
   "source": [
    "\n",
    "\n",
    "# Set the min display\n",
    "builder.metabolite_scale[0]['color'] = 'rgba(100, 0, 0, 0.5)'\n",
    "builder.metabolite_scale[0]['size'] = '30'\n",
    "# Set the max\n",
    "builder.metabolite_scale[2]['color'] = 'rgba(0, 0, 100, 0.5)'\n",
    "builder.metabolite_scale[2]['size'] = '30'\n",
    "\n",
    "builder.metabolite_scale[0] = { 'type': 'value', 'value': 1.0, 'color': 'rgba(0, 0, 100, 0.5)', 'size': 40}\n",
    "builder.metabolite_scale[2] = { 'type': 'value', 'value': -1.0, 'color': 'rgba(100, 0, 0, 0.5)', 'size': 40}\n",
    "# Set the 0 display\n",
    "builder.metabolite_scale[1] = { 'type': 'value', 'value': 0.0, 'color': 'rgba(0, 100, 0, 0.5)', 'size': 0}"
   ]
  },
  {
   "cell_type": "code",
   "execution_count": null,
   "metadata": {},
   "outputs": [],
   "source": [
    "builder.metabolite_no_data_size = 0\n",
    "\n",
    "builder.metabolite_scale = [\n",
    "    { 'type': 'min', 'color': 'rgba(100, 0, 0, 1.0)', 'size': 40},\n",
    "    { 'type': 'value', 'value': 0.0, 'color': 'rgba(100, 0, 100, 0.0)', 'size': 20},\n",
    "    { 'type': 'max', 'color': 'rgba(0, 0, 100, 1.0)', 'size': 40}\n",
    "  ]"
   ]
  },
  {
   "cell_type": "code",
   "execution_count": null,
   "metadata": {},
   "outputs": [
    {
     "data": {
      "application/vnd.jupyter.widget-view+json": {
       "model_id": "5158ee96f3874082b9edca52255695ed",
       "version_major": 2,
       "version_minor": 0
      },
      "text/plain": [
       "Builder(allow_building_duplicate_reactions=False, and_method_in_gene_reaction_rule='mean', cofactors=['atp', '…"
      ]
     },
     "metadata": {},
     "output_type": "display_data"
    }
   ],
   "source": [
    "builder"
   ]
  }
 ],
 "metadata": {
  "kernelspec": {
   "display_name": "Python 3",
   "language": "python",
   "name": "python3"
  },
  "language_info": {
   "codemirror_mode": {
    "name": "ipython",
    "version": 3
   },
   "file_extension": ".py",
   "mimetype": "text/x-python",
   "name": "python",
   "nbconvert_exporter": "python",
   "pygments_lexer": "ipython3",
   "version": "3.10.12"
  }
 },
 "nbformat": 4,
 "nbformat_minor": 2
}
