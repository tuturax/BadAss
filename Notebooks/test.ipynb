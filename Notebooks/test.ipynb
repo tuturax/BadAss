{
 "cells": [
  {
   "cell_type": "markdown",
   "metadata": {},
   "source": [
    "# <font color='red'> [1] Build the model and the structure of the metabolic network </font> "
   ]
  },
  {
   "cell_type": "markdown",
   "metadata": {},
   "source": [
    "## <font color='green'> [1.1] Importation of the package </font> "
   ]
  },
  {
   "cell_type": "code",
   "execution_count": 1,
   "metadata": {},
   "outputs": [],
   "source": [
    "import sys\n",
    "sys.path.append('../')\n",
    "\n",
    "from main import *"
   ]
  },
  {
   "cell_type": "markdown",
   "metadata": {},
   "source": [
    "## <font color='green'> [1.2] Creation of an empty model </font> "
   ]
  },
  {
   "cell_type": "markdown",
   "metadata": {},
   "source": [
    "Let's create a model as a variable"
   ]
  },
  {
   "cell_type": "code",
   "execution_count": 2,
   "metadata": {},
   "outputs": [
    {
     "name": "stdout",
     "output_type": "stream",
     "text": [
      " \n"
     ]
    }
   ],
   "source": [
    "model = MODEL()"
   ]
  },
  {
   "cell_type": "markdown",
   "metadata": {},
   "source": [
    "## <font color='green'> [1.3] Load of an existing model </font> "
   ]
  },
  {
   "cell_type": "markdown",
   "metadata": {},
   "source": [
    "Instead of creating a model from nothing, you can load an existing model."
   ]
  },
  {
   "cell_type": "markdown",
   "metadata": {},
   "source": [
    "You can create a linear network of $n$ metabolites"
   ]
  },
  {
   "cell_type": "code",
   "execution_count": 3,
   "metadata": {},
   "outputs": [
    {
     "name": "stdout",
     "output_type": "stream",
     "text": [
      " \n"
     ]
    }
   ],
   "source": [
    "model.creat_linear(n=4)"
   ]
  },
  {
   "cell_type": "markdown",
   "metadata": {},
   "source": [
    "By default, the first and last metabolites are external"
   ]
  },
  {
   "cell_type": "code",
   "execution_count": 4,
   "metadata": {},
   "outputs": [
    {
     "data": {
      "text/html": [
       "<div>\n",
       "<style scoped>\n",
       "    .dataframe tbody tr th:only-of-type {\n",
       "        vertical-align: middle;\n",
       "    }\n",
       "\n",
       "    .dataframe tbody tr th {\n",
       "        vertical-align: top;\n",
       "    }\n",
       "\n",
       "    .dataframe thead th {\n",
       "        text-align: right;\n",
       "    }\n",
       "</style>\n",
       "<table border=\"1\" class=\"dataframe\">\n",
       "  <thead>\n",
       "    <tr style=\"text-align: right;\">\n",
       "      <th></th>\n",
       "      <th>External</th>\n",
       "      <th>Concentration</th>\n",
       "      <th>Unit</th>\n",
       "    </tr>\n",
       "  </thead>\n",
       "  <tbody>\n",
       "    <tr>\n",
       "      <th>meta_0</th>\n",
       "      <td>True</td>\n",
       "      <td>1.0</td>\n",
       "      <td>mmol/gDW</td>\n",
       "    </tr>\n",
       "    <tr>\n",
       "      <th>meta_1</th>\n",
       "      <td>False</td>\n",
       "      <td>1.0</td>\n",
       "      <td>mmol/gDW</td>\n",
       "    </tr>\n",
       "    <tr>\n",
       "      <th>meta_2</th>\n",
       "      <td>False</td>\n",
       "      <td>1.0</td>\n",
       "      <td>mmol/gDW</td>\n",
       "    </tr>\n",
       "    <tr>\n",
       "      <th>meta_3</th>\n",
       "      <td>True</td>\n",
       "      <td>1.0</td>\n",
       "      <td>mmol/gDW</td>\n",
       "    </tr>\n",
       "  </tbody>\n",
       "</table>\n",
       "</div>"
      ],
      "text/plain": [
       "        External  Concentration      Unit\n",
       "meta_0      True            1.0  mmol/gDW\n",
       "meta_1     False            1.0  mmol/gDW\n",
       "meta_2     False            1.0  mmol/gDW\n",
       "meta_3      True            1.0  mmol/gDW"
      ]
     },
     "execution_count": 4,
     "metadata": {},
     "output_type": "execute_result"
    }
   ],
   "source": [
    "model.metabolites.df"
   ]
  },
  {
   "cell_type": "code",
   "execution_count": 5,
   "metadata": {},
   "outputs": [
    {
     "data": {
      "text/html": [
       "<div>\n",
       "<style scoped>\n",
       "    .dataframe tbody tr th:only-of-type {\n",
       "        vertical-align: middle;\n",
       "    }\n",
       "\n",
       "    .dataframe tbody tr th {\n",
       "        vertical-align: top;\n",
       "    }\n",
       "\n",
       "    .dataframe thead th {\n",
       "        text-align: right;\n",
       "    }\n",
       "</style>\n",
       "<table border=\"1\" class=\"dataframe\">\n",
       "  <thead>\n",
       "    <tr style=\"text-align: right;\">\n",
       "      <th></th>\n",
       "      <th>Metabolites</th>\n",
       "      <th>Equilibrium constant</th>\n",
       "      <th>Reversible</th>\n",
       "      <th>Flux</th>\n",
       "      <th>Unit</th>\n",
       "    </tr>\n",
       "  </thead>\n",
       "  <tbody>\n",
       "    <tr>\n",
       "      <th>reaction_0</th>\n",
       "      <td>{'meta_0': -1, 'meta_1': 1}</td>\n",
       "      <td>1.0</td>\n",
       "      <td>True</td>\n",
       "      <td>1.0</td>\n",
       "      <td>mmol/gDW/h</td>\n",
       "    </tr>\n",
       "    <tr>\n",
       "      <th>reaction_1</th>\n",
       "      <td>{'meta_1': -1, 'meta_2': 1}</td>\n",
       "      <td>1.0</td>\n",
       "      <td>True</td>\n",
       "      <td>1.0</td>\n",
       "      <td>mmol/gDW/h</td>\n",
       "    </tr>\n",
       "    <tr>\n",
       "      <th>reaction_2</th>\n",
       "      <td>{'meta_2': -1, 'meta_3': 1}</td>\n",
       "      <td>1.0</td>\n",
       "      <td>True</td>\n",
       "      <td>1.0</td>\n",
       "      <td>mmol/gDW/h</td>\n",
       "    </tr>\n",
       "  </tbody>\n",
       "</table>\n",
       "</div>"
      ],
      "text/plain": [
       "                            Metabolites  Equilibrium constant  Reversible  \\\n",
       "reaction_0  {'meta_0': -1, 'meta_1': 1}                   1.0        True   \n",
       "reaction_1  {'meta_1': -1, 'meta_2': 1}                   1.0        True   \n",
       "reaction_2  {'meta_2': -1, 'meta_3': 1}                   1.0        True   \n",
       "\n",
       "            Flux        Unit  \n",
       "reaction_0   1.0  mmol/gDW/h  \n",
       "reaction_1   1.0  mmol/gDW/h  \n",
       "reaction_2   1.0  mmol/gDW/h  "
      ]
     },
     "execution_count": 5,
     "metadata": {},
     "output_type": "execute_result"
    }
   ],
   "source": [
    "model.reactions.df"
   ]
  },
  {
   "cell_type": "markdown",
   "metadata": {},
   "source": [
    "The stoichiometric matrix is already build"
   ]
  },
  {
   "cell_type": "code",
   "execution_count": 6,
   "metadata": {},
   "outputs": [
    {
     "data": {
      "text/html": [
       "<div>\n",
       "<style scoped>\n",
       "    .dataframe tbody tr th:only-of-type {\n",
       "        vertical-align: middle;\n",
       "    }\n",
       "\n",
       "    .dataframe tbody tr th {\n",
       "        vertical-align: top;\n",
       "    }\n",
       "\n",
       "    .dataframe thead th {\n",
       "        text-align: right;\n",
       "    }\n",
       "</style>\n",
       "<table border=\"1\" class=\"dataframe\">\n",
       "  <thead>\n",
       "    <tr style=\"text-align: right;\">\n",
       "      <th></th>\n",
       "      <th>reaction_0</th>\n",
       "      <th>reaction_1</th>\n",
       "      <th>reaction_2</th>\n",
       "    </tr>\n",
       "  </thead>\n",
       "  <tbody>\n",
       "    <tr>\n",
       "      <th>meta_0</th>\n",
       "      <td>-1</td>\n",
       "      <td>0</td>\n",
       "      <td>0</td>\n",
       "    </tr>\n",
       "    <tr>\n",
       "      <th>meta_1</th>\n",
       "      <td>1</td>\n",
       "      <td>-1</td>\n",
       "      <td>0</td>\n",
       "    </tr>\n",
       "    <tr>\n",
       "      <th>meta_2</th>\n",
       "      <td>0</td>\n",
       "      <td>1</td>\n",
       "      <td>-1</td>\n",
       "    </tr>\n",
       "    <tr>\n",
       "      <th>meta_3</th>\n",
       "      <td>0</td>\n",
       "      <td>0</td>\n",
       "      <td>1</td>\n",
       "    </tr>\n",
       "  </tbody>\n",
       "</table>\n",
       "</div>"
      ],
      "text/plain": [
       "        reaction_0  reaction_1  reaction_2\n",
       "meta_0          -1           0           0\n",
       "meta_1           1          -1           0\n",
       "meta_2           0           1          -1\n",
       "meta_3           0           0           1"
      ]
     },
     "execution_count": 6,
     "metadata": {},
     "output_type": "execute_result"
    }
   ],
   "source": [
    "model.N"
   ]
  },
  {
   "cell_type": "markdown",
   "metadata": {},
   "source": [
    "You can also load models from SBML, COBRA and SBTAB with model.load..."
   ]
  },
  {
   "cell_type": "markdown",
   "metadata": {},
   "source": [
    "## <font color='green'> [1.4] Change a reaction and metabolite </font> "
   ]
  },
  {
   "cell_type": "markdown",
   "metadata": {},
   "source": [
    "Modifying the dictionary of the metabolite in the dataframe of reaction change also the dataframes of metabolites and stoichiometry"
   ]
  },
  {
   "cell_type": "code",
   "execution_count": 7,
   "metadata": {},
   "outputs": [],
   "source": [
    "model.reactions.change(name=\"reaction_0\", metabolites={'new_meta':-2, 'meta_1':1}, k_eq=1.5, reversible=False, flux=1.5)"
   ]
  },
  {
   "cell_type": "code",
   "execution_count": 8,
   "metadata": {},
   "outputs": [
    {
     "data": {
      "text/html": [
       "<div>\n",
       "<style scoped>\n",
       "    .dataframe tbody tr th:only-of-type {\n",
       "        vertical-align: middle;\n",
       "    }\n",
       "\n",
       "    .dataframe tbody tr th {\n",
       "        vertical-align: top;\n",
       "    }\n",
       "\n",
       "    .dataframe thead th {\n",
       "        text-align: right;\n",
       "    }\n",
       "</style>\n",
       "<table border=\"1\" class=\"dataframe\">\n",
       "  <thead>\n",
       "    <tr style=\"text-align: right;\">\n",
       "      <th></th>\n",
       "      <th>Metabolites</th>\n",
       "      <th>Equilibrium constant</th>\n",
       "      <th>Reversible</th>\n",
       "      <th>Flux</th>\n",
       "      <th>Unit</th>\n",
       "    </tr>\n",
       "  </thead>\n",
       "  <tbody>\n",
       "    <tr>\n",
       "      <th>reaction_0</th>\n",
       "      <td>{'new_meta': -2, 'meta_1': 1}</td>\n",
       "      <td>1.5</td>\n",
       "      <td>False</td>\n",
       "      <td>1.5</td>\n",
       "      <td>mmol/gDW/h</td>\n",
       "    </tr>\n",
       "    <tr>\n",
       "      <th>reaction_1</th>\n",
       "      <td>{'meta_1': -1, 'meta_2': 1}</td>\n",
       "      <td>1.0</td>\n",
       "      <td>True</td>\n",
       "      <td>1.0</td>\n",
       "      <td>mmol/gDW/h</td>\n",
       "    </tr>\n",
       "    <tr>\n",
       "      <th>reaction_2</th>\n",
       "      <td>{'meta_2': -1, 'meta_3': 1}</td>\n",
       "      <td>1.0</td>\n",
       "      <td>True</td>\n",
       "      <td>1.0</td>\n",
       "      <td>mmol/gDW/h</td>\n",
       "    </tr>\n",
       "  </tbody>\n",
       "</table>\n",
       "</div>"
      ],
      "text/plain": [
       "                              Metabolites  Equilibrium constant  Reversible  \\\n",
       "reaction_0  {'new_meta': -2, 'meta_1': 1}                   1.5       False   \n",
       "reaction_1    {'meta_1': -1, 'meta_2': 1}                   1.0        True   \n",
       "reaction_2    {'meta_2': -1, 'meta_3': 1}                   1.0        True   \n",
       "\n",
       "            Flux        Unit  \n",
       "reaction_0   1.5  mmol/gDW/h  \n",
       "reaction_1   1.0  mmol/gDW/h  \n",
       "reaction_2   1.0  mmol/gDW/h  "
      ]
     },
     "execution_count": 8,
     "metadata": {},
     "output_type": "execute_result"
    }
   ],
   "source": [
    "model.reactions.df"
   ]
  },
  {
   "cell_type": "code",
   "execution_count": 9,
   "metadata": {},
   "outputs": [
    {
     "data": {
      "text/html": [
       "<div>\n",
       "<style scoped>\n",
       "    .dataframe tbody tr th:only-of-type {\n",
       "        vertical-align: middle;\n",
       "    }\n",
       "\n",
       "    .dataframe tbody tr th {\n",
       "        vertical-align: top;\n",
       "    }\n",
       "\n",
       "    .dataframe thead th {\n",
       "        text-align: right;\n",
       "    }\n",
       "</style>\n",
       "<table border=\"1\" class=\"dataframe\">\n",
       "  <thead>\n",
       "    <tr style=\"text-align: right;\">\n",
       "      <th></th>\n",
       "      <th>External</th>\n",
       "      <th>Concentration</th>\n",
       "      <th>Unit</th>\n",
       "    </tr>\n",
       "  </thead>\n",
       "  <tbody>\n",
       "    <tr>\n",
       "      <th>meta_0</th>\n",
       "      <td>True</td>\n",
       "      <td>1.0</td>\n",
       "      <td>mmol/gDW</td>\n",
       "    </tr>\n",
       "    <tr>\n",
       "      <th>meta_1</th>\n",
       "      <td>False</td>\n",
       "      <td>1.0</td>\n",
       "      <td>mmol/gDW</td>\n",
       "    </tr>\n",
       "    <tr>\n",
       "      <th>meta_2</th>\n",
       "      <td>False</td>\n",
       "      <td>1.0</td>\n",
       "      <td>mmol/gDW</td>\n",
       "    </tr>\n",
       "    <tr>\n",
       "      <th>meta_3</th>\n",
       "      <td>True</td>\n",
       "      <td>1.0</td>\n",
       "      <td>mmol/gDW</td>\n",
       "    </tr>\n",
       "    <tr>\n",
       "      <th>new_meta</th>\n",
       "      <td>False</td>\n",
       "      <td>1.0</td>\n",
       "      <td>mmol/gDW</td>\n",
       "    </tr>\n",
       "  </tbody>\n",
       "</table>\n",
       "</div>"
      ],
      "text/plain": [
       "          External  Concentration      Unit\n",
       "meta_0        True            1.0  mmol/gDW\n",
       "meta_1       False            1.0  mmol/gDW\n",
       "meta_2       False            1.0  mmol/gDW\n",
       "meta_3        True            1.0  mmol/gDW\n",
       "new_meta     False            1.0  mmol/gDW"
      ]
     },
     "execution_count": 9,
     "metadata": {},
     "output_type": "execute_result"
    }
   ],
   "source": [
    "model.metabolites.df"
   ]
  },
  {
   "cell_type": "code",
   "execution_count": 10,
   "metadata": {},
   "outputs": [
    {
     "data": {
      "text/html": [
       "<div>\n",
       "<style scoped>\n",
       "    .dataframe tbody tr th:only-of-type {\n",
       "        vertical-align: middle;\n",
       "    }\n",
       "\n",
       "    .dataframe tbody tr th {\n",
       "        vertical-align: top;\n",
       "    }\n",
       "\n",
       "    .dataframe thead th {\n",
       "        text-align: right;\n",
       "    }\n",
       "</style>\n",
       "<table border=\"1\" class=\"dataframe\">\n",
       "  <thead>\n",
       "    <tr style=\"text-align: right;\">\n",
       "      <th></th>\n",
       "      <th>reaction_0</th>\n",
       "      <th>reaction_1</th>\n",
       "      <th>reaction_2</th>\n",
       "    </tr>\n",
       "  </thead>\n",
       "  <tbody>\n",
       "    <tr>\n",
       "      <th>meta_0</th>\n",
       "      <td>0.0</td>\n",
       "      <td>0.0</td>\n",
       "      <td>0.0</td>\n",
       "    </tr>\n",
       "    <tr>\n",
       "      <th>meta_1</th>\n",
       "      <td>1.0</td>\n",
       "      <td>-1.0</td>\n",
       "      <td>0.0</td>\n",
       "    </tr>\n",
       "    <tr>\n",
       "      <th>meta_2</th>\n",
       "      <td>0.0</td>\n",
       "      <td>1.0</td>\n",
       "      <td>-1.0</td>\n",
       "    </tr>\n",
       "    <tr>\n",
       "      <th>meta_3</th>\n",
       "      <td>0.0</td>\n",
       "      <td>0.0</td>\n",
       "      <td>1.0</td>\n",
       "    </tr>\n",
       "    <tr>\n",
       "      <th>new_meta</th>\n",
       "      <td>-2.0</td>\n",
       "      <td>0.0</td>\n",
       "      <td>0.0</td>\n",
       "    </tr>\n",
       "  </tbody>\n",
       "</table>\n",
       "</div>"
      ],
      "text/plain": [
       "          reaction_0  reaction_1  reaction_2\n",
       "meta_0           0.0         0.0         0.0\n",
       "meta_1           1.0        -1.0         0.0\n",
       "meta_2           0.0         1.0        -1.0\n",
       "meta_3           0.0         0.0         1.0\n",
       "new_meta        -2.0         0.0         0.0"
      ]
     },
     "execution_count": 10,
     "metadata": {},
     "output_type": "execute_result"
    }
   ],
   "source": [
    "model.N"
   ]
  },
  {
   "cell_type": "markdown",
   "metadata": {},
   "source": [
    "The same for the metabolite"
   ]
  },
  {
   "cell_type": "code",
   "execution_count": 11,
   "metadata": {},
   "outputs": [],
   "source": [
    "model.metabolites.change(\"meta_0\", concentration=2.0)"
   ]
  },
  {
   "cell_type": "code",
   "execution_count": 12,
   "metadata": {},
   "outputs": [
    {
     "data": {
      "text/html": [
       "<div>\n",
       "<style scoped>\n",
       "    .dataframe tbody tr th:only-of-type {\n",
       "        vertical-align: middle;\n",
       "    }\n",
       "\n",
       "    .dataframe tbody tr th {\n",
       "        vertical-align: top;\n",
       "    }\n",
       "\n",
       "    .dataframe thead th {\n",
       "        text-align: right;\n",
       "    }\n",
       "</style>\n",
       "<table border=\"1\" class=\"dataframe\">\n",
       "  <thead>\n",
       "    <tr style=\"text-align: right;\">\n",
       "      <th></th>\n",
       "      <th>External</th>\n",
       "      <th>Concentration</th>\n",
       "      <th>Unit</th>\n",
       "    </tr>\n",
       "  </thead>\n",
       "  <tbody>\n",
       "    <tr>\n",
       "      <th>meta_0</th>\n",
       "      <td>True</td>\n",
       "      <td>2.0</td>\n",
       "      <td>mmol/gDW</td>\n",
       "    </tr>\n",
       "    <tr>\n",
       "      <th>meta_1</th>\n",
       "      <td>False</td>\n",
       "      <td>1.0</td>\n",
       "      <td>mmol/gDW</td>\n",
       "    </tr>\n",
       "    <tr>\n",
       "      <th>meta_2</th>\n",
       "      <td>False</td>\n",
       "      <td>1.0</td>\n",
       "      <td>mmol/gDW</td>\n",
       "    </tr>\n",
       "    <tr>\n",
       "      <th>meta_3</th>\n",
       "      <td>True</td>\n",
       "      <td>1.0</td>\n",
       "      <td>mmol/gDW</td>\n",
       "    </tr>\n",
       "    <tr>\n",
       "      <th>new_meta</th>\n",
       "      <td>False</td>\n",
       "      <td>1.0</td>\n",
       "      <td>mmol/gDW</td>\n",
       "    </tr>\n",
       "  </tbody>\n",
       "</table>\n",
       "</div>"
      ],
      "text/plain": [
       "          External  Concentration      Unit\n",
       "meta_0        True            2.0  mmol/gDW\n",
       "meta_1       False            1.0  mmol/gDW\n",
       "meta_2       False            1.0  mmol/gDW\n",
       "meta_3        True            1.0  mmol/gDW\n",
       "new_meta     False            1.0  mmol/gDW"
      ]
     },
     "execution_count": 12,
     "metadata": {},
     "output_type": "execute_result"
    }
   ],
   "source": [
    "model.metabolites.df"
   ]
  },
  {
   "cell_type": "markdown",
   "metadata": {},
   "source": [
    "## <font color='green'> [1.5] Add reaction and metabolite </font> "
   ]
  },
  {
   "cell_type": "markdown",
   "metadata": {},
   "source": [
    "To add a reaction, only its name as input is indispensable, but adding a dictionary of the metabolite used in the reaction as a key linked to their stoichiometric coefficients allows the module to add automatically those metabolites to the metabolite dataframe and their coefficient to the stoichiometric matrix"
   ]
  },
  {
   "cell_type": "code",
   "execution_count": 13,
   "metadata": {},
   "outputs": [],
   "source": [
    "model.metabolites.add(name = \"H2O\", external = True, concentration = 1.0)\n",
    "\n",
    "metabolite_reaction = {\"H2O\" : 1.0,\n",
    "                       \"H2\"  :-1.0,\n",
    "                       \"O2\"  :-0.5}\n",
    "\n",
    "model.reactions.add(name = \"combustion\", metabolites = metabolite_reaction, k_eq = 1.0, flux=1.0)"
   ]
  },
  {
   "cell_type": "code",
   "execution_count": 14,
   "metadata": {},
   "outputs": [
    {
     "data": {
      "text/html": [
       "<div>\n",
       "<style scoped>\n",
       "    .dataframe tbody tr th:only-of-type {\n",
       "        vertical-align: middle;\n",
       "    }\n",
       "\n",
       "    .dataframe tbody tr th {\n",
       "        vertical-align: top;\n",
       "    }\n",
       "\n",
       "    .dataframe thead th {\n",
       "        text-align: right;\n",
       "    }\n",
       "</style>\n",
       "<table border=\"1\" class=\"dataframe\">\n",
       "  <thead>\n",
       "    <tr style=\"text-align: right;\">\n",
       "      <th></th>\n",
       "      <th>External</th>\n",
       "      <th>Concentration</th>\n",
       "      <th>Unit</th>\n",
       "    </tr>\n",
       "  </thead>\n",
       "  <tbody>\n",
       "    <tr>\n",
       "      <th>meta_0</th>\n",
       "      <td>True</td>\n",
       "      <td>2.0</td>\n",
       "      <td>mmol/gDW</td>\n",
       "    </tr>\n",
       "    <tr>\n",
       "      <th>meta_1</th>\n",
       "      <td>False</td>\n",
       "      <td>1.0</td>\n",
       "      <td>mmol/gDW</td>\n",
       "    </tr>\n",
       "    <tr>\n",
       "      <th>meta_2</th>\n",
       "      <td>False</td>\n",
       "      <td>1.0</td>\n",
       "      <td>mmol/gDW</td>\n",
       "    </tr>\n",
       "    <tr>\n",
       "      <th>meta_3</th>\n",
       "      <td>True</td>\n",
       "      <td>1.0</td>\n",
       "      <td>mmol/gDW</td>\n",
       "    </tr>\n",
       "    <tr>\n",
       "      <th>new_meta</th>\n",
       "      <td>False</td>\n",
       "      <td>1.0</td>\n",
       "      <td>mmol/gDW</td>\n",
       "    </tr>\n",
       "    <tr>\n",
       "      <th>H2O</th>\n",
       "      <td>True</td>\n",
       "      <td>1.0</td>\n",
       "      <td>mmol/gDW</td>\n",
       "    </tr>\n",
       "    <tr>\n",
       "      <th>H2</th>\n",
       "      <td>False</td>\n",
       "      <td>1.0</td>\n",
       "      <td>mmol/gDW</td>\n",
       "    </tr>\n",
       "    <tr>\n",
       "      <th>O2</th>\n",
       "      <td>False</td>\n",
       "      <td>1.0</td>\n",
       "      <td>mmol/gDW</td>\n",
       "    </tr>\n",
       "  </tbody>\n",
       "</table>\n",
       "</div>"
      ],
      "text/plain": [
       "          External  Concentration      Unit\n",
       "meta_0        True            2.0  mmol/gDW\n",
       "meta_1       False            1.0  mmol/gDW\n",
       "meta_2       False            1.0  mmol/gDW\n",
       "meta_3        True            1.0  mmol/gDW\n",
       "new_meta     False            1.0  mmol/gDW\n",
       "H2O           True            1.0  mmol/gDW\n",
       "H2           False            1.0  mmol/gDW\n",
       "O2           False            1.0  mmol/gDW"
      ]
     },
     "execution_count": 14,
     "metadata": {},
     "output_type": "execute_result"
    }
   ],
   "source": [
    "model.metabolites.df"
   ]
  },
  {
   "cell_type": "markdown",
   "metadata": {},
   "source": [
    "If you add a reaction that is already in the model, it is called the model. reactions.change() instead "
   ]
  },
  {
   "cell_type": "code",
   "execution_count": 15,
   "metadata": {},
   "outputs": [],
   "source": [
    "metabolite_reaction2 = {\"C\" : -1.0,\n",
    "                       \"O2\"  : -1.0,\n",
    "                       \"CO2\"  : 1.0}\n",
    "\n",
    "model.reactions.add(name = \"combustion\", metabolites = metabolite_reaction2, k_eq = 1.0, flux=1.0)"
   ]
  },
  {
   "cell_type": "code",
   "execution_count": 16,
   "metadata": {},
   "outputs": [
    {
     "data": {
      "text/html": [
       "<div>\n",
       "<style scoped>\n",
       "    .dataframe tbody tr th:only-of-type {\n",
       "        vertical-align: middle;\n",
       "    }\n",
       "\n",
       "    .dataframe tbody tr th {\n",
       "        vertical-align: top;\n",
       "    }\n",
       "\n",
       "    .dataframe thead th {\n",
       "        text-align: right;\n",
       "    }\n",
       "</style>\n",
       "<table border=\"1\" class=\"dataframe\">\n",
       "  <thead>\n",
       "    <tr style=\"text-align: right;\">\n",
       "      <th></th>\n",
       "      <th>Metabolites</th>\n",
       "      <th>Equilibrium constant</th>\n",
       "      <th>Reversible</th>\n",
       "      <th>Flux</th>\n",
       "      <th>Unit</th>\n",
       "    </tr>\n",
       "  </thead>\n",
       "  <tbody>\n",
       "    <tr>\n",
       "      <th>reaction_0</th>\n",
       "      <td>{'new_meta': -2, 'meta_1': 1}</td>\n",
       "      <td>1.5</td>\n",
       "      <td>False</td>\n",
       "      <td>1.5</td>\n",
       "      <td>mmol/gDW/h</td>\n",
       "    </tr>\n",
       "    <tr>\n",
       "      <th>reaction_1</th>\n",
       "      <td>{'meta_1': -1, 'meta_2': 1}</td>\n",
       "      <td>1.0</td>\n",
       "      <td>True</td>\n",
       "      <td>1.0</td>\n",
       "      <td>mmol/gDW/h</td>\n",
       "    </tr>\n",
       "    <tr>\n",
       "      <th>reaction_2</th>\n",
       "      <td>{'meta_2': -1, 'meta_3': 1}</td>\n",
       "      <td>1.0</td>\n",
       "      <td>True</td>\n",
       "      <td>1.0</td>\n",
       "      <td>mmol/gDW/h</td>\n",
       "    </tr>\n",
       "    <tr>\n",
       "      <th>combustion</th>\n",
       "      <td>{'C': -1.0, 'O2': -1.0, 'CO2': 1.0}</td>\n",
       "      <td>1.0</td>\n",
       "      <td>True</td>\n",
       "      <td>1.0</td>\n",
       "      <td>mmol/gDW/h</td>\n",
       "    </tr>\n",
       "  </tbody>\n",
       "</table>\n",
       "</div>"
      ],
      "text/plain": [
       "                                    Metabolites  Equilibrium constant  \\\n",
       "reaction_0        {'new_meta': -2, 'meta_1': 1}                   1.5   \n",
       "reaction_1          {'meta_1': -1, 'meta_2': 1}                   1.0   \n",
       "reaction_2          {'meta_2': -1, 'meta_3': 1}                   1.0   \n",
       "combustion  {'C': -1.0, 'O2': -1.0, 'CO2': 1.0}                   1.0   \n",
       "\n",
       "            Reversible  Flux        Unit  \n",
       "reaction_0       False   1.5  mmol/gDW/h  \n",
       "reaction_1        True   1.0  mmol/gDW/h  \n",
       "reaction_2        True   1.0  mmol/gDW/h  \n",
       "combustion        True   1.0  mmol/gDW/h  "
      ]
     },
     "execution_count": 16,
     "metadata": {},
     "output_type": "execute_result"
    }
   ],
   "source": [
    "model.reactions.df"
   ]
  },
  {
   "cell_type": "markdown",
   "metadata": {},
   "source": [
    "Add a reaction with specified metabolite and stoichiometric coefficient automatically adds them to the model"
   ]
  },
  {
   "cell_type": "code",
   "execution_count": 17,
   "metadata": {},
   "outputs": [
    {
     "data": {
      "text/html": [
       "<div>\n",
       "<style scoped>\n",
       "    .dataframe tbody tr th:only-of-type {\n",
       "        vertical-align: middle;\n",
       "    }\n",
       "\n",
       "    .dataframe tbody tr th {\n",
       "        vertical-align: top;\n",
       "    }\n",
       "\n",
       "    .dataframe thead th {\n",
       "        text-align: right;\n",
       "    }\n",
       "</style>\n",
       "<table border=\"1\" class=\"dataframe\">\n",
       "  <thead>\n",
       "    <tr style=\"text-align: right;\">\n",
       "      <th></th>\n",
       "      <th>reaction_0</th>\n",
       "      <th>reaction_1</th>\n",
       "      <th>reaction_2</th>\n",
       "      <th>combustion</th>\n",
       "    </tr>\n",
       "  </thead>\n",
       "  <tbody>\n",
       "    <tr>\n",
       "      <th>meta_0</th>\n",
       "      <td>0.0</td>\n",
       "      <td>0.0</td>\n",
       "      <td>0.0</td>\n",
       "      <td>0.0</td>\n",
       "    </tr>\n",
       "    <tr>\n",
       "      <th>meta_1</th>\n",
       "      <td>1.0</td>\n",
       "      <td>-1.0</td>\n",
       "      <td>0.0</td>\n",
       "      <td>0.0</td>\n",
       "    </tr>\n",
       "    <tr>\n",
       "      <th>meta_2</th>\n",
       "      <td>0.0</td>\n",
       "      <td>1.0</td>\n",
       "      <td>-1.0</td>\n",
       "      <td>0.0</td>\n",
       "    </tr>\n",
       "    <tr>\n",
       "      <th>meta_3</th>\n",
       "      <td>0.0</td>\n",
       "      <td>0.0</td>\n",
       "      <td>1.0</td>\n",
       "      <td>0.0</td>\n",
       "    </tr>\n",
       "    <tr>\n",
       "      <th>new_meta</th>\n",
       "      <td>-2.0</td>\n",
       "      <td>0.0</td>\n",
       "      <td>0.0</td>\n",
       "      <td>0.0</td>\n",
       "    </tr>\n",
       "    <tr>\n",
       "      <th>H2O</th>\n",
       "      <td>0.0</td>\n",
       "      <td>0.0</td>\n",
       "      <td>0.0</td>\n",
       "      <td>0.0</td>\n",
       "    </tr>\n",
       "    <tr>\n",
       "      <th>H2</th>\n",
       "      <td>0.0</td>\n",
       "      <td>0.0</td>\n",
       "      <td>0.0</td>\n",
       "      <td>0.0</td>\n",
       "    </tr>\n",
       "    <tr>\n",
       "      <th>O2</th>\n",
       "      <td>0.0</td>\n",
       "      <td>0.0</td>\n",
       "      <td>0.0</td>\n",
       "      <td>-1.0</td>\n",
       "    </tr>\n",
       "    <tr>\n",
       "      <th>C</th>\n",
       "      <td>0.0</td>\n",
       "      <td>0.0</td>\n",
       "      <td>0.0</td>\n",
       "      <td>-1.0</td>\n",
       "    </tr>\n",
       "    <tr>\n",
       "      <th>CO2</th>\n",
       "      <td>0.0</td>\n",
       "      <td>0.0</td>\n",
       "      <td>0.0</td>\n",
       "      <td>1.0</td>\n",
       "    </tr>\n",
       "  </tbody>\n",
       "</table>\n",
       "</div>"
      ],
      "text/plain": [
       "          reaction_0  reaction_1  reaction_2  combustion\n",
       "meta_0           0.0         0.0         0.0         0.0\n",
       "meta_1           1.0        -1.0         0.0         0.0\n",
       "meta_2           0.0         1.0        -1.0         0.0\n",
       "meta_3           0.0         0.0         1.0         0.0\n",
       "new_meta        -2.0         0.0         0.0         0.0\n",
       "H2O              0.0         0.0         0.0         0.0\n",
       "H2               0.0         0.0         0.0         0.0\n",
       "O2               0.0         0.0         0.0        -1.0\n",
       "C                0.0         0.0         0.0        -1.0\n",
       "CO2              0.0         0.0         0.0         1.0"
      ]
     },
     "execution_count": 17,
     "metadata": {},
     "output_type": "execute_result"
    }
   ],
   "source": [
    "model.N\n",
    "# Same\n",
    "model.Stoichio_matrix_pd"
   ]
  },
  {
   "cell_type": "markdown",
   "metadata": {},
   "source": [
    "## <font color='green'> [1.6] Removing a reaction and metabolite </font> "
   ]
  },
  {
   "cell_type": "markdown",
   "metadata": {},
   "source": [
    "It is also possible to remove a metabolite or a reaction from the model"
   ]
  },
  {
   "cell_type": "code",
   "execution_count": 18,
   "metadata": {},
   "outputs": [
    {
     "data": {
      "text/html": [
       "<div>\n",
       "<style scoped>\n",
       "    .dataframe tbody tr th:only-of-type {\n",
       "        vertical-align: middle;\n",
       "    }\n",
       "\n",
       "    .dataframe tbody tr th {\n",
       "        vertical-align: top;\n",
       "    }\n",
       "\n",
       "    .dataframe thead th {\n",
       "        text-align: right;\n",
       "    }\n",
       "</style>\n",
       "<table border=\"1\" class=\"dataframe\">\n",
       "  <thead>\n",
       "    <tr style=\"text-align: right;\">\n",
       "      <th></th>\n",
       "      <th>External</th>\n",
       "      <th>Concentration</th>\n",
       "      <th>Unit</th>\n",
       "    </tr>\n",
       "  </thead>\n",
       "  <tbody>\n",
       "    <tr>\n",
       "      <th>meta_0</th>\n",
       "      <td>True</td>\n",
       "      <td>2.0</td>\n",
       "      <td>mmol/gDW</td>\n",
       "    </tr>\n",
       "    <tr>\n",
       "      <th>meta_1</th>\n",
       "      <td>False</td>\n",
       "      <td>1.0</td>\n",
       "      <td>mmol/gDW</td>\n",
       "    </tr>\n",
       "    <tr>\n",
       "      <th>meta_2</th>\n",
       "      <td>False</td>\n",
       "      <td>1.0</td>\n",
       "      <td>mmol/gDW</td>\n",
       "    </tr>\n",
       "    <tr>\n",
       "      <th>meta_3</th>\n",
       "      <td>True</td>\n",
       "      <td>1.0</td>\n",
       "      <td>mmol/gDW</td>\n",
       "    </tr>\n",
       "    <tr>\n",
       "      <th>new_meta</th>\n",
       "      <td>False</td>\n",
       "      <td>1.0</td>\n",
       "      <td>mmol/gDW</td>\n",
       "    </tr>\n",
       "    <tr>\n",
       "      <th>H2O</th>\n",
       "      <td>True</td>\n",
       "      <td>1.0</td>\n",
       "      <td>mmol/gDW</td>\n",
       "    </tr>\n",
       "    <tr>\n",
       "      <th>H2</th>\n",
       "      <td>False</td>\n",
       "      <td>1.0</td>\n",
       "      <td>mmol/gDW</td>\n",
       "    </tr>\n",
       "    <tr>\n",
       "      <th>C</th>\n",
       "      <td>False</td>\n",
       "      <td>1.0</td>\n",
       "      <td>mmol/gDW</td>\n",
       "    </tr>\n",
       "    <tr>\n",
       "      <th>CO2</th>\n",
       "      <td>False</td>\n",
       "      <td>1.0</td>\n",
       "      <td>mmol/gDW</td>\n",
       "    </tr>\n",
       "  </tbody>\n",
       "</table>\n",
       "</div>"
      ],
      "text/plain": [
       "          External  Concentration      Unit\n",
       "meta_0        True            2.0  mmol/gDW\n",
       "meta_1       False            1.0  mmol/gDW\n",
       "meta_2       False            1.0  mmol/gDW\n",
       "meta_3        True            1.0  mmol/gDW\n",
       "new_meta     False            1.0  mmol/gDW\n",
       "H2O           True            1.0  mmol/gDW\n",
       "H2           False            1.0  mmol/gDW\n",
       "C            False            1.0  mmol/gDW\n",
       "CO2          False            1.0  mmol/gDW"
      ]
     },
     "execution_count": 18,
     "metadata": {},
     "output_type": "execute_result"
    }
   ],
   "source": [
    "model.metabolites.remove(\"O2\")\n",
    "model.metabolites.df"
   ]
  },
  {
   "cell_type": "markdown",
   "metadata": {},
   "source": [
    "Removing a metabolite or a reaction remove also every mention of it in the stoichiometric matrix and elasticities matrix\n",
    "\n",
    "Same for the mention of the metabolite on the reaction dataframe"
   ]
  },
  {
   "cell_type": "code",
   "execution_count": 19,
   "metadata": {},
   "outputs": [
    {
     "data": {
      "text/html": [
       "<div>\n",
       "<style scoped>\n",
       "    .dataframe tbody tr th:only-of-type {\n",
       "        vertical-align: middle;\n",
       "    }\n",
       "\n",
       "    .dataframe tbody tr th {\n",
       "        vertical-align: top;\n",
       "    }\n",
       "\n",
       "    .dataframe thead th {\n",
       "        text-align: right;\n",
       "    }\n",
       "</style>\n",
       "<table border=\"1\" class=\"dataframe\">\n",
       "  <thead>\n",
       "    <tr style=\"text-align: right;\">\n",
       "      <th></th>\n",
       "      <th>Metabolites</th>\n",
       "      <th>Equilibrium constant</th>\n",
       "      <th>Reversible</th>\n",
       "      <th>Flux</th>\n",
       "      <th>Unit</th>\n",
       "    </tr>\n",
       "  </thead>\n",
       "  <tbody>\n",
       "    <tr>\n",
       "      <th>reaction_0</th>\n",
       "      <td>{'new_meta': -2, 'meta_1': 1}</td>\n",
       "      <td>1.5</td>\n",
       "      <td>False</td>\n",
       "      <td>1.5</td>\n",
       "      <td>mmol/gDW/h</td>\n",
       "    </tr>\n",
       "    <tr>\n",
       "      <th>reaction_1</th>\n",
       "      <td>{'meta_1': -1, 'meta_2': 1}</td>\n",
       "      <td>1.0</td>\n",
       "      <td>True</td>\n",
       "      <td>1.0</td>\n",
       "      <td>mmol/gDW/h</td>\n",
       "    </tr>\n",
       "    <tr>\n",
       "      <th>reaction_2</th>\n",
       "      <td>{'meta_2': -1, 'meta_3': 1}</td>\n",
       "      <td>1.0</td>\n",
       "      <td>True</td>\n",
       "      <td>1.0</td>\n",
       "      <td>mmol/gDW/h</td>\n",
       "    </tr>\n",
       "    <tr>\n",
       "      <th>combustion</th>\n",
       "      <td>{'C': -1.0, 'CO2': 1.0}</td>\n",
       "      <td>1.0</td>\n",
       "      <td>True</td>\n",
       "      <td>1.0</td>\n",
       "      <td>mmol/gDW/h</td>\n",
       "    </tr>\n",
       "  </tbody>\n",
       "</table>\n",
       "</div>"
      ],
      "text/plain": [
       "                              Metabolites  Equilibrium constant  Reversible  \\\n",
       "reaction_0  {'new_meta': -2, 'meta_1': 1}                   1.5       False   \n",
       "reaction_1    {'meta_1': -1, 'meta_2': 1}                   1.0        True   \n",
       "reaction_2    {'meta_2': -1, 'meta_3': 1}                   1.0        True   \n",
       "combustion        {'C': -1.0, 'CO2': 1.0}                   1.0        True   \n",
       "\n",
       "            Flux        Unit  \n",
       "reaction_0   1.5  mmol/gDW/h  \n",
       "reaction_1   1.0  mmol/gDW/h  \n",
       "reaction_2   1.0  mmol/gDW/h  \n",
       "combustion   1.0  mmol/gDW/h  "
      ]
     },
     "execution_count": 19,
     "metadata": {},
     "output_type": "execute_result"
    }
   ],
   "source": [
    "model.reactions.df"
   ]
  },
  {
   "cell_type": "code",
   "execution_count": 20,
   "metadata": {},
   "outputs": [
    {
     "data": {
      "text/html": [
       "<div>\n",
       "<style scoped>\n",
       "    .dataframe tbody tr th:only-of-type {\n",
       "        vertical-align: middle;\n",
       "    }\n",
       "\n",
       "    .dataframe tbody tr th {\n",
       "        vertical-align: top;\n",
       "    }\n",
       "\n",
       "    .dataframe thead th {\n",
       "        text-align: right;\n",
       "    }\n",
       "</style>\n",
       "<table border=\"1\" class=\"dataframe\">\n",
       "  <thead>\n",
       "    <tr style=\"text-align: right;\">\n",
       "      <th></th>\n",
       "      <th>reaction_0</th>\n",
       "      <th>reaction_1</th>\n",
       "      <th>reaction_2</th>\n",
       "      <th>combustion</th>\n",
       "    </tr>\n",
       "  </thead>\n",
       "  <tbody>\n",
       "    <tr>\n",
       "      <th>meta_0</th>\n",
       "      <td>0.0</td>\n",
       "      <td>0.0</td>\n",
       "      <td>0.0</td>\n",
       "      <td>0.0</td>\n",
       "    </tr>\n",
       "    <tr>\n",
       "      <th>meta_1</th>\n",
       "      <td>1.0</td>\n",
       "      <td>-1.0</td>\n",
       "      <td>0.0</td>\n",
       "      <td>0.0</td>\n",
       "    </tr>\n",
       "    <tr>\n",
       "      <th>meta_2</th>\n",
       "      <td>0.0</td>\n",
       "      <td>1.0</td>\n",
       "      <td>-1.0</td>\n",
       "      <td>0.0</td>\n",
       "    </tr>\n",
       "    <tr>\n",
       "      <th>meta_3</th>\n",
       "      <td>0.0</td>\n",
       "      <td>0.0</td>\n",
       "      <td>1.0</td>\n",
       "      <td>0.0</td>\n",
       "    </tr>\n",
       "    <tr>\n",
       "      <th>new_meta</th>\n",
       "      <td>-2.0</td>\n",
       "      <td>0.0</td>\n",
       "      <td>0.0</td>\n",
       "      <td>0.0</td>\n",
       "    </tr>\n",
       "    <tr>\n",
       "      <th>H2O</th>\n",
       "      <td>0.0</td>\n",
       "      <td>0.0</td>\n",
       "      <td>0.0</td>\n",
       "      <td>0.0</td>\n",
       "    </tr>\n",
       "    <tr>\n",
       "      <th>H2</th>\n",
       "      <td>0.0</td>\n",
       "      <td>0.0</td>\n",
       "      <td>0.0</td>\n",
       "      <td>0.0</td>\n",
       "    </tr>\n",
       "    <tr>\n",
       "      <th>C</th>\n",
       "      <td>0.0</td>\n",
       "      <td>0.0</td>\n",
       "      <td>0.0</td>\n",
       "      <td>-1.0</td>\n",
       "    </tr>\n",
       "    <tr>\n",
       "      <th>CO2</th>\n",
       "      <td>0.0</td>\n",
       "      <td>0.0</td>\n",
       "      <td>0.0</td>\n",
       "      <td>1.0</td>\n",
       "    </tr>\n",
       "  </tbody>\n",
       "</table>\n",
       "</div>"
      ],
      "text/plain": [
       "          reaction_0  reaction_1  reaction_2  combustion\n",
       "meta_0           0.0         0.0         0.0         0.0\n",
       "meta_1           1.0        -1.0         0.0         0.0\n",
       "meta_2           0.0         1.0        -1.0         0.0\n",
       "meta_3           0.0         0.0         1.0         0.0\n",
       "new_meta        -2.0         0.0         0.0         0.0\n",
       "H2O              0.0         0.0         0.0         0.0\n",
       "H2               0.0         0.0         0.0         0.0\n",
       "C                0.0         0.0         0.0        -1.0\n",
       "CO2              0.0         0.0         0.0         1.0"
      ]
     },
     "execution_count": 20,
     "metadata": {},
     "output_type": "execute_result"
    }
   ],
   "source": [
    "model.N"
   ]
  },
  {
   "cell_type": "code",
   "execution_count": 21,
   "metadata": {},
   "outputs": [],
   "source": [
    "model.reactions.remove(\"combustion\")"
   ]
  },
  {
   "cell_type": "code",
   "execution_count": 22,
   "metadata": {},
   "outputs": [
    {
     "data": {
      "text/html": [
       "<div>\n",
       "<style scoped>\n",
       "    .dataframe tbody tr th:only-of-type {\n",
       "        vertical-align: middle;\n",
       "    }\n",
       "\n",
       "    .dataframe tbody tr th {\n",
       "        vertical-align: top;\n",
       "    }\n",
       "\n",
       "    .dataframe thead th {\n",
       "        text-align: right;\n",
       "    }\n",
       "</style>\n",
       "<table border=\"1\" class=\"dataframe\">\n",
       "  <thead>\n",
       "    <tr style=\"text-align: right;\">\n",
       "      <th></th>\n",
       "      <th>Metabolites</th>\n",
       "      <th>Equilibrium constant</th>\n",
       "      <th>Reversible</th>\n",
       "      <th>Flux</th>\n",
       "      <th>Unit</th>\n",
       "    </tr>\n",
       "  </thead>\n",
       "  <tbody>\n",
       "    <tr>\n",
       "      <th>reaction_0</th>\n",
       "      <td>{'new_meta': -2, 'meta_1': 1}</td>\n",
       "      <td>1.5</td>\n",
       "      <td>False</td>\n",
       "      <td>1.5</td>\n",
       "      <td>mmol/gDW/h</td>\n",
       "    </tr>\n",
       "    <tr>\n",
       "      <th>reaction_1</th>\n",
       "      <td>{'meta_1': -1, 'meta_2': 1}</td>\n",
       "      <td>1.0</td>\n",
       "      <td>True</td>\n",
       "      <td>1.0</td>\n",
       "      <td>mmol/gDW/h</td>\n",
       "    </tr>\n",
       "    <tr>\n",
       "      <th>reaction_2</th>\n",
       "      <td>{'meta_2': -1, 'meta_3': 1}</td>\n",
       "      <td>1.0</td>\n",
       "      <td>True</td>\n",
       "      <td>1.0</td>\n",
       "      <td>mmol/gDW/h</td>\n",
       "    </tr>\n",
       "  </tbody>\n",
       "</table>\n",
       "</div>"
      ],
      "text/plain": [
       "                              Metabolites  Equilibrium constant  Reversible  \\\n",
       "reaction_0  {'new_meta': -2, 'meta_1': 1}                   1.5       False   \n",
       "reaction_1    {'meta_1': -1, 'meta_2': 1}                   1.0        True   \n",
       "reaction_2    {'meta_2': -1, 'meta_3': 1}                   1.0        True   \n",
       "\n",
       "            Flux        Unit  \n",
       "reaction_0   1.5  mmol/gDW/h  \n",
       "reaction_1   1.0  mmol/gDW/h  \n",
       "reaction_2   1.0  mmol/gDW/h  "
      ]
     },
     "execution_count": 22,
     "metadata": {},
     "output_type": "execute_result"
    }
   ],
   "source": [
    "model.reactions.remove(name=\"combustion\")\n",
    "model.reactions.df"
   ]
  },
  {
   "cell_type": "markdown",
   "metadata": {},
   "source": [
    "## <font color='green'> [1.7] Stoichiometric matrix from an existant one </font> "
   ]
  },
  {
   "cell_type": "markdown",
   "metadata": {},
   "source": [
    "##### You can also change the stoichiometric matrix\n",
    "\n",
    "You have 2 options :\n",
    "- Attribute to the stoichiometric matrix a Pandas Dataframe, whatever the size, and the program will create a new model based on the metabolites (rows) and reactions (columns) of the dataframe\n",
    "- Attribute a Numpy array, and the program will change the value of the coefficients of the matrix"
   ]
  },
  {
   "cell_type": "code",
   "execution_count": 23,
   "metadata": {},
   "outputs": [],
   "source": [
    "reactions = {'Combustion': [1. , -1., -0.5],\n",
    "             'Reaction_2': [0. ,  0.,   1. ]}\n",
    "\n",
    "metabolites = ['H2O', 'H2', 'O2']\n",
    "\n",
    "dataframe = pd.DataFrame(reactions, index=metabolites)\n",
    "\n",
    "model.Stoichio_matrix_pd = dataframe"
   ]
  },
  {
   "cell_type": "markdown",
   "metadata": {},
   "source": [
    "And the metabolites and reactions dataframes are automatically updated !"
   ]
  },
  {
   "cell_type": "code",
   "execution_count": 24,
   "metadata": {},
   "outputs": [
    {
     "data": {
      "text/html": [
       "<div>\n",
       "<style scoped>\n",
       "    .dataframe tbody tr th:only-of-type {\n",
       "        vertical-align: middle;\n",
       "    }\n",
       "\n",
       "    .dataframe tbody tr th {\n",
       "        vertical-align: top;\n",
       "    }\n",
       "\n",
       "    .dataframe thead th {\n",
       "        text-align: right;\n",
       "    }\n",
       "</style>\n",
       "<table border=\"1\" class=\"dataframe\">\n",
       "  <thead>\n",
       "    <tr style=\"text-align: right;\">\n",
       "      <th></th>\n",
       "      <th>Combustion</th>\n",
       "      <th>Reaction_2</th>\n",
       "    </tr>\n",
       "  </thead>\n",
       "  <tbody>\n",
       "    <tr>\n",
       "      <th>H2O</th>\n",
       "      <td>1.0</td>\n",
       "      <td>0.0</td>\n",
       "    </tr>\n",
       "    <tr>\n",
       "      <th>H2</th>\n",
       "      <td>-1.0</td>\n",
       "      <td>0.0</td>\n",
       "    </tr>\n",
       "    <tr>\n",
       "      <th>O2</th>\n",
       "      <td>-0.5</td>\n",
       "      <td>1.0</td>\n",
       "    </tr>\n",
       "  </tbody>\n",
       "</table>\n",
       "</div>"
      ],
      "text/plain": [
       "     Combustion  Reaction_2\n",
       "H2O         1.0         0.0\n",
       "H2         -1.0         0.0\n",
       "O2         -0.5         1.0"
      ]
     },
     "execution_count": 24,
     "metadata": {},
     "output_type": "execute_result"
    }
   ],
   "source": [
    "model.N"
   ]
  },
  {
   "cell_type": "code",
   "execution_count": 25,
   "metadata": {},
   "outputs": [
    {
     "data": {
      "text/html": [
       "<div>\n",
       "<style scoped>\n",
       "    .dataframe tbody tr th:only-of-type {\n",
       "        vertical-align: middle;\n",
       "    }\n",
       "\n",
       "    .dataframe tbody tr th {\n",
       "        vertical-align: top;\n",
       "    }\n",
       "\n",
       "    .dataframe thead th {\n",
       "        text-align: right;\n",
       "    }\n",
       "</style>\n",
       "<table border=\"1\" class=\"dataframe\">\n",
       "  <thead>\n",
       "    <tr style=\"text-align: right;\">\n",
       "      <th></th>\n",
       "      <th>Metabolites</th>\n",
       "      <th>Equilibrium constant</th>\n",
       "      <th>Reversible</th>\n",
       "      <th>Flux</th>\n",
       "      <th>Unit</th>\n",
       "    </tr>\n",
       "  </thead>\n",
       "  <tbody>\n",
       "    <tr>\n",
       "      <th>Combustion</th>\n",
       "      <td>{'H2O': 1.0, 'H2': -1.0, 'O2': -0.5}</td>\n",
       "      <td>1.0</td>\n",
       "      <td>True</td>\n",
       "      <td>1.0</td>\n",
       "      <td>mmol/gDW/h</td>\n",
       "    </tr>\n",
       "    <tr>\n",
       "      <th>Reaction_2</th>\n",
       "      <td>{'O2': 1.0}</td>\n",
       "      <td>1.0</td>\n",
       "      <td>True</td>\n",
       "      <td>1.0</td>\n",
       "      <td>mmol/gDW/h</td>\n",
       "    </tr>\n",
       "  </tbody>\n",
       "</table>\n",
       "</div>"
      ],
      "text/plain": [
       "                                     Metabolites  Equilibrium constant  \\\n",
       "Combustion  {'H2O': 1.0, 'H2': -1.0, 'O2': -0.5}                   1.0   \n",
       "Reaction_2                           {'O2': 1.0}                   1.0   \n",
       "\n",
       "            Reversible  Flux        Unit  \n",
       "Combustion        True   1.0  mmol/gDW/h  \n",
       "Reaction_2        True   1.0  mmol/gDW/h  "
      ]
     },
     "execution_count": 25,
     "metadata": {},
     "output_type": "execute_result"
    }
   ],
   "source": [
    "model.reactions.df"
   ]
  },
  {
   "cell_type": "code",
   "execution_count": 26,
   "metadata": {},
   "outputs": [
    {
     "data": {
      "text/html": [
       "<div>\n",
       "<style scoped>\n",
       "    .dataframe tbody tr th:only-of-type {\n",
       "        vertical-align: middle;\n",
       "    }\n",
       "\n",
       "    .dataframe tbody tr th {\n",
       "        vertical-align: top;\n",
       "    }\n",
       "\n",
       "    .dataframe thead th {\n",
       "        text-align: right;\n",
       "    }\n",
       "</style>\n",
       "<table border=\"1\" class=\"dataframe\">\n",
       "  <thead>\n",
       "    <tr style=\"text-align: right;\">\n",
       "      <th></th>\n",
       "      <th>External</th>\n",
       "      <th>Concentration</th>\n",
       "      <th>Unit</th>\n",
       "    </tr>\n",
       "  </thead>\n",
       "  <tbody>\n",
       "    <tr>\n",
       "      <th>H2O</th>\n",
       "      <td>False</td>\n",
       "      <td>1.0</td>\n",
       "      <td>mmol/gDW</td>\n",
       "    </tr>\n",
       "    <tr>\n",
       "      <th>H2</th>\n",
       "      <td>False</td>\n",
       "      <td>1.0</td>\n",
       "      <td>mmol/gDW</td>\n",
       "    </tr>\n",
       "    <tr>\n",
       "      <th>O2</th>\n",
       "      <td>False</td>\n",
       "      <td>1.0</td>\n",
       "      <td>mmol/gDW</td>\n",
       "    </tr>\n",
       "  </tbody>\n",
       "</table>\n",
       "</div>"
      ],
      "text/plain": [
       "     External  Concentration      Unit\n",
       "H2O     False            1.0  mmol/gDW\n",
       "H2      False            1.0  mmol/gDW\n",
       "O2      False            1.0  mmol/gDW"
      ]
     },
     "execution_count": 26,
     "metadata": {},
     "output_type": "execute_result"
    }
   ],
   "source": [
    "model.metabolites.df"
   ]
  },
  {
   "cell_type": "markdown",
   "metadata": {},
   "source": [
    "# <font color='red'> [2] Play with the dynamic of model </font> "
   ]
  },
  {
   "cell_type": "code",
   "execution_count": 27,
   "metadata": {},
   "outputs": [
    {
     "name": "stdout",
     "output_type": "stream",
     "text": [
      " \n"
     ]
    }
   ],
   "source": [
    "model.creat_linear(4)"
   ]
  },
  {
   "cell_type": "markdown",
   "metadata": {},
   "source": [
    "## <font color='green'> [2.1] Parameters </font> "
   ]
  },
  {
   "cell_type": "markdown",
   "metadata": {},
   "source": [
    "By default, the temperature is in the parameters dataframe"
   ]
  },
  {
   "cell_type": "code",
   "execution_count": 28,
   "metadata": {},
   "outputs": [
    {
     "data": {
      "text/html": [
       "<div>\n",
       "<style scoped>\n",
       "    .dataframe tbody tr th:only-of-type {\n",
       "        vertical-align: middle;\n",
       "    }\n",
       "\n",
       "    .dataframe tbody tr th {\n",
       "        vertical-align: top;\n",
       "    }\n",
       "\n",
       "    .dataframe thead th {\n",
       "        text-align: right;\n",
       "    }\n",
       "</style>\n",
       "<table border=\"1\" class=\"dataframe\">\n",
       "  <thead>\n",
       "    <tr style=\"text-align: right;\">\n",
       "      <th></th>\n",
       "      <th>Mean values</th>\n",
       "      <th>Standard deviation</th>\n",
       "    </tr>\n",
       "  </thead>\n",
       "  <tbody>\n",
       "    <tr>\n",
       "      <th>Temperature</th>\n",
       "      <td>273.15</td>\n",
       "      <td>1.0</td>\n",
       "    </tr>\n",
       "  </tbody>\n",
       "</table>\n",
       "</div>"
      ],
      "text/plain": [
       "            Mean values Standard deviation\n",
       "Temperature      273.15                1.0"
      ]
     },
     "execution_count": 28,
     "metadata": {},
     "output_type": "execute_result"
    }
   ],
   "source": [
    "model.parameters.df"
   ]
  },
  {
   "cell_type": "markdown",
   "metadata": {},
   "source": [
    "You can add any parameter with its mean values and standard deviation to represent its uncertainty"
   ]
  },
  {
   "cell_type": "code",
   "execution_count": 29,
   "metadata": {},
   "outputs": [
    {
     "data": {
      "text/html": [
       "<div>\n",
       "<style scoped>\n",
       "    .dataframe tbody tr th:only-of-type {\n",
       "        vertical-align: middle;\n",
       "    }\n",
       "\n",
       "    .dataframe tbody tr th {\n",
       "        vertical-align: top;\n",
       "    }\n",
       "\n",
       "    .dataframe thead th {\n",
       "        text-align: right;\n",
       "    }\n",
       "</style>\n",
       "<table border=\"1\" class=\"dataframe\">\n",
       "  <thead>\n",
       "    <tr style=\"text-align: right;\">\n",
       "      <th></th>\n",
       "      <th>Mean values</th>\n",
       "      <th>Standard deviation</th>\n",
       "    </tr>\n",
       "  </thead>\n",
       "  <tbody>\n",
       "    <tr>\n",
       "      <th>Temperature</th>\n",
       "      <td>273.15</td>\n",
       "      <td>1.0</td>\n",
       "    </tr>\n",
       "    <tr>\n",
       "      <th>pH</th>\n",
       "      <td>7.0</td>\n",
       "      <td>2.0</td>\n",
       "    </tr>\n",
       "  </tbody>\n",
       "</table>\n",
       "</div>"
      ],
      "text/plain": [
       "            Mean values Standard deviation\n",
       "Temperature      273.15                1.0\n",
       "pH                  7.0                2.0"
      ]
     },
     "execution_count": 29,
     "metadata": {},
     "output_type": "execute_result"
    }
   ],
   "source": [
    "model.parameters.add(\"pH\", mean=7., Standard_deviation=2.)\n",
    "model.parameters.df"
   ]
  },
  {
   "cell_type": "markdown",
   "metadata": {},
   "source": [
    "You can also remove a parameter"
   ]
  },
  {
   "cell_type": "code",
   "execution_count": 30,
   "metadata": {},
   "outputs": [
    {
     "name": "stdout",
     "output_type": "stream",
     "text": [
      "Name of the removed parameter : Temperature\n"
     ]
    },
    {
     "data": {
      "text/html": [
       "<div>\n",
       "<style scoped>\n",
       "    .dataframe tbody tr th:only-of-type {\n",
       "        vertical-align: middle;\n",
       "    }\n",
       "\n",
       "    .dataframe tbody tr th {\n",
       "        vertical-align: top;\n",
       "    }\n",
       "\n",
       "    .dataframe thead th {\n",
       "        text-align: right;\n",
       "    }\n",
       "</style>\n",
       "<table border=\"1\" class=\"dataframe\">\n",
       "  <thead>\n",
       "    <tr style=\"text-align: right;\">\n",
       "      <th></th>\n",
       "      <th>Mean values</th>\n",
       "      <th>Standard deviation</th>\n",
       "    </tr>\n",
       "  </thead>\n",
       "  <tbody>\n",
       "    <tr>\n",
       "      <th>pH</th>\n",
       "      <td>7.0</td>\n",
       "      <td>2.0</td>\n",
       "    </tr>\n",
       "  </tbody>\n",
       "</table>\n",
       "</div>"
      ],
      "text/plain": [
       "   Mean values Standard deviation\n",
       "pH         7.0                2.0"
      ]
     },
     "execution_count": 30,
     "metadata": {},
     "output_type": "execute_result"
    }
   ],
   "source": [
    "model.parameters.remove(\"Temperature\")\n",
    "model.parameters.df"
   ]
  },
  {
   "cell_type": "markdown",
   "metadata": {},
   "source": [
    "You can also consider the external metabolite as parameter of the model"
   ]
  },
  {
   "cell_type": "code",
   "execution_count": 31,
   "metadata": {},
   "outputs": [],
   "source": [
    "model.parameters.add_externals()"
   ]
  },
  {
   "cell_type": "markdown",
   "metadata": {},
   "source": [
    "## <font color='green'> [2.2] Enzymes </font> "
   ]
  },
  {
   "cell_type": "markdown",
   "metadata": {},
   "source": [
    "You can add enzyme to the model and liked them to reactions"
   ]
  },
  {
   "cell_type": "code",
   "execution_count": 32,
   "metadata": {},
   "outputs": [
    {
     "data": {
      "text/html": [
       "<div>\n",
       "<style scoped>\n",
       "    .dataframe tbody tr th:only-of-type {\n",
       "        vertical-align: middle;\n",
       "    }\n",
       "\n",
       "    .dataframe tbody tr th {\n",
       "        vertical-align: top;\n",
       "    }\n",
       "\n",
       "    .dataframe thead th {\n",
       "        text-align: right;\n",
       "    }\n",
       "</style>\n",
       "<table border=\"1\" class=\"dataframe\">\n",
       "  <thead>\n",
       "    <tr style=\"text-align: right;\">\n",
       "      <th></th>\n",
       "      <th>Concentration / Activity</th>\n",
       "      <th>Reactions linked</th>\n",
       "    </tr>\n",
       "  </thead>\n",
       "  <tbody>\n",
       "    <tr>\n",
       "      <th>enzyme_test</th>\n",
       "      <td>1</td>\n",
       "      <td>[reaction_0, reaction_2]</td>\n",
       "    </tr>\n",
       "  </tbody>\n",
       "</table>\n",
       "</div>"
      ],
      "text/plain": [
       "             Concentration / Activity          Reactions linked\n",
       "enzyme_test                         1  [reaction_0, reaction_2]"
      ]
     },
     "execution_count": 32,
     "metadata": {},
     "output_type": "execute_result"
    }
   ],
   "source": [
    "model.enzymes.add(\"enzyme_test\", mean=1, reaction_linked=[\"reaction_0\", \"reaction_2\"])\n",
    "model.enzymes.df"
   ]
  },
  {
   "cell_type": "markdown",
   "metadata": {},
   "source": [
    "You can also use the model.enzymes.add_to_all_reaction() method to create an enzyme linked to each reaction, with the name \"enzyme_{reaction_name}\""
   ]
  },
  {
   "cell_type": "code",
   "execution_count": 33,
   "metadata": {},
   "outputs": [
    {
     "data": {
      "text/html": [
       "<div>\n",
       "<style scoped>\n",
       "    .dataframe tbody tr th:only-of-type {\n",
       "        vertical-align: middle;\n",
       "    }\n",
       "\n",
       "    .dataframe tbody tr th {\n",
       "        vertical-align: top;\n",
       "    }\n",
       "\n",
       "    .dataframe thead th {\n",
       "        text-align: right;\n",
       "    }\n",
       "</style>\n",
       "<table border=\"1\" class=\"dataframe\">\n",
       "  <thead>\n",
       "    <tr style=\"text-align: right;\">\n",
       "      <th></th>\n",
       "      <th>Concentration / Activity</th>\n",
       "      <th>Reactions linked</th>\n",
       "    </tr>\n",
       "  </thead>\n",
       "  <tbody>\n",
       "    <tr>\n",
       "      <th>enzyme_test</th>\n",
       "      <td>1</td>\n",
       "      <td>[reaction_0, reaction_2]</td>\n",
       "    </tr>\n",
       "    <tr>\n",
       "      <th>enzyme_reaction_0</th>\n",
       "      <td>1</td>\n",
       "      <td>[reaction_0]</td>\n",
       "    </tr>\n",
       "    <tr>\n",
       "      <th>enzyme_reaction_1</th>\n",
       "      <td>1</td>\n",
       "      <td>[reaction_1]</td>\n",
       "    </tr>\n",
       "    <tr>\n",
       "      <th>enzyme_reaction_2</th>\n",
       "      <td>1</td>\n",
       "      <td>[reaction_2]</td>\n",
       "    </tr>\n",
       "  </tbody>\n",
       "</table>\n",
       "</div>"
      ],
      "text/plain": [
       "                   Concentration / Activity          Reactions linked\n",
       "enzyme_test                               1  [reaction_0, reaction_2]\n",
       "enzyme_reaction_0                         1              [reaction_0]\n",
       "enzyme_reaction_1                         1              [reaction_1]\n",
       "enzyme_reaction_2                         1              [reaction_2]"
      ]
     },
     "execution_count": 33,
     "metadata": {},
     "output_type": "execute_result"
    }
   ],
   "source": [
    "model.enzymes.add_to_all_reaction()\n",
    "model.enzymes.df"
   ]
  },
  {
   "cell_type": "code",
   "execution_count": 34,
   "metadata": {},
   "outputs": [
    {
     "data": {
      "text/html": [
       "<div>\n",
       "<style scoped>\n",
       "    .dataframe tbody tr th:only-of-type {\n",
       "        vertical-align: middle;\n",
       "    }\n",
       "\n",
       "    .dataframe tbody tr th {\n",
       "        vertical-align: top;\n",
       "    }\n",
       "\n",
       "    .dataframe thead th {\n",
       "        text-align: right;\n",
       "    }\n",
       "</style>\n",
       "<table border=\"1\" class=\"dataframe\">\n",
       "  <thead>\n",
       "    <tr style=\"text-align: right;\">\n",
       "      <th></th>\n",
       "      <th>Concentration / Activity</th>\n",
       "      <th>Reactions linked</th>\n",
       "    </tr>\n",
       "  </thead>\n",
       "  <tbody>\n",
       "    <tr>\n",
       "      <th>enzyme_reaction_0</th>\n",
       "      <td>1</td>\n",
       "      <td>[reaction_0]</td>\n",
       "    </tr>\n",
       "    <tr>\n",
       "      <th>enzyme_reaction_1</th>\n",
       "      <td>1</td>\n",
       "      <td>[reaction_1]</td>\n",
       "    </tr>\n",
       "    <tr>\n",
       "      <th>enzyme_reaction_2</th>\n",
       "      <td>1</td>\n",
       "      <td>[reaction_2]</td>\n",
       "    </tr>\n",
       "  </tbody>\n",
       "</table>\n",
       "</div>"
      ],
      "text/plain": [
       "                   Concentration / Activity Reactions linked\n",
       "enzyme_reaction_0                         1     [reaction_0]\n",
       "enzyme_reaction_1                         1     [reaction_1]\n",
       "enzyme_reaction_2                         1     [reaction_2]"
      ]
     },
     "execution_count": 34,
     "metadata": {},
     "output_type": "execute_result"
    }
   ],
   "source": [
    "model.enzymes.remove(\"enzyme_test\")\n",
    "model.enzymes.df"
   ]
  },
  {
   "cell_type": "markdown",
   "metadata": {},
   "source": [
    "Finally, you can add the enzyme as parameters, they will be added with their name of enzyme + \"_para\""
   ]
  },
  {
   "cell_type": "code",
   "execution_count": 35,
   "metadata": {},
   "outputs": [
    {
     "data": {
      "text/html": [
       "<div>\n",
       "<style scoped>\n",
       "    .dataframe tbody tr th:only-of-type {\n",
       "        vertical-align: middle;\n",
       "    }\n",
       "\n",
       "    .dataframe tbody tr th {\n",
       "        vertical-align: top;\n",
       "    }\n",
       "\n",
       "    .dataframe thead th {\n",
       "        text-align: right;\n",
       "    }\n",
       "</style>\n",
       "<table border=\"1\" class=\"dataframe\">\n",
       "  <thead>\n",
       "    <tr style=\"text-align: right;\">\n",
       "      <th></th>\n",
       "      <th>Mean values</th>\n",
       "      <th>Standard deviation</th>\n",
       "    </tr>\n",
       "  </thead>\n",
       "  <tbody>\n",
       "    <tr>\n",
       "      <th>pH</th>\n",
       "      <td>7.0</td>\n",
       "      <td>2.0</td>\n",
       "    </tr>\n",
       "    <tr>\n",
       "      <th>meta_0_para</th>\n",
       "      <td>1.0</td>\n",
       "      <td>1.0</td>\n",
       "    </tr>\n",
       "    <tr>\n",
       "      <th>meta_3_para</th>\n",
       "      <td>1.0</td>\n",
       "      <td>1.0</td>\n",
       "    </tr>\n",
       "    <tr>\n",
       "      <th>enzyme_reaction_0_para</th>\n",
       "      <td>1.0</td>\n",
       "      <td>1.0</td>\n",
       "    </tr>\n",
       "    <tr>\n",
       "      <th>enzyme_reaction_1_para</th>\n",
       "      <td>1.0</td>\n",
       "      <td>1.0</td>\n",
       "    </tr>\n",
       "    <tr>\n",
       "      <th>enzyme_reaction_2_para</th>\n",
       "      <td>1.0</td>\n",
       "      <td>1.0</td>\n",
       "    </tr>\n",
       "  </tbody>\n",
       "</table>\n",
       "</div>"
      ],
      "text/plain": [
       "                       Mean values Standard deviation\n",
       "pH                             7.0                2.0\n",
       "meta_0_para                    1.0                1.0\n",
       "meta_3_para                    1.0                1.0\n",
       "enzyme_reaction_0_para         1.0                1.0\n",
       "enzyme_reaction_1_para         1.0                1.0\n",
       "enzyme_reaction_2_para         1.0                1.0"
      ]
     },
     "execution_count": 35,
     "metadata": {},
     "output_type": "execute_result"
    }
   ],
   "source": [
    "model.parameters.add_enzymes()\n",
    "model.parameters.df"
   ]
  },
  {
   "cell_type": "markdown",
   "metadata": {},
   "source": [
    "## <font color='green'> [2.3] Operons </font> "
   ]
  },
  {
   "cell_type": "markdown",
   "metadata": {},
   "source": [
    "You can create a dependency between enzymes by specifying if they are linked by an operon"
   ]
  },
  {
   "cell_type": "code",
   "execution_count": 36,
   "metadata": {},
   "outputs": [
    {
     "data": {
      "text/html": [
       "<div>\n",
       "<style scoped>\n",
       "    .dataframe tbody tr th:only-of-type {\n",
       "        vertical-align: middle;\n",
       "    }\n",
       "\n",
       "    .dataframe tbody tr th {\n",
       "        vertical-align: top;\n",
       "    }\n",
       "\n",
       "    .dataframe thead th {\n",
       "        text-align: right;\n",
       "    }\n",
       "</style>\n",
       "<table border=\"1\" class=\"dataframe\">\n",
       "  <thead>\n",
       "    <tr style=\"text-align: right;\">\n",
       "      <th></th>\n",
       "      <th>Enzymes linked</th>\n",
       "      <th>Mixed covariance</th>\n",
       "      <th>Activated</th>\n",
       "    </tr>\n",
       "  </thead>\n",
       "  <tbody>\n",
       "    <tr>\n",
       "      <th>operon_lactose</th>\n",
       "      <td>[enzyme_reaction_0_para, enzyme_reaction_2_para]</td>\n",
       "      <td>0.42</td>\n",
       "      <td>True</td>\n",
       "    </tr>\n",
       "  </tbody>\n",
       "</table>\n",
       "</div>"
      ],
      "text/plain": [
       "                                                  Enzymes linked  \\\n",
       "operon_lactose  [enzyme_reaction_0_para, enzyme_reaction_2_para]   \n",
       "\n",
       "                Mixed covariance  Activated  \n",
       "operon_lactose              0.42       True  "
      ]
     },
     "execution_count": 36,
     "metadata": {},
     "output_type": "execute_result"
    }
   ],
   "source": [
    "model.operons.add(\"operon_lactose\", enzymes_linked=[\"enzyme_reaction_0\", \"enzyme_reaction_2\"], mixed_covariance=0.42)\n",
    "model.operons.df"
   ]
  },
  {
   "cell_type": "markdown",
   "metadata": {},
   "source": [
    "By default, an operon is activated, you can inactivate it at any moment"
   ]
  },
  {
   "cell_type": "code",
   "execution_count": 37,
   "metadata": {},
   "outputs": [],
   "source": [
    "model.operons.inactivate(\"operon_lactose\")"
   ]
  },
  {
   "cell_type": "markdown",
   "metadata": {},
   "source": [
    "## <font color='green'> [2.4] Elasticity matrix of parameters </font> "
   ]
  },
  {
   "cell_type": "code",
   "execution_count": 38,
   "metadata": {},
   "outputs": [
    {
     "data": {
      "text/html": [
       "<div>\n",
       "<style scoped>\n",
       "    .dataframe tbody tr th:only-of-type {\n",
       "        vertical-align: middle;\n",
       "    }\n",
       "\n",
       "    .dataframe tbody tr th {\n",
       "        vertical-align: top;\n",
       "    }\n",
       "\n",
       "    .dataframe thead th {\n",
       "        text-align: right;\n",
       "    }\n",
       "</style>\n",
       "<table border=\"1\" class=\"dataframe\">\n",
       "  <thead>\n",
       "    <tr style=\"text-align: right;\">\n",
       "      <th></th>\n",
       "      <th>meta_0_para</th>\n",
       "      <th>meta_3_para</th>\n",
       "      <th>enzyme_reaction_0_para</th>\n",
       "      <th>enzyme_reaction_1_para</th>\n",
       "      <th>enzyme_reaction_2_para</th>\n",
       "    </tr>\n",
       "  </thead>\n",
       "  <tbody>\n",
       "    <tr>\n",
       "      <th>reaction_0</th>\n",
       "      <td>0.5</td>\n",
       "      <td>-0.0</td>\n",
       "      <td>1.0</td>\n",
       "      <td>0.0</td>\n",
       "      <td>0.0</td>\n",
       "    </tr>\n",
       "    <tr>\n",
       "      <th>reaction_1</th>\n",
       "      <td>-0.0</td>\n",
       "      <td>-0.0</td>\n",
       "      <td>0.0</td>\n",
       "      <td>1.0</td>\n",
       "      <td>0.0</td>\n",
       "    </tr>\n",
       "    <tr>\n",
       "      <th>reaction_2</th>\n",
       "      <td>-0.0</td>\n",
       "      <td>-0.5</td>\n",
       "      <td>0.0</td>\n",
       "      <td>0.0</td>\n",
       "      <td>1.0</td>\n",
       "    </tr>\n",
       "  </tbody>\n",
       "</table>\n",
       "</div>"
      ],
      "text/plain": [
       "            meta_0_para  meta_3_para  enzyme_reaction_0_para  \\\n",
       "reaction_0          0.5         -0.0                     1.0   \n",
       "reaction_1         -0.0         -0.0                     0.0   \n",
       "reaction_2         -0.0         -0.5                     0.0   \n",
       "\n",
       "            enzyme_reaction_1_para  enzyme_reaction_2_para  \n",
       "reaction_0                     0.0                     0.0  \n",
       "reaction_1                     1.0                     0.0  \n",
       "reaction_2                     0.0                     1.0  "
      ]
     },
     "execution_count": 38,
     "metadata": {},
     "output_type": "execute_result"
    }
   ],
   "source": [
    "model.elasticity.p.df"
   ]
  },
  {
   "cell_type": "markdown",
   "metadata": {},
   "source": [
    "You can change the elasticity matrix by changing 1 by 1 each element using the methods of the Pandas module     \n",
    "or by using model.elasticity.p.change() (slowest but there is a security to check the input)"
   ]
  },
  {
   "cell_type": "code",
   "execution_count": 39,
   "metadata": {},
   "outputs": [
    {
     "data": {
      "text/html": [
       "<div>\n",
       "<style scoped>\n",
       "    .dataframe tbody tr th:only-of-type {\n",
       "        vertical-align: middle;\n",
       "    }\n",
       "\n",
       "    .dataframe tbody tr th {\n",
       "        vertical-align: top;\n",
       "    }\n",
       "\n",
       "    .dataframe thead th {\n",
       "        text-align: right;\n",
       "    }\n",
       "</style>\n",
       "<table border=\"1\" class=\"dataframe\">\n",
       "  <thead>\n",
       "    <tr style=\"text-align: right;\">\n",
       "      <th></th>\n",
       "      <th>meta_0_para</th>\n",
       "      <th>meta_3_para</th>\n",
       "      <th>enzyme_reaction_0_para</th>\n",
       "      <th>enzyme_reaction_1_para</th>\n",
       "      <th>enzyme_reaction_2_para</th>\n",
       "    </tr>\n",
       "  </thead>\n",
       "  <tbody>\n",
       "    <tr>\n",
       "      <th>reaction_0</th>\n",
       "      <td>0.5</td>\n",
       "      <td>-0.0</td>\n",
       "      <td>-2.0</td>\n",
       "      <td>0.0</td>\n",
       "      <td>0.0</td>\n",
       "    </tr>\n",
       "    <tr>\n",
       "      <th>reaction_1</th>\n",
       "      <td>-0.0</td>\n",
       "      <td>-0.0</td>\n",
       "      <td>0.0</td>\n",
       "      <td>3.0</td>\n",
       "      <td>0.0</td>\n",
       "    </tr>\n",
       "    <tr>\n",
       "      <th>reaction_2</th>\n",
       "      <td>-0.0</td>\n",
       "      <td>-0.5</td>\n",
       "      <td>0.0</td>\n",
       "      <td>0.0</td>\n",
       "      <td>1.0</td>\n",
       "    </tr>\n",
       "  </tbody>\n",
       "</table>\n",
       "</div>"
      ],
      "text/plain": [
       "            meta_0_para  meta_3_para  enzyme_reaction_0_para  \\\n",
       "reaction_0          0.5         -0.0                    -2.0   \n",
       "reaction_1         -0.0         -0.0                     0.0   \n",
       "reaction_2         -0.0         -0.5                     0.0   \n",
       "\n",
       "            enzyme_reaction_1_para  enzyme_reaction_2_para  \n",
       "reaction_0                     0.0                     0.0  \n",
       "reaction_1                     3.0                     0.0  \n",
       "reaction_2                     0.0                     1.0  "
      ]
     },
     "execution_count": 39,
     "metadata": {},
     "output_type": "execute_result"
    }
   ],
   "source": [
    "model.elasticity.p.change(flux_name=\"reaction_0\", parameter_name=\"enzyme_reaction_0_para\", value=-2.)\n",
    "model.elasticity.p.df.at[\"reaction_1\", \"enzyme_reaction_1_para\"] = 3\n",
    "model.elasticity.p.df"
   ]
  },
  {
   "cell_type": "markdown",
   "metadata": {},
   "source": [
    "## <font color='green'> [2.5] Elasticities matrix of internal metabolites </font> "
   ]
  },
  {
   "cell_type": "markdown",
   "metadata": {},
   "source": [
    "Only the internal metabolites are in the $\\varepsilon_s$ elasticiy matrix"
   ]
  },
  {
   "cell_type": "code",
   "execution_count": 40,
   "metadata": {},
   "outputs": [
    {
     "data": {
      "text/html": [
       "<div>\n",
       "<style scoped>\n",
       "    .dataframe tbody tr th:only-of-type {\n",
       "        vertical-align: middle;\n",
       "    }\n",
       "\n",
       "    .dataframe tbody tr th {\n",
       "        vertical-align: top;\n",
       "    }\n",
       "\n",
       "    .dataframe thead th {\n",
       "        text-align: right;\n",
       "    }\n",
       "</style>\n",
       "<table border=\"1\" class=\"dataframe\">\n",
       "  <thead>\n",
       "    <tr style=\"text-align: right;\">\n",
       "      <th></th>\n",
       "      <th>meta_1</th>\n",
       "      <th>meta_2</th>\n",
       "    </tr>\n",
       "  </thead>\n",
       "  <tbody>\n",
       "    <tr>\n",
       "      <th>reaction_0</th>\n",
       "      <td>0</td>\n",
       "      <td>0</td>\n",
       "    </tr>\n",
       "    <tr>\n",
       "      <th>reaction_1</th>\n",
       "      <td>0</td>\n",
       "      <td>0</td>\n",
       "    </tr>\n",
       "    <tr>\n",
       "      <th>reaction_2</th>\n",
       "      <td>0</td>\n",
       "      <td>0</td>\n",
       "    </tr>\n",
       "  </tbody>\n",
       "</table>\n",
       "</div>"
      ],
      "text/plain": [
       "            meta_1  meta_2\n",
       "reaction_0       0       0\n",
       "reaction_1       0       0\n",
       "reaction_2       0       0"
      ]
     },
     "execution_count": 40,
     "metadata": {},
     "output_type": "execute_result"
    }
   ],
   "source": [
    "model.elasticity.s.df"
   ]
  },
  {
   "cell_type": "markdown",
   "metadata": {},
   "source": [
    "You can change the elasticity matrix by changing 1 by 1 each element using the methods of the Pandas module     \n",
    "or by using model.elasticity.s.change() (slowest but there is a security to check the input)"
   ]
  },
  {
   "cell_type": "code",
   "execution_count": 41,
   "metadata": {},
   "outputs": [
    {
     "data": {
      "text/html": [
       "<div>\n",
       "<style scoped>\n",
       "    .dataframe tbody tr th:only-of-type {\n",
       "        vertical-align: middle;\n",
       "    }\n",
       "\n",
       "    .dataframe tbody tr th {\n",
       "        vertical-align: top;\n",
       "    }\n",
       "\n",
       "    .dataframe thead th {\n",
       "        text-align: right;\n",
       "    }\n",
       "</style>\n",
       "<table border=\"1\" class=\"dataframe\">\n",
       "  <thead>\n",
       "    <tr style=\"text-align: right;\">\n",
       "      <th></th>\n",
       "      <th>meta_1</th>\n",
       "      <th>meta_2</th>\n",
       "    </tr>\n",
       "  </thead>\n",
       "  <tbody>\n",
       "    <tr>\n",
       "      <th>reaction_0</th>\n",
       "      <td>1</td>\n",
       "      <td>0</td>\n",
       "    </tr>\n",
       "    <tr>\n",
       "      <th>reaction_1</th>\n",
       "      <td>0</td>\n",
       "      <td>0</td>\n",
       "    </tr>\n",
       "    <tr>\n",
       "      <th>reaction_2</th>\n",
       "      <td>0</td>\n",
       "      <td>-1</td>\n",
       "    </tr>\n",
       "  </tbody>\n",
       "</table>\n",
       "</div>"
      ],
      "text/plain": [
       "            meta_1  meta_2\n",
       "reaction_0       1       0\n",
       "reaction_1       0       0\n",
       "reaction_2       0      -1"
      ]
     },
     "execution_count": 41,
     "metadata": {},
     "output_type": "execute_result"
    }
   ],
   "source": [
    "model.elasticity.s.df.at[\"reaction_0\", \"meta_1\"] = 1\n",
    "model.elasticity.s.change(\"reaction_2\", \"meta_2\", -1)\n",
    "model.elasticity.s.df"
   ]
  },
  {
   "cell_type": "markdown",
   "metadata": {},
   "source": [
    "Or by adding an entire Numpy matrix of the same size"
   ]
  },
  {
   "cell_type": "code",
   "execution_count": 42,
   "metadata": {},
   "outputs": [
    {
     "data": {
      "text/html": [
       "<div>\n",
       "<style scoped>\n",
       "    .dataframe tbody tr th:only-of-type {\n",
       "        vertical-align: middle;\n",
       "    }\n",
       "\n",
       "    .dataframe tbody tr th {\n",
       "        vertical-align: top;\n",
       "    }\n",
       "\n",
       "    .dataframe thead th {\n",
       "        text-align: right;\n",
       "    }\n",
       "</style>\n",
       "<table border=\"1\" class=\"dataframe\">\n",
       "  <thead>\n",
       "    <tr style=\"text-align: right;\">\n",
       "      <th></th>\n",
       "      <th>meta_1</th>\n",
       "      <th>meta_2</th>\n",
       "    </tr>\n",
       "  </thead>\n",
       "  <tbody>\n",
       "    <tr>\n",
       "      <th>reaction_0</th>\n",
       "      <td>1</td>\n",
       "      <td>-4</td>\n",
       "    </tr>\n",
       "    <tr>\n",
       "      <th>reaction_1</th>\n",
       "      <td>-2</td>\n",
       "      <td>5</td>\n",
       "    </tr>\n",
       "    <tr>\n",
       "      <th>reaction_2</th>\n",
       "      <td>3</td>\n",
       "      <td>-6</td>\n",
       "    </tr>\n",
       "  </tbody>\n",
       "</table>\n",
       "</div>"
      ],
      "text/plain": [
       "            meta_1  meta_2\n",
       "reaction_0       1      -4\n",
       "reaction_1      -2       5\n",
       "reaction_2       3      -6"
      ]
     },
     "execution_count": 42,
     "metadata": {},
     "output_type": "execute_result"
    }
   ],
   "source": [
    "matrix_data = np.array([[1,-4],\n",
    "                        [-2,5],\n",
    "                        [3,-6]])\n",
    "\n",
    "model.elasticity.s.df[:] = matrix_data\n",
    "model.elasticity.s.df"
   ]
  },
  {
   "cell_type": "markdown",
   "metadata": {},
   "source": [
    "You can assume that the enzymes are half-saturated, the elasticity is therefore equal to $-0.5N^T$"
   ]
  },
  {
   "cell_type": "code",
   "execution_count": 43,
   "metadata": {},
   "outputs": [
    {
     "data": {
      "text/html": [
       "<div>\n",
       "<style scoped>\n",
       "    .dataframe tbody tr th:only-of-type {\n",
       "        vertical-align: middle;\n",
       "    }\n",
       "\n",
       "    .dataframe tbody tr th {\n",
       "        vertical-align: top;\n",
       "    }\n",
       "\n",
       "    .dataframe thead th {\n",
       "        text-align: right;\n",
       "    }\n",
       "</style>\n",
       "<table border=\"1\" class=\"dataframe\">\n",
       "  <thead>\n",
       "    <tr style=\"text-align: right;\">\n",
       "      <th></th>\n",
       "      <th>meta_1</th>\n",
       "      <th>meta_2</th>\n",
       "    </tr>\n",
       "  </thead>\n",
       "  <tbody>\n",
       "    <tr>\n",
       "      <th>reaction_0</th>\n",
       "      <td>-0.5</td>\n",
       "      <td>-0.0</td>\n",
       "    </tr>\n",
       "    <tr>\n",
       "      <th>reaction_1</th>\n",
       "      <td>0.5</td>\n",
       "      <td>-0.5</td>\n",
       "    </tr>\n",
       "    <tr>\n",
       "      <th>reaction_2</th>\n",
       "      <td>-0.0</td>\n",
       "      <td>0.5</td>\n",
       "    </tr>\n",
       "  </tbody>\n",
       "</table>\n",
       "</div>"
      ],
      "text/plain": [
       "            meta_1  meta_2\n",
       "reaction_0    -0.5    -0.0\n",
       "reaction_1     0.5    -0.5\n",
       "reaction_2    -0.0     0.5"
      ]
     },
     "execution_count": 43,
     "metadata": {},
     "output_type": "execute_result"
    }
   ],
   "source": [
    "model.elasticity.s.half_satured()\n",
    "model.elasticity.s.df"
   ]
  },
  {
   "cell_type": "markdown",
   "metadata": {},
   "source": [
    "# <font color='red'> [3] Post-simulation analysis </font> "
   ]
  },
  {
   "cell_type": "code",
   "execution_count": 44,
   "metadata": {},
   "outputs": [
    {
     "name": "stdout",
     "output_type": "stream",
     "text": [
      " \n",
      "Name of the removed parameter : Temperature\n"
     ]
    }
   ],
   "source": [
    "model.creat_linear(4)\n",
    "model.parameters.add_externals()\n",
    "model.enzymes.add_to_all_reaction()\n",
    "model.parameters.add_enzymes()\n",
    "model.parameters.remove(\"Temperature\")\n",
    "model.elasticity.s.half_satured()"
   ]
  },
  {
   "cell_type": "markdown",
   "metadata": {},
   "source": [
    "## <font color='green'> [3.1] Structure's variable </font> "
   ]
  },
  {
   "cell_type": "markdown",
   "metadata": {},
   "source": [
    "The stoichiometric matrix $N$ (or $S$ for the culturless peoples)"
   ]
  },
  {
   "cell_type": "code",
   "execution_count": 45,
   "metadata": {},
   "outputs": [
    {
     "data": {
      "text/html": [
       "<div>\n",
       "<style scoped>\n",
       "    .dataframe tbody tr th:only-of-type {\n",
       "        vertical-align: middle;\n",
       "    }\n",
       "\n",
       "    .dataframe tbody tr th {\n",
       "        vertical-align: top;\n",
       "    }\n",
       "\n",
       "    .dataframe thead th {\n",
       "        text-align: right;\n",
       "    }\n",
       "</style>\n",
       "<table border=\"1\" class=\"dataframe\">\n",
       "  <thead>\n",
       "    <tr style=\"text-align: right;\">\n",
       "      <th></th>\n",
       "      <th>reaction_0</th>\n",
       "      <th>reaction_1</th>\n",
       "      <th>reaction_2</th>\n",
       "    </tr>\n",
       "  </thead>\n",
       "  <tbody>\n",
       "    <tr>\n",
       "      <th>meta_0</th>\n",
       "      <td>-1</td>\n",
       "      <td>0</td>\n",
       "      <td>0</td>\n",
       "    </tr>\n",
       "    <tr>\n",
       "      <th>meta_1</th>\n",
       "      <td>1</td>\n",
       "      <td>-1</td>\n",
       "      <td>0</td>\n",
       "    </tr>\n",
       "    <tr>\n",
       "      <th>meta_2</th>\n",
       "      <td>0</td>\n",
       "      <td>1</td>\n",
       "      <td>-1</td>\n",
       "    </tr>\n",
       "    <tr>\n",
       "      <th>meta_3</th>\n",
       "      <td>0</td>\n",
       "      <td>0</td>\n",
       "      <td>1</td>\n",
       "    </tr>\n",
       "  </tbody>\n",
       "</table>\n",
       "</div>"
      ],
      "text/plain": [
       "        reaction_0  reaction_1  reaction_2\n",
       "meta_0          -1           0           0\n",
       "meta_1           1          -1           0\n",
       "meta_2           0           1          -1\n",
       "meta_3           0           0           1"
      ]
     },
     "execution_count": 45,
     "metadata": {},
     "output_type": "execute_result"
    }
   ],
   "source": [
    "model.Stoichio_matrix_pd"
   ]
  },
  {
   "cell_type": "markdown",
   "metadata": {},
   "source": [
    "You also can get a reduced version of the stoichiometric matrix and the link matrix associated"
   ]
  },
  {
   "cell_type": "code",
   "execution_count": 46,
   "metadata": {},
   "outputs": [
    {
     "name": "stdout",
     "output_type": "stream",
     "text": [
      "Link matrix :\n",
      " [[ 1.00000000e+00 -3.33066907e-16]\n",
      " [ 2.77555756e-16  1.00000000e+00]]\n"
     ]
    },
    {
     "data": {
      "text/html": [
       "<div>\n",
       "<style scoped>\n",
       "    .dataframe tbody tr th:only-of-type {\n",
       "        vertical-align: middle;\n",
       "    }\n",
       "\n",
       "    .dataframe tbody tr th {\n",
       "        vertical-align: top;\n",
       "    }\n",
       "\n",
       "    .dataframe thead th {\n",
       "        text-align: right;\n",
       "    }\n",
       "</style>\n",
       "<table border=\"1\" class=\"dataframe\">\n",
       "  <thead>\n",
       "    <tr style=\"text-align: right;\">\n",
       "      <th></th>\n",
       "      <th>reaction_0</th>\n",
       "      <th>reaction_1</th>\n",
       "      <th>reaction_2</th>\n",
       "    </tr>\n",
       "  </thead>\n",
       "  <tbody>\n",
       "    <tr>\n",
       "      <th>meta_1</th>\n",
       "      <td>1</td>\n",
       "      <td>-1</td>\n",
       "      <td>0</td>\n",
       "    </tr>\n",
       "    <tr>\n",
       "      <th>meta_2</th>\n",
       "      <td>0</td>\n",
       "      <td>1</td>\n",
       "      <td>-1</td>\n",
       "    </tr>\n",
       "  </tbody>\n",
       "</table>\n",
       "</div>"
      ],
      "text/plain": [
       "        reaction_0  reaction_1  reaction_2\n",
       "meta_1           1          -1           0\n",
       "meta_2           0           1          -1"
      ]
     },
     "execution_count": 46,
     "metadata": {},
     "output_type": "execute_result"
    }
   ],
   "source": [
    "L, N_r = model.Link_matrix\n",
    "print(\"Link matrix :\\n\",L)\n",
    "N_r"
   ]
  },
  {
   "cell_type": "markdown",
   "metadata": {},
   "source": [
    "## <font color='green'> [3.2] Jacobian matrix </font> "
   ]
  },
  {
   "cell_type": "markdown",
   "metadata": {},
   "source": [
    "The Jacobian matrix is recomputed each time there is a modification in $N$ or $E_s$, else it is stored in a cache"
   ]
  },
  {
   "cell_type": "code",
   "execution_count": 47,
   "metadata": {},
   "outputs": [
    {
     "data": {
      "text/html": [
       "<div>\n",
       "<style scoped>\n",
       "    .dataframe tbody tr th:only-of-type {\n",
       "        vertical-align: middle;\n",
       "    }\n",
       "\n",
       "    .dataframe tbody tr th {\n",
       "        vertical-align: top;\n",
       "    }\n",
       "\n",
       "    .dataframe thead th {\n",
       "        text-align: right;\n",
       "    }\n",
       "</style>\n",
       "<table border=\"1\" class=\"dataframe\">\n",
       "  <thead>\n",
       "    <tr style=\"text-align: right;\">\n",
       "      <th></th>\n",
       "      <th>meta_1</th>\n",
       "      <th>meta_2</th>\n",
       "    </tr>\n",
       "  </thead>\n",
       "  <tbody>\n",
       "    <tr>\n",
       "      <th>meta_1</th>\n",
       "      <td>-1.0</td>\n",
       "      <td>0.5</td>\n",
       "    </tr>\n",
       "    <tr>\n",
       "      <th>meta_2</th>\n",
       "      <td>0.5</td>\n",
       "      <td>-1.0</td>\n",
       "    </tr>\n",
       "  </tbody>\n",
       "</table>\n",
       "</div>"
      ],
      "text/plain": [
       "        meta_1  meta_2\n",
       "meta_1    -1.0     0.5\n",
       "meta_2     0.5    -1.0"
      ]
     },
     "execution_count": 47,
     "metadata": {},
     "output_type": "execute_result"
    }
   ],
   "source": [
    "model.Jacobian"
   ]
  },
  {
   "cell_type": "code",
   "execution_count": 48,
   "metadata": {},
   "outputs": [
    {
     "data": {
      "text/html": [
       "<div>\n",
       "<style scoped>\n",
       "    .dataframe tbody tr th:only-of-type {\n",
       "        vertical-align: middle;\n",
       "    }\n",
       "\n",
       "    .dataframe tbody tr th {\n",
       "        vertical-align: top;\n",
       "    }\n",
       "\n",
       "    .dataframe thead th {\n",
       "        text-align: right;\n",
       "    }\n",
       "</style>\n",
       "<table border=\"1\" class=\"dataframe\">\n",
       "  <thead>\n",
       "    <tr style=\"text-align: right;\">\n",
       "      <th></th>\n",
       "      <th>meta_1</th>\n",
       "      <th>meta_2</th>\n",
       "    </tr>\n",
       "  </thead>\n",
       "  <tbody>\n",
       "    <tr>\n",
       "      <th>meta_1</th>\n",
       "      <td>-1.333333</td>\n",
       "      <td>-0.666667</td>\n",
       "    </tr>\n",
       "    <tr>\n",
       "      <th>meta_2</th>\n",
       "      <td>-0.666667</td>\n",
       "      <td>-1.333333</td>\n",
       "    </tr>\n",
       "  </tbody>\n",
       "</table>\n",
       "</div>"
      ],
      "text/plain": [
       "          meta_1    meta_2\n",
       "meta_1 -1.333333 -0.666667\n",
       "meta_2 -0.666667 -1.333333"
      ]
     },
     "execution_count": 48,
     "metadata": {},
     "output_type": "execute_result"
    }
   ],
   "source": [
    "model.Jacobian_reversed"
   ]
  },
  {
   "cell_type": "markdown",
   "metadata": {},
   "source": [
    "## <font color='green'> [3.3] MCA response coefficient </font> "
   ]
  },
  {
   "cell_type": "markdown",
   "metadata": {},
   "source": [
    "Sub element of the response matrix : $R^s_p$ and $R^v_p$"
   ]
  },
  {
   "cell_type": "code",
   "execution_count": 49,
   "metadata": {},
   "outputs": [
    {
     "data": {
      "text/html": [
       "<div>\n",
       "<style scoped>\n",
       "    .dataframe tbody tr th:only-of-type {\n",
       "        vertical-align: middle;\n",
       "    }\n",
       "\n",
       "    .dataframe tbody tr th {\n",
       "        vertical-align: top;\n",
       "    }\n",
       "\n",
       "    .dataframe thead th {\n",
       "        text-align: right;\n",
       "    }\n",
       "</style>\n",
       "<table border=\"1\" class=\"dataframe\">\n",
       "  <thead>\n",
       "    <tr style=\"text-align: right;\">\n",
       "      <th></th>\n",
       "      <th>meta_0_para</th>\n",
       "      <th>meta_3_para</th>\n",
       "      <th>enzyme_reaction_0_para</th>\n",
       "      <th>enzyme_reaction_1_para</th>\n",
       "      <th>enzyme_reaction_2_para</th>\n",
       "    </tr>\n",
       "  </thead>\n",
       "  <tbody>\n",
       "    <tr>\n",
       "      <th>reaction_0</th>\n",
       "      <td>0.166667</td>\n",
       "      <td>-0.166667</td>\n",
       "      <td>0.333333</td>\n",
       "      <td>0.333333</td>\n",
       "      <td>0.333333</td>\n",
       "    </tr>\n",
       "    <tr>\n",
       "      <th>reaction_1</th>\n",
       "      <td>0.166667</td>\n",
       "      <td>-0.166667</td>\n",
       "      <td>0.333333</td>\n",
       "      <td>0.333333</td>\n",
       "      <td>0.333333</td>\n",
       "    </tr>\n",
       "    <tr>\n",
       "      <th>reaction_2</th>\n",
       "      <td>0.166667</td>\n",
       "      <td>-0.166667</td>\n",
       "      <td>0.333333</td>\n",
       "      <td>0.333333</td>\n",
       "      <td>0.333333</td>\n",
       "    </tr>\n",
       "  </tbody>\n",
       "</table>\n",
       "</div>"
      ],
      "text/plain": [
       "            meta_0_para  meta_3_para  enzyme_reaction_0_para  \\\n",
       "reaction_0     0.166667    -0.166667                0.333333   \n",
       "reaction_1     0.166667    -0.166667                0.333333   \n",
       "reaction_2     0.166667    -0.166667                0.333333   \n",
       "\n",
       "            enzyme_reaction_1_para  enzyme_reaction_2_para  \n",
       "reaction_0                0.333333                0.333333  \n",
       "reaction_1                0.333333                0.333333  \n",
       "reaction_2                0.333333                0.333333  "
      ]
     },
     "execution_count": 49,
     "metadata": {},
     "output_type": "execute_result"
    }
   ],
   "source": [
    "model.R_v_p"
   ]
  },
  {
   "cell_type": "code",
   "execution_count": 50,
   "metadata": {},
   "outputs": [
    {
     "data": {
      "text/html": [
       "<div>\n",
       "<style scoped>\n",
       "    .dataframe tbody tr th:only-of-type {\n",
       "        vertical-align: middle;\n",
       "    }\n",
       "\n",
       "    .dataframe tbody tr th {\n",
       "        vertical-align: top;\n",
       "    }\n",
       "\n",
       "    .dataframe thead th {\n",
       "        text-align: right;\n",
       "    }\n",
       "</style>\n",
       "<table border=\"1\" class=\"dataframe\">\n",
       "  <thead>\n",
       "    <tr style=\"text-align: right;\">\n",
       "      <th></th>\n",
       "      <th>meta_0_para</th>\n",
       "      <th>meta_3_para</th>\n",
       "      <th>enzyme_reaction_0_para</th>\n",
       "      <th>enzyme_reaction_1_para</th>\n",
       "      <th>enzyme_reaction_2_para</th>\n",
       "    </tr>\n",
       "  </thead>\n",
       "  <tbody>\n",
       "    <tr>\n",
       "      <th>meta_1</th>\n",
       "      <td>0.666667</td>\n",
       "      <td>0.333333</td>\n",
       "      <td>1.333333</td>\n",
       "      <td>-0.666667</td>\n",
       "      <td>-0.666667</td>\n",
       "    </tr>\n",
       "    <tr>\n",
       "      <th>meta_2</th>\n",
       "      <td>0.333333</td>\n",
       "      <td>0.666667</td>\n",
       "      <td>0.666667</td>\n",
       "      <td>0.666667</td>\n",
       "      <td>-1.333333</td>\n",
       "    </tr>\n",
       "  </tbody>\n",
       "</table>\n",
       "</div>"
      ],
      "text/plain": [
       "        meta_0_para  meta_3_para  enzyme_reaction_0_para  \\\n",
       "meta_1     0.666667     0.333333                1.333333   \n",
       "meta_2     0.333333     0.666667                0.666667   \n",
       "\n",
       "        enzyme_reaction_1_para  enzyme_reaction_2_para  \n",
       "meta_1               -0.666667               -0.666667  \n",
       "meta_2                0.666667               -1.333333  "
      ]
     },
     "execution_count": 50,
     "metadata": {},
     "output_type": "execute_result"
    }
   ],
   "source": [
    "model.R_s_p"
   ]
  },
  {
   "cell_type": "markdown",
   "metadata": {},
   "source": [
    "The entire response matrix is constituted of $R^s_p$ and $R^v_p$ as a block matrix"
   ]
  },
  {
   "cell_type": "code",
   "execution_count": 51,
   "metadata": {},
   "outputs": [
    {
     "data": {
      "text/html": [
       "<div>\n",
       "<style scoped>\n",
       "    .dataframe tbody tr th:only-of-type {\n",
       "        vertical-align: middle;\n",
       "    }\n",
       "\n",
       "    .dataframe tbody tr th {\n",
       "        vertical-align: top;\n",
       "    }\n",
       "\n",
       "    .dataframe thead th {\n",
       "        text-align: right;\n",
       "    }\n",
       "</style>\n",
       "<table border=\"1\" class=\"dataframe\">\n",
       "  <thead>\n",
       "    <tr style=\"text-align: right;\">\n",
       "      <th></th>\n",
       "      <th>meta_0_para</th>\n",
       "      <th>meta_3_para</th>\n",
       "      <th>enzyme_reaction_0_para</th>\n",
       "      <th>enzyme_reaction_1_para</th>\n",
       "      <th>enzyme_reaction_2_para</th>\n",
       "    </tr>\n",
       "  </thead>\n",
       "  <tbody>\n",
       "    <tr>\n",
       "      <th>meta_1</th>\n",
       "      <td>0.666667</td>\n",
       "      <td>0.333333</td>\n",
       "      <td>1.333333</td>\n",
       "      <td>-0.666667</td>\n",
       "      <td>-0.666667</td>\n",
       "    </tr>\n",
       "    <tr>\n",
       "      <th>meta_2</th>\n",
       "      <td>0.333333</td>\n",
       "      <td>0.666667</td>\n",
       "      <td>0.666667</td>\n",
       "      <td>0.666667</td>\n",
       "      <td>-1.333333</td>\n",
       "    </tr>\n",
       "    <tr>\n",
       "      <th>reaction_0</th>\n",
       "      <td>0.166667</td>\n",
       "      <td>-0.166667</td>\n",
       "      <td>0.333333</td>\n",
       "      <td>0.333333</td>\n",
       "      <td>0.333333</td>\n",
       "    </tr>\n",
       "    <tr>\n",
       "      <th>reaction_1</th>\n",
       "      <td>0.166667</td>\n",
       "      <td>-0.166667</td>\n",
       "      <td>0.333333</td>\n",
       "      <td>0.333333</td>\n",
       "      <td>0.333333</td>\n",
       "    </tr>\n",
       "    <tr>\n",
       "      <th>reaction_2</th>\n",
       "      <td>0.166667</td>\n",
       "      <td>-0.166667</td>\n",
       "      <td>0.333333</td>\n",
       "      <td>0.333333</td>\n",
       "      <td>0.333333</td>\n",
       "    </tr>\n",
       "  </tbody>\n",
       "</table>\n",
       "</div>"
      ],
      "text/plain": [
       "            meta_0_para  meta_3_para  enzyme_reaction_0_para  \\\n",
       "meta_1         0.666667     0.333333                1.333333   \n",
       "meta_2         0.333333     0.666667                0.666667   \n",
       "reaction_0     0.166667    -0.166667                0.333333   \n",
       "reaction_1     0.166667    -0.166667                0.333333   \n",
       "reaction_2     0.166667    -0.166667                0.333333   \n",
       "\n",
       "            enzyme_reaction_1_para  enzyme_reaction_2_para  \n",
       "meta_1                   -0.666667               -0.666667  \n",
       "meta_2                    0.666667               -1.333333  \n",
       "reaction_0                0.333333                0.333333  \n",
       "reaction_1                0.333333                0.333333  \n",
       "reaction_2                0.333333                0.333333  "
      ]
     },
     "execution_count": 51,
     "metadata": {},
     "output_type": "execute_result"
    }
   ],
   "source": [
    "model.R"
   ]
  },
  {
   "cell_type": "markdown",
   "metadata": {},
   "source": [
    "## <font color='green'> [3.4] Covariance, Correlation and Mutual Information </font> \n"
   ]
  },
  {
   "cell_type": "markdown",
   "metadata": {},
   "source": [
    "### <font color='white'> [3.4.1] Covariance</font> "
   ]
  },
  {
   "cell_type": "markdown",
   "metadata": {},
   "source": [
    "The program can compute the covariance matrix of the model by a matrix product of the response matrix and the covariance matrix of the parameters (a multivariate normal distribution independent by default) to study the transmission of information through the system"
   ]
  },
  {
   "cell_type": "code",
   "execution_count": 52,
   "metadata": {},
   "outputs": [
    {
     "data": {
      "text/html": [
       "<div>\n",
       "<style scoped>\n",
       "    .dataframe tbody tr th:only-of-type {\n",
       "        vertical-align: middle;\n",
       "    }\n",
       "\n",
       "    .dataframe tbody tr th {\n",
       "        vertical-align: top;\n",
       "    }\n",
       "\n",
       "    .dataframe thead th {\n",
       "        text-align: right;\n",
       "    }\n",
       "</style>\n",
       "<table border=\"1\" class=\"dataframe\">\n",
       "  <thead>\n",
       "    <tr style=\"text-align: right;\">\n",
       "      <th></th>\n",
       "      <th>meta_0_para</th>\n",
       "      <th>meta_3_para</th>\n",
       "      <th>enzyme_reaction_0_para</th>\n",
       "      <th>enzyme_reaction_1_para</th>\n",
       "      <th>enzyme_reaction_2_para</th>\n",
       "      <th>meta_1</th>\n",
       "      <th>meta_2</th>\n",
       "      <th>reaction_0</th>\n",
       "      <th>reaction_1</th>\n",
       "      <th>reaction_2</th>\n",
       "    </tr>\n",
       "  </thead>\n",
       "  <tbody>\n",
       "    <tr>\n",
       "      <th>meta_0_para</th>\n",
       "      <td>1.000000</td>\n",
       "      <td>0.000000</td>\n",
       "      <td>0.000000</td>\n",
       "      <td>0.000000</td>\n",
       "      <td>0.000000</td>\n",
       "      <td>0.666667</td>\n",
       "      <td>0.333333</td>\n",
       "      <td>0.166667</td>\n",
       "      <td>0.166667</td>\n",
       "      <td>0.166667</td>\n",
       "    </tr>\n",
       "    <tr>\n",
       "      <th>meta_3_para</th>\n",
       "      <td>0.000000</td>\n",
       "      <td>1.000000</td>\n",
       "      <td>0.000000</td>\n",
       "      <td>0.000000</td>\n",
       "      <td>0.000000</td>\n",
       "      <td>0.333333</td>\n",
       "      <td>0.666667</td>\n",
       "      <td>-0.166667</td>\n",
       "      <td>-0.166667</td>\n",
       "      <td>-0.166667</td>\n",
       "    </tr>\n",
       "    <tr>\n",
       "      <th>enzyme_reaction_0_para</th>\n",
       "      <td>0.000000</td>\n",
       "      <td>0.000000</td>\n",
       "      <td>1.000000</td>\n",
       "      <td>0.000000</td>\n",
       "      <td>0.000000</td>\n",
       "      <td>1.333333</td>\n",
       "      <td>0.666667</td>\n",
       "      <td>0.333333</td>\n",
       "      <td>0.333333</td>\n",
       "      <td>0.333333</td>\n",
       "    </tr>\n",
       "    <tr>\n",
       "      <th>enzyme_reaction_1_para</th>\n",
       "      <td>0.000000</td>\n",
       "      <td>0.000000</td>\n",
       "      <td>0.000000</td>\n",
       "      <td>1.000000</td>\n",
       "      <td>0.000000</td>\n",
       "      <td>-0.666667</td>\n",
       "      <td>0.666667</td>\n",
       "      <td>0.333333</td>\n",
       "      <td>0.333333</td>\n",
       "      <td>0.333333</td>\n",
       "    </tr>\n",
       "    <tr>\n",
       "      <th>enzyme_reaction_2_para</th>\n",
       "      <td>0.000000</td>\n",
       "      <td>0.000000</td>\n",
       "      <td>0.000000</td>\n",
       "      <td>0.000000</td>\n",
       "      <td>1.000000</td>\n",
       "      <td>-0.666667</td>\n",
       "      <td>-1.333333</td>\n",
       "      <td>0.333333</td>\n",
       "      <td>0.333333</td>\n",
       "      <td>0.333333</td>\n",
       "    </tr>\n",
       "    <tr>\n",
       "      <th>meta_1</th>\n",
       "      <td>0.666667</td>\n",
       "      <td>0.333333</td>\n",
       "      <td>1.333333</td>\n",
       "      <td>-0.666667</td>\n",
       "      <td>-0.666667</td>\n",
       "      <td>3.222222</td>\n",
       "      <td>1.777778</td>\n",
       "      <td>0.055556</td>\n",
       "      <td>0.055556</td>\n",
       "      <td>0.055556</td>\n",
       "    </tr>\n",
       "    <tr>\n",
       "      <th>meta_2</th>\n",
       "      <td>0.333333</td>\n",
       "      <td>0.666667</td>\n",
       "      <td>0.666667</td>\n",
       "      <td>0.666667</td>\n",
       "      <td>-1.333333</td>\n",
       "      <td>1.777778</td>\n",
       "      <td>3.222222</td>\n",
       "      <td>-0.055556</td>\n",
       "      <td>-0.055556</td>\n",
       "      <td>-0.055556</td>\n",
       "    </tr>\n",
       "    <tr>\n",
       "      <th>reaction_0</th>\n",
       "      <td>0.166667</td>\n",
       "      <td>-0.166667</td>\n",
       "      <td>0.333333</td>\n",
       "      <td>0.333333</td>\n",
       "      <td>0.333333</td>\n",
       "      <td>0.055556</td>\n",
       "      <td>-0.055556</td>\n",
       "      <td>0.388889</td>\n",
       "      <td>0.388889</td>\n",
       "      <td>0.388889</td>\n",
       "    </tr>\n",
       "    <tr>\n",
       "      <th>reaction_1</th>\n",
       "      <td>0.166667</td>\n",
       "      <td>-0.166667</td>\n",
       "      <td>0.333333</td>\n",
       "      <td>0.333333</td>\n",
       "      <td>0.333333</td>\n",
       "      <td>0.055556</td>\n",
       "      <td>-0.055556</td>\n",
       "      <td>0.388889</td>\n",
       "      <td>0.388889</td>\n",
       "      <td>0.388889</td>\n",
       "    </tr>\n",
       "    <tr>\n",
       "      <th>reaction_2</th>\n",
       "      <td>0.166667</td>\n",
       "      <td>-0.166667</td>\n",
       "      <td>0.333333</td>\n",
       "      <td>0.333333</td>\n",
       "      <td>0.333333</td>\n",
       "      <td>0.055556</td>\n",
       "      <td>-0.055556</td>\n",
       "      <td>0.388889</td>\n",
       "      <td>0.388889</td>\n",
       "      <td>0.388889</td>\n",
       "    </tr>\n",
       "  </tbody>\n",
       "</table>\n",
       "</div>"
      ],
      "text/plain": [
       "                        meta_0_para  meta_3_para  enzyme_reaction_0_para  \\\n",
       "meta_0_para                1.000000     0.000000                0.000000   \n",
       "meta_3_para                0.000000     1.000000                0.000000   \n",
       "enzyme_reaction_0_para     0.000000     0.000000                1.000000   \n",
       "enzyme_reaction_1_para     0.000000     0.000000                0.000000   \n",
       "enzyme_reaction_2_para     0.000000     0.000000                0.000000   \n",
       "meta_1                     0.666667     0.333333                1.333333   \n",
       "meta_2                     0.333333     0.666667                0.666667   \n",
       "reaction_0                 0.166667    -0.166667                0.333333   \n",
       "reaction_1                 0.166667    -0.166667                0.333333   \n",
       "reaction_2                 0.166667    -0.166667                0.333333   \n",
       "\n",
       "                        enzyme_reaction_1_para  enzyme_reaction_2_para  \\\n",
       "meta_0_para                           0.000000                0.000000   \n",
       "meta_3_para                           0.000000                0.000000   \n",
       "enzyme_reaction_0_para                0.000000                0.000000   \n",
       "enzyme_reaction_1_para                1.000000                0.000000   \n",
       "enzyme_reaction_2_para                0.000000                1.000000   \n",
       "meta_1                               -0.666667               -0.666667   \n",
       "meta_2                                0.666667               -1.333333   \n",
       "reaction_0                            0.333333                0.333333   \n",
       "reaction_1                            0.333333                0.333333   \n",
       "reaction_2                            0.333333                0.333333   \n",
       "\n",
       "                          meta_1    meta_2  reaction_0  reaction_1  reaction_2  \n",
       "meta_0_para             0.666667  0.333333    0.166667    0.166667    0.166667  \n",
       "meta_3_para             0.333333  0.666667   -0.166667   -0.166667   -0.166667  \n",
       "enzyme_reaction_0_para  1.333333  0.666667    0.333333    0.333333    0.333333  \n",
       "enzyme_reaction_1_para -0.666667  0.666667    0.333333    0.333333    0.333333  \n",
       "enzyme_reaction_2_para -0.666667 -1.333333    0.333333    0.333333    0.333333  \n",
       "meta_1                  3.222222  1.777778    0.055556    0.055556    0.055556  \n",
       "meta_2                  1.777778  3.222222   -0.055556   -0.055556   -0.055556  \n",
       "reaction_0              0.055556 -0.055556    0.388889    0.388889    0.388889  \n",
       "reaction_1              0.055556 -0.055556    0.388889    0.388889    0.388889  \n",
       "reaction_2              0.055556 -0.055556    0.388889    0.388889    0.388889  "
      ]
     },
     "execution_count": 52,
     "metadata": {},
     "output_type": "execute_result"
    }
   ],
   "source": [
    "model.covariance"
   ]
  },
  {
   "cell_type": "markdown",
   "metadata": {},
   "source": [
    "### <font color='white'> [3.4.2] Corelation </font> "
   ]
  },
  {
   "cell_type": "markdown",
   "metadata": {},
   "source": [
    "You can therefore compute the correlation"
   ]
  },
  {
   "cell_type": "code",
   "execution_count": 53,
   "metadata": {},
   "outputs": [
    {
     "data": {
      "text/html": [
       "<div>\n",
       "<style scoped>\n",
       "    .dataframe tbody tr th:only-of-type {\n",
       "        vertical-align: middle;\n",
       "    }\n",
       "\n",
       "    .dataframe tbody tr th {\n",
       "        vertical-align: top;\n",
       "    }\n",
       "\n",
       "    .dataframe thead th {\n",
       "        text-align: right;\n",
       "    }\n",
       "</style>\n",
       "<table border=\"1\" class=\"dataframe\">\n",
       "  <thead>\n",
       "    <tr style=\"text-align: right;\">\n",
       "      <th></th>\n",
       "      <th>meta_0_para</th>\n",
       "      <th>meta_3_para</th>\n",
       "      <th>enzyme_reaction_0_para</th>\n",
       "      <th>enzyme_reaction_1_para</th>\n",
       "      <th>enzyme_reaction_2_para</th>\n",
       "      <th>meta_1</th>\n",
       "      <th>meta_2</th>\n",
       "      <th>reaction_0</th>\n",
       "      <th>reaction_1</th>\n",
       "      <th>reaction_2</th>\n",
       "    </tr>\n",
       "  </thead>\n",
       "  <tbody>\n",
       "    <tr>\n",
       "      <th>meta_0_para</th>\n",
       "      <td>1.000000</td>\n",
       "      <td>0.000000</td>\n",
       "      <td>0.000000</td>\n",
       "      <td>0.000000</td>\n",
       "      <td>0.000000</td>\n",
       "      <td>0.371391</td>\n",
       "      <td>0.185695</td>\n",
       "      <td>0.267261</td>\n",
       "      <td>0.267261</td>\n",
       "      <td>0.267261</td>\n",
       "    </tr>\n",
       "    <tr>\n",
       "      <th>meta_3_para</th>\n",
       "      <td>0.000000</td>\n",
       "      <td>1.000000</td>\n",
       "      <td>0.000000</td>\n",
       "      <td>0.000000</td>\n",
       "      <td>0.000000</td>\n",
       "      <td>0.185695</td>\n",
       "      <td>0.371391</td>\n",
       "      <td>-0.267261</td>\n",
       "      <td>-0.267261</td>\n",
       "      <td>-0.267261</td>\n",
       "    </tr>\n",
       "    <tr>\n",
       "      <th>enzyme_reaction_0_para</th>\n",
       "      <td>0.000000</td>\n",
       "      <td>0.000000</td>\n",
       "      <td>1.000000</td>\n",
       "      <td>0.000000</td>\n",
       "      <td>0.000000</td>\n",
       "      <td>0.742781</td>\n",
       "      <td>0.371391</td>\n",
       "      <td>0.534522</td>\n",
       "      <td>0.534522</td>\n",
       "      <td>0.534522</td>\n",
       "    </tr>\n",
       "    <tr>\n",
       "      <th>enzyme_reaction_1_para</th>\n",
       "      <td>0.000000</td>\n",
       "      <td>0.000000</td>\n",
       "      <td>0.000000</td>\n",
       "      <td>1.000000</td>\n",
       "      <td>0.000000</td>\n",
       "      <td>-0.371391</td>\n",
       "      <td>0.371391</td>\n",
       "      <td>0.534522</td>\n",
       "      <td>0.534522</td>\n",
       "      <td>0.534522</td>\n",
       "    </tr>\n",
       "    <tr>\n",
       "      <th>enzyme_reaction_2_para</th>\n",
       "      <td>0.000000</td>\n",
       "      <td>0.000000</td>\n",
       "      <td>0.000000</td>\n",
       "      <td>0.000000</td>\n",
       "      <td>1.000000</td>\n",
       "      <td>-0.371391</td>\n",
       "      <td>-0.742781</td>\n",
       "      <td>0.534522</td>\n",
       "      <td>0.534522</td>\n",
       "      <td>0.534522</td>\n",
       "    </tr>\n",
       "    <tr>\n",
       "      <th>meta_1</th>\n",
       "      <td>0.371391</td>\n",
       "      <td>0.185695</td>\n",
       "      <td>0.742781</td>\n",
       "      <td>-0.371391</td>\n",
       "      <td>-0.371391</td>\n",
       "      <td>1.000000</td>\n",
       "      <td>0.551724</td>\n",
       "      <td>0.049629</td>\n",
       "      <td>0.049629</td>\n",
       "      <td>0.049629</td>\n",
       "    </tr>\n",
       "    <tr>\n",
       "      <th>meta_2</th>\n",
       "      <td>0.185695</td>\n",
       "      <td>0.371391</td>\n",
       "      <td>0.371391</td>\n",
       "      <td>0.371391</td>\n",
       "      <td>-0.742781</td>\n",
       "      <td>0.551724</td>\n",
       "      <td>1.000000</td>\n",
       "      <td>-0.049629</td>\n",
       "      <td>-0.049629</td>\n",
       "      <td>-0.049629</td>\n",
       "    </tr>\n",
       "    <tr>\n",
       "      <th>reaction_0</th>\n",
       "      <td>0.267261</td>\n",
       "      <td>-0.267261</td>\n",
       "      <td>0.534522</td>\n",
       "      <td>0.534522</td>\n",
       "      <td>0.534522</td>\n",
       "      <td>0.049629</td>\n",
       "      <td>-0.049629</td>\n",
       "      <td>1.000000</td>\n",
       "      <td>1.000000</td>\n",
       "      <td>1.000000</td>\n",
       "    </tr>\n",
       "    <tr>\n",
       "      <th>reaction_1</th>\n",
       "      <td>0.267261</td>\n",
       "      <td>-0.267261</td>\n",
       "      <td>0.534522</td>\n",
       "      <td>0.534522</td>\n",
       "      <td>0.534522</td>\n",
       "      <td>0.049629</td>\n",
       "      <td>-0.049629</td>\n",
       "      <td>1.000000</td>\n",
       "      <td>1.000000</td>\n",
       "      <td>1.000000</td>\n",
       "    </tr>\n",
       "    <tr>\n",
       "      <th>reaction_2</th>\n",
       "      <td>0.267261</td>\n",
       "      <td>-0.267261</td>\n",
       "      <td>0.534522</td>\n",
       "      <td>0.534522</td>\n",
       "      <td>0.534522</td>\n",
       "      <td>0.049629</td>\n",
       "      <td>-0.049629</td>\n",
       "      <td>1.000000</td>\n",
       "      <td>1.000000</td>\n",
       "      <td>1.000000</td>\n",
       "    </tr>\n",
       "  </tbody>\n",
       "</table>\n",
       "</div>"
      ],
      "text/plain": [
       "                        meta_0_para  meta_3_para  enzyme_reaction_0_para  \\\n",
       "meta_0_para                1.000000     0.000000                0.000000   \n",
       "meta_3_para                0.000000     1.000000                0.000000   \n",
       "enzyme_reaction_0_para     0.000000     0.000000                1.000000   \n",
       "enzyme_reaction_1_para     0.000000     0.000000                0.000000   \n",
       "enzyme_reaction_2_para     0.000000     0.000000                0.000000   \n",
       "meta_1                     0.371391     0.185695                0.742781   \n",
       "meta_2                     0.185695     0.371391                0.371391   \n",
       "reaction_0                 0.267261    -0.267261                0.534522   \n",
       "reaction_1                 0.267261    -0.267261                0.534522   \n",
       "reaction_2                 0.267261    -0.267261                0.534522   \n",
       "\n",
       "                        enzyme_reaction_1_para  enzyme_reaction_2_para  \\\n",
       "meta_0_para                           0.000000                0.000000   \n",
       "meta_3_para                           0.000000                0.000000   \n",
       "enzyme_reaction_0_para                0.000000                0.000000   \n",
       "enzyme_reaction_1_para                1.000000                0.000000   \n",
       "enzyme_reaction_2_para                0.000000                1.000000   \n",
       "meta_1                               -0.371391               -0.371391   \n",
       "meta_2                                0.371391               -0.742781   \n",
       "reaction_0                            0.534522                0.534522   \n",
       "reaction_1                            0.534522                0.534522   \n",
       "reaction_2                            0.534522                0.534522   \n",
       "\n",
       "                          meta_1    meta_2  reaction_0  reaction_1  reaction_2  \n",
       "meta_0_para             0.371391  0.185695    0.267261    0.267261    0.267261  \n",
       "meta_3_para             0.185695  0.371391   -0.267261   -0.267261   -0.267261  \n",
       "enzyme_reaction_0_para  0.742781  0.371391    0.534522    0.534522    0.534522  \n",
       "enzyme_reaction_1_para -0.371391  0.371391    0.534522    0.534522    0.534522  \n",
       "enzyme_reaction_2_para -0.371391 -0.742781    0.534522    0.534522    0.534522  \n",
       "meta_1                  1.000000  0.551724    0.049629    0.049629    0.049629  \n",
       "meta_2                  0.551724  1.000000   -0.049629   -0.049629   -0.049629  \n",
       "reaction_0              0.049629 -0.049629    1.000000    1.000000    1.000000  \n",
       "reaction_1              0.049629 -0.049629    1.000000    1.000000    1.000000  \n",
       "reaction_2              0.049629 -0.049629    1.000000    1.000000    1.000000  "
      ]
     },
     "execution_count": 53,
     "metadata": {},
     "output_type": "execute_result"
    }
   ],
   "source": [
    "model.correlation"
   ]
  },
  {
   "cell_type": "markdown",
   "metadata": {},
   "source": [
    "### <font color='white'> [3.4.3] Entropy </font> "
   ]
  },
  {
   "cell_type": "code",
   "execution_count": 54,
   "metadata": {},
   "outputs": [
    {
     "data": {
      "text/html": [
       "<div>\n",
       "<style scoped>\n",
       "    .dataframe tbody tr th:only-of-type {\n",
       "        vertical-align: middle;\n",
       "    }\n",
       "\n",
       "    .dataframe tbody tr th {\n",
       "        vertical-align: top;\n",
       "    }\n",
       "\n",
       "    .dataframe thead th {\n",
       "        text-align: right;\n",
       "    }\n",
       "</style>\n",
       "<table border=\"1\" class=\"dataframe\">\n",
       "  <thead>\n",
       "    <tr style=\"text-align: right;\">\n",
       "      <th></th>\n",
       "      <th>Entropy</th>\n",
       "    </tr>\n",
       "  </thead>\n",
       "  <tbody>\n",
       "    <tr>\n",
       "      <th>meta_0_para</th>\n",
       "      <td>1.918939</td>\n",
       "    </tr>\n",
       "    <tr>\n",
       "      <th>meta_3_para</th>\n",
       "      <td>1.918939</td>\n",
       "    </tr>\n",
       "    <tr>\n",
       "      <th>enzyme_reaction_0_para</th>\n",
       "      <td>1.918939</td>\n",
       "    </tr>\n",
       "    <tr>\n",
       "      <th>enzyme_reaction_1_para</th>\n",
       "      <td>1.918939</td>\n",
       "    </tr>\n",
       "    <tr>\n",
       "      <th>enzyme_reaction_2_para</th>\n",
       "      <td>1.918939</td>\n",
       "    </tr>\n",
       "    <tr>\n",
       "      <th>meta_1</th>\n",
       "      <td>2.503974</td>\n",
       "    </tr>\n",
       "    <tr>\n",
       "      <th>meta_2</th>\n",
       "      <td>2.503974</td>\n",
       "    </tr>\n",
       "    <tr>\n",
       "      <th>reaction_0</th>\n",
       "      <td>1.446708</td>\n",
       "    </tr>\n",
       "    <tr>\n",
       "      <th>reaction_1</th>\n",
       "      <td>1.446708</td>\n",
       "    </tr>\n",
       "    <tr>\n",
       "      <th>reaction_2</th>\n",
       "      <td>1.446708</td>\n",
       "    </tr>\n",
       "  </tbody>\n",
       "</table>\n",
       "</div>"
      ],
      "text/plain": [
       "                         Entropy\n",
       "meta_0_para             1.918939\n",
       "meta_3_para             1.918939\n",
       "enzyme_reaction_0_para  1.918939\n",
       "enzyme_reaction_1_para  1.918939\n",
       "enzyme_reaction_2_para  1.918939\n",
       "meta_1                  2.503974\n",
       "meta_2                  2.503974\n",
       "reaction_0              1.446708\n",
       "reaction_1              1.446708\n",
       "reaction_2              1.446708"
      ]
     },
     "execution_count": 54,
     "metadata": {},
     "output_type": "execute_result"
    }
   ],
   "source": [
    "model.entropy"
   ]
  },
  {
   "cell_type": "markdown",
   "metadata": {},
   "source": [
    "You can also study the entropy between groups of elements of the model"
   ]
  },
  {
   "cell_type": "markdown",
   "metadata": {},
   "source": [
    "Taking as input :\n",
    "- [] -> Every element is studied individually\n",
    "- dict -> name of the groups as keys and list of str of the elements as values\n",
    "- list of list -> list of groups with default names"
   ]
  },
  {
   "cell_type": "code",
   "execution_count": 55,
   "metadata": {},
   "outputs": [
    {
     "data": {
      "text/html": [
       "<div>\n",
       "<style scoped>\n",
       "    .dataframe tbody tr th:only-of-type {\n",
       "        vertical-align: middle;\n",
       "    }\n",
       "\n",
       "    .dataframe tbody tr th {\n",
       "        vertical-align: top;\n",
       "    }\n",
       "\n",
       "    .dataframe thead th {\n",
       "        text-align: right;\n",
       "    }\n",
       "</style>\n",
       "<table border=\"1\" class=\"dataframe\">\n",
       "  <thead>\n",
       "    <tr style=\"text-align: right;\">\n",
       "      <th></th>\n",
       "      <th>Entropy</th>\n",
       "    </tr>\n",
       "  </thead>\n",
       "  <tbody>\n",
       "    <tr>\n",
       "      <th>group_0</th>\n",
       "      <td>3.348703</td>\n",
       "    </tr>\n",
       "    <tr>\n",
       "      <th>group_1</th>\n",
       "      <td>2.197410</td>\n",
       "    </tr>\n",
       "  </tbody>\n",
       "</table>\n",
       "</div>"
      ],
      "text/plain": [
       "          Entropy\n",
       "group_0  3.348703\n",
       "group_1  2.197410"
      ]
     },
     "execution_count": 55,
     "metadata": {},
     "output_type": "execute_result"
    }
   ],
   "source": [
    "model.group_entropy([[\"meta_0_para\", \"meta_1\"],[\"enzyme_reaction_0_para\", \"reaction_2\"]])"
   ]
  },
  {
   "cell_type": "markdown",
   "metadata": {},
   "source": [
    "### <font color='white'> [3.4.4] Conditional entropy </font> "
   ]
  },
  {
   "cell_type": "code",
   "execution_count": 56,
   "metadata": {},
   "outputs": [
    {
     "data": {
      "text/html": [
       "<div>\n",
       "<style scoped>\n",
       "    .dataframe tbody tr th:only-of-type {\n",
       "        vertical-align: middle;\n",
       "    }\n",
       "\n",
       "    .dataframe tbody tr th {\n",
       "        vertical-align: top;\n",
       "    }\n",
       "\n",
       "    .dataframe thead th {\n",
       "        text-align: right;\n",
       "    }\n",
       "</style>\n",
       "<table border=\"1\" class=\"dataframe\">\n",
       "  <thead>\n",
       "    <tr style=\"text-align: right;\">\n",
       "      <th></th>\n",
       "      <th>meta_0_para</th>\n",
       "      <th>meta_3_para</th>\n",
       "      <th>enzyme_reaction_0_para</th>\n",
       "      <th>enzyme_reaction_1_para</th>\n",
       "      <th>enzyme_reaction_2_para</th>\n",
       "      <th>meta_1</th>\n",
       "      <th>meta_2</th>\n",
       "      <th>reaction_0</th>\n",
       "      <th>reaction_1</th>\n",
       "      <th>reaction_2</th>\n",
       "    </tr>\n",
       "  </thead>\n",
       "  <tbody>\n",
       "    <tr>\n",
       "      <th>meta_0_para</th>\n",
       "      <td>-inf</td>\n",
       "      <td>1.918939</td>\n",
       "      <td>1.918939</td>\n",
       "      <td>1.918939</td>\n",
       "      <td>1.918939</td>\n",
       "      <td>1.844729</td>\n",
       "      <td>1.901393</td>\n",
       "      <td>1.881885</td>\n",
       "      <td>1.881885</td>\n",
       "      <td>1.881885</td>\n",
       "    </tr>\n",
       "    <tr>\n",
       "      <th>meta_3_para</th>\n",
       "      <td>1.918939</td>\n",
       "      <td>-inf</td>\n",
       "      <td>1.918939</td>\n",
       "      <td>1.918939</td>\n",
       "      <td>1.918939</td>\n",
       "      <td>1.901393</td>\n",
       "      <td>1.844729</td>\n",
       "      <td>1.881885</td>\n",
       "      <td>1.881885</td>\n",
       "      <td>1.881885</td>\n",
       "    </tr>\n",
       "    <tr>\n",
       "      <th>enzyme_reaction_0_para</th>\n",
       "      <td>1.918939</td>\n",
       "      <td>1.918939</td>\n",
       "      <td>-inf</td>\n",
       "      <td>1.918939</td>\n",
       "      <td>1.918939</td>\n",
       "      <td>1.517765</td>\n",
       "      <td>1.844729</td>\n",
       "      <td>1.750702</td>\n",
       "      <td>1.750702</td>\n",
       "      <td>1.750702</td>\n",
       "    </tr>\n",
       "    <tr>\n",
       "      <th>enzyme_reaction_1_para</th>\n",
       "      <td>1.918939</td>\n",
       "      <td>1.918939</td>\n",
       "      <td>1.918939</td>\n",
       "      <td>-inf</td>\n",
       "      <td>1.918939</td>\n",
       "      <td>1.844729</td>\n",
       "      <td>1.844729</td>\n",
       "      <td>1.750702</td>\n",
       "      <td>1.750702</td>\n",
       "      <td>1.750702</td>\n",
       "    </tr>\n",
       "    <tr>\n",
       "      <th>enzyme_reaction_2_para</th>\n",
       "      <td>1.918939</td>\n",
       "      <td>1.918939</td>\n",
       "      <td>1.918939</td>\n",
       "      <td>1.918939</td>\n",
       "      <td>-inf</td>\n",
       "      <td>1.844729</td>\n",
       "      <td>1.517765</td>\n",
       "      <td>1.750702</td>\n",
       "      <td>1.750702</td>\n",
       "      <td>1.750702</td>\n",
       "    </tr>\n",
       "    <tr>\n",
       "      <th>meta_1</th>\n",
       "      <td>2.429764</td>\n",
       "      <td>2.486428</td>\n",
       "      <td>2.102801</td>\n",
       "      <td>2.429764</td>\n",
       "      <td>2.429764</td>\n",
       "      <td>-inf</td>\n",
       "      <td>2.322484</td>\n",
       "      <td>2.502741</td>\n",
       "      <td>2.502741</td>\n",
       "      <td>2.502741</td>\n",
       "    </tr>\n",
       "    <tr>\n",
       "      <th>meta_2</th>\n",
       "      <td>2.486428</td>\n",
       "      <td>2.429764</td>\n",
       "      <td>2.429764</td>\n",
       "      <td>2.429764</td>\n",
       "      <td>2.102801</td>\n",
       "      <td>2.322484</td>\n",
       "      <td>-inf</td>\n",
       "      <td>2.502741</td>\n",
       "      <td>2.502741</td>\n",
       "      <td>2.502741</td>\n",
       "    </tr>\n",
       "    <tr>\n",
       "      <th>reaction_0</th>\n",
       "      <td>1.409654</td>\n",
       "      <td>1.409654</td>\n",
       "      <td>1.278472</td>\n",
       "      <td>1.278472</td>\n",
       "      <td>1.278472</td>\n",
       "      <td>1.445475</td>\n",
       "      <td>1.445475</td>\n",
       "      <td>-inf</td>\n",
       "      <td>-inf</td>\n",
       "      <td>-inf</td>\n",
       "    </tr>\n",
       "    <tr>\n",
       "      <th>reaction_1</th>\n",
       "      <td>1.409654</td>\n",
       "      <td>1.409654</td>\n",
       "      <td>1.278472</td>\n",
       "      <td>1.278472</td>\n",
       "      <td>1.278472</td>\n",
       "      <td>1.445475</td>\n",
       "      <td>1.445475</td>\n",
       "      <td>-inf</td>\n",
       "      <td>-inf</td>\n",
       "      <td>-inf</td>\n",
       "    </tr>\n",
       "    <tr>\n",
       "      <th>reaction_2</th>\n",
       "      <td>1.409654</td>\n",
       "      <td>1.409654</td>\n",
       "      <td>1.278472</td>\n",
       "      <td>1.278472</td>\n",
       "      <td>1.278472</td>\n",
       "      <td>1.445475</td>\n",
       "      <td>1.445475</td>\n",
       "      <td>-inf</td>\n",
       "      <td>-inf</td>\n",
       "      <td>-inf</td>\n",
       "    </tr>\n",
       "  </tbody>\n",
       "</table>\n",
       "</div>"
      ],
      "text/plain": [
       "                        meta_0_para  meta_3_para  enzyme_reaction_0_para  \\\n",
       "meta_0_para                    -inf     1.918939                1.918939   \n",
       "meta_3_para                1.918939         -inf                1.918939   \n",
       "enzyme_reaction_0_para     1.918939     1.918939                    -inf   \n",
       "enzyme_reaction_1_para     1.918939     1.918939                1.918939   \n",
       "enzyme_reaction_2_para     1.918939     1.918939                1.918939   \n",
       "meta_1                     2.429764     2.486428                2.102801   \n",
       "meta_2                     2.486428     2.429764                2.429764   \n",
       "reaction_0                 1.409654     1.409654                1.278472   \n",
       "reaction_1                 1.409654     1.409654                1.278472   \n",
       "reaction_2                 1.409654     1.409654                1.278472   \n",
       "\n",
       "                        enzyme_reaction_1_para  enzyme_reaction_2_para  \\\n",
       "meta_0_para                           1.918939                1.918939   \n",
       "meta_3_para                           1.918939                1.918939   \n",
       "enzyme_reaction_0_para                1.918939                1.918939   \n",
       "enzyme_reaction_1_para                    -inf                1.918939   \n",
       "enzyme_reaction_2_para                1.918939                    -inf   \n",
       "meta_1                                2.429764                2.429764   \n",
       "meta_2                                2.429764                2.102801   \n",
       "reaction_0                            1.278472                1.278472   \n",
       "reaction_1                            1.278472                1.278472   \n",
       "reaction_2                            1.278472                1.278472   \n",
       "\n",
       "                          meta_1    meta_2  reaction_0  reaction_1  reaction_2  \n",
       "meta_0_para             1.844729  1.901393    1.881885    1.881885    1.881885  \n",
       "meta_3_para             1.901393  1.844729    1.881885    1.881885    1.881885  \n",
       "enzyme_reaction_0_para  1.517765  1.844729    1.750702    1.750702    1.750702  \n",
       "enzyme_reaction_1_para  1.844729  1.844729    1.750702    1.750702    1.750702  \n",
       "enzyme_reaction_2_para  1.844729  1.517765    1.750702    1.750702    1.750702  \n",
       "meta_1                      -inf  2.322484    2.502741    2.502741    2.502741  \n",
       "meta_2                  2.322484      -inf    2.502741    2.502741    2.502741  \n",
       "reaction_0              1.445475  1.445475        -inf        -inf        -inf  \n",
       "reaction_1              1.445475  1.445475        -inf        -inf        -inf  \n",
       "reaction_2              1.445475  1.445475        -inf        -inf        -inf  "
      ]
     },
     "execution_count": 56,
     "metadata": {},
     "output_type": "execute_result"
    }
   ],
   "source": [
    "model.entropy_conditional"
   ]
  },
  {
   "cell_type": "markdown",
   "metadata": {},
   "source": [
    "### <font color='white'> [3.4.5] Joint entropy </font> "
   ]
  },
  {
   "cell_type": "code",
   "execution_count": 57,
   "metadata": {},
   "outputs": [
    {
     "data": {
      "text/html": [
       "<div>\n",
       "<style scoped>\n",
       "    .dataframe tbody tr th:only-of-type {\n",
       "        vertical-align: middle;\n",
       "    }\n",
       "\n",
       "    .dataframe tbody tr th {\n",
       "        vertical-align: top;\n",
       "    }\n",
       "\n",
       "    .dataframe thead th {\n",
       "        text-align: right;\n",
       "    }\n",
       "</style>\n",
       "<table border=\"1\" class=\"dataframe\">\n",
       "  <thead>\n",
       "    <tr style=\"text-align: right;\">\n",
       "      <th></th>\n",
       "      <th>meta_0_para</th>\n",
       "      <th>meta_3_para</th>\n",
       "      <th>enzyme_reaction_0_para</th>\n",
       "      <th>enzyme_reaction_1_para</th>\n",
       "      <th>enzyme_reaction_2_para</th>\n",
       "      <th>meta_1</th>\n",
       "      <th>meta_2</th>\n",
       "      <th>reaction_0</th>\n",
       "      <th>reaction_1</th>\n",
       "      <th>reaction_2</th>\n",
       "    </tr>\n",
       "  </thead>\n",
       "  <tbody>\n",
       "    <tr>\n",
       "      <th>meta_0_para</th>\n",
       "      <td>inf</td>\n",
       "      <td>2.837877</td>\n",
       "      <td>2.837877</td>\n",
       "      <td>2.837877</td>\n",
       "      <td>2.837877</td>\n",
       "      <td>3.348703</td>\n",
       "      <td>3.405367</td>\n",
       "      <td>2.328592</td>\n",
       "      <td>2.328592</td>\n",
       "      <td>2.328592</td>\n",
       "    </tr>\n",
       "    <tr>\n",
       "      <th>meta_3_para</th>\n",
       "      <td>2.837877</td>\n",
       "      <td>inf</td>\n",
       "      <td>2.837877</td>\n",
       "      <td>2.837877</td>\n",
       "      <td>2.837877</td>\n",
       "      <td>3.405367</td>\n",
       "      <td>3.348703</td>\n",
       "      <td>2.328592</td>\n",
       "      <td>2.328592</td>\n",
       "      <td>2.328592</td>\n",
       "    </tr>\n",
       "    <tr>\n",
       "      <th>enzyme_reaction_0_para</th>\n",
       "      <td>2.837877</td>\n",
       "      <td>2.837877</td>\n",
       "      <td>inf</td>\n",
       "      <td>2.837877</td>\n",
       "      <td>2.837877</td>\n",
       "      <td>3.021739</td>\n",
       "      <td>3.348703</td>\n",
       "      <td>2.197410</td>\n",
       "      <td>2.197410</td>\n",
       "      <td>2.197410</td>\n",
       "    </tr>\n",
       "    <tr>\n",
       "      <th>enzyme_reaction_1_para</th>\n",
       "      <td>2.837877</td>\n",
       "      <td>2.837877</td>\n",
       "      <td>2.837877</td>\n",
       "      <td>inf</td>\n",
       "      <td>2.837877</td>\n",
       "      <td>3.348703</td>\n",
       "      <td>3.348703</td>\n",
       "      <td>2.197410</td>\n",
       "      <td>2.197410</td>\n",
       "      <td>2.197410</td>\n",
       "    </tr>\n",
       "    <tr>\n",
       "      <th>enzyme_reaction_2_para</th>\n",
       "      <td>2.837877</td>\n",
       "      <td>2.837877</td>\n",
       "      <td>2.837877</td>\n",
       "      <td>2.837877</td>\n",
       "      <td>inf</td>\n",
       "      <td>3.348703</td>\n",
       "      <td>3.021739</td>\n",
       "      <td>2.197410</td>\n",
       "      <td>2.197410</td>\n",
       "      <td>2.197410</td>\n",
       "    </tr>\n",
       "    <tr>\n",
       "      <th>meta_1</th>\n",
       "      <td>3.348703</td>\n",
       "      <td>3.405367</td>\n",
       "      <td>3.021739</td>\n",
       "      <td>3.348703</td>\n",
       "      <td>3.348703</td>\n",
       "      <td>inf</td>\n",
       "      <td>3.826458</td>\n",
       "      <td>2.949449</td>\n",
       "      <td>2.949449</td>\n",
       "      <td>2.949449</td>\n",
       "    </tr>\n",
       "    <tr>\n",
       "      <th>meta_2</th>\n",
       "      <td>3.405367</td>\n",
       "      <td>3.348703</td>\n",
       "      <td>3.348703</td>\n",
       "      <td>3.348703</td>\n",
       "      <td>3.021739</td>\n",
       "      <td>3.826458</td>\n",
       "      <td>inf</td>\n",
       "      <td>2.949449</td>\n",
       "      <td>2.949449</td>\n",
       "      <td>2.949449</td>\n",
       "    </tr>\n",
       "    <tr>\n",
       "      <th>reaction_0</th>\n",
       "      <td>2.328592</td>\n",
       "      <td>2.328592</td>\n",
       "      <td>2.197410</td>\n",
       "      <td>2.197410</td>\n",
       "      <td>2.197410</td>\n",
       "      <td>2.949449</td>\n",
       "      <td>2.949449</td>\n",
       "      <td>inf</td>\n",
       "      <td>inf</td>\n",
       "      <td>inf</td>\n",
       "    </tr>\n",
       "    <tr>\n",
       "      <th>reaction_1</th>\n",
       "      <td>2.328592</td>\n",
       "      <td>2.328592</td>\n",
       "      <td>2.197410</td>\n",
       "      <td>2.197410</td>\n",
       "      <td>2.197410</td>\n",
       "      <td>2.949449</td>\n",
       "      <td>2.949449</td>\n",
       "      <td>inf</td>\n",
       "      <td>inf</td>\n",
       "      <td>inf</td>\n",
       "    </tr>\n",
       "    <tr>\n",
       "      <th>reaction_2</th>\n",
       "      <td>2.328592</td>\n",
       "      <td>2.328592</td>\n",
       "      <td>2.197410</td>\n",
       "      <td>2.197410</td>\n",
       "      <td>2.197410</td>\n",
       "      <td>2.949449</td>\n",
       "      <td>2.949449</td>\n",
       "      <td>inf</td>\n",
       "      <td>inf</td>\n",
       "      <td>inf</td>\n",
       "    </tr>\n",
       "  </tbody>\n",
       "</table>\n",
       "</div>"
      ],
      "text/plain": [
       "                        meta_0_para  meta_3_para  enzyme_reaction_0_para  \\\n",
       "meta_0_para                     inf     2.837877                2.837877   \n",
       "meta_3_para                2.837877          inf                2.837877   \n",
       "enzyme_reaction_0_para     2.837877     2.837877                     inf   \n",
       "enzyme_reaction_1_para     2.837877     2.837877                2.837877   \n",
       "enzyme_reaction_2_para     2.837877     2.837877                2.837877   \n",
       "meta_1                     3.348703     3.405367                3.021739   \n",
       "meta_2                     3.405367     3.348703                3.348703   \n",
       "reaction_0                 2.328592     2.328592                2.197410   \n",
       "reaction_1                 2.328592     2.328592                2.197410   \n",
       "reaction_2                 2.328592     2.328592                2.197410   \n",
       "\n",
       "                        enzyme_reaction_1_para  enzyme_reaction_2_para  \\\n",
       "meta_0_para                           2.837877                2.837877   \n",
       "meta_3_para                           2.837877                2.837877   \n",
       "enzyme_reaction_0_para                2.837877                2.837877   \n",
       "enzyme_reaction_1_para                     inf                2.837877   \n",
       "enzyme_reaction_2_para                2.837877                     inf   \n",
       "meta_1                                3.348703                3.348703   \n",
       "meta_2                                3.348703                3.021739   \n",
       "reaction_0                            2.197410                2.197410   \n",
       "reaction_1                            2.197410                2.197410   \n",
       "reaction_2                            2.197410                2.197410   \n",
       "\n",
       "                          meta_1    meta_2  reaction_0  reaction_1  reaction_2  \n",
       "meta_0_para             3.348703  3.405367    2.328592    2.328592    2.328592  \n",
       "meta_3_para             3.405367  3.348703    2.328592    2.328592    2.328592  \n",
       "enzyme_reaction_0_para  3.021739  3.348703    2.197410    2.197410    2.197410  \n",
       "enzyme_reaction_1_para  3.348703  3.348703    2.197410    2.197410    2.197410  \n",
       "enzyme_reaction_2_para  3.348703  3.021739    2.197410    2.197410    2.197410  \n",
       "meta_1                       inf  3.826458    2.949449    2.949449    2.949449  \n",
       "meta_2                  3.826458       inf    2.949449    2.949449    2.949449  \n",
       "reaction_0              2.949449  2.949449         inf         inf         inf  \n",
       "reaction_1              2.949449  2.949449         inf         inf         inf  \n",
       "reaction_2              2.949449  2.949449         inf         inf         inf  "
      ]
     },
     "execution_count": 57,
     "metadata": {},
     "output_type": "execute_result"
    }
   ],
   "source": [
    "model.joint_entropy"
   ]
  },
  {
   "cell_type": "markdown",
   "metadata": {},
   "source": [
    "### <font color='white'> [3.4.6] Mutual Information </font> "
   ]
  },
  {
   "cell_type": "code",
   "execution_count": 58,
   "metadata": {},
   "outputs": [
    {
     "data": {
      "text/html": [
       "<div>\n",
       "<style scoped>\n",
       "    .dataframe tbody tr th:only-of-type {\n",
       "        vertical-align: middle;\n",
       "    }\n",
       "\n",
       "    .dataframe tbody tr th {\n",
       "        vertical-align: top;\n",
       "    }\n",
       "\n",
       "    .dataframe thead th {\n",
       "        text-align: right;\n",
       "    }\n",
       "</style>\n",
       "<table border=\"1\" class=\"dataframe\">\n",
       "  <thead>\n",
       "    <tr style=\"text-align: right;\">\n",
       "      <th></th>\n",
       "      <th>meta_0_para</th>\n",
       "      <th>meta_3_para</th>\n",
       "      <th>enzyme_reaction_0_para</th>\n",
       "      <th>enzyme_reaction_1_para</th>\n",
       "      <th>enzyme_reaction_2_para</th>\n",
       "      <th>meta_1</th>\n",
       "      <th>meta_2</th>\n",
       "      <th>reaction_0</th>\n",
       "      <th>reaction_1</th>\n",
       "      <th>reaction_2</th>\n",
       "    </tr>\n",
       "  </thead>\n",
       "  <tbody>\n",
       "    <tr>\n",
       "      <th>meta_0_para</th>\n",
       "      <td>inf</td>\n",
       "      <td>-0.000000</td>\n",
       "      <td>-0.000000</td>\n",
       "      <td>-0.000000</td>\n",
       "      <td>-0.000000</td>\n",
       "      <td>0.074210</td>\n",
       "      <td>0.017546</td>\n",
       "      <td>0.037054</td>\n",
       "      <td>0.037054</td>\n",
       "      <td>0.037054</td>\n",
       "    </tr>\n",
       "    <tr>\n",
       "      <th>meta_3_para</th>\n",
       "      <td>-0.000000</td>\n",
       "      <td>inf</td>\n",
       "      <td>-0.000000</td>\n",
       "      <td>-0.000000</td>\n",
       "      <td>-0.000000</td>\n",
       "      <td>0.017546</td>\n",
       "      <td>0.074210</td>\n",
       "      <td>0.037054</td>\n",
       "      <td>0.037054</td>\n",
       "      <td>0.037054</td>\n",
       "    </tr>\n",
       "    <tr>\n",
       "      <th>enzyme_reaction_0_para</th>\n",
       "      <td>-0.000000</td>\n",
       "      <td>-0.000000</td>\n",
       "      <td>inf</td>\n",
       "      <td>-0.000000</td>\n",
       "      <td>-0.000000</td>\n",
       "      <td>0.401173</td>\n",
       "      <td>0.074210</td>\n",
       "      <td>0.168236</td>\n",
       "      <td>0.168236</td>\n",
       "      <td>0.168236</td>\n",
       "    </tr>\n",
       "    <tr>\n",
       "      <th>enzyme_reaction_1_para</th>\n",
       "      <td>-0.000000</td>\n",
       "      <td>-0.000000</td>\n",
       "      <td>-0.000000</td>\n",
       "      <td>inf</td>\n",
       "      <td>-0.000000</td>\n",
       "      <td>0.074210</td>\n",
       "      <td>0.074210</td>\n",
       "      <td>0.168236</td>\n",
       "      <td>0.168236</td>\n",
       "      <td>0.168236</td>\n",
       "    </tr>\n",
       "    <tr>\n",
       "      <th>enzyme_reaction_2_para</th>\n",
       "      <td>-0.000000</td>\n",
       "      <td>-0.000000</td>\n",
       "      <td>-0.000000</td>\n",
       "      <td>-0.000000</td>\n",
       "      <td>inf</td>\n",
       "      <td>0.074210</td>\n",
       "      <td>0.401173</td>\n",
       "      <td>0.168236</td>\n",
       "      <td>0.168236</td>\n",
       "      <td>0.168236</td>\n",
       "    </tr>\n",
       "    <tr>\n",
       "      <th>meta_1</th>\n",
       "      <td>0.074210</td>\n",
       "      <td>0.017546</td>\n",
       "      <td>0.401173</td>\n",
       "      <td>0.074210</td>\n",
       "      <td>0.074210</td>\n",
       "      <td>inf</td>\n",
       "      <td>0.181490</td>\n",
       "      <td>0.001233</td>\n",
       "      <td>0.001233</td>\n",
       "      <td>0.001233</td>\n",
       "    </tr>\n",
       "    <tr>\n",
       "      <th>meta_2</th>\n",
       "      <td>0.017546</td>\n",
       "      <td>0.074210</td>\n",
       "      <td>0.074210</td>\n",
       "      <td>0.074210</td>\n",
       "      <td>0.401173</td>\n",
       "      <td>0.181490</td>\n",
       "      <td>inf</td>\n",
       "      <td>0.001233</td>\n",
       "      <td>0.001233</td>\n",
       "      <td>0.001233</td>\n",
       "    </tr>\n",
       "    <tr>\n",
       "      <th>reaction_0</th>\n",
       "      <td>0.037054</td>\n",
       "      <td>0.037054</td>\n",
       "      <td>0.168236</td>\n",
       "      <td>0.168236</td>\n",
       "      <td>0.168236</td>\n",
       "      <td>0.001233</td>\n",
       "      <td>0.001233</td>\n",
       "      <td>inf</td>\n",
       "      <td>inf</td>\n",
       "      <td>inf</td>\n",
       "    </tr>\n",
       "    <tr>\n",
       "      <th>reaction_1</th>\n",
       "      <td>0.037054</td>\n",
       "      <td>0.037054</td>\n",
       "      <td>0.168236</td>\n",
       "      <td>0.168236</td>\n",
       "      <td>0.168236</td>\n",
       "      <td>0.001233</td>\n",
       "      <td>0.001233</td>\n",
       "      <td>inf</td>\n",
       "      <td>inf</td>\n",
       "      <td>inf</td>\n",
       "    </tr>\n",
       "    <tr>\n",
       "      <th>reaction_2</th>\n",
       "      <td>0.037054</td>\n",
       "      <td>0.037054</td>\n",
       "      <td>0.168236</td>\n",
       "      <td>0.168236</td>\n",
       "      <td>0.168236</td>\n",
       "      <td>0.001233</td>\n",
       "      <td>0.001233</td>\n",
       "      <td>inf</td>\n",
       "      <td>inf</td>\n",
       "      <td>inf</td>\n",
       "    </tr>\n",
       "  </tbody>\n",
       "</table>\n",
       "</div>"
      ],
      "text/plain": [
       "                        meta_0_para  meta_3_para  enzyme_reaction_0_para  \\\n",
       "meta_0_para                     inf    -0.000000               -0.000000   \n",
       "meta_3_para               -0.000000          inf               -0.000000   \n",
       "enzyme_reaction_0_para    -0.000000    -0.000000                     inf   \n",
       "enzyme_reaction_1_para    -0.000000    -0.000000               -0.000000   \n",
       "enzyme_reaction_2_para    -0.000000    -0.000000               -0.000000   \n",
       "meta_1                     0.074210     0.017546                0.401173   \n",
       "meta_2                     0.017546     0.074210                0.074210   \n",
       "reaction_0                 0.037054     0.037054                0.168236   \n",
       "reaction_1                 0.037054     0.037054                0.168236   \n",
       "reaction_2                 0.037054     0.037054                0.168236   \n",
       "\n",
       "                        enzyme_reaction_1_para  enzyme_reaction_2_para  \\\n",
       "meta_0_para                          -0.000000               -0.000000   \n",
       "meta_3_para                          -0.000000               -0.000000   \n",
       "enzyme_reaction_0_para               -0.000000               -0.000000   \n",
       "enzyme_reaction_1_para                     inf               -0.000000   \n",
       "enzyme_reaction_2_para               -0.000000                     inf   \n",
       "meta_1                                0.074210                0.074210   \n",
       "meta_2                                0.074210                0.401173   \n",
       "reaction_0                            0.168236                0.168236   \n",
       "reaction_1                            0.168236                0.168236   \n",
       "reaction_2                            0.168236                0.168236   \n",
       "\n",
       "                          meta_1    meta_2  reaction_0  reaction_1  reaction_2  \n",
       "meta_0_para             0.074210  0.017546    0.037054    0.037054    0.037054  \n",
       "meta_3_para             0.017546  0.074210    0.037054    0.037054    0.037054  \n",
       "enzyme_reaction_0_para  0.401173  0.074210    0.168236    0.168236    0.168236  \n",
       "enzyme_reaction_1_para  0.074210  0.074210    0.168236    0.168236    0.168236  \n",
       "enzyme_reaction_2_para  0.074210  0.401173    0.168236    0.168236    0.168236  \n",
       "meta_1                       inf  0.181490    0.001233    0.001233    0.001233  \n",
       "meta_2                  0.181490       inf    0.001233    0.001233    0.001233  \n",
       "reaction_0              0.001233  0.001233         inf         inf         inf  \n",
       "reaction_1              0.001233  0.001233         inf         inf         inf  \n",
       "reaction_2              0.001233  0.001233         inf         inf         inf  "
      ]
     },
     "execution_count": 58,
     "metadata": {},
     "output_type": "execute_result"
    }
   ],
   "source": [
    "model.MI"
   ]
  },
  {
   "cell_type": "markdown",
   "metadata": {},
   "source": [
    "You can also plot a histogram of the mutual information and conditional entropy (the sum represents its entropy) of a certain element with every other elements of the model"
   ]
  },
  {
   "cell_type": "code",
   "execution_count": 59,
   "metadata": {},
   "outputs": [
    {
     "data": {
      "image/png": "[encoded data removed]",
      "text/plain": [
       "<Figure size 640x480 with 1 Axes>"
      ]
     },
     "metadata": {},
     "output_type": "display_data"
    }
   ],
   "source": [
    "model.plot_entropy(\"meta_1\")"
   ]
  },
  {
   "cell_type": "markdown",
   "metadata": {},
   "source": [
    "or you can do the inverse and plot a histogram of every elements of the model compare to an certain element"
   ]
  },
  {
   "cell_type": "code",
   "execution_count": 60,
   "metadata": {},
   "outputs": [
    {
     "data": {
      "image/png": "[encoded data removed]",
      "text/plain": [
       "<Figure size 640x480 with 1 Axes>"
      ]
     },
     "metadata": {},
     "output_type": "display_data"
    }
   ],
   "source": [
    "model.plot_entropy(\"meta_1\", reversed=True)"
   ]
  },
  {
   "cell_type": "markdown",
   "metadata": {},
   "source": [
    "## <font color='green'> [3.5] Sampling </font> \n"
   ]
  },
  {
   "cell_type": "markdown",
   "metadata": {},
   "source": [
    "You can sample some data from the model and look for the mean value of the correlation or mutual information matrix"
   ]
  },
  {
   "cell_type": "markdown",
   "metadata": {},
   "source": [
    "### <font color='white'> [3.5.1] Updating the dataframe of the sampling data </font> "
   ]
  },
  {
   "cell_type": "code",
   "execution_count": 61,
   "metadata": {},
   "outputs": [
    {
     "data": {
      "text/html": [
       "<div>\n",
       "<style scoped>\n",
       "    .dataframe tbody tr th:only-of-type {\n",
       "        vertical-align: middle;\n",
       "    }\n",
       "\n",
       "    .dataframe tbody tr th {\n",
       "        vertical-align: top;\n",
       "    }\n",
       "\n",
       "    .dataframe thead th {\n",
       "        text-align: right;\n",
       "    }\n",
       "</style>\n",
       "<table border=\"1\" class=\"dataframe\">\n",
       "  <thead>\n",
       "    <tr style=\"text-align: right;\">\n",
       "      <th></th>\n",
       "      <th>Name</th>\n",
       "      <th>Type</th>\n",
       "      <th>Mean</th>\n",
       "      <th>Standard deviation</th>\n",
       "      <th>Distribution</th>\n",
       "    </tr>\n",
       "  </thead>\n",
       "  <tbody>\n",
       "  </tbody>\n",
       "</table>\n",
       "</div>"
      ],
      "text/plain": [
       "Empty DataFrame\n",
       "Columns: [Name, Type, Mean, Standard deviation, Distribution]\n",
       "Index: []"
      ]
     },
     "execution_count": 61,
     "metadata": {},
     "output_type": "execute_result"
    }
   ],
   "source": [
    "model.data_sampling"
   ]
  },
  {
   "cell_type": "markdown",
   "metadata": {},
   "source": [
    "You have to add to the sampling dataframe the element of the model that you want to sample"
   ]
  },
  {
   "cell_type": "code",
   "execution_count": 62,
   "metadata": {},
   "outputs": [
    {
     "data": {
      "text/html": [
       "<div>\n",
       "<style scoped>\n",
       "    .dataframe tbody tr th:only-of-type {\n",
       "        vertical-align: middle;\n",
       "    }\n",
       "\n",
       "    .dataframe tbody tr th {\n",
       "        vertical-align: top;\n",
       "    }\n",
       "\n",
       "    .dataframe thead th {\n",
       "        text-align: right;\n",
       "    }\n",
       "</style>\n",
       "<table border=\"1\" class=\"dataframe\">\n",
       "  <thead>\n",
       "    <tr style=\"text-align: right;\">\n",
       "      <th></th>\n",
       "      <th>Name</th>\n",
       "      <th>Type</th>\n",
       "      <th>Mean</th>\n",
       "      <th>Standard deviation</th>\n",
       "      <th>Distribution</th>\n",
       "    </tr>\n",
       "  </thead>\n",
       "  <tbody>\n",
       "    <tr>\n",
       "      <th>0</th>\n",
       "      <td>[reaction_0, enzyme_reaction_1_para]</td>\n",
       "      <td>elasticity_p</td>\n",
       "      <td>0.0</td>\n",
       "      <td>1</td>\n",
       "      <td>uniform</td>\n",
       "    </tr>\n",
       "  </tbody>\n",
       "</table>\n",
       "</div>"
      ],
      "text/plain": [
       "                                   Name          Type  Mean  \\\n",
       "0  [reaction_0, enzyme_reaction_1_para]  elasticity_p   0.0   \n",
       "\n",
       "   Standard deviation Distribution  \n",
       "0                   1      uniform  "
      ]
     },
     "execution_count": 62,
     "metadata": {},
     "output_type": "execute_result"
    }
   ],
   "source": [
    "model.add_sampling_data([\"reaction_0\",\"enzyme_reaction_1_para\"], \"elasticity_p\", mean = True)\n",
    "\n",
    "model.data_sampling"
   ]
  },
  {
   "cell_type": "markdown",
   "metadata": {},
   "source": [
    "### <font color='white'> [3.5.2] Launch of the sampling loop </font> "
   ]
  },
  {
   "cell_type": "code",
   "execution_count": 63,
   "metadata": {},
   "outputs": [
    {
     "name": "stdout",
     "output_type": "stream",
     "text": [
      "running time of the code : 0.018898725509643555 \n",
      "So 0.0018898725509643554 per occurences !\n"
     ]
    },
    {
     "data": {
      "text/plain": [
       "array([[ 1.        ,  0.        ,  0.        ,  0.        ,  0.        ,\n",
       "         0.37139068,  0.18569534,  0.26726124,  0.26726124,  0.26726124],\n",
       "       [ 0.        ,  1.        ,  0.        ,  0.        ,  0.        ,\n",
       "         0.18569534,  0.37139068, -0.26726124, -0.26726124, -0.26726124],\n",
       "       [ 0.        ,  0.        ,  1.        ,  0.        ,  0.        ,\n",
       "         0.74278135,  0.37139068,  0.53452248,  0.53452248,  0.53452248],\n",
       "       [ 0.        ,  0.        ,  0.        ,  1.        ,  0.        ,\n",
       "        -0.37139068,  0.37139068,  0.53452248,  0.53452248,  0.53452248],\n",
       "       [ 0.        ,  0.        ,  0.        ,  0.        ,  1.        ,\n",
       "        -0.37139068, -0.74278135,  0.53452248,  0.53452248,  0.53452248],\n",
       "       [ 0.37139068,  0.18569534,  0.74278135, -0.37139068, -0.37139068,\n",
       "         1.        ,  0.55172414,  0.04962917,  0.04962917,  0.04962917],\n",
       "       [ 0.18569534,  0.37139068,  0.37139068,  0.37139068, -0.74278135,\n",
       "         0.55172414,  1.        , -0.04962917, -0.04962917, -0.04962917],\n",
       "       [ 0.26726124, -0.26726124,  0.53452248,  0.53452248,  0.53452248,\n",
       "         0.04962917, -0.04962917,  1.        ,  1.        ,  1.        ],\n",
       "       [ 0.26726124, -0.26726124,  0.53452248,  0.53452248,  0.53452248,\n",
       "         0.04962917, -0.04962917,  1.        ,  1.        ,  1.        ],\n",
       "       [ 0.26726124, -0.26726124,  0.53452248,  0.53452248,  0.53452248,\n",
       "         0.04962917, -0.04962917,  1.        ,  1.        ,  1.        ]])"
      ]
     },
     "execution_count": 63,
     "metadata": {},
     "output_type": "execute_result"
    }
   ],
   "source": [
    "model.sampling(N=10, result=\"rho\", seed_constant=False)"
   ]
  },
  {
   "cell_type": "markdown",
   "metadata": {},
   "source": [
    "# <font color='red'> [4] Graph of the result </font> "
   ]
  },
  {
   "cell_type": "markdown",
   "metadata": {},
   "source": [
    "## <font color='green'> [4.1] Heat map </font> \n"
   ]
  },
  {
   "cell_type": "markdown",
   "metadata": {},
   "source": [
    "You can display some previous results on a heat map"
   ]
  },
  {
   "cell_type": "code",
   "execution_count": 64,
   "metadata": {},
   "outputs": [
    {
     "data": {
      "image/png": "[encoded data removed]",
      "text/plain": [
       "<Figure size 640x480 with 2 Axes>"
      ]
     },
     "metadata": {},
     "output_type": "display_data"
    },
    {
     "data": {
      "text/plain": [
       "(<Figure size 640x480 with 2 Axes>,\n",
       " <AxesSubplot: title={'center': 'Corelation'}>,\n",
       " <matplotlib.image.AxesImage at 0x7167281ba470>)"
      ]
     },
     "execution_count": 64,
     "metadata": {},
     "output_type": "execute_result"
    }
   ],
   "source": [
    "model.plot(result=\"rho\", title=\"Corelation\")"
   ]
  },
  {
   "cell_type": "markdown",
   "metadata": {},
   "source": [
    "## <font color='green'> [4.2] Boxplot </font> \n"
   ]
  },
  {
   "cell_type": "markdown",
   "metadata": {},
   "source": [
    "You can open a window to display a graphic interface to study the influence of the fixation of a variable"
   ]
  },
  {
   "cell_type": "code",
   "execution_count": 65,
   "metadata": {},
   "outputs": [],
   "source": [
    "#model.graphic_interface()"
   ]
  },
  {
   "cell_type": "markdown",
   "metadata": {},
   "source": [
    "If you want to study the influence of multiple fixations of elements, use .boxplot() or .group_entropy_fixed_vector instead"
   ]
  },
  {
   "cell_type": "markdown",
   "metadata": {},
   "source": [
    "## <font color='green'> [4.3] Eschermap </font> \n"
   ]
  },
  {
   "cell_type": "markdown",
   "metadata": {},
   "source": [
    "If you have a model file and a map file (both in .json), you can display things on an Esher map"
   ]
  },
  {
   "cell_type": "code",
   "execution_count": 66,
   "metadata": {},
   "outputs": [],
   "source": [
    "model_path = \"../Exemples/linear/model_linear.json\"\n",
    "map_path = \"../Exemples/linear/map_linear.json\""
   ]
  },
  {
   "cell_type": "markdown",
   "metadata": {},
   "source": [
    "### <font color='white'> [4.3.1] Display the reference state </font> "
   ]
  },
  {
   "cell_type": "code",
   "execution_count": 67,
   "metadata": {},
   "outputs": [
    {
     "data": {
      "application/vnd.jupyter.widget-view+json": {
       "model_id": "1991ef42f8db4d31a7d1fd022a0cb418",
       "version_major": 2,
       "version_minor": 0
      },
      "text/plain": [
       "Builder(height=600, metabolite_data={'meta_0': 1.0, 'meta_1': 1.0, 'meta_2': 1.0, 'meta_3': 1.0}, metabolite_n…"
      ]
     },
     "metadata": {},
     "output_type": "display_data"
    }
   ],
   "source": [
    "model.escher_reference(model_json=model_path, map_json=map_path)"
   ]
  },
  {
   "cell_type": "markdown",
   "metadata": {},
   "source": [
    "### <font color='white'> [4.3.2] Display MI or correlation </font> "
   ]
  },
  {
   "cell_type": "markdown",
   "metadata": {},
   "source": [
    "You can display the mutual information or the correlation between every metabolite and an element of the model"
   ]
  },
  {
   "cell_type": "code",
   "execution_count": 68,
   "metadata": {},
   "outputs": [
    {
     "data": {
      "application/vnd.jupyter.widget-view+json": {
       "model_id": "50f4104085b4496c8f9eaf6fa8a52d36",
       "version_major": 2,
       "version_minor": 0
      },
      "text/plain": [
       "Builder(height=600, metabolite_data={'meta_0': 0.0, 'meta_1': -0.3713906763541038, 'meta_2': 0.371390676354103…"
      ]
     },
     "metadata": {},
     "output_type": "display_data"
    }
   ],
   "source": [
    "model.escher_information(studied=\"enzyme_reaction_1_para\", result=\"rho\", model_json=model_path, map_json=map_path)"
   ]
  },
  {
   "cell_type": "markdown",
   "metadata": {},
   "source": [
    "### <font color='white'> [4.3.3] Display mean deviation </font> "
   ]
  },
  {
   "cell_type": "markdown",
   "metadata": {},
   "source": [
    "You can also display on Escher map of the mean deviation that occurs when you fixe an element of the model to a certain value"
   ]
  },
  {
   "cell_type": "code",
   "execution_count": 69,
   "metadata": {},
   "outputs": [
    {
     "data": {
      "application/vnd.jupyter.widget-view+json": {
       "model_id": "017fa583d36f48e7a6b32b277488ad41",
       "version_major": 2,
       "version_minor": 0
      },
      "text/plain": [
       "Builder(height=600, metabolite_data={'meta_0': 0.0, 'meta_1': -0.33333333333333337, 'meta_2': 0.33333333333333…"
      ]
     },
     "metadata": {},
     "output_type": "display_data"
    }
   ],
   "source": [
    "model.escher_mean_deviation(fixed_element=\"enzyme_reaction_1_para\", fixed_value=1.5, model_json=model_path, map_json=map_path)"
   ]
  },
  {
   "cell_type": "code",
   "execution_count": 70,
   "metadata": {},
   "outputs": [
    {
     "name": "stderr",
     "output_type": "stream",
     "text": [
      "[INFO 2024-04-10 18:20:00] Starting unique-name/2024-04-10-18-20-00-.log!\n",
      "[INFO 2024-04-10 18:20:00] Hi, I am a program, starting now !\n",
      "\n",
      "[INFO 2024-04-10 18:20:00] Starting experiment with random seed 42...\n"
     ]
    },
    {
     "name": "stdout",
     "output_type": "stream",
     "text": [
      "[['reaction_1', 'meta_2'], ['reaction_0', 'meta_2'], ['reaction_2', 'meta_2']]\n"
     ]
    },
    {
     "name": "stderr",
     "output_type": "stream",
     "text": [
      "[INFO 2024-04-10 18:20:01] Generation 0 (40 evaluations), best individual fitness: [6.60433359740029, 5.079599996569701]\n",
      "[INFO 2024-04-10 18:20:01] Generation 1 (60 evaluations), best individual fitness: [0.19098636112353892, 0.12431855842998704]\n",
      "[INFO 2024-04-10 18:20:01] Generation 2 (80 evaluations), best individual fitness: [0.19098636112353892, 0.12431855842998704]\n",
      "[INFO 2024-04-10 18:20:01] Generation 3 (100 evaluations), best individual fitness: [0.19098636112353892, 0.12431855842998704]\n",
      "[INFO 2024-04-10 18:20:01] Generation 4 (120 evaluations), best individual fitness: [0.19098636112353892, 0.12431855842998704]\n",
      "[INFO 2024-04-10 18:20:02] Generation 5 (140 evaluations), best individual fitness: [0.19098636112353892, 0.12431855842998704]\n",
      "[INFO 2024-04-10 18:20:02] Generation 6 (160 evaluations), best individual fitness: [0.1672635323010031, 0.12011261697986825]\n",
      "[INFO 2024-04-10 18:20:02] Generation 7 (180 evaluations), best individual fitness: [0.1672635323010031, 0.12011261697986825]\n",
      "[INFO 2024-04-10 18:20:02] Generation 8 (200 evaluations), best individual fitness: [0.067622935148962, 0.04569142537009977]\n",
      "[INFO 2024-04-10 18:20:02] Generation 9 (220 evaluations), best individual fitness: [0.067622935148962, 0.04569142537009977]\n",
      "[INFO 2024-04-10 18:20:02] Generation 10 (240 evaluations), best individual fitness: [0.067622935148962, 0.04569142537009977]\n",
      "[INFO 2024-04-10 18:20:03] Generation 11 (260 evaluations), best individual fitness: [0.067622935148962, 0.04569142537009977]\n",
      "[INFO 2024-04-10 18:20:03] Generation 12 (280 evaluations), best individual fitness: [0.067622935148962, 0.04569142537009977]\n",
      "[INFO 2024-04-10 18:20:03] Generation 13 (300 evaluations), best individual fitness: [0.067622935148962, 0.04569142537009977]\n",
      "[INFO 2024-04-10 18:20:03] Generation 14 (320 evaluations), best individual fitness: [0.067622935148962, 0.04569142537009977]\n",
      "[INFO 2024-04-10 18:20:03] Generation 15 (340 evaluations), best individual fitness: [0.067622935148962, 0.04569142537009977]\n",
      "[INFO 2024-04-10 18:20:03] Generation 16 (360 evaluations), best individual fitness: [0.067622935148962, 0.04569142537009977]\n",
      "[INFO 2024-04-10 18:20:03] Generation 17 (380 evaluations), best individual fitness: [0.067622935148962, 0.04569142537009977]\n",
      "[INFO 2024-04-10 18:20:04] Generation 18 (400 evaluations), best individual fitness: [0.067622935148962, 0.04569142537009977]\n",
      "[INFO 2024-04-10 18:20:04] Generation 19 (420 evaluations), best individual fitness: [0.067622935148962, 0.04569142537009977]\n",
      "[INFO 2024-04-10 18:20:04] Generation 20 (440 evaluations), best individual fitness: [0.067622935148962, 0.04569142537009977]\n",
      "[INFO 2024-04-10 18:20:04] Generation 21 (460 evaluations), best individual fitness: [0.067622935148962, 0.04569142537009977]\n",
      "[INFO 2024-04-10 18:20:04] Generation 22 (480 evaluations), best individual fitness: [0.067622935148962, 0.04569142537009977]\n",
      "[INFO 2024-04-10 18:20:04] Generation 23 (500 evaluations), best individual fitness: [0.067622935148962, 0.04569142537009977]\n",
      "[INFO 2024-04-10 18:20:05] Generation 24 (520 evaluations), best individual fitness: [0.067622935148962, 0.04569142537009977]\n",
      "[INFO 2024-04-10 18:20:05] Generation 25 (540 evaluations), best individual fitness: [0.067622935148962, 0.04569142537009977]\n",
      "[INFO 2024-04-10 18:20:05] Generation 26 (560 evaluations), best individual fitness: [0.067622935148962, 0.04569142537009977]\n",
      "[INFO 2024-04-10 18:20:05] Generation 27 (580 evaluations), best individual fitness: [0.067622935148962, 0.04569142537009977]\n",
      "[INFO 2024-04-10 18:20:05] Generation 28 (600 evaluations), best individual fitness: [0.067622935148962, 0.04569142537009977]\n",
      "[INFO 2024-04-10 18:20:05] Generation 29 (620 evaluations), best individual fitness: [0.067622935148962, 0.04569142537009977]\n",
      "[INFO 2024-04-10 18:20:06] Generation 30 (640 evaluations), best individual fitness: [0.067622935148962, 0.04569142537009977]\n",
      "[INFO 2024-04-10 18:20:06] Generation 31 (660 evaluations), best individual fitness: [0.067622935148962, 0.04569142537009977]\n",
      "[INFO 2024-04-10 18:20:06] Generation 32 (680 evaluations), best individual fitness: [0.067622935148962, 0.04569142537009977]\n",
      "[INFO 2024-04-10 18:20:06] Generation 33 (700 evaluations), best individual fitness: [0.067622935148962, 0.04569142537009977]\n",
      "[INFO 2024-04-10 18:20:06] Generation 34 (720 evaluations), best individual fitness: [0.067622935148962, 0.04569142537009977]\n",
      "[INFO 2024-04-10 18:20:06] Generation 35 (740 evaluations), best individual fitness: [0.067622935148962, 0.04569142537009977]\n",
      "[INFO 2024-04-10 18:20:06] Generation 36 (760 evaluations), best individual fitness: [0.067622935148962, 0.04569142537009977]\n",
      "[INFO 2024-04-10 18:20:07] Generation 37 (780 evaluations), best individual fitness: [0.067622935148962, 0.04569142537009977]\n",
      "[INFO 2024-04-10 18:20:07] Generation 38 (800 evaluations), best individual fitness: [0.067622935148962, 0.04569142537009977]\n"
     ]
    }
   ],
   "source": [
    "N_ela = 3\n",
    "import random\n",
    "\n",
    "modified_elasticity = []\n",
    "elasticity_value = []\n",
    "\n",
    "for i in range(N_ela) :\n",
    "    flux = random.choice(model.elasticity.s.df.index)\n",
    "    meta = random.choice(model.elasticity.s.df.columns)\n",
    "    modified_elasticity.append([flux, meta])\n",
    "\n",
    "    elasticity_value.append(np.random.uniform(-1.0, 1.0))\n",
    "\n",
    "print(modified_elasticity)\n",
    "\n",
    "model.MOO(modified_elasticity, elasticity_value, print_result=False)"
   ]
  }
 ],
 "metadata": {
  "kernelspec": {
   "display_name": "Python 3",
   "language": "python",
   "name": "python3"
  },
  "language_info": {
   "codemirror_mode": {
    "name": "ipython",
    "version": 3
   },
   "file_extension": ".py",
   "mimetype": "text/x-python",
   "name": "python",
   "nbconvert_exporter": "python",
   "pygments_lexer": "ipython3",
   "version": "3.10.12"
  },
  "orig_nbformat": 4
 },
 "nbformat": 4,
 "nbformat_minor": 2
}
