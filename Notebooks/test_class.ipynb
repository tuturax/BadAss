{
 "cells": [
  {
   "cell_type": "markdown",
   "metadata": {},
   "source": [
    "# <font color='red'> [0] Build the model and the structure of the metabolic network </font> "
   ]
  },
  {
   "cell_type": "markdown",
   "metadata": {},
   "source": [
    "## <font color='green'> [0.1] Importation of the package </font> "
   ]
  },
  {
   "cell_type": "code",
   "execution_count": 1,
   "metadata": {},
   "outputs": [],
   "source": [
    "import sys\n",
    "sys.path.append('../')\n",
    "\n",
    "from main import *"
   ]
  },
  {
   "cell_type": "markdown",
   "metadata": {},
   "source": [
    "## <font color='green'> [0.2] Creation of an empty model </font> "
   ]
  },
  {
   "cell_type": "code",
   "execution_count": 2,
   "metadata": {},
   "outputs": [
    {
     "name": "stdout",
     "output_type": "stream",
     "text": [
      "Model created \n",
      " \n",
      "To add metabolite, use .metabolites.add_meta \n",
      "To add reaction,   use .reactions.add_reaction\n"
     ]
    }
   ],
   "source": [
    "model = MODEL()"
   ]
  },
  {
   "cell_type": "markdown",
   "metadata": {},
   "source": [
    "## <font color='green'> [0.3] Load of an existing model </font> "
   ]
  },
  {
   "cell_type": "markdown",
   "metadata": {},
   "source": [
    "You can creat a linear network of $N$ metabolites"
   ]
  },
  {
   "cell_type": "code",
   "execution_count": 3,
   "metadata": {},
   "outputs": [
    {
     "name": "stdout",
     "output_type": "stream",
     "text": [
      "Model created \n",
      " \n",
      "To add metabolite, use .metabolites.add_meta \n",
      "To add reaction,   use .reactions.add_reaction\n"
     ]
    }
   ],
   "source": [
    "model.creat_linear(4)"
   ]
  },
  {
   "cell_type": "markdown",
   "metadata": {},
   "source": [
    "By default, the first and last metabolites are external"
   ]
  },
  {
   "cell_type": "code",
   "execution_count": 4,
   "metadata": {},
   "outputs": [
    {
     "data": {
      "text/html": [
       "<div>\n",
       "<style scoped>\n",
       "    .dataframe tbody tr th:only-of-type {\n",
       "        vertical-align: middle;\n",
       "    }\n",
       "\n",
       "    .dataframe tbody tr th {\n",
       "        vertical-align: top;\n",
       "    }\n",
       "\n",
       "    .dataframe thead th {\n",
       "        text-align: right;\n",
       "    }\n",
       "</style>\n",
       "<table border=\"1\" class=\"dataframe\">\n",
       "  <thead>\n",
       "    <tr style=\"text-align: right;\">\n",
       "      <th></th>\n",
       "      <th>External</th>\n",
       "      <th>Concentration</th>\n",
       "      <th>Unit</th>\n",
       "    </tr>\n",
       "  </thead>\n",
       "  <tbody>\n",
       "    <tr>\n",
       "      <th>meta_0</th>\n",
       "      <td>True</td>\n",
       "      <td>1.0</td>\n",
       "      <td>mmol/gDW</td>\n",
       "    </tr>\n",
       "    <tr>\n",
       "      <th>meta_1</th>\n",
       "      <td>False</td>\n",
       "      <td>1.0</td>\n",
       "      <td>mmol/gDW</td>\n",
       "    </tr>\n",
       "    <tr>\n",
       "      <th>meta_2</th>\n",
       "      <td>False</td>\n",
       "      <td>1.0</td>\n",
       "      <td>mmol/gDW</td>\n",
       "    </tr>\n",
       "    <tr>\n",
       "      <th>meta_3</th>\n",
       "      <td>True</td>\n",
       "      <td>1.0</td>\n",
       "      <td>mmol/gDW</td>\n",
       "    </tr>\n",
       "  </tbody>\n",
       "</table>\n",
       "</div>"
      ],
      "text/plain": [
       "        External  Concentration      Unit\n",
       "meta_0      True            1.0  mmol/gDW\n",
       "meta_1     False            1.0  mmol/gDW\n",
       "meta_2     False            1.0  mmol/gDW\n",
       "meta_3      True            1.0  mmol/gDW"
      ]
     },
     "execution_count": 4,
     "metadata": {},
     "output_type": "execute_result"
    }
   ],
   "source": [
    "model.metabolites.df"
   ]
  },
  {
   "cell_type": "code",
   "execution_count": 5,
   "metadata": {},
   "outputs": [
    {
     "data": {
      "text/html": [
       "<div>\n",
       "<style scoped>\n",
       "    .dataframe tbody tr th:only-of-type {\n",
       "        vertical-align: middle;\n",
       "    }\n",
       "\n",
       "    .dataframe tbody tr th {\n",
       "        vertical-align: top;\n",
       "    }\n",
       "\n",
       "    .dataframe thead th {\n",
       "        text-align: right;\n",
       "    }\n",
       "</style>\n",
       "<table border=\"1\" class=\"dataframe\">\n",
       "  <thead>\n",
       "    <tr style=\"text-align: right;\">\n",
       "      <th></th>\n",
       "      <th>Metabolites</th>\n",
       "      <th>Equilibrium constant</th>\n",
       "      <th>Reversible</th>\n",
       "      <th>Flux</th>\n",
       "      <th>Unit</th>\n",
       "    </tr>\n",
       "  </thead>\n",
       "  <tbody>\n",
       "    <tr>\n",
       "      <th>reaction_0</th>\n",
       "      <td>{'meta_0': -1, 'meta_1': 1}</td>\n",
       "      <td>1.0</td>\n",
       "      <td>True</td>\n",
       "      <td>1.0</td>\n",
       "      <td>mmol/gDW/h</td>\n",
       "    </tr>\n",
       "    <tr>\n",
       "      <th>reaction_1</th>\n",
       "      <td>{'meta_1': -1, 'meta_2': 1}</td>\n",
       "      <td>1.0</td>\n",
       "      <td>True</td>\n",
       "      <td>1.0</td>\n",
       "      <td>mmol/gDW/h</td>\n",
       "    </tr>\n",
       "    <tr>\n",
       "      <th>reaction_2</th>\n",
       "      <td>{'meta_2': -1, 'meta_3': 1}</td>\n",
       "      <td>1.0</td>\n",
       "      <td>True</td>\n",
       "      <td>1.0</td>\n",
       "      <td>mmol/gDW/h</td>\n",
       "    </tr>\n",
       "  </tbody>\n",
       "</table>\n",
       "</div>"
      ],
      "text/plain": [
       "                            Metabolites  Equilibrium constant  Reversible  \\\n",
       "reaction_0  {'meta_0': -1, 'meta_1': 1}                   1.0        True   \n",
       "reaction_1  {'meta_1': -1, 'meta_2': 1}                   1.0        True   \n",
       "reaction_2  {'meta_2': -1, 'meta_3': 1}                   1.0        True   \n",
       "\n",
       "            Flux        Unit  \n",
       "reaction_0   1.0  mmol/gDW/h  \n",
       "reaction_1   1.0  mmol/gDW/h  \n",
       "reaction_2   1.0  mmol/gDW/h  "
      ]
     },
     "execution_count": 5,
     "metadata": {},
     "output_type": "execute_result"
    }
   ],
   "source": [
    "model.reactions.df"
   ]
  },
  {
   "cell_type": "markdown",
   "metadata": {},
   "source": [
    "And the stoichiometric matrix is build"
   ]
  },
  {
   "cell_type": "code",
   "execution_count": 6,
   "metadata": {},
   "outputs": [
    {
     "data": {
      "text/html": [
       "<div>\n",
       "<style scoped>\n",
       "    .dataframe tbody tr th:only-of-type {\n",
       "        vertical-align: middle;\n",
       "    }\n",
       "\n",
       "    .dataframe tbody tr th {\n",
       "        vertical-align: top;\n",
       "    }\n",
       "\n",
       "    .dataframe thead th {\n",
       "        text-align: right;\n",
       "    }\n",
       "</style>\n",
       "<table border=\"1\" class=\"dataframe\">\n",
       "  <thead>\n",
       "    <tr style=\"text-align: right;\">\n",
       "      <th></th>\n",
       "      <th>reaction_0</th>\n",
       "      <th>reaction_1</th>\n",
       "      <th>reaction_2</th>\n",
       "    </tr>\n",
       "  </thead>\n",
       "  <tbody>\n",
       "    <tr>\n",
       "      <th>meta_0</th>\n",
       "      <td>-1</td>\n",
       "      <td>0</td>\n",
       "      <td>0</td>\n",
       "    </tr>\n",
       "    <tr>\n",
       "      <th>meta_1</th>\n",
       "      <td>1</td>\n",
       "      <td>-1</td>\n",
       "      <td>0</td>\n",
       "    </tr>\n",
       "    <tr>\n",
       "      <th>meta_2</th>\n",
       "      <td>0</td>\n",
       "      <td>1</td>\n",
       "      <td>-1</td>\n",
       "    </tr>\n",
       "    <tr>\n",
       "      <th>meta_3</th>\n",
       "      <td>0</td>\n",
       "      <td>0</td>\n",
       "      <td>1</td>\n",
       "    </tr>\n",
       "  </tbody>\n",
       "</table>\n",
       "</div>"
      ],
      "text/plain": [
       "        reaction_0  reaction_1  reaction_2\n",
       "meta_0          -1           0           0\n",
       "meta_1           1          -1           0\n",
       "meta_2           0           1          -1\n",
       "meta_3           0           0           1"
      ]
     },
     "execution_count": 6,
     "metadata": {},
     "output_type": "execute_result"
    }
   ],
   "source": [
    "model.N"
   ]
  },
  {
   "cell_type": "markdown",
   "metadata": {},
   "source": [
    "You can also load model from SBML, COBRA and SBTAB with model.load..."
   ]
  },
  {
   "cell_type": "markdown",
   "metadata": {},
   "source": [
    "## <font color='green'> [0.3] Change a reaction and metabolite </font> "
   ]
  },
  {
   "cell_type": "markdown",
   "metadata": {},
   "source": [
    "Modifing the dicionnary of the metabolite in the dataframe of reaction change also the dataframes of metabolites and stoichiometry"
   ]
  },
  {
   "cell_type": "code",
   "execution_count": 7,
   "metadata": {},
   "outputs": [],
   "source": [
    "model.reactions.change(name=\"reaction_0\", metabolites={'new_meta':-2, 'meta_1':1}, k_eq=1.5, reversible=False, flux=1.5)"
   ]
  },
  {
   "cell_type": "code",
   "execution_count": 8,
   "metadata": {},
   "outputs": [
    {
     "data": {
      "text/html": [
       "<div>\n",
       "<style scoped>\n",
       "    .dataframe tbody tr th:only-of-type {\n",
       "        vertical-align: middle;\n",
       "    }\n",
       "\n",
       "    .dataframe tbody tr th {\n",
       "        vertical-align: top;\n",
       "    }\n",
       "\n",
       "    .dataframe thead th {\n",
       "        text-align: right;\n",
       "    }\n",
       "</style>\n",
       "<table border=\"1\" class=\"dataframe\">\n",
       "  <thead>\n",
       "    <tr style=\"text-align: right;\">\n",
       "      <th></th>\n",
       "      <th>Metabolites</th>\n",
       "      <th>Equilibrium constant</th>\n",
       "      <th>Reversible</th>\n",
       "      <th>Flux</th>\n",
       "      <th>Unit</th>\n",
       "    </tr>\n",
       "  </thead>\n",
       "  <tbody>\n",
       "    <tr>\n",
       "      <th>reaction_0</th>\n",
       "      <td>{'new_meta': -2, 'meta_1': 1}</td>\n",
       "      <td>1.5</td>\n",
       "      <td>False</td>\n",
       "      <td>1.5</td>\n",
       "      <td>mmol/gDW/h</td>\n",
       "    </tr>\n",
       "    <tr>\n",
       "      <th>reaction_1</th>\n",
       "      <td>{'meta_1': -1, 'meta_2': 1}</td>\n",
       "      <td>1.0</td>\n",
       "      <td>True</td>\n",
       "      <td>1.0</td>\n",
       "      <td>mmol/gDW/h</td>\n",
       "    </tr>\n",
       "    <tr>\n",
       "      <th>reaction_2</th>\n",
       "      <td>{'meta_2': -1, 'meta_3': 1}</td>\n",
       "      <td>1.0</td>\n",
       "      <td>True</td>\n",
       "      <td>1.0</td>\n",
       "      <td>mmol/gDW/h</td>\n",
       "    </tr>\n",
       "  </tbody>\n",
       "</table>\n",
       "</div>"
      ],
      "text/plain": [
       "                              Metabolites  Equilibrium constant  Reversible  \\\n",
       "reaction_0  {'new_meta': -2, 'meta_1': 1}                   1.5       False   \n",
       "reaction_1    {'meta_1': -1, 'meta_2': 1}                   1.0        True   \n",
       "reaction_2    {'meta_2': -1, 'meta_3': 1}                   1.0        True   \n",
       "\n",
       "            Flux        Unit  \n",
       "reaction_0   1.5  mmol/gDW/h  \n",
       "reaction_1   1.0  mmol/gDW/h  \n",
       "reaction_2   1.0  mmol/gDW/h  "
      ]
     },
     "execution_count": 8,
     "metadata": {},
     "output_type": "execute_result"
    }
   ],
   "source": [
    "model.reactions.df"
   ]
  },
  {
   "cell_type": "code",
   "execution_count": 9,
   "metadata": {},
   "outputs": [
    {
     "data": {
      "text/html": [
       "<div>\n",
       "<style scoped>\n",
       "    .dataframe tbody tr th:only-of-type {\n",
       "        vertical-align: middle;\n",
       "    }\n",
       "\n",
       "    .dataframe tbody tr th {\n",
       "        vertical-align: top;\n",
       "    }\n",
       "\n",
       "    .dataframe thead th {\n",
       "        text-align: right;\n",
       "    }\n",
       "</style>\n",
       "<table border=\"1\" class=\"dataframe\">\n",
       "  <thead>\n",
       "    <tr style=\"text-align: right;\">\n",
       "      <th></th>\n",
       "      <th>External</th>\n",
       "      <th>Concentration</th>\n",
       "      <th>Unit</th>\n",
       "    </tr>\n",
       "  </thead>\n",
       "  <tbody>\n",
       "    <tr>\n",
       "      <th>meta_0</th>\n",
       "      <td>True</td>\n",
       "      <td>1.0</td>\n",
       "      <td>mmol/gDW</td>\n",
       "    </tr>\n",
       "    <tr>\n",
       "      <th>meta_1</th>\n",
       "      <td>False</td>\n",
       "      <td>1.0</td>\n",
       "      <td>mmol/gDW</td>\n",
       "    </tr>\n",
       "    <tr>\n",
       "      <th>meta_2</th>\n",
       "      <td>False</td>\n",
       "      <td>1.0</td>\n",
       "      <td>mmol/gDW</td>\n",
       "    </tr>\n",
       "    <tr>\n",
       "      <th>meta_3</th>\n",
       "      <td>True</td>\n",
       "      <td>1.0</td>\n",
       "      <td>mmol/gDW</td>\n",
       "    </tr>\n",
       "    <tr>\n",
       "      <th>new_meta</th>\n",
       "      <td>False</td>\n",
       "      <td>1.0</td>\n",
       "      <td>mmol/gDW</td>\n",
       "    </tr>\n",
       "  </tbody>\n",
       "</table>\n",
       "</div>"
      ],
      "text/plain": [
       "          External  Concentration      Unit\n",
       "meta_0        True            1.0  mmol/gDW\n",
       "meta_1       False            1.0  mmol/gDW\n",
       "meta_2       False            1.0  mmol/gDW\n",
       "meta_3        True            1.0  mmol/gDW\n",
       "new_meta     False            1.0  mmol/gDW"
      ]
     },
     "execution_count": 9,
     "metadata": {},
     "output_type": "execute_result"
    }
   ],
   "source": [
    "model.metabolites.df"
   ]
  },
  {
   "cell_type": "code",
   "execution_count": 10,
   "metadata": {},
   "outputs": [
    {
     "data": {
      "text/html": [
       "<div>\n",
       "<style scoped>\n",
       "    .dataframe tbody tr th:only-of-type {\n",
       "        vertical-align: middle;\n",
       "    }\n",
       "\n",
       "    .dataframe tbody tr th {\n",
       "        vertical-align: top;\n",
       "    }\n",
       "\n",
       "    .dataframe thead th {\n",
       "        text-align: right;\n",
       "    }\n",
       "</style>\n",
       "<table border=\"1\" class=\"dataframe\">\n",
       "  <thead>\n",
       "    <tr style=\"text-align: right;\">\n",
       "      <th></th>\n",
       "      <th>reaction_0</th>\n",
       "      <th>reaction_1</th>\n",
       "      <th>reaction_2</th>\n",
       "    </tr>\n",
       "  </thead>\n",
       "  <tbody>\n",
       "    <tr>\n",
       "      <th>meta_0</th>\n",
       "      <td>0.0</td>\n",
       "      <td>0.0</td>\n",
       "      <td>0.0</td>\n",
       "    </tr>\n",
       "    <tr>\n",
       "      <th>meta_1</th>\n",
       "      <td>1.0</td>\n",
       "      <td>-1.0</td>\n",
       "      <td>0.0</td>\n",
       "    </tr>\n",
       "    <tr>\n",
       "      <th>meta_2</th>\n",
       "      <td>0.0</td>\n",
       "      <td>1.0</td>\n",
       "      <td>-1.0</td>\n",
       "    </tr>\n",
       "    <tr>\n",
       "      <th>meta_3</th>\n",
       "      <td>0.0</td>\n",
       "      <td>0.0</td>\n",
       "      <td>1.0</td>\n",
       "    </tr>\n",
       "    <tr>\n",
       "      <th>new_meta</th>\n",
       "      <td>-2.0</td>\n",
       "      <td>0.0</td>\n",
       "      <td>0.0</td>\n",
       "    </tr>\n",
       "  </tbody>\n",
       "</table>\n",
       "</div>"
      ],
      "text/plain": [
       "          reaction_0  reaction_1  reaction_2\n",
       "meta_0           0.0         0.0         0.0\n",
       "meta_1           1.0        -1.0         0.0\n",
       "meta_2           0.0         1.0        -1.0\n",
       "meta_3           0.0         0.0         1.0\n",
       "new_meta        -2.0         0.0         0.0"
      ]
     },
     "execution_count": 10,
     "metadata": {},
     "output_type": "execute_result"
    }
   ],
   "source": [
    "model.N"
   ]
  },
  {
   "cell_type": "markdown",
   "metadata": {},
   "source": [
    "Same for the metabolite"
   ]
  },
  {
   "cell_type": "code",
   "execution_count": 11,
   "metadata": {},
   "outputs": [],
   "source": [
    "model.metabolites.change(\"meta_0\", concentration=2.0)"
   ]
  },
  {
   "cell_type": "code",
   "execution_count": 12,
   "metadata": {},
   "outputs": [
    {
     "data": {
      "text/html": [
       "<div>\n",
       "<style scoped>\n",
       "    .dataframe tbody tr th:only-of-type {\n",
       "        vertical-align: middle;\n",
       "    }\n",
       "\n",
       "    .dataframe tbody tr th {\n",
       "        vertical-align: top;\n",
       "    }\n",
       "\n",
       "    .dataframe thead th {\n",
       "        text-align: right;\n",
       "    }\n",
       "</style>\n",
       "<table border=\"1\" class=\"dataframe\">\n",
       "  <thead>\n",
       "    <tr style=\"text-align: right;\">\n",
       "      <th></th>\n",
       "      <th>External</th>\n",
       "      <th>Concentration</th>\n",
       "      <th>Unit</th>\n",
       "    </tr>\n",
       "  </thead>\n",
       "  <tbody>\n",
       "    <tr>\n",
       "      <th>meta_0</th>\n",
       "      <td>True</td>\n",
       "      <td>2.0</td>\n",
       "      <td>mmol/gDW</td>\n",
       "    </tr>\n",
       "    <tr>\n",
       "      <th>meta_1</th>\n",
       "      <td>False</td>\n",
       "      <td>1.0</td>\n",
       "      <td>mmol/gDW</td>\n",
       "    </tr>\n",
       "    <tr>\n",
       "      <th>meta_2</th>\n",
       "      <td>False</td>\n",
       "      <td>1.0</td>\n",
       "      <td>mmol/gDW</td>\n",
       "    </tr>\n",
       "    <tr>\n",
       "      <th>meta_3</th>\n",
       "      <td>True</td>\n",
       "      <td>1.0</td>\n",
       "      <td>mmol/gDW</td>\n",
       "    </tr>\n",
       "    <tr>\n",
       "      <th>new_meta</th>\n",
       "      <td>False</td>\n",
       "      <td>1.0</td>\n",
       "      <td>mmol/gDW</td>\n",
       "    </tr>\n",
       "  </tbody>\n",
       "</table>\n",
       "</div>"
      ],
      "text/plain": [
       "          External  Concentration      Unit\n",
       "meta_0        True            2.0  mmol/gDW\n",
       "meta_1       False            1.0  mmol/gDW\n",
       "meta_2       False            1.0  mmol/gDW\n",
       "meta_3        True            1.0  mmol/gDW\n",
       "new_meta     False            1.0  mmol/gDW"
      ]
     },
     "execution_count": 12,
     "metadata": {},
     "output_type": "execute_result"
    }
   ],
   "source": [
    "model.metabolites.df"
   ]
  },
  {
   "cell_type": "markdown",
   "metadata": {},
   "source": [
    "## <font color='green'> [0.4] Add of reaction and metabolite </font> "
   ]
  },
  {
   "cell_type": "markdown",
   "metadata": {},
   "source": [
    "To add a reaction, only its name as input is indispensable, but adding a dictionnary of the metabolite used in the reaction as key linked to their stoichiometric coefficients allow the module to add automatically those metabolite to the metabolite dataframe and their coefficent to the stoichiometric matrix"
   ]
  },
  {
   "cell_type": "code",
   "execution_count": 13,
   "metadata": {},
   "outputs": [],
   "source": [
    "model.metabolites.add(name = \"H2O\", external = True, concentration = 1.0)\n",
    "\n",
    "metabolite_reaction = {\"H2O\" : 1.0,\n",
    "                       \"H2\"  :-1.0,\n",
    "                       \"O2\"  :-0.5}\n",
    "\n",
    "model.reactions.add(name = \"combustion\", metabolites = metabolite_reaction, k_eq = 1.0, flux=1.0)"
   ]
  },
  {
   "cell_type": "code",
   "execution_count": 14,
   "metadata": {},
   "outputs": [
    {
     "data": {
      "text/html": [
       "<div>\n",
       "<style scoped>\n",
       "    .dataframe tbody tr th:only-of-type {\n",
       "        vertical-align: middle;\n",
       "    }\n",
       "\n",
       "    .dataframe tbody tr th {\n",
       "        vertical-align: top;\n",
       "    }\n",
       "\n",
       "    .dataframe thead th {\n",
       "        text-align: right;\n",
       "    }\n",
       "</style>\n",
       "<table border=\"1\" class=\"dataframe\">\n",
       "  <thead>\n",
       "    <tr style=\"text-align: right;\">\n",
       "      <th></th>\n",
       "      <th>External</th>\n",
       "      <th>Concentration</th>\n",
       "      <th>Unit</th>\n",
       "    </tr>\n",
       "  </thead>\n",
       "  <tbody>\n",
       "    <tr>\n",
       "      <th>meta_0</th>\n",
       "      <td>True</td>\n",
       "      <td>2.0</td>\n",
       "      <td>mmol/gDW</td>\n",
       "    </tr>\n",
       "    <tr>\n",
       "      <th>meta_1</th>\n",
       "      <td>False</td>\n",
       "      <td>1.0</td>\n",
       "      <td>mmol/gDW</td>\n",
       "    </tr>\n",
       "    <tr>\n",
       "      <th>meta_2</th>\n",
       "      <td>False</td>\n",
       "      <td>1.0</td>\n",
       "      <td>mmol/gDW</td>\n",
       "    </tr>\n",
       "    <tr>\n",
       "      <th>meta_3</th>\n",
       "      <td>True</td>\n",
       "      <td>1.0</td>\n",
       "      <td>mmol/gDW</td>\n",
       "    </tr>\n",
       "    <tr>\n",
       "      <th>new_meta</th>\n",
       "      <td>False</td>\n",
       "      <td>1.0</td>\n",
       "      <td>mmol/gDW</td>\n",
       "    </tr>\n",
       "    <tr>\n",
       "      <th>H2O</th>\n",
       "      <td>True</td>\n",
       "      <td>1.0</td>\n",
       "      <td>mmol/gDW</td>\n",
       "    </tr>\n",
       "    <tr>\n",
       "      <th>H2</th>\n",
       "      <td>False</td>\n",
       "      <td>1.0</td>\n",
       "      <td>mmol/gDW</td>\n",
       "    </tr>\n",
       "    <tr>\n",
       "      <th>O2</th>\n",
       "      <td>False</td>\n",
       "      <td>1.0</td>\n",
       "      <td>mmol/gDW</td>\n",
       "    </tr>\n",
       "  </tbody>\n",
       "</table>\n",
       "</div>"
      ],
      "text/plain": [
       "          External  Concentration      Unit\n",
       "meta_0        True            2.0  mmol/gDW\n",
       "meta_1       False            1.0  mmol/gDW\n",
       "meta_2       False            1.0  mmol/gDW\n",
       "meta_3        True            1.0  mmol/gDW\n",
       "new_meta     False            1.0  mmol/gDW\n",
       "H2O           True            1.0  mmol/gDW\n",
       "H2           False            1.0  mmol/gDW\n",
       "O2           False            1.0  mmol/gDW"
      ]
     },
     "execution_count": 14,
     "metadata": {},
     "output_type": "execute_result"
    }
   ],
   "source": [
    "model.metabolites.df"
   ]
  },
  {
   "cell_type": "markdown",
   "metadata": {},
   "source": [
    "#### If you add a reaction that is already in the model, it call the model.reactions.change() instead "
   ]
  },
  {
   "cell_type": "code",
   "execution_count": 15,
   "metadata": {},
   "outputs": [],
   "source": [
    "metabolite_reaction2 = {\"C\" : -1.0,\n",
    "                       \"O2\"  : -1.0,\n",
    "                       \"CO2\"  : 1.0}\n",
    "\n",
    "model.reactions.add(name = \"combustion\", metabolites = metabolite_reaction2, k_eq = 1.0, flux=1.0)"
   ]
  },
  {
   "cell_type": "code",
   "execution_count": 16,
   "metadata": {},
   "outputs": [
    {
     "data": {
      "text/html": [
       "<div>\n",
       "<style scoped>\n",
       "    .dataframe tbody tr th:only-of-type {\n",
       "        vertical-align: middle;\n",
       "    }\n",
       "\n",
       "    .dataframe tbody tr th {\n",
       "        vertical-align: top;\n",
       "    }\n",
       "\n",
       "    .dataframe thead th {\n",
       "        text-align: right;\n",
       "    }\n",
       "</style>\n",
       "<table border=\"1\" class=\"dataframe\">\n",
       "  <thead>\n",
       "    <tr style=\"text-align: right;\">\n",
       "      <th></th>\n",
       "      <th>Metabolites</th>\n",
       "      <th>Equilibrium constant</th>\n",
       "      <th>Reversible</th>\n",
       "      <th>Flux</th>\n",
       "      <th>Unit</th>\n",
       "    </tr>\n",
       "  </thead>\n",
       "  <tbody>\n",
       "    <tr>\n",
       "      <th>reaction_0</th>\n",
       "      <td>{'new_meta': -2, 'meta_1': 1}</td>\n",
       "      <td>1.5</td>\n",
       "      <td>False</td>\n",
       "      <td>1.5</td>\n",
       "      <td>mmol/gDW/h</td>\n",
       "    </tr>\n",
       "    <tr>\n",
       "      <th>reaction_1</th>\n",
       "      <td>{'meta_1': -1, 'meta_2': 1}</td>\n",
       "      <td>1.0</td>\n",
       "      <td>True</td>\n",
       "      <td>1.0</td>\n",
       "      <td>mmol/gDW/h</td>\n",
       "    </tr>\n",
       "    <tr>\n",
       "      <th>reaction_2</th>\n",
       "      <td>{'meta_2': -1, 'meta_3': 1}</td>\n",
       "      <td>1.0</td>\n",
       "      <td>True</td>\n",
       "      <td>1.0</td>\n",
       "      <td>mmol/gDW/h</td>\n",
       "    </tr>\n",
       "    <tr>\n",
       "      <th>combustion</th>\n",
       "      <td>{'C': -1.0, 'O2': -1.0, 'CO2': 1.0}</td>\n",
       "      <td>1.0</td>\n",
       "      <td>True</td>\n",
       "      <td>1.0</td>\n",
       "      <td>mmol/gDW/h</td>\n",
       "    </tr>\n",
       "  </tbody>\n",
       "</table>\n",
       "</div>"
      ],
      "text/plain": [
       "                                    Metabolites  Equilibrium constant  \\\n",
       "reaction_0        {'new_meta': -2, 'meta_1': 1}                   1.5   \n",
       "reaction_1          {'meta_1': -1, 'meta_2': 1}                   1.0   \n",
       "reaction_2          {'meta_2': -1, 'meta_3': 1}                   1.0   \n",
       "combustion  {'C': -1.0, 'O2': -1.0, 'CO2': 1.0}                   1.0   \n",
       "\n",
       "            Reversible  Flux        Unit  \n",
       "reaction_0       False   1.5  mmol/gDW/h  \n",
       "reaction_1        True   1.0  mmol/gDW/h  \n",
       "reaction_2        True   1.0  mmol/gDW/h  \n",
       "combustion        True   1.0  mmol/gDW/h  "
      ]
     },
     "execution_count": 16,
     "metadata": {},
     "output_type": "execute_result"
    }
   ],
   "source": [
    "model.reactions.df"
   ]
  },
  {
   "cell_type": "markdown",
   "metadata": {},
   "source": [
    "Add a reaction with specified metabolite and stoichiometric coefficient automaticaly adds them to the model"
   ]
  },
  {
   "cell_type": "code",
   "execution_count": 17,
   "metadata": {},
   "outputs": [
    {
     "data": {
      "text/html": [
       "<div>\n",
       "<style scoped>\n",
       "    .dataframe tbody tr th:only-of-type {\n",
       "        vertical-align: middle;\n",
       "    }\n",
       "\n",
       "    .dataframe tbody tr th {\n",
       "        vertical-align: top;\n",
       "    }\n",
       "\n",
       "    .dataframe thead th {\n",
       "        text-align: right;\n",
       "    }\n",
       "</style>\n",
       "<table border=\"1\" class=\"dataframe\">\n",
       "  <thead>\n",
       "    <tr style=\"text-align: right;\">\n",
       "      <th></th>\n",
       "      <th>reaction_0</th>\n",
       "      <th>reaction_1</th>\n",
       "      <th>reaction_2</th>\n",
       "      <th>combustion</th>\n",
       "    </tr>\n",
       "  </thead>\n",
       "  <tbody>\n",
       "    <tr>\n",
       "      <th>meta_0</th>\n",
       "      <td>0.0</td>\n",
       "      <td>0.0</td>\n",
       "      <td>0.0</td>\n",
       "      <td>0.0</td>\n",
       "    </tr>\n",
       "    <tr>\n",
       "      <th>meta_1</th>\n",
       "      <td>1.0</td>\n",
       "      <td>-1.0</td>\n",
       "      <td>0.0</td>\n",
       "      <td>0.0</td>\n",
       "    </tr>\n",
       "    <tr>\n",
       "      <th>meta_2</th>\n",
       "      <td>0.0</td>\n",
       "      <td>1.0</td>\n",
       "      <td>-1.0</td>\n",
       "      <td>0.0</td>\n",
       "    </tr>\n",
       "    <tr>\n",
       "      <th>meta_3</th>\n",
       "      <td>0.0</td>\n",
       "      <td>0.0</td>\n",
       "      <td>1.0</td>\n",
       "      <td>0.0</td>\n",
       "    </tr>\n",
       "    <tr>\n",
       "      <th>new_meta</th>\n",
       "      <td>-2.0</td>\n",
       "      <td>0.0</td>\n",
       "      <td>0.0</td>\n",
       "      <td>0.0</td>\n",
       "    </tr>\n",
       "    <tr>\n",
       "      <th>H2O</th>\n",
       "      <td>0.0</td>\n",
       "      <td>0.0</td>\n",
       "      <td>0.0</td>\n",
       "      <td>0.0</td>\n",
       "    </tr>\n",
       "    <tr>\n",
       "      <th>H2</th>\n",
       "      <td>0.0</td>\n",
       "      <td>0.0</td>\n",
       "      <td>0.0</td>\n",
       "      <td>0.0</td>\n",
       "    </tr>\n",
       "    <tr>\n",
       "      <th>O2</th>\n",
       "      <td>0.0</td>\n",
       "      <td>0.0</td>\n",
       "      <td>0.0</td>\n",
       "      <td>-1.0</td>\n",
       "    </tr>\n",
       "    <tr>\n",
       "      <th>C</th>\n",
       "      <td>0.0</td>\n",
       "      <td>0.0</td>\n",
       "      <td>0.0</td>\n",
       "      <td>-1.0</td>\n",
       "    </tr>\n",
       "    <tr>\n",
       "      <th>CO2</th>\n",
       "      <td>0.0</td>\n",
       "      <td>0.0</td>\n",
       "      <td>0.0</td>\n",
       "      <td>1.0</td>\n",
       "    </tr>\n",
       "  </tbody>\n",
       "</table>\n",
       "</div>"
      ],
      "text/plain": [
       "          reaction_0  reaction_1  reaction_2  combustion\n",
       "meta_0           0.0         0.0         0.0         0.0\n",
       "meta_1           1.0        -1.0         0.0         0.0\n",
       "meta_2           0.0         1.0        -1.0         0.0\n",
       "meta_3           0.0         0.0         1.0         0.0\n",
       "new_meta        -2.0         0.0         0.0         0.0\n",
       "H2O              0.0         0.0         0.0         0.0\n",
       "H2               0.0         0.0         0.0         0.0\n",
       "O2               0.0         0.0         0.0        -1.0\n",
       "C                0.0         0.0         0.0        -1.0\n",
       "CO2              0.0         0.0         0.0         1.0"
      ]
     },
     "execution_count": 17,
     "metadata": {},
     "output_type": "execute_result"
    }
   ],
   "source": [
    "model.N\n",
    "# Same\n",
    "model.Stoichio_matrix_pd"
   ]
  },
  {
   "cell_type": "markdown",
   "metadata": {},
   "source": [
    "## <font color='green'> [0.5] Removing a reaction and metabolite </font> "
   ]
  },
  {
   "cell_type": "markdown",
   "metadata": {},
   "source": [
    "It is also possible to remove a metabolite or a reaction from the model"
   ]
  },
  {
   "cell_type": "code",
   "execution_count": 18,
   "metadata": {},
   "outputs": [
    {
     "data": {
      "text/html": [
       "<div>\n",
       "<style scoped>\n",
       "    .dataframe tbody tr th:only-of-type {\n",
       "        vertical-align: middle;\n",
       "    }\n",
       "\n",
       "    .dataframe tbody tr th {\n",
       "        vertical-align: top;\n",
       "    }\n",
       "\n",
       "    .dataframe thead th {\n",
       "        text-align: right;\n",
       "    }\n",
       "</style>\n",
       "<table border=\"1\" class=\"dataframe\">\n",
       "  <thead>\n",
       "    <tr style=\"text-align: right;\">\n",
       "      <th></th>\n",
       "      <th>External</th>\n",
       "      <th>Concentration</th>\n",
       "      <th>Unit</th>\n",
       "    </tr>\n",
       "  </thead>\n",
       "  <tbody>\n",
       "    <tr>\n",
       "      <th>meta_0</th>\n",
       "      <td>True</td>\n",
       "      <td>2.0</td>\n",
       "      <td>mmol/gDW</td>\n",
       "    </tr>\n",
       "    <tr>\n",
       "      <th>meta_1</th>\n",
       "      <td>False</td>\n",
       "      <td>1.0</td>\n",
       "      <td>mmol/gDW</td>\n",
       "    </tr>\n",
       "    <tr>\n",
       "      <th>meta_2</th>\n",
       "      <td>False</td>\n",
       "      <td>1.0</td>\n",
       "      <td>mmol/gDW</td>\n",
       "    </tr>\n",
       "    <tr>\n",
       "      <th>meta_3</th>\n",
       "      <td>True</td>\n",
       "      <td>1.0</td>\n",
       "      <td>mmol/gDW</td>\n",
       "    </tr>\n",
       "    <tr>\n",
       "      <th>new_meta</th>\n",
       "      <td>False</td>\n",
       "      <td>1.0</td>\n",
       "      <td>mmol/gDW</td>\n",
       "    </tr>\n",
       "    <tr>\n",
       "      <th>H2O</th>\n",
       "      <td>True</td>\n",
       "      <td>1.0</td>\n",
       "      <td>mmol/gDW</td>\n",
       "    </tr>\n",
       "    <tr>\n",
       "      <th>H2</th>\n",
       "      <td>False</td>\n",
       "      <td>1.0</td>\n",
       "      <td>mmol/gDW</td>\n",
       "    </tr>\n",
       "    <tr>\n",
       "      <th>C</th>\n",
       "      <td>False</td>\n",
       "      <td>1.0</td>\n",
       "      <td>mmol/gDW</td>\n",
       "    </tr>\n",
       "    <tr>\n",
       "      <th>CO2</th>\n",
       "      <td>False</td>\n",
       "      <td>1.0</td>\n",
       "      <td>mmol/gDW</td>\n",
       "    </tr>\n",
       "  </tbody>\n",
       "</table>\n",
       "</div>"
      ],
      "text/plain": [
       "          External  Concentration      Unit\n",
       "meta_0        True            2.0  mmol/gDW\n",
       "meta_1       False            1.0  mmol/gDW\n",
       "meta_2       False            1.0  mmol/gDW\n",
       "meta_3        True            1.0  mmol/gDW\n",
       "new_meta     False            1.0  mmol/gDW\n",
       "H2O           True            1.0  mmol/gDW\n",
       "H2           False            1.0  mmol/gDW\n",
       "C            False            1.0  mmol/gDW\n",
       "CO2          False            1.0  mmol/gDW"
      ]
     },
     "execution_count": 18,
     "metadata": {},
     "output_type": "execute_result"
    }
   ],
   "source": [
    "model.metabolites.remove(\"O2\")\n",
    "model.metabolites.df"
   ]
  },
  {
   "cell_type": "markdown",
   "metadata": {},
   "source": [
    "Removing a metabolite or a reaction remove also every mention of it in the stoichiometric matrix and elasticities matrix\n",
    "\n",
    "Same for the mention of the metabolite on the reaction dataframe"
   ]
  },
  {
   "cell_type": "code",
   "execution_count": 19,
   "metadata": {},
   "outputs": [
    {
     "data": {
      "text/html": [
       "<div>\n",
       "<style scoped>\n",
       "    .dataframe tbody tr th:only-of-type {\n",
       "        vertical-align: middle;\n",
       "    }\n",
       "\n",
       "    .dataframe tbody tr th {\n",
       "        vertical-align: top;\n",
       "    }\n",
       "\n",
       "    .dataframe thead th {\n",
       "        text-align: right;\n",
       "    }\n",
       "</style>\n",
       "<table border=\"1\" class=\"dataframe\">\n",
       "  <thead>\n",
       "    <tr style=\"text-align: right;\">\n",
       "      <th></th>\n",
       "      <th>Metabolites</th>\n",
       "      <th>Equilibrium constant</th>\n",
       "      <th>Reversible</th>\n",
       "      <th>Flux</th>\n",
       "      <th>Unit</th>\n",
       "    </tr>\n",
       "  </thead>\n",
       "  <tbody>\n",
       "    <tr>\n",
       "      <th>reaction_0</th>\n",
       "      <td>{'new_meta': -2, 'meta_1': 1}</td>\n",
       "      <td>1.5</td>\n",
       "      <td>False</td>\n",
       "      <td>1.5</td>\n",
       "      <td>mmol/gDW/h</td>\n",
       "    </tr>\n",
       "    <tr>\n",
       "      <th>reaction_1</th>\n",
       "      <td>{'meta_1': -1, 'meta_2': 1}</td>\n",
       "      <td>1.0</td>\n",
       "      <td>True</td>\n",
       "      <td>1.0</td>\n",
       "      <td>mmol/gDW/h</td>\n",
       "    </tr>\n",
       "    <tr>\n",
       "      <th>reaction_2</th>\n",
       "      <td>{'meta_2': -1, 'meta_3': 1}</td>\n",
       "      <td>1.0</td>\n",
       "      <td>True</td>\n",
       "      <td>1.0</td>\n",
       "      <td>mmol/gDW/h</td>\n",
       "    </tr>\n",
       "    <tr>\n",
       "      <th>combustion</th>\n",
       "      <td>{'C': -1.0, 'CO2': 1.0}</td>\n",
       "      <td>1.0</td>\n",
       "      <td>True</td>\n",
       "      <td>1.0</td>\n",
       "      <td>mmol/gDW/h</td>\n",
       "    </tr>\n",
       "  </tbody>\n",
       "</table>\n",
       "</div>"
      ],
      "text/plain": [
       "                              Metabolites  Equilibrium constant  Reversible  \\\n",
       "reaction_0  {'new_meta': -2, 'meta_1': 1}                   1.5       False   \n",
       "reaction_1    {'meta_1': -1, 'meta_2': 1}                   1.0        True   \n",
       "reaction_2    {'meta_2': -1, 'meta_3': 1}                   1.0        True   \n",
       "combustion        {'C': -1.0, 'CO2': 1.0}                   1.0        True   \n",
       "\n",
       "            Flux        Unit  \n",
       "reaction_0   1.5  mmol/gDW/h  \n",
       "reaction_1   1.0  mmol/gDW/h  \n",
       "reaction_2   1.0  mmol/gDW/h  \n",
       "combustion   1.0  mmol/gDW/h  "
      ]
     },
     "execution_count": 19,
     "metadata": {},
     "output_type": "execute_result"
    }
   ],
   "source": [
    "model.reactions.df"
   ]
  },
  {
   "cell_type": "code",
   "execution_count": 20,
   "metadata": {},
   "outputs": [
    {
     "data": {
      "text/html": [
       "<div>\n",
       "<style scoped>\n",
       "    .dataframe tbody tr th:only-of-type {\n",
       "        vertical-align: middle;\n",
       "    }\n",
       "\n",
       "    .dataframe tbody tr th {\n",
       "        vertical-align: top;\n",
       "    }\n",
       "\n",
       "    .dataframe thead th {\n",
       "        text-align: right;\n",
       "    }\n",
       "</style>\n",
       "<table border=\"1\" class=\"dataframe\">\n",
       "  <thead>\n",
       "    <tr style=\"text-align: right;\">\n",
       "      <th></th>\n",
       "      <th>reaction_0</th>\n",
       "      <th>reaction_1</th>\n",
       "      <th>reaction_2</th>\n",
       "      <th>combustion</th>\n",
       "    </tr>\n",
       "  </thead>\n",
       "  <tbody>\n",
       "    <tr>\n",
       "      <th>meta_0</th>\n",
       "      <td>0.0</td>\n",
       "      <td>0.0</td>\n",
       "      <td>0.0</td>\n",
       "      <td>0.0</td>\n",
       "    </tr>\n",
       "    <tr>\n",
       "      <th>meta_1</th>\n",
       "      <td>1.0</td>\n",
       "      <td>-1.0</td>\n",
       "      <td>0.0</td>\n",
       "      <td>0.0</td>\n",
       "    </tr>\n",
       "    <tr>\n",
       "      <th>meta_2</th>\n",
       "      <td>0.0</td>\n",
       "      <td>1.0</td>\n",
       "      <td>-1.0</td>\n",
       "      <td>0.0</td>\n",
       "    </tr>\n",
       "    <tr>\n",
       "      <th>meta_3</th>\n",
       "      <td>0.0</td>\n",
       "      <td>0.0</td>\n",
       "      <td>1.0</td>\n",
       "      <td>0.0</td>\n",
       "    </tr>\n",
       "    <tr>\n",
       "      <th>new_meta</th>\n",
       "      <td>-2.0</td>\n",
       "      <td>0.0</td>\n",
       "      <td>0.0</td>\n",
       "      <td>0.0</td>\n",
       "    </tr>\n",
       "    <tr>\n",
       "      <th>H2O</th>\n",
       "      <td>0.0</td>\n",
       "      <td>0.0</td>\n",
       "      <td>0.0</td>\n",
       "      <td>0.0</td>\n",
       "    </tr>\n",
       "    <tr>\n",
       "      <th>H2</th>\n",
       "      <td>0.0</td>\n",
       "      <td>0.0</td>\n",
       "      <td>0.0</td>\n",
       "      <td>0.0</td>\n",
       "    </tr>\n",
       "    <tr>\n",
       "      <th>C</th>\n",
       "      <td>0.0</td>\n",
       "      <td>0.0</td>\n",
       "      <td>0.0</td>\n",
       "      <td>-1.0</td>\n",
       "    </tr>\n",
       "    <tr>\n",
       "      <th>CO2</th>\n",
       "      <td>0.0</td>\n",
       "      <td>0.0</td>\n",
       "      <td>0.0</td>\n",
       "      <td>1.0</td>\n",
       "    </tr>\n",
       "  </tbody>\n",
       "</table>\n",
       "</div>"
      ],
      "text/plain": [
       "          reaction_0  reaction_1  reaction_2  combustion\n",
       "meta_0           0.0         0.0         0.0         0.0\n",
       "meta_1           1.0        -1.0         0.0         0.0\n",
       "meta_2           0.0         1.0        -1.0         0.0\n",
       "meta_3           0.0         0.0         1.0         0.0\n",
       "new_meta        -2.0         0.0         0.0         0.0\n",
       "H2O              0.0         0.0         0.0         0.0\n",
       "H2               0.0         0.0         0.0         0.0\n",
       "C                0.0         0.0         0.0        -1.0\n",
       "CO2              0.0         0.0         0.0         1.0"
      ]
     },
     "execution_count": 20,
     "metadata": {},
     "output_type": "execute_result"
    }
   ],
   "source": [
    "model.N"
   ]
  },
  {
   "cell_type": "code",
   "execution_count": 21,
   "metadata": {},
   "outputs": [],
   "source": [
    "model.reactions.remove(\"combustion\")"
   ]
  },
  {
   "cell_type": "code",
   "execution_count": 22,
   "metadata": {},
   "outputs": [
    {
     "data": {
      "text/html": [
       "<div>\n",
       "<style scoped>\n",
       "    .dataframe tbody tr th:only-of-type {\n",
       "        vertical-align: middle;\n",
       "    }\n",
       "\n",
       "    .dataframe tbody tr th {\n",
       "        vertical-align: top;\n",
       "    }\n",
       "\n",
       "    .dataframe thead th {\n",
       "        text-align: right;\n",
       "    }\n",
       "</style>\n",
       "<table border=\"1\" class=\"dataframe\">\n",
       "  <thead>\n",
       "    <tr style=\"text-align: right;\">\n",
       "      <th></th>\n",
       "      <th>Metabolites</th>\n",
       "      <th>Equilibrium constant</th>\n",
       "      <th>Reversible</th>\n",
       "      <th>Flux</th>\n",
       "      <th>Unit</th>\n",
       "    </tr>\n",
       "  </thead>\n",
       "  <tbody>\n",
       "    <tr>\n",
       "      <th>reaction_0</th>\n",
       "      <td>{'new_meta': -2, 'meta_1': 1}</td>\n",
       "      <td>1.5</td>\n",
       "      <td>False</td>\n",
       "      <td>1.5</td>\n",
       "      <td>mmol/gDW/h</td>\n",
       "    </tr>\n",
       "    <tr>\n",
       "      <th>reaction_1</th>\n",
       "      <td>{'meta_1': -1, 'meta_2': 1}</td>\n",
       "      <td>1.0</td>\n",
       "      <td>True</td>\n",
       "      <td>1.0</td>\n",
       "      <td>mmol/gDW/h</td>\n",
       "    </tr>\n",
       "    <tr>\n",
       "      <th>reaction_2</th>\n",
       "      <td>{'meta_2': -1, 'meta_3': 1}</td>\n",
       "      <td>1.0</td>\n",
       "      <td>True</td>\n",
       "      <td>1.0</td>\n",
       "      <td>mmol/gDW/h</td>\n",
       "    </tr>\n",
       "  </tbody>\n",
       "</table>\n",
       "</div>"
      ],
      "text/plain": [
       "                              Metabolites  Equilibrium constant  Reversible  \\\n",
       "reaction_0  {'new_meta': -2, 'meta_1': 1}                   1.5       False   \n",
       "reaction_1    {'meta_1': -1, 'meta_2': 1}                   1.0        True   \n",
       "reaction_2    {'meta_2': -1, 'meta_3': 1}                   1.0        True   \n",
       "\n",
       "            Flux        Unit  \n",
       "reaction_0   1.5  mmol/gDW/h  \n",
       "reaction_1   1.0  mmol/gDW/h  \n",
       "reaction_2   1.0  mmol/gDW/h  "
      ]
     },
     "execution_count": 22,
     "metadata": {},
     "output_type": "execute_result"
    }
   ],
   "source": [
    "model.reactions.remove(name=\"combustion\")\n",
    "model.reactions.df"
   ]
  },
  {
   "cell_type": "markdown",
   "metadata": {},
   "source": [
    "## <font color='green'> [0.6] Stoichiometric matrix from an existant one </font> "
   ]
  },
  {
   "cell_type": "markdown",
   "metadata": {},
   "source": [
    "#### You can also change the stoichiometric matrix\n",
    "\n",
    "You have 2 options :\n",
    "- Attribute to the stoichiometric matrix a Pandas Dataframe, whatever the size, and the programme will create a new model based on the metabolites (rows) and reactions (columns) of the dataframe\n",
    "- Attribute a numpy array, and the programme will change the value of the coefficients of the matrix"
   ]
  },
  {
   "cell_type": "code",
   "execution_count": 23,
   "metadata": {},
   "outputs": [],
   "source": [
    "reactions = {'Combustion': [1. , -1., -0.5],\n",
    "             'Reaction_2': [0. ,  0.,   1. ]}\n",
    "\n",
    "metabolites = ['H2O', 'H2', 'O2']\n",
    "\n",
    "dataframe = pd.DataFrame(reactions, index=metabolites)\n",
    "\n",
    "model.Stoichio_matrix_pd = dataframe"
   ]
  },
  {
   "cell_type": "markdown",
   "metadata": {},
   "source": [
    "#### And the metabolites and reactions dataframes are automatically update"
   ]
  },
  {
   "cell_type": "code",
   "execution_count": 24,
   "metadata": {},
   "outputs": [
    {
     "data": {
      "text/html": [
       "<div>\n",
       "<style scoped>\n",
       "    .dataframe tbody tr th:only-of-type {\n",
       "        vertical-align: middle;\n",
       "    }\n",
       "\n",
       "    .dataframe tbody tr th {\n",
       "        vertical-align: top;\n",
       "    }\n",
       "\n",
       "    .dataframe thead th {\n",
       "        text-align: right;\n",
       "    }\n",
       "</style>\n",
       "<table border=\"1\" class=\"dataframe\">\n",
       "  <thead>\n",
       "    <tr style=\"text-align: right;\">\n",
       "      <th></th>\n",
       "      <th>Combustion</th>\n",
       "      <th>Reaction_2</th>\n",
       "    </tr>\n",
       "  </thead>\n",
       "  <tbody>\n",
       "    <tr>\n",
       "      <th>H2O</th>\n",
       "      <td>1.0</td>\n",
       "      <td>0.0</td>\n",
       "    </tr>\n",
       "    <tr>\n",
       "      <th>H2</th>\n",
       "      <td>-1.0</td>\n",
       "      <td>0.0</td>\n",
       "    </tr>\n",
       "    <tr>\n",
       "      <th>O2</th>\n",
       "      <td>-0.5</td>\n",
       "      <td>1.0</td>\n",
       "    </tr>\n",
       "  </tbody>\n",
       "</table>\n",
       "</div>"
      ],
      "text/plain": [
       "     Combustion  Reaction_2\n",
       "H2O         1.0         0.0\n",
       "H2         -1.0         0.0\n",
       "O2         -0.5         1.0"
      ]
     },
     "execution_count": 24,
     "metadata": {},
     "output_type": "execute_result"
    }
   ],
   "source": [
    "model.N"
   ]
  },
  {
   "cell_type": "code",
   "execution_count": 25,
   "metadata": {},
   "outputs": [
    {
     "data": {
      "text/html": [
       "<div>\n",
       "<style scoped>\n",
       "    .dataframe tbody tr th:only-of-type {\n",
       "        vertical-align: middle;\n",
       "    }\n",
       "\n",
       "    .dataframe tbody tr th {\n",
       "        vertical-align: top;\n",
       "    }\n",
       "\n",
       "    .dataframe thead th {\n",
       "        text-align: right;\n",
       "    }\n",
       "</style>\n",
       "<table border=\"1\" class=\"dataframe\">\n",
       "  <thead>\n",
       "    <tr style=\"text-align: right;\">\n",
       "      <th></th>\n",
       "      <th>Metabolites</th>\n",
       "      <th>Equilibrium constant</th>\n",
       "      <th>Reversible</th>\n",
       "      <th>Flux</th>\n",
       "      <th>Unit</th>\n",
       "    </tr>\n",
       "  </thead>\n",
       "  <tbody>\n",
       "    <tr>\n",
       "      <th>Combustion</th>\n",
       "      <td>{'H2O': 1.0, 'H2': -1.0, 'O2': -0.5}</td>\n",
       "      <td>1.0</td>\n",
       "      <td>True</td>\n",
       "      <td>1.0</td>\n",
       "      <td>mmol/gDW/h</td>\n",
       "    </tr>\n",
       "    <tr>\n",
       "      <th>Reaction_2</th>\n",
       "      <td>{'O2': 1.0}</td>\n",
       "      <td>1.0</td>\n",
       "      <td>True</td>\n",
       "      <td>1.0</td>\n",
       "      <td>mmol/gDW/h</td>\n",
       "    </tr>\n",
       "  </tbody>\n",
       "</table>\n",
       "</div>"
      ],
      "text/plain": [
       "                                     Metabolites  Equilibrium constant  \\\n",
       "Combustion  {'H2O': 1.0, 'H2': -1.0, 'O2': -0.5}                   1.0   \n",
       "Reaction_2                           {'O2': 1.0}                   1.0   \n",
       "\n",
       "            Reversible  Flux        Unit  \n",
       "Combustion        True   1.0  mmol/gDW/h  \n",
       "Reaction_2        True   1.0  mmol/gDW/h  "
      ]
     },
     "execution_count": 25,
     "metadata": {},
     "output_type": "execute_result"
    }
   ],
   "source": [
    "model.reactions.df"
   ]
  },
  {
   "cell_type": "code",
   "execution_count": 26,
   "metadata": {},
   "outputs": [
    {
     "data": {
      "text/html": [
       "<div>\n",
       "<style scoped>\n",
       "    .dataframe tbody tr th:only-of-type {\n",
       "        vertical-align: middle;\n",
       "    }\n",
       "\n",
       "    .dataframe tbody tr th {\n",
       "        vertical-align: top;\n",
       "    }\n",
       "\n",
       "    .dataframe thead th {\n",
       "        text-align: right;\n",
       "    }\n",
       "</style>\n",
       "<table border=\"1\" class=\"dataframe\">\n",
       "  <thead>\n",
       "    <tr style=\"text-align: right;\">\n",
       "      <th></th>\n",
       "      <th>External</th>\n",
       "      <th>Concentration</th>\n",
       "      <th>Unit</th>\n",
       "    </tr>\n",
       "  </thead>\n",
       "  <tbody>\n",
       "    <tr>\n",
       "      <th>H2O</th>\n",
       "      <td>False</td>\n",
       "      <td>1.0</td>\n",
       "      <td>mmol/gDW</td>\n",
       "    </tr>\n",
       "    <tr>\n",
       "      <th>H2</th>\n",
       "      <td>False</td>\n",
       "      <td>1.0</td>\n",
       "      <td>mmol/gDW</td>\n",
       "    </tr>\n",
       "    <tr>\n",
       "      <th>O2</th>\n",
       "      <td>False</td>\n",
       "      <td>1.0</td>\n",
       "      <td>mmol/gDW</td>\n",
       "    </tr>\n",
       "  </tbody>\n",
       "</table>\n",
       "</div>"
      ],
      "text/plain": [
       "     External  Concentration      Unit\n",
       "H2O     False            1.0  mmol/gDW\n",
       "H2      False            1.0  mmol/gDW\n",
       "O2      False            1.0  mmol/gDW"
      ]
     },
     "execution_count": 26,
     "metadata": {},
     "output_type": "execute_result"
    }
   ],
   "source": [
    "model.metabolites.df"
   ]
  },
  {
   "cell_type": "markdown",
   "metadata": {},
   "source": [
    "# <font color='red'> [1] Play with the dynamic of model </font> "
   ]
  },
  {
   "cell_type": "code",
   "execution_count": 27,
   "metadata": {},
   "outputs": [
    {
     "name": "stdout",
     "output_type": "stream",
     "text": [
      "Model created \n",
      " \n",
      "To add metabolite, use .metabolites.add_meta \n",
      "To add reaction,   use .reactions.add_reaction\n"
     ]
    }
   ],
   "source": [
    "model.creat_linear(4)"
   ]
  },
  {
   "cell_type": "markdown",
   "metadata": {},
   "source": [
    "## <font color='green'> [1.1] Parameters </font> "
   ]
  },
  {
   "cell_type": "markdown",
   "metadata": {},
   "source": [
    "By default, the temperature is in the parameters dataframe"
   ]
  },
  {
   "cell_type": "code",
   "execution_count": 28,
   "metadata": {},
   "outputs": [
    {
     "data": {
      "text/html": [
       "<div>\n",
       "<style scoped>\n",
       "    .dataframe tbody tr th:only-of-type {\n",
       "        vertical-align: middle;\n",
       "    }\n",
       "\n",
       "    .dataframe tbody tr th {\n",
       "        vertical-align: top;\n",
       "    }\n",
       "\n",
       "    .dataframe thead th {\n",
       "        text-align: right;\n",
       "    }\n",
       "</style>\n",
       "<table border=\"1\" class=\"dataframe\">\n",
       "  <thead>\n",
       "    <tr style=\"text-align: right;\">\n",
       "      <th></th>\n",
       "      <th>Mean values</th>\n",
       "      <th>Standard deviation</th>\n",
       "    </tr>\n",
       "  </thead>\n",
       "  <tbody>\n",
       "    <tr>\n",
       "      <th>Temperature</th>\n",
       "      <td>273.15</td>\n",
       "      <td>1.0</td>\n",
       "    </tr>\n",
       "  </tbody>\n",
       "</table>\n",
       "</div>"
      ],
      "text/plain": [
       "            Mean values Standard deviation\n",
       "Temperature      273.15                1.0"
      ]
     },
     "execution_count": 28,
     "metadata": {},
     "output_type": "execute_result"
    }
   ],
   "source": [
    "model.parameters.df"
   ]
  },
  {
   "cell_type": "markdown",
   "metadata": {},
   "source": [
    "You can add any parameter with its mean values and standard deviation to represent its uncertity"
   ]
  },
  {
   "cell_type": "code",
   "execution_count": 29,
   "metadata": {},
   "outputs": [
    {
     "data": {
      "text/html": [
       "<div>\n",
       "<style scoped>\n",
       "    .dataframe tbody tr th:only-of-type {\n",
       "        vertical-align: middle;\n",
       "    }\n",
       "\n",
       "    .dataframe tbody tr th {\n",
       "        vertical-align: top;\n",
       "    }\n",
       "\n",
       "    .dataframe thead th {\n",
       "        text-align: right;\n",
       "    }\n",
       "</style>\n",
       "<table border=\"1\" class=\"dataframe\">\n",
       "  <thead>\n",
       "    <tr style=\"text-align: right;\">\n",
       "      <th></th>\n",
       "      <th>Mean values</th>\n",
       "      <th>Standard deviation</th>\n",
       "    </tr>\n",
       "  </thead>\n",
       "  <tbody>\n",
       "    <tr>\n",
       "      <th>Temperature</th>\n",
       "      <td>273.15</td>\n",
       "      <td>1.0</td>\n",
       "    </tr>\n",
       "    <tr>\n",
       "      <th>pH</th>\n",
       "      <td>7.0</td>\n",
       "      <td>2.0</td>\n",
       "    </tr>\n",
       "  </tbody>\n",
       "</table>\n",
       "</div>"
      ],
      "text/plain": [
       "            Mean values Standard deviation\n",
       "Temperature      273.15                1.0\n",
       "pH                  7.0                2.0"
      ]
     },
     "execution_count": 29,
     "metadata": {},
     "output_type": "execute_result"
    }
   ],
   "source": [
    "model.parameters.add(\"pH\", mean=7., Standard_deviation=2.)\n",
    "model.parameters.df"
   ]
  },
  {
   "cell_type": "markdown",
   "metadata": {},
   "source": [
    "You can also remove a parameter"
   ]
  },
  {
   "cell_type": "code",
   "execution_count": 30,
   "metadata": {},
   "outputs": [
    {
     "name": "stdout",
     "output_type": "stream",
     "text": [
      "Name of the removed parameter : Temperature\n"
     ]
    },
    {
     "data": {
      "text/html": [
       "<div>\n",
       "<style scoped>\n",
       "    .dataframe tbody tr th:only-of-type {\n",
       "        vertical-align: middle;\n",
       "    }\n",
       "\n",
       "    .dataframe tbody tr th {\n",
       "        vertical-align: top;\n",
       "    }\n",
       "\n",
       "    .dataframe thead th {\n",
       "        text-align: right;\n",
       "    }\n",
       "</style>\n",
       "<table border=\"1\" class=\"dataframe\">\n",
       "  <thead>\n",
       "    <tr style=\"text-align: right;\">\n",
       "      <th></th>\n",
       "      <th>Mean values</th>\n",
       "      <th>Standard deviation</th>\n",
       "    </tr>\n",
       "  </thead>\n",
       "  <tbody>\n",
       "    <tr>\n",
       "      <th>pH</th>\n",
       "      <td>7.0</td>\n",
       "      <td>2.0</td>\n",
       "    </tr>\n",
       "  </tbody>\n",
       "</table>\n",
       "</div>"
      ],
      "text/plain": [
       "   Mean values Standard deviation\n",
       "pH         7.0                2.0"
      ]
     },
     "execution_count": 30,
     "metadata": {},
     "output_type": "execute_result"
    }
   ],
   "source": [
    "model.parameters.remove(\"Temperature\")\n",
    "model.parameters.df"
   ]
  },
  {
   "cell_type": "markdown",
   "metadata": {},
   "source": [
    "You can also consider the external metabolite as parameters of the model"
   ]
  },
  {
   "cell_type": "code",
   "execution_count": 31,
   "metadata": {},
   "outputs": [],
   "source": [
    "model.parameters.add_externals()"
   ]
  },
  {
   "cell_type": "markdown",
   "metadata": {},
   "source": [
    "## <font color='green'> [1.2] Enzymes </font> "
   ]
  },
  {
   "cell_type": "markdown",
   "metadata": {},
   "source": [
    "You can add enzyme to the model and liked them to reactions"
   ]
  },
  {
   "cell_type": "code",
   "execution_count": 32,
   "metadata": {},
   "outputs": [
    {
     "data": {
      "text/html": [
       "<div>\n",
       "<style scoped>\n",
       "    .dataframe tbody tr th:only-of-type {\n",
       "        vertical-align: middle;\n",
       "    }\n",
       "\n",
       "    .dataframe tbody tr th {\n",
       "        vertical-align: top;\n",
       "    }\n",
       "\n",
       "    .dataframe thead th {\n",
       "        text-align: right;\n",
       "    }\n",
       "</style>\n",
       "<table border=\"1\" class=\"dataframe\">\n",
       "  <thead>\n",
       "    <tr style=\"text-align: right;\">\n",
       "      <th></th>\n",
       "      <th>Concentration / Activity</th>\n",
       "      <th>Reactions linked</th>\n",
       "    </tr>\n",
       "  </thead>\n",
       "  <tbody>\n",
       "    <tr>\n",
       "      <th>enzyme_test</th>\n",
       "      <td>1</td>\n",
       "      <td>[reaction_0, reaction_2]</td>\n",
       "    </tr>\n",
       "  </tbody>\n",
       "</table>\n",
       "</div>"
      ],
      "text/plain": [
       "             Concentration / Activity          Reactions linked\n",
       "enzyme_test                         1  [reaction_0, reaction_2]"
      ]
     },
     "execution_count": 32,
     "metadata": {},
     "output_type": "execute_result"
    }
   ],
   "source": [
    "model.enzymes.add(\"enzyme_test\", mean=1, reaction_linked=[\"reaction_0\", \"reaction_2\"])\n",
    "model.enzymes.df"
   ]
  },
  {
   "cell_type": "markdown",
   "metadata": {},
   "source": [
    "You can also use the model.enzymes.add_to_all_reaction() method to creat an enzyme linked to each reaction, with the name \"enzyme_{reaction_name}\""
   ]
  },
  {
   "cell_type": "code",
   "execution_count": 33,
   "metadata": {},
   "outputs": [
    {
     "data": {
      "text/html": [
       "<div>\n",
       "<style scoped>\n",
       "    .dataframe tbody tr th:only-of-type {\n",
       "        vertical-align: middle;\n",
       "    }\n",
       "\n",
       "    .dataframe tbody tr th {\n",
       "        vertical-align: top;\n",
       "    }\n",
       "\n",
       "    .dataframe thead th {\n",
       "        text-align: right;\n",
       "    }\n",
       "</style>\n",
       "<table border=\"1\" class=\"dataframe\">\n",
       "  <thead>\n",
       "    <tr style=\"text-align: right;\">\n",
       "      <th></th>\n",
       "      <th>Concentration / Activity</th>\n",
       "      <th>Reactions linked</th>\n",
       "    </tr>\n",
       "  </thead>\n",
       "  <tbody>\n",
       "    <tr>\n",
       "      <th>enzyme_test</th>\n",
       "      <td>1</td>\n",
       "      <td>[reaction_0, reaction_2]</td>\n",
       "    </tr>\n",
       "    <tr>\n",
       "      <th>enzyme_reaction_0</th>\n",
       "      <td>1</td>\n",
       "      <td>[reaction_0]</td>\n",
       "    </tr>\n",
       "    <tr>\n",
       "      <th>enzyme_reaction_1</th>\n",
       "      <td>1</td>\n",
       "      <td>[reaction_1]</td>\n",
       "    </tr>\n",
       "    <tr>\n",
       "      <th>enzyme_reaction_2</th>\n",
       "      <td>1</td>\n",
       "      <td>[reaction_2]</td>\n",
       "    </tr>\n",
       "  </tbody>\n",
       "</table>\n",
       "</div>"
      ],
      "text/plain": [
       "                   Concentration / Activity          Reactions linked\n",
       "enzyme_test                               1  [reaction_0, reaction_2]\n",
       "enzyme_reaction_0                         1              [reaction_0]\n",
       "enzyme_reaction_1                         1              [reaction_1]\n",
       "enzyme_reaction_2                         1              [reaction_2]"
      ]
     },
     "execution_count": 33,
     "metadata": {},
     "output_type": "execute_result"
    }
   ],
   "source": [
    "model.enzymes.add_to_all_reaction()\n",
    "model.enzymes.df"
   ]
  },
  {
   "cell_type": "code",
   "execution_count": 34,
   "metadata": {},
   "outputs": [
    {
     "data": {
      "text/html": [
       "<div>\n",
       "<style scoped>\n",
       "    .dataframe tbody tr th:only-of-type {\n",
       "        vertical-align: middle;\n",
       "    }\n",
       "\n",
       "    .dataframe tbody tr th {\n",
       "        vertical-align: top;\n",
       "    }\n",
       "\n",
       "    .dataframe thead th {\n",
       "        text-align: right;\n",
       "    }\n",
       "</style>\n",
       "<table border=\"1\" class=\"dataframe\">\n",
       "  <thead>\n",
       "    <tr style=\"text-align: right;\">\n",
       "      <th></th>\n",
       "      <th>Concentration / Activity</th>\n",
       "      <th>Reactions linked</th>\n",
       "    </tr>\n",
       "  </thead>\n",
       "  <tbody>\n",
       "    <tr>\n",
       "      <th>enzyme_reaction_0</th>\n",
       "      <td>1</td>\n",
       "      <td>[reaction_0]</td>\n",
       "    </tr>\n",
       "    <tr>\n",
       "      <th>enzyme_reaction_1</th>\n",
       "      <td>1</td>\n",
       "      <td>[reaction_1]</td>\n",
       "    </tr>\n",
       "    <tr>\n",
       "      <th>enzyme_reaction_2</th>\n",
       "      <td>1</td>\n",
       "      <td>[reaction_2]</td>\n",
       "    </tr>\n",
       "  </tbody>\n",
       "</table>\n",
       "</div>"
      ],
      "text/plain": [
       "                   Concentration / Activity Reactions linked\n",
       "enzyme_reaction_0                         1     [reaction_0]\n",
       "enzyme_reaction_1                         1     [reaction_1]\n",
       "enzyme_reaction_2                         1     [reaction_2]"
      ]
     },
     "execution_count": 34,
     "metadata": {},
     "output_type": "execute_result"
    }
   ],
   "source": [
    "model.enzymes.remove(\"enzyme_test\")\n",
    "model.enzymes.df"
   ]
  },
  {
   "cell_type": "markdown",
   "metadata": {},
   "source": [
    "Finaly, you can add the enzyme as parameters, they will be add with there name of enzyme + \"_para\""
   ]
  },
  {
   "cell_type": "code",
   "execution_count": 35,
   "metadata": {},
   "outputs": [
    {
     "data": {
      "text/html": [
       "<div>\n",
       "<style scoped>\n",
       "    .dataframe tbody tr th:only-of-type {\n",
       "        vertical-align: middle;\n",
       "    }\n",
       "\n",
       "    .dataframe tbody tr th {\n",
       "        vertical-align: top;\n",
       "    }\n",
       "\n",
       "    .dataframe thead th {\n",
       "        text-align: right;\n",
       "    }\n",
       "</style>\n",
       "<table border=\"1\" class=\"dataframe\">\n",
       "  <thead>\n",
       "    <tr style=\"text-align: right;\">\n",
       "      <th></th>\n",
       "      <th>Mean values</th>\n",
       "      <th>Standard deviation</th>\n",
       "    </tr>\n",
       "  </thead>\n",
       "  <tbody>\n",
       "    <tr>\n",
       "      <th>pH</th>\n",
       "      <td>7.0</td>\n",
       "      <td>2.0</td>\n",
       "    </tr>\n",
       "    <tr>\n",
       "      <th>meta_0_para</th>\n",
       "      <td>1.0</td>\n",
       "      <td>1.0</td>\n",
       "    </tr>\n",
       "    <tr>\n",
       "      <th>meta_3_para</th>\n",
       "      <td>1.0</td>\n",
       "      <td>1.0</td>\n",
       "    </tr>\n",
       "    <tr>\n",
       "      <th>enzyme_reaction_0_para</th>\n",
       "      <td>1.0</td>\n",
       "      <td>1.0</td>\n",
       "    </tr>\n",
       "    <tr>\n",
       "      <th>enzyme_reaction_1_para</th>\n",
       "      <td>1.0</td>\n",
       "      <td>1.0</td>\n",
       "    </tr>\n",
       "    <tr>\n",
       "      <th>enzyme_reaction_2_para</th>\n",
       "      <td>1.0</td>\n",
       "      <td>1.0</td>\n",
       "    </tr>\n",
       "  </tbody>\n",
       "</table>\n",
       "</div>"
      ],
      "text/plain": [
       "                       Mean values Standard deviation\n",
       "pH                             7.0                2.0\n",
       "meta_0_para                    1.0                1.0\n",
       "meta_3_para                    1.0                1.0\n",
       "enzyme_reaction_0_para         1.0                1.0\n",
       "enzyme_reaction_1_para         1.0                1.0\n",
       "enzyme_reaction_2_para         1.0                1.0"
      ]
     },
     "execution_count": 35,
     "metadata": {},
     "output_type": "execute_result"
    }
   ],
   "source": [
    "model.parameters.add_enzymes()\n",
    "model.parameters.df"
   ]
  },
  {
   "cell_type": "markdown",
   "metadata": {},
   "source": [
    "## <font color='green'> [1.3] Operons </font> "
   ]
  },
  {
   "cell_type": "markdown",
   "metadata": {},
   "source": [
    "You can create a dependendy between enzyme by specifying if they are linked by an operon"
   ]
  },
  {
   "cell_type": "markdown",
   "metadata": {},
   "source": [
    "To do so, it is the parameters name of the enzyme that must be input"
   ]
  },
  {
   "cell_type": "code",
   "execution_count": 36,
   "metadata": {},
   "outputs": [
    {
     "data": {
      "text/html": [
       "<div>\n",
       "<style scoped>\n",
       "    .dataframe tbody tr th:only-of-type {\n",
       "        vertical-align: middle;\n",
       "    }\n",
       "\n",
       "    .dataframe tbody tr th {\n",
       "        vertical-align: top;\n",
       "    }\n",
       "\n",
       "    .dataframe thead th {\n",
       "        text-align: right;\n",
       "    }\n",
       "</style>\n",
       "<table border=\"1\" class=\"dataframe\">\n",
       "  <thead>\n",
       "    <tr style=\"text-align: right;\">\n",
       "      <th></th>\n",
       "      <th>Enzymes linked</th>\n",
       "      <th>Mixed covariance</th>\n",
       "      <th>Activated</th>\n",
       "    </tr>\n",
       "  </thead>\n",
       "  <tbody>\n",
       "    <tr>\n",
       "      <th>operon_lactose</th>\n",
       "      <td>[enzyme_reaction_0_para_para, enzyme_reaction_...</td>\n",
       "      <td>0.42</td>\n",
       "      <td>True</td>\n",
       "    </tr>\n",
       "  </tbody>\n",
       "</table>\n",
       "</div>"
      ],
      "text/plain": [
       "                                                   Enzymes linked  \\\n",
       "operon_lactose  [enzyme_reaction_0_para_para, enzyme_reaction_...   \n",
       "\n",
       "                Mixed covariance  Activated  \n",
       "operon_lactose              0.42       True  "
      ]
     },
     "execution_count": 36,
     "metadata": {},
     "output_type": "execute_result"
    }
   ],
   "source": [
    "model.operons.add(\"operon_lactose\", enzymes_linked=[\"enzyme_reaction_0_para\", \"enzyme_reaction_2_para\"], mixed_covariance=0.42)\n",
    "model.operons.df"
   ]
  },
  {
   "cell_type": "markdown",
   "metadata": {},
   "source": [
    "By default, an operon is activated, you can desactivated at any moment"
   ]
  },
  {
   "cell_type": "code",
   "execution_count": 37,
   "metadata": {},
   "outputs": [],
   "source": [
    "model.operons.desactivate(\"operon_lactose\")"
   ]
  },
  {
   "cell_type": "markdown",
   "metadata": {},
   "source": [
    "## <font color='green'> [1.4] Elasticity matrix of parameters </font> "
   ]
  },
  {
   "cell_type": "code",
   "execution_count": 38,
   "metadata": {},
   "outputs": [
    {
     "data": {
      "text/html": [
       "<div>\n",
       "<style scoped>\n",
       "    .dataframe tbody tr th:only-of-type {\n",
       "        vertical-align: middle;\n",
       "    }\n",
       "\n",
       "    .dataframe tbody tr th {\n",
       "        vertical-align: top;\n",
       "    }\n",
       "\n",
       "    .dataframe thead th {\n",
       "        text-align: right;\n",
       "    }\n",
       "</style>\n",
       "<table border=\"1\" class=\"dataframe\">\n",
       "  <thead>\n",
       "    <tr style=\"text-align: right;\">\n",
       "      <th></th>\n",
       "      <th>meta_0_para</th>\n",
       "      <th>meta_3_para</th>\n",
       "      <th>enzyme_reaction_0_para</th>\n",
       "      <th>enzyme_reaction_1_para</th>\n",
       "      <th>enzyme_reaction_2_para</th>\n",
       "    </tr>\n",
       "  </thead>\n",
       "  <tbody>\n",
       "    <tr>\n",
       "      <th>reaction_0</th>\n",
       "      <td>0.5</td>\n",
       "      <td>-0.0</td>\n",
       "      <td>1.0</td>\n",
       "      <td>0.0</td>\n",
       "      <td>0.0</td>\n",
       "    </tr>\n",
       "    <tr>\n",
       "      <th>reaction_1</th>\n",
       "      <td>-0.0</td>\n",
       "      <td>-0.0</td>\n",
       "      <td>0.0</td>\n",
       "      <td>1.0</td>\n",
       "      <td>0.0</td>\n",
       "    </tr>\n",
       "    <tr>\n",
       "      <th>reaction_2</th>\n",
       "      <td>-0.0</td>\n",
       "      <td>-0.5</td>\n",
       "      <td>0.0</td>\n",
       "      <td>0.0</td>\n",
       "      <td>1.0</td>\n",
       "    </tr>\n",
       "  </tbody>\n",
       "</table>\n",
       "</div>"
      ],
      "text/plain": [
       "            meta_0_para  meta_3_para  enzyme_reaction_0_para  \\\n",
       "reaction_0          0.5         -0.0                     1.0   \n",
       "reaction_1         -0.0         -0.0                     0.0   \n",
       "reaction_2         -0.0         -0.5                     0.0   \n",
       "\n",
       "            enzyme_reaction_1_para  enzyme_reaction_2_para  \n",
       "reaction_0                     0.0                     0.0  \n",
       "reaction_1                     1.0                     0.0  \n",
       "reaction_2                     0.0                     1.0  "
      ]
     },
     "execution_count": 38,
     "metadata": {},
     "output_type": "execute_result"
    }
   ],
   "source": [
    "model.elasticity.p.df"
   ]
  },
  {
   "cell_type": "markdown",
   "metadata": {},
   "source": [
    "You can change the elasticity matrix by changing 1 by 1 each element using the methods of the Pandas module     \n",
    "or by using model.elasticity.p.change() (slowest but there is a secutity to check the input)"
   ]
  },
  {
   "cell_type": "code",
   "execution_count": 39,
   "metadata": {},
   "outputs": [
    {
     "data": {
      "text/html": [
       "<div>\n",
       "<style scoped>\n",
       "    .dataframe tbody tr th:only-of-type {\n",
       "        vertical-align: middle;\n",
       "    }\n",
       "\n",
       "    .dataframe tbody tr th {\n",
       "        vertical-align: top;\n",
       "    }\n",
       "\n",
       "    .dataframe thead th {\n",
       "        text-align: right;\n",
       "    }\n",
       "</style>\n",
       "<table border=\"1\" class=\"dataframe\">\n",
       "  <thead>\n",
       "    <tr style=\"text-align: right;\">\n",
       "      <th></th>\n",
       "      <th>meta_0_para</th>\n",
       "      <th>meta_3_para</th>\n",
       "      <th>enzyme_reaction_0_para</th>\n",
       "      <th>enzyme_reaction_1_para</th>\n",
       "      <th>enzyme_reaction_2_para</th>\n",
       "    </tr>\n",
       "  </thead>\n",
       "  <tbody>\n",
       "    <tr>\n",
       "      <th>reaction_0</th>\n",
       "      <td>0.5</td>\n",
       "      <td>-0.0</td>\n",
       "      <td>-2.0</td>\n",
       "      <td>0.0</td>\n",
       "      <td>0.0</td>\n",
       "    </tr>\n",
       "    <tr>\n",
       "      <th>reaction_1</th>\n",
       "      <td>-0.0</td>\n",
       "      <td>-0.0</td>\n",
       "      <td>0.0</td>\n",
       "      <td>3.0</td>\n",
       "      <td>0.0</td>\n",
       "    </tr>\n",
       "    <tr>\n",
       "      <th>reaction_2</th>\n",
       "      <td>-0.0</td>\n",
       "      <td>-0.5</td>\n",
       "      <td>0.0</td>\n",
       "      <td>0.0</td>\n",
       "      <td>1.0</td>\n",
       "    </tr>\n",
       "  </tbody>\n",
       "</table>\n",
       "</div>"
      ],
      "text/plain": [
       "            meta_0_para  meta_3_para  enzyme_reaction_0_para  \\\n",
       "reaction_0          0.5         -0.0                    -2.0   \n",
       "reaction_1         -0.0         -0.0                     0.0   \n",
       "reaction_2         -0.0         -0.5                     0.0   \n",
       "\n",
       "            enzyme_reaction_1_para  enzyme_reaction_2_para  \n",
       "reaction_0                     0.0                     0.0  \n",
       "reaction_1                     3.0                     0.0  \n",
       "reaction_2                     0.0                     1.0  "
      ]
     },
     "execution_count": 39,
     "metadata": {},
     "output_type": "execute_result"
    }
   ],
   "source": [
    "model.elasticity.p.change(flux_name=\"reaction_0\", parameter_name=\"enzyme_reaction_0_para\", value=-2.)\n",
    "model.elasticity.p.df.at[\"reaction_1\", \"enzyme_reaction_1_para\"] = 3\n",
    "model.elasticity.p.df"
   ]
  },
  {
   "cell_type": "markdown",
   "metadata": {},
   "source": [
    "## <font color='green'> [1.5] Elasticities matrix of internal metabolites </font> "
   ]
  },
  {
   "cell_type": "markdown",
   "metadata": {},
   "source": [
    "Only the internal metabolite are in the $\\varepsilon_s$ elasticiy matrix"
   ]
  },
  {
   "cell_type": "code",
   "execution_count": 40,
   "metadata": {},
   "outputs": [
    {
     "data": {
      "text/html": [
       "<div>\n",
       "<style scoped>\n",
       "    .dataframe tbody tr th:only-of-type {\n",
       "        vertical-align: middle;\n",
       "    }\n",
       "\n",
       "    .dataframe tbody tr th {\n",
       "        vertical-align: top;\n",
       "    }\n",
       "\n",
       "    .dataframe thead th {\n",
       "        text-align: right;\n",
       "    }\n",
       "</style>\n",
       "<table border=\"1\" class=\"dataframe\">\n",
       "  <thead>\n",
       "    <tr style=\"text-align: right;\">\n",
       "      <th></th>\n",
       "      <th>meta_1</th>\n",
       "      <th>meta_2</th>\n",
       "    </tr>\n",
       "  </thead>\n",
       "  <tbody>\n",
       "    <tr>\n",
       "      <th>reaction_0</th>\n",
       "      <td>0</td>\n",
       "      <td>0</td>\n",
       "    </tr>\n",
       "    <tr>\n",
       "      <th>reaction_1</th>\n",
       "      <td>0</td>\n",
       "      <td>0</td>\n",
       "    </tr>\n",
       "    <tr>\n",
       "      <th>reaction_2</th>\n",
       "      <td>0</td>\n",
       "      <td>0</td>\n",
       "    </tr>\n",
       "  </tbody>\n",
       "</table>\n",
       "</div>"
      ],
      "text/plain": [
       "            meta_1  meta_2\n",
       "reaction_0       0       0\n",
       "reaction_1       0       0\n",
       "reaction_2       0       0"
      ]
     },
     "execution_count": 40,
     "metadata": {},
     "output_type": "execute_result"
    }
   ],
   "source": [
    "model.elasticity.s.df"
   ]
  },
  {
   "cell_type": "markdown",
   "metadata": {},
   "source": [
    "You can change the elasticity matrix by changing 1 by 1 each element using the methods of the Pandas module     \n",
    "or by using model.elasticity.s.change() (slowest but there is a secutity to check the input)"
   ]
  },
  {
   "cell_type": "code",
   "execution_count": 41,
   "metadata": {},
   "outputs": [
    {
     "data": {
      "text/html": [
       "<div>\n",
       "<style scoped>\n",
       "    .dataframe tbody tr th:only-of-type {\n",
       "        vertical-align: middle;\n",
       "    }\n",
       "\n",
       "    .dataframe tbody tr th {\n",
       "        vertical-align: top;\n",
       "    }\n",
       "\n",
       "    .dataframe thead th {\n",
       "        text-align: right;\n",
       "    }\n",
       "</style>\n",
       "<table border=\"1\" class=\"dataframe\">\n",
       "  <thead>\n",
       "    <tr style=\"text-align: right;\">\n",
       "      <th></th>\n",
       "      <th>meta_1</th>\n",
       "      <th>meta_2</th>\n",
       "    </tr>\n",
       "  </thead>\n",
       "  <tbody>\n",
       "    <tr>\n",
       "      <th>reaction_0</th>\n",
       "      <td>1</td>\n",
       "      <td>0</td>\n",
       "    </tr>\n",
       "    <tr>\n",
       "      <th>reaction_1</th>\n",
       "      <td>0</td>\n",
       "      <td>0</td>\n",
       "    </tr>\n",
       "    <tr>\n",
       "      <th>reaction_2</th>\n",
       "      <td>0</td>\n",
       "      <td>-1</td>\n",
       "    </tr>\n",
       "  </tbody>\n",
       "</table>\n",
       "</div>"
      ],
      "text/plain": [
       "            meta_1  meta_2\n",
       "reaction_0       1       0\n",
       "reaction_1       0       0\n",
       "reaction_2       0      -1"
      ]
     },
     "execution_count": 41,
     "metadata": {},
     "output_type": "execute_result"
    }
   ],
   "source": [
    "model.elasticity.s.df.at[\"reaction_0\", \"meta_1\"] = 1\n",
    "model.elasticity.s.change(\"reaction_2\", \"meta_2\", -1)\n",
    "model.elasticity.s.df"
   ]
  },
  {
   "cell_type": "markdown",
   "metadata": {},
   "source": [
    "Or by adding an entire numpy matrix of the same size"
   ]
  },
  {
   "cell_type": "code",
   "execution_count": 42,
   "metadata": {},
   "outputs": [
    {
     "data": {
      "text/html": [
       "<div>\n",
       "<style scoped>\n",
       "    .dataframe tbody tr th:only-of-type {\n",
       "        vertical-align: middle;\n",
       "    }\n",
       "\n",
       "    .dataframe tbody tr th {\n",
       "        vertical-align: top;\n",
       "    }\n",
       "\n",
       "    .dataframe thead th {\n",
       "        text-align: right;\n",
       "    }\n",
       "</style>\n",
       "<table border=\"1\" class=\"dataframe\">\n",
       "  <thead>\n",
       "    <tr style=\"text-align: right;\">\n",
       "      <th></th>\n",
       "      <th>meta_1</th>\n",
       "      <th>meta_2</th>\n",
       "    </tr>\n",
       "  </thead>\n",
       "  <tbody>\n",
       "    <tr>\n",
       "      <th>reaction_0</th>\n",
       "      <td>1</td>\n",
       "      <td>-4</td>\n",
       "    </tr>\n",
       "    <tr>\n",
       "      <th>reaction_1</th>\n",
       "      <td>-2</td>\n",
       "      <td>5</td>\n",
       "    </tr>\n",
       "    <tr>\n",
       "      <th>reaction_2</th>\n",
       "      <td>3</td>\n",
       "      <td>-6</td>\n",
       "    </tr>\n",
       "  </tbody>\n",
       "</table>\n",
       "</div>"
      ],
      "text/plain": [
       "            meta_1  meta_2\n",
       "reaction_0       1      -4\n",
       "reaction_1      -2       5\n",
       "reaction_2       3      -6"
      ]
     },
     "execution_count": 42,
     "metadata": {},
     "output_type": "execute_result"
    }
   ],
   "source": [
    "matrix_data = np.array([[1,-4],\n",
    "                        [-2,5],\n",
    "                        [3,-6]])\n",
    "\n",
    "model.elasticity.s.df[:] = matrix_data\n",
    "model.elasticity.s.df"
   ]
  },
  {
   "cell_type": "markdown",
   "metadata": {},
   "source": [
    "You can make the assumption that the enzyme are half-satured, the elasticity is therefore egual to $-0.5N^T$"
   ]
  },
  {
   "cell_type": "code",
   "execution_count": 43,
   "metadata": {},
   "outputs": [
    {
     "data": {
      "text/html": [
       "<div>\n",
       "<style scoped>\n",
       "    .dataframe tbody tr th:only-of-type {\n",
       "        vertical-align: middle;\n",
       "    }\n",
       "\n",
       "    .dataframe tbody tr th {\n",
       "        vertical-align: top;\n",
       "    }\n",
       "\n",
       "    .dataframe thead th {\n",
       "        text-align: right;\n",
       "    }\n",
       "</style>\n",
       "<table border=\"1\" class=\"dataframe\">\n",
       "  <thead>\n",
       "    <tr style=\"text-align: right;\">\n",
       "      <th></th>\n",
       "      <th>meta_1</th>\n",
       "      <th>meta_2</th>\n",
       "    </tr>\n",
       "  </thead>\n",
       "  <tbody>\n",
       "    <tr>\n",
       "      <th>reaction_0</th>\n",
       "      <td>-0.5</td>\n",
       "      <td>-0.0</td>\n",
       "    </tr>\n",
       "    <tr>\n",
       "      <th>reaction_1</th>\n",
       "      <td>0.5</td>\n",
       "      <td>-0.5</td>\n",
       "    </tr>\n",
       "    <tr>\n",
       "      <th>reaction_2</th>\n",
       "      <td>-0.0</td>\n",
       "      <td>0.5</td>\n",
       "    </tr>\n",
       "  </tbody>\n",
       "</table>\n",
       "</div>"
      ],
      "text/plain": [
       "            meta_1  meta_2\n",
       "reaction_0    -0.5    -0.0\n",
       "reaction_1     0.5    -0.5\n",
       "reaction_2    -0.0     0.5"
      ]
     },
     "execution_count": 43,
     "metadata": {},
     "output_type": "execute_result"
    }
   ],
   "source": [
    "model.elasticity.s.half_satured()\n",
    "model.elasticity.s.df"
   ]
  },
  {
   "cell_type": "markdown",
   "metadata": {},
   "source": [
    "# <font color='red'> [2] Post-simulation analysis </font> "
   ]
  },
  {
   "cell_type": "code",
   "execution_count": 44,
   "metadata": {},
   "outputs": [
    {
     "name": "stdout",
     "output_type": "stream",
     "text": [
      "Model created \n",
      " \n",
      "To add metabolite, use .metabolites.add_meta \n",
      "To add reaction,   use .reactions.add_reaction\n",
      "Name of the removed parameter : Temperature\n"
     ]
    }
   ],
   "source": [
    "model.creat_linear(4)\n",
    "model.parameters.add_externals()\n",
    "model.enzymes.add_to_all_reaction()\n",
    "model.parameters.add_enzymes()\n",
    "model.parameters.remove(\"Temperature\")\n",
    "model.elasticity.s.half_satured()"
   ]
  },
  {
   "cell_type": "markdown",
   "metadata": {},
   "source": [
    "## <font color='green'> [2.0] Structure variable </font> "
   ]
  },
  {
   "cell_type": "markdown",
   "metadata": {},
   "source": [
    "The stoichiometric matrix $N$"
   ]
  },
  {
   "cell_type": "code",
   "execution_count": 45,
   "metadata": {},
   "outputs": [
    {
     "data": {
      "text/html": [
       "<div>\n",
       "<style scoped>\n",
       "    .dataframe tbody tr th:only-of-type {\n",
       "        vertical-align: middle;\n",
       "    }\n",
       "\n",
       "    .dataframe tbody tr th {\n",
       "        vertical-align: top;\n",
       "    }\n",
       "\n",
       "    .dataframe thead th {\n",
       "        text-align: right;\n",
       "    }\n",
       "</style>\n",
       "<table border=\"1\" class=\"dataframe\">\n",
       "  <thead>\n",
       "    <tr style=\"text-align: right;\">\n",
       "      <th></th>\n",
       "      <th>reaction_0</th>\n",
       "      <th>reaction_1</th>\n",
       "      <th>reaction_2</th>\n",
       "    </tr>\n",
       "  </thead>\n",
       "  <tbody>\n",
       "    <tr>\n",
       "      <th>meta_0</th>\n",
       "      <td>-1</td>\n",
       "      <td>0</td>\n",
       "      <td>0</td>\n",
       "    </tr>\n",
       "    <tr>\n",
       "      <th>meta_1</th>\n",
       "      <td>1</td>\n",
       "      <td>-1</td>\n",
       "      <td>0</td>\n",
       "    </tr>\n",
       "    <tr>\n",
       "      <th>meta_2</th>\n",
       "      <td>0</td>\n",
       "      <td>1</td>\n",
       "      <td>-1</td>\n",
       "    </tr>\n",
       "    <tr>\n",
       "      <th>meta_3</th>\n",
       "      <td>0</td>\n",
       "      <td>0</td>\n",
       "      <td>1</td>\n",
       "    </tr>\n",
       "  </tbody>\n",
       "</table>\n",
       "</div>"
      ],
      "text/plain": [
       "        reaction_0  reaction_1  reaction_2\n",
       "meta_0          -1           0           0\n",
       "meta_1           1          -1           0\n",
       "meta_2           0           1          -1\n",
       "meta_3           0           0           1"
      ]
     },
     "execution_count": 45,
     "metadata": {},
     "output_type": "execute_result"
    }
   ],
   "source": [
    "model.Stoichio_matrix_pd"
   ]
  },
  {
   "cell_type": "markdown",
   "metadata": {},
   "source": [
    "The reduced stoichiometric matrix and the link matrix"
   ]
  },
  {
   "cell_type": "code",
   "execution_count": 46,
   "metadata": {},
   "outputs": [
    {
     "name": "stdout",
     "output_type": "stream",
     "text": [
      "Link matrix :\n",
      " [[ 1.00000000e+00 -3.33066907e-16]\n",
      " [ 2.77555756e-16  1.00000000e+00]]\n"
     ]
    },
    {
     "data": {
      "text/html": [
       "<div>\n",
       "<style scoped>\n",
       "    .dataframe tbody tr th:only-of-type {\n",
       "        vertical-align: middle;\n",
       "    }\n",
       "\n",
       "    .dataframe tbody tr th {\n",
       "        vertical-align: top;\n",
       "    }\n",
       "\n",
       "    .dataframe thead th {\n",
       "        text-align: right;\n",
       "    }\n",
       "</style>\n",
       "<table border=\"1\" class=\"dataframe\">\n",
       "  <thead>\n",
       "    <tr style=\"text-align: right;\">\n",
       "      <th></th>\n",
       "      <th>reaction_0</th>\n",
       "      <th>reaction_1</th>\n",
       "      <th>reaction_2</th>\n",
       "    </tr>\n",
       "  </thead>\n",
       "  <tbody>\n",
       "    <tr>\n",
       "      <th>meta_1</th>\n",
       "      <td>1</td>\n",
       "      <td>-1</td>\n",
       "      <td>0</td>\n",
       "    </tr>\n",
       "    <tr>\n",
       "      <th>meta_2</th>\n",
       "      <td>0</td>\n",
       "      <td>1</td>\n",
       "      <td>-1</td>\n",
       "    </tr>\n",
       "  </tbody>\n",
       "</table>\n",
       "</div>"
      ],
      "text/plain": [
       "        reaction_0  reaction_1  reaction_2\n",
       "meta_1           1          -1           0\n",
       "meta_2           0           1          -1"
      ]
     },
     "execution_count": 46,
     "metadata": {},
     "output_type": "execute_result"
    }
   ],
   "source": [
    "L, N_r = model.Link_matrix\n",
    "print(\"Link matrix :\\n\",L)\n",
    "N_r"
   ]
  },
  {
   "cell_type": "markdown",
   "metadata": {},
   "source": [
    "## <font color='green'> [2.1] Jacobian matrix </font> "
   ]
  },
  {
   "cell_type": "markdown",
   "metadata": {},
   "source": [
    "The jacobian matrix is recompute each time there is a modification in $N$ or $E_s$, else it is stored in a cache"
   ]
  },
  {
   "cell_type": "code",
   "execution_count": 47,
   "metadata": {},
   "outputs": [
    {
     "data": {
      "text/html": [
       "<div>\n",
       "<style scoped>\n",
       "    .dataframe tbody tr th:only-of-type {\n",
       "        vertical-align: middle;\n",
       "    }\n",
       "\n",
       "    .dataframe tbody tr th {\n",
       "        vertical-align: top;\n",
       "    }\n",
       "\n",
       "    .dataframe thead th {\n",
       "        text-align: right;\n",
       "    }\n",
       "</style>\n",
       "<table border=\"1\" class=\"dataframe\">\n",
       "  <thead>\n",
       "    <tr style=\"text-align: right;\">\n",
       "      <th></th>\n",
       "      <th>meta_1</th>\n",
       "      <th>meta_2</th>\n",
       "    </tr>\n",
       "  </thead>\n",
       "  <tbody>\n",
       "    <tr>\n",
       "      <th>meta_1</th>\n",
       "      <td>-1.0</td>\n",
       "      <td>0.5</td>\n",
       "    </tr>\n",
       "    <tr>\n",
       "      <th>meta_2</th>\n",
       "      <td>0.5</td>\n",
       "      <td>-1.0</td>\n",
       "    </tr>\n",
       "  </tbody>\n",
       "</table>\n",
       "</div>"
      ],
      "text/plain": [
       "        meta_1  meta_2\n",
       "meta_1    -1.0     0.5\n",
       "meta_2     0.5    -1.0"
      ]
     },
     "execution_count": 47,
     "metadata": {},
     "output_type": "execute_result"
    }
   ],
   "source": [
    "model.Jacobian"
   ]
  },
  {
   "cell_type": "code",
   "execution_count": 48,
   "metadata": {},
   "outputs": [
    {
     "data": {
      "text/html": [
       "<div>\n",
       "<style scoped>\n",
       "    .dataframe tbody tr th:only-of-type {\n",
       "        vertical-align: middle;\n",
       "    }\n",
       "\n",
       "    .dataframe tbody tr th {\n",
       "        vertical-align: top;\n",
       "    }\n",
       "\n",
       "    .dataframe thead th {\n",
       "        text-align: right;\n",
       "    }\n",
       "</style>\n",
       "<table border=\"1\" class=\"dataframe\">\n",
       "  <thead>\n",
       "    <tr style=\"text-align: right;\">\n",
       "      <th></th>\n",
       "      <th>meta_1</th>\n",
       "      <th>meta_2</th>\n",
       "    </tr>\n",
       "  </thead>\n",
       "  <tbody>\n",
       "    <tr>\n",
       "      <th>meta_1</th>\n",
       "      <td>-1.333333</td>\n",
       "      <td>-0.666667</td>\n",
       "    </tr>\n",
       "    <tr>\n",
       "      <th>meta_2</th>\n",
       "      <td>-0.666667</td>\n",
       "      <td>-1.333333</td>\n",
       "    </tr>\n",
       "  </tbody>\n",
       "</table>\n",
       "</div>"
      ],
      "text/plain": [
       "          meta_1    meta_2\n",
       "meta_1 -1.333333 -0.666667\n",
       "meta_2 -0.666667 -1.333333"
      ]
     },
     "execution_count": 48,
     "metadata": {},
     "output_type": "execute_result"
    }
   ],
   "source": [
    "model.Jacobian_reversed"
   ]
  },
  {
   "cell_type": "markdown",
   "metadata": {},
   "source": [
    "## <font color='green'> [2.2] MCA response coefficient </font> "
   ]
  },
  {
   "cell_type": "markdown",
   "metadata": {},
   "source": [
    "Sub element of the response matrix : $R^s_p$ and $R^v_p$"
   ]
  },
  {
   "cell_type": "code",
   "execution_count": 49,
   "metadata": {},
   "outputs": [
    {
     "data": {
      "text/html": [
       "<div>\n",
       "<style scoped>\n",
       "    .dataframe tbody tr th:only-of-type {\n",
       "        vertical-align: middle;\n",
       "    }\n",
       "\n",
       "    .dataframe tbody tr th {\n",
       "        vertical-align: top;\n",
       "    }\n",
       "\n",
       "    .dataframe thead th {\n",
       "        text-align: right;\n",
       "    }\n",
       "</style>\n",
       "<table border=\"1\" class=\"dataframe\">\n",
       "  <thead>\n",
       "    <tr style=\"text-align: right;\">\n",
       "      <th></th>\n",
       "      <th>meta_0_para</th>\n",
       "      <th>meta_3_para</th>\n",
       "      <th>enzyme_reaction_0_para</th>\n",
       "      <th>enzyme_reaction_1_para</th>\n",
       "      <th>enzyme_reaction_2_para</th>\n",
       "    </tr>\n",
       "  </thead>\n",
       "  <tbody>\n",
       "    <tr>\n",
       "      <th>reaction_0</th>\n",
       "      <td>0.166667</td>\n",
       "      <td>-0.166667</td>\n",
       "      <td>0.333333</td>\n",
       "      <td>0.333333</td>\n",
       "      <td>0.333333</td>\n",
       "    </tr>\n",
       "    <tr>\n",
       "      <th>reaction_1</th>\n",
       "      <td>0.166667</td>\n",
       "      <td>-0.166667</td>\n",
       "      <td>0.333333</td>\n",
       "      <td>0.333333</td>\n",
       "      <td>0.333333</td>\n",
       "    </tr>\n",
       "    <tr>\n",
       "      <th>reaction_2</th>\n",
       "      <td>0.166667</td>\n",
       "      <td>-0.166667</td>\n",
       "      <td>0.333333</td>\n",
       "      <td>0.333333</td>\n",
       "      <td>0.333333</td>\n",
       "    </tr>\n",
       "  </tbody>\n",
       "</table>\n",
       "</div>"
      ],
      "text/plain": [
       "            meta_0_para  meta_3_para  enzyme_reaction_0_para  \\\n",
       "reaction_0     0.166667    -0.166667                0.333333   \n",
       "reaction_1     0.166667    -0.166667                0.333333   \n",
       "reaction_2     0.166667    -0.166667                0.333333   \n",
       "\n",
       "            enzyme_reaction_1_para  enzyme_reaction_2_para  \n",
       "reaction_0                0.333333                0.333333  \n",
       "reaction_1                0.333333                0.333333  \n",
       "reaction_2                0.333333                0.333333  "
      ]
     },
     "execution_count": 49,
     "metadata": {},
     "output_type": "execute_result"
    }
   ],
   "source": [
    "model.R_v_p"
   ]
  },
  {
   "cell_type": "code",
   "execution_count": 50,
   "metadata": {},
   "outputs": [
    {
     "data": {
      "text/html": [
       "<div>\n",
       "<style scoped>\n",
       "    .dataframe tbody tr th:only-of-type {\n",
       "        vertical-align: middle;\n",
       "    }\n",
       "\n",
       "    .dataframe tbody tr th {\n",
       "        vertical-align: top;\n",
       "    }\n",
       "\n",
       "    .dataframe thead th {\n",
       "        text-align: right;\n",
       "    }\n",
       "</style>\n",
       "<table border=\"1\" class=\"dataframe\">\n",
       "  <thead>\n",
       "    <tr style=\"text-align: right;\">\n",
       "      <th></th>\n",
       "      <th>meta_0_para</th>\n",
       "      <th>meta_3_para</th>\n",
       "      <th>enzyme_reaction_0_para</th>\n",
       "      <th>enzyme_reaction_1_para</th>\n",
       "      <th>enzyme_reaction_2_para</th>\n",
       "    </tr>\n",
       "  </thead>\n",
       "  <tbody>\n",
       "    <tr>\n",
       "      <th>meta_1</th>\n",
       "      <td>0.666667</td>\n",
       "      <td>0.333333</td>\n",
       "      <td>1.333333</td>\n",
       "      <td>-0.666667</td>\n",
       "      <td>-0.666667</td>\n",
       "    </tr>\n",
       "    <tr>\n",
       "      <th>meta_2</th>\n",
       "      <td>0.333333</td>\n",
       "      <td>0.666667</td>\n",
       "      <td>0.666667</td>\n",
       "      <td>0.666667</td>\n",
       "      <td>-1.333333</td>\n",
       "    </tr>\n",
       "  </tbody>\n",
       "</table>\n",
       "</div>"
      ],
      "text/plain": [
       "        meta_0_para  meta_3_para  enzyme_reaction_0_para  \\\n",
       "meta_1     0.666667     0.333333                1.333333   \n",
       "meta_2     0.333333     0.666667                0.666667   \n",
       "\n",
       "        enzyme_reaction_1_para  enzyme_reaction_2_para  \n",
       "meta_1               -0.666667               -0.666667  \n",
       "meta_2                0.666667               -1.333333  "
      ]
     },
     "execution_count": 50,
     "metadata": {},
     "output_type": "execute_result"
    }
   ],
   "source": [
    "model.R_s_p"
   ]
  },
  {
   "cell_type": "markdown",
   "metadata": {},
   "source": [
    "The entire response matrix is constitued of $R^s_p$ and $R^v_p$ as block matrix"
   ]
  },
  {
   "cell_type": "code",
   "execution_count": 51,
   "metadata": {},
   "outputs": [
    {
     "data": {
      "text/html": [
       "<div>\n",
       "<style scoped>\n",
       "    .dataframe tbody tr th:only-of-type {\n",
       "        vertical-align: middle;\n",
       "    }\n",
       "\n",
       "    .dataframe tbody tr th {\n",
       "        vertical-align: top;\n",
       "    }\n",
       "\n",
       "    .dataframe thead th {\n",
       "        text-align: right;\n",
       "    }\n",
       "</style>\n",
       "<table border=\"1\" class=\"dataframe\">\n",
       "  <thead>\n",
       "    <tr style=\"text-align: right;\">\n",
       "      <th></th>\n",
       "      <th>meta_0_para</th>\n",
       "      <th>meta_3_para</th>\n",
       "      <th>enzyme_reaction_0_para</th>\n",
       "      <th>enzyme_reaction_1_para</th>\n",
       "      <th>enzyme_reaction_2_para</th>\n",
       "    </tr>\n",
       "  </thead>\n",
       "  <tbody>\n",
       "    <tr>\n",
       "      <th>meta_1</th>\n",
       "      <td>0.666667</td>\n",
       "      <td>0.333333</td>\n",
       "      <td>1.333333</td>\n",
       "      <td>-0.666667</td>\n",
       "      <td>-0.666667</td>\n",
       "    </tr>\n",
       "    <tr>\n",
       "      <th>meta_2</th>\n",
       "      <td>0.333333</td>\n",
       "      <td>0.666667</td>\n",
       "      <td>0.666667</td>\n",
       "      <td>0.666667</td>\n",
       "      <td>-1.333333</td>\n",
       "    </tr>\n",
       "    <tr>\n",
       "      <th>reaction_0</th>\n",
       "      <td>0.166667</td>\n",
       "      <td>-0.166667</td>\n",
       "      <td>0.333333</td>\n",
       "      <td>0.333333</td>\n",
       "      <td>0.333333</td>\n",
       "    </tr>\n",
       "    <tr>\n",
       "      <th>reaction_1</th>\n",
       "      <td>0.166667</td>\n",
       "      <td>-0.166667</td>\n",
       "      <td>0.333333</td>\n",
       "      <td>0.333333</td>\n",
       "      <td>0.333333</td>\n",
       "    </tr>\n",
       "    <tr>\n",
       "      <th>reaction_2</th>\n",
       "      <td>0.166667</td>\n",
       "      <td>-0.166667</td>\n",
       "      <td>0.333333</td>\n",
       "      <td>0.333333</td>\n",
       "      <td>0.333333</td>\n",
       "    </tr>\n",
       "  </tbody>\n",
       "</table>\n",
       "</div>"
      ],
      "text/plain": [
       "            meta_0_para  meta_3_para  enzyme_reaction_0_para  \\\n",
       "meta_1         0.666667     0.333333                1.333333   \n",
       "meta_2         0.333333     0.666667                0.666667   \n",
       "reaction_0     0.166667    -0.166667                0.333333   \n",
       "reaction_1     0.166667    -0.166667                0.333333   \n",
       "reaction_2     0.166667    -0.166667                0.333333   \n",
       "\n",
       "            enzyme_reaction_1_para  enzyme_reaction_2_para  \n",
       "meta_1                   -0.666667               -0.666667  \n",
       "meta_2                    0.666667               -1.333333  \n",
       "reaction_0                0.333333                0.333333  \n",
       "reaction_1                0.333333                0.333333  \n",
       "reaction_2                0.333333                0.333333  "
      ]
     },
     "execution_count": 51,
     "metadata": {},
     "output_type": "execute_result"
    }
   ],
   "source": [
    "model.R"
   ]
  },
  {
   "cell_type": "markdown",
   "metadata": {},
   "source": [
    "## <font color='green'> [2.3] Covariance, Correlation and Mutual Information </font> \n"
   ]
  },
  {
   "cell_type": "markdown",
   "metadata": {},
   "source": [
    "### <font color='white'> [2.3.1] Covariance</font> "
   ]
  },
  {
   "cell_type": "markdown",
   "metadata": {},
   "source": [
    "The programme can compute the covariance matrix of the model by a matrix product of the response matrix and covariance matrix of the parameters (a multivariate normal distribution independent by default) to study the transmission of information through the system"
   ]
  },
  {
   "cell_type": "code",
   "execution_count": 52,
   "metadata": {},
   "outputs": [
    {
     "data": {
      "text/html": [
       "<div>\n",
       "<style scoped>\n",
       "    .dataframe tbody tr th:only-of-type {\n",
       "        vertical-align: middle;\n",
       "    }\n",
       "\n",
       "    .dataframe tbody tr th {\n",
       "        vertical-align: top;\n",
       "    }\n",
       "\n",
       "    .dataframe thead th {\n",
       "        text-align: right;\n",
       "    }\n",
       "</style>\n",
       "<table border=\"1\" class=\"dataframe\">\n",
       "  <thead>\n",
       "    <tr style=\"text-align: right;\">\n",
       "      <th></th>\n",
       "      <th>meta_0_para</th>\n",
       "      <th>meta_3_para</th>\n",
       "      <th>enzyme_reaction_0_para</th>\n",
       "      <th>enzyme_reaction_1_para</th>\n",
       "      <th>enzyme_reaction_2_para</th>\n",
       "      <th>meta_1</th>\n",
       "      <th>meta_2</th>\n",
       "      <th>reaction_0</th>\n",
       "      <th>reaction_1</th>\n",
       "      <th>reaction_2</th>\n",
       "    </tr>\n",
       "  </thead>\n",
       "  <tbody>\n",
       "    <tr>\n",
       "      <th>meta_0_para</th>\n",
       "      <td>1.000000</td>\n",
       "      <td>0.000000</td>\n",
       "      <td>0.000000</td>\n",
       "      <td>0.000000</td>\n",
       "      <td>0.000000</td>\n",
       "      <td>0.666667</td>\n",
       "      <td>0.333333</td>\n",
       "      <td>0.166667</td>\n",
       "      <td>0.166667</td>\n",
       "      <td>0.166667</td>\n",
       "    </tr>\n",
       "    <tr>\n",
       "      <th>meta_3_para</th>\n",
       "      <td>0.000000</td>\n",
       "      <td>1.000000</td>\n",
       "      <td>0.000000</td>\n",
       "      <td>0.000000</td>\n",
       "      <td>0.000000</td>\n",
       "      <td>0.333333</td>\n",
       "      <td>0.666667</td>\n",
       "      <td>-0.166667</td>\n",
       "      <td>-0.166667</td>\n",
       "      <td>-0.166667</td>\n",
       "    </tr>\n",
       "    <tr>\n",
       "      <th>enzyme_reaction_0_para</th>\n",
       "      <td>0.000000</td>\n",
       "      <td>0.000000</td>\n",
       "      <td>1.000000</td>\n",
       "      <td>0.000000</td>\n",
       "      <td>0.000000</td>\n",
       "      <td>1.333333</td>\n",
       "      <td>0.666667</td>\n",
       "      <td>0.333333</td>\n",
       "      <td>0.333333</td>\n",
       "      <td>0.333333</td>\n",
       "    </tr>\n",
       "    <tr>\n",
       "      <th>enzyme_reaction_1_para</th>\n",
       "      <td>0.000000</td>\n",
       "      <td>0.000000</td>\n",
       "      <td>0.000000</td>\n",
       "      <td>1.000000</td>\n",
       "      <td>0.000000</td>\n",
       "      <td>-0.666667</td>\n",
       "      <td>0.666667</td>\n",
       "      <td>0.333333</td>\n",
       "      <td>0.333333</td>\n",
       "      <td>0.333333</td>\n",
       "    </tr>\n",
       "    <tr>\n",
       "      <th>enzyme_reaction_2_para</th>\n",
       "      <td>0.000000</td>\n",
       "      <td>0.000000</td>\n",
       "      <td>0.000000</td>\n",
       "      <td>0.000000</td>\n",
       "      <td>1.000000</td>\n",
       "      <td>-0.666667</td>\n",
       "      <td>-1.333333</td>\n",
       "      <td>0.333333</td>\n",
       "      <td>0.333333</td>\n",
       "      <td>0.333333</td>\n",
       "    </tr>\n",
       "    <tr>\n",
       "      <th>meta_1</th>\n",
       "      <td>0.666667</td>\n",
       "      <td>0.333333</td>\n",
       "      <td>1.333333</td>\n",
       "      <td>-0.666667</td>\n",
       "      <td>-0.666667</td>\n",
       "      <td>3.222222</td>\n",
       "      <td>1.777778</td>\n",
       "      <td>0.055556</td>\n",
       "      <td>0.055556</td>\n",
       "      <td>0.055556</td>\n",
       "    </tr>\n",
       "    <tr>\n",
       "      <th>meta_2</th>\n",
       "      <td>0.333333</td>\n",
       "      <td>0.666667</td>\n",
       "      <td>0.666667</td>\n",
       "      <td>0.666667</td>\n",
       "      <td>-1.333333</td>\n",
       "      <td>1.777778</td>\n",
       "      <td>3.222222</td>\n",
       "      <td>-0.055556</td>\n",
       "      <td>-0.055556</td>\n",
       "      <td>-0.055556</td>\n",
       "    </tr>\n",
       "    <tr>\n",
       "      <th>reaction_0</th>\n",
       "      <td>0.166667</td>\n",
       "      <td>-0.166667</td>\n",
       "      <td>0.333333</td>\n",
       "      <td>0.333333</td>\n",
       "      <td>0.333333</td>\n",
       "      <td>0.055556</td>\n",
       "      <td>-0.055556</td>\n",
       "      <td>0.388889</td>\n",
       "      <td>0.388889</td>\n",
       "      <td>0.388889</td>\n",
       "    </tr>\n",
       "    <tr>\n",
       "      <th>reaction_1</th>\n",
       "      <td>0.166667</td>\n",
       "      <td>-0.166667</td>\n",
       "      <td>0.333333</td>\n",
       "      <td>0.333333</td>\n",
       "      <td>0.333333</td>\n",
       "      <td>0.055556</td>\n",
       "      <td>-0.055556</td>\n",
       "      <td>0.388889</td>\n",
       "      <td>0.388889</td>\n",
       "      <td>0.388889</td>\n",
       "    </tr>\n",
       "    <tr>\n",
       "      <th>reaction_2</th>\n",
       "      <td>0.166667</td>\n",
       "      <td>-0.166667</td>\n",
       "      <td>0.333333</td>\n",
       "      <td>0.333333</td>\n",
       "      <td>0.333333</td>\n",
       "      <td>0.055556</td>\n",
       "      <td>-0.055556</td>\n",
       "      <td>0.388889</td>\n",
       "      <td>0.388889</td>\n",
       "      <td>0.388889</td>\n",
       "    </tr>\n",
       "  </tbody>\n",
       "</table>\n",
       "</div>"
      ],
      "text/plain": [
       "                        meta_0_para  meta_3_para  enzyme_reaction_0_para  \\\n",
       "meta_0_para                1.000000     0.000000                0.000000   \n",
       "meta_3_para                0.000000     1.000000                0.000000   \n",
       "enzyme_reaction_0_para     0.000000     0.000000                1.000000   \n",
       "enzyme_reaction_1_para     0.000000     0.000000                0.000000   \n",
       "enzyme_reaction_2_para     0.000000     0.000000                0.000000   \n",
       "meta_1                     0.666667     0.333333                1.333333   \n",
       "meta_2                     0.333333     0.666667                0.666667   \n",
       "reaction_0                 0.166667    -0.166667                0.333333   \n",
       "reaction_1                 0.166667    -0.166667                0.333333   \n",
       "reaction_2                 0.166667    -0.166667                0.333333   \n",
       "\n",
       "                        enzyme_reaction_1_para  enzyme_reaction_2_para  \\\n",
       "meta_0_para                           0.000000                0.000000   \n",
       "meta_3_para                           0.000000                0.000000   \n",
       "enzyme_reaction_0_para                0.000000                0.000000   \n",
       "enzyme_reaction_1_para                1.000000                0.000000   \n",
       "enzyme_reaction_2_para                0.000000                1.000000   \n",
       "meta_1                               -0.666667               -0.666667   \n",
       "meta_2                                0.666667               -1.333333   \n",
       "reaction_0                            0.333333                0.333333   \n",
       "reaction_1                            0.333333                0.333333   \n",
       "reaction_2                            0.333333                0.333333   \n",
       "\n",
       "                          meta_1    meta_2  reaction_0  reaction_1  reaction_2  \n",
       "meta_0_para             0.666667  0.333333    0.166667    0.166667    0.166667  \n",
       "meta_3_para             0.333333  0.666667   -0.166667   -0.166667   -0.166667  \n",
       "enzyme_reaction_0_para  1.333333  0.666667    0.333333    0.333333    0.333333  \n",
       "enzyme_reaction_1_para -0.666667  0.666667    0.333333    0.333333    0.333333  \n",
       "enzyme_reaction_2_para -0.666667 -1.333333    0.333333    0.333333    0.333333  \n",
       "meta_1                  3.222222  1.777778    0.055556    0.055556    0.055556  \n",
       "meta_2                  1.777778  3.222222   -0.055556   -0.055556   -0.055556  \n",
       "reaction_0              0.055556 -0.055556    0.388889    0.388889    0.388889  \n",
       "reaction_1              0.055556 -0.055556    0.388889    0.388889    0.388889  \n",
       "reaction_2              0.055556 -0.055556    0.388889    0.388889    0.388889  "
      ]
     },
     "execution_count": 52,
     "metadata": {},
     "output_type": "execute_result"
    }
   ],
   "source": [
    "model.covariance"
   ]
  },
  {
   "cell_type": "markdown",
   "metadata": {},
   "source": [
    "### <font color='white'> [2.3.2] Corelation </font> "
   ]
  },
  {
   "cell_type": "markdown",
   "metadata": {},
   "source": [
    "You can therefore compute the correlation"
   ]
  },
  {
   "cell_type": "code",
   "execution_count": 53,
   "metadata": {},
   "outputs": [
    {
     "data": {
      "text/html": [
       "<div>\n",
       "<style scoped>\n",
       "    .dataframe tbody tr th:only-of-type {\n",
       "        vertical-align: middle;\n",
       "    }\n",
       "\n",
       "    .dataframe tbody tr th {\n",
       "        vertical-align: top;\n",
       "    }\n",
       "\n",
       "    .dataframe thead th {\n",
       "        text-align: right;\n",
       "    }\n",
       "</style>\n",
       "<table border=\"1\" class=\"dataframe\">\n",
       "  <thead>\n",
       "    <tr style=\"text-align: right;\">\n",
       "      <th></th>\n",
       "      <th>meta_0_para</th>\n",
       "      <th>meta_3_para</th>\n",
       "      <th>enzyme_reaction_0_para</th>\n",
       "      <th>enzyme_reaction_1_para</th>\n",
       "      <th>enzyme_reaction_2_para</th>\n",
       "      <th>meta_1</th>\n",
       "      <th>meta_2</th>\n",
       "      <th>reaction_0</th>\n",
       "      <th>reaction_1</th>\n",
       "      <th>reaction_2</th>\n",
       "    </tr>\n",
       "  </thead>\n",
       "  <tbody>\n",
       "    <tr>\n",
       "      <th>meta_0_para</th>\n",
       "      <td>1.000000</td>\n",
       "      <td>0.000000</td>\n",
       "      <td>0.000000</td>\n",
       "      <td>0.000000</td>\n",
       "      <td>0.000000</td>\n",
       "      <td>0.371391</td>\n",
       "      <td>0.185695</td>\n",
       "      <td>0.267261</td>\n",
       "      <td>0.267261</td>\n",
       "      <td>0.267261</td>\n",
       "    </tr>\n",
       "    <tr>\n",
       "      <th>meta_3_para</th>\n",
       "      <td>0.000000</td>\n",
       "      <td>1.000000</td>\n",
       "      <td>0.000000</td>\n",
       "      <td>0.000000</td>\n",
       "      <td>0.000000</td>\n",
       "      <td>0.185695</td>\n",
       "      <td>0.371391</td>\n",
       "      <td>-0.267261</td>\n",
       "      <td>-0.267261</td>\n",
       "      <td>-0.267261</td>\n",
       "    </tr>\n",
       "    <tr>\n",
       "      <th>enzyme_reaction_0_para</th>\n",
       "      <td>0.000000</td>\n",
       "      <td>0.000000</td>\n",
       "      <td>1.000000</td>\n",
       "      <td>0.000000</td>\n",
       "      <td>0.000000</td>\n",
       "      <td>0.742781</td>\n",
       "      <td>0.371391</td>\n",
       "      <td>0.534522</td>\n",
       "      <td>0.534522</td>\n",
       "      <td>0.534522</td>\n",
       "    </tr>\n",
       "    <tr>\n",
       "      <th>enzyme_reaction_1_para</th>\n",
       "      <td>0.000000</td>\n",
       "      <td>0.000000</td>\n",
       "      <td>0.000000</td>\n",
       "      <td>1.000000</td>\n",
       "      <td>0.000000</td>\n",
       "      <td>-0.371391</td>\n",
       "      <td>0.371391</td>\n",
       "      <td>0.534522</td>\n",
       "      <td>0.534522</td>\n",
       "      <td>0.534522</td>\n",
       "    </tr>\n",
       "    <tr>\n",
       "      <th>enzyme_reaction_2_para</th>\n",
       "      <td>0.000000</td>\n",
       "      <td>0.000000</td>\n",
       "      <td>0.000000</td>\n",
       "      <td>0.000000</td>\n",
       "      <td>1.000000</td>\n",
       "      <td>-0.371391</td>\n",
       "      <td>-0.742781</td>\n",
       "      <td>0.534522</td>\n",
       "      <td>0.534522</td>\n",
       "      <td>0.534522</td>\n",
       "    </tr>\n",
       "    <tr>\n",
       "      <th>meta_1</th>\n",
       "      <td>0.371391</td>\n",
       "      <td>0.185695</td>\n",
       "      <td>0.742781</td>\n",
       "      <td>-0.371391</td>\n",
       "      <td>-0.371391</td>\n",
       "      <td>1.000000</td>\n",
       "      <td>0.551724</td>\n",
       "      <td>0.049629</td>\n",
       "      <td>0.049629</td>\n",
       "      <td>0.049629</td>\n",
       "    </tr>\n",
       "    <tr>\n",
       "      <th>meta_2</th>\n",
       "      <td>0.185695</td>\n",
       "      <td>0.371391</td>\n",
       "      <td>0.371391</td>\n",
       "      <td>0.371391</td>\n",
       "      <td>-0.742781</td>\n",
       "      <td>0.551724</td>\n",
       "      <td>1.000000</td>\n",
       "      <td>-0.049629</td>\n",
       "      <td>-0.049629</td>\n",
       "      <td>-0.049629</td>\n",
       "    </tr>\n",
       "    <tr>\n",
       "      <th>reaction_0</th>\n",
       "      <td>0.267261</td>\n",
       "      <td>-0.267261</td>\n",
       "      <td>0.534522</td>\n",
       "      <td>0.534522</td>\n",
       "      <td>0.534522</td>\n",
       "      <td>0.049629</td>\n",
       "      <td>-0.049629</td>\n",
       "      <td>1.000000</td>\n",
       "      <td>1.000000</td>\n",
       "      <td>1.000000</td>\n",
       "    </tr>\n",
       "    <tr>\n",
       "      <th>reaction_1</th>\n",
       "      <td>0.267261</td>\n",
       "      <td>-0.267261</td>\n",
       "      <td>0.534522</td>\n",
       "      <td>0.534522</td>\n",
       "      <td>0.534522</td>\n",
       "      <td>0.049629</td>\n",
       "      <td>-0.049629</td>\n",
       "      <td>1.000000</td>\n",
       "      <td>1.000000</td>\n",
       "      <td>1.000000</td>\n",
       "    </tr>\n",
       "    <tr>\n",
       "      <th>reaction_2</th>\n",
       "      <td>0.267261</td>\n",
       "      <td>-0.267261</td>\n",
       "      <td>0.534522</td>\n",
       "      <td>0.534522</td>\n",
       "      <td>0.534522</td>\n",
       "      <td>0.049629</td>\n",
       "      <td>-0.049629</td>\n",
       "      <td>1.000000</td>\n",
       "      <td>1.000000</td>\n",
       "      <td>1.000000</td>\n",
       "    </tr>\n",
       "  </tbody>\n",
       "</table>\n",
       "</div>"
      ],
      "text/plain": [
       "                        meta_0_para  meta_3_para  enzyme_reaction_0_para  \\\n",
       "meta_0_para                1.000000     0.000000                0.000000   \n",
       "meta_3_para                0.000000     1.000000                0.000000   \n",
       "enzyme_reaction_0_para     0.000000     0.000000                1.000000   \n",
       "enzyme_reaction_1_para     0.000000     0.000000                0.000000   \n",
       "enzyme_reaction_2_para     0.000000     0.000000                0.000000   \n",
       "meta_1                     0.371391     0.185695                0.742781   \n",
       "meta_2                     0.185695     0.371391                0.371391   \n",
       "reaction_0                 0.267261    -0.267261                0.534522   \n",
       "reaction_1                 0.267261    -0.267261                0.534522   \n",
       "reaction_2                 0.267261    -0.267261                0.534522   \n",
       "\n",
       "                        enzyme_reaction_1_para  enzyme_reaction_2_para  \\\n",
       "meta_0_para                           0.000000                0.000000   \n",
       "meta_3_para                           0.000000                0.000000   \n",
       "enzyme_reaction_0_para                0.000000                0.000000   \n",
       "enzyme_reaction_1_para                1.000000                0.000000   \n",
       "enzyme_reaction_2_para                0.000000                1.000000   \n",
       "meta_1                               -0.371391               -0.371391   \n",
       "meta_2                                0.371391               -0.742781   \n",
       "reaction_0                            0.534522                0.534522   \n",
       "reaction_1                            0.534522                0.534522   \n",
       "reaction_2                            0.534522                0.534522   \n",
       "\n",
       "                          meta_1    meta_2  reaction_0  reaction_1  reaction_2  \n",
       "meta_0_para             0.371391  0.185695    0.267261    0.267261    0.267261  \n",
       "meta_3_para             0.185695  0.371391   -0.267261   -0.267261   -0.267261  \n",
       "enzyme_reaction_0_para  0.742781  0.371391    0.534522    0.534522    0.534522  \n",
       "enzyme_reaction_1_para -0.371391  0.371391    0.534522    0.534522    0.534522  \n",
       "enzyme_reaction_2_para -0.371391 -0.742781    0.534522    0.534522    0.534522  \n",
       "meta_1                  1.000000  0.551724    0.049629    0.049629    0.049629  \n",
       "meta_2                  0.551724  1.000000   -0.049629   -0.049629   -0.049629  \n",
       "reaction_0              0.049629 -0.049629    1.000000    1.000000    1.000000  \n",
       "reaction_1              0.049629 -0.049629    1.000000    1.000000    1.000000  \n",
       "reaction_2              0.049629 -0.049629    1.000000    1.000000    1.000000  "
      ]
     },
     "execution_count": 53,
     "metadata": {},
     "output_type": "execute_result"
    }
   ],
   "source": [
    "model.corelation"
   ]
  },
  {
   "cell_type": "markdown",
   "metadata": {},
   "source": [
    "### <font color='white'> [2.3.2] Entropy </font> "
   ]
  },
  {
   "cell_type": "code",
   "execution_count": 54,
   "metadata": {},
   "outputs": [
    {
     "data": {
      "text/html": [
       "<div>\n",
       "<style scoped>\n",
       "    .dataframe tbody tr th:only-of-type {\n",
       "        vertical-align: middle;\n",
       "    }\n",
       "\n",
       "    .dataframe tbody tr th {\n",
       "        vertical-align: top;\n",
       "    }\n",
       "\n",
       "    .dataframe thead th {\n",
       "        text-align: right;\n",
       "    }\n",
       "</style>\n",
       "<table border=\"1\" class=\"dataframe\">\n",
       "  <thead>\n",
       "    <tr style=\"text-align: right;\">\n",
       "      <th></th>\n",
       "      <th>Entropy</th>\n",
       "    </tr>\n",
       "  </thead>\n",
       "  <tbody>\n",
       "    <tr>\n",
       "      <th>meta_0_para</th>\n",
       "      <td>1.918939</td>\n",
       "    </tr>\n",
       "    <tr>\n",
       "      <th>meta_3_para</th>\n",
       "      <td>1.918939</td>\n",
       "    </tr>\n",
       "    <tr>\n",
       "      <th>enzyme_reaction_0_para</th>\n",
       "      <td>1.918939</td>\n",
       "    </tr>\n",
       "    <tr>\n",
       "      <th>enzyme_reaction_1_para</th>\n",
       "      <td>1.918939</td>\n",
       "    </tr>\n",
       "    <tr>\n",
       "      <th>enzyme_reaction_2_para</th>\n",
       "      <td>1.918939</td>\n",
       "    </tr>\n",
       "    <tr>\n",
       "      <th>meta_1</th>\n",
       "      <td>2.503974</td>\n",
       "    </tr>\n",
       "    <tr>\n",
       "      <th>meta_2</th>\n",
       "      <td>2.503974</td>\n",
       "    </tr>\n",
       "    <tr>\n",
       "      <th>reaction_0</th>\n",
       "      <td>1.446708</td>\n",
       "    </tr>\n",
       "    <tr>\n",
       "      <th>reaction_1</th>\n",
       "      <td>1.446708</td>\n",
       "    </tr>\n",
       "    <tr>\n",
       "      <th>reaction_2</th>\n",
       "      <td>1.446708</td>\n",
       "    </tr>\n",
       "  </tbody>\n",
       "</table>\n",
       "</div>"
      ],
      "text/plain": [
       "                         Entropy\n",
       "meta_0_para             1.918939\n",
       "meta_3_para             1.918939\n",
       "enzyme_reaction_0_para  1.918939\n",
       "enzyme_reaction_1_para  1.918939\n",
       "enzyme_reaction_2_para  1.918939\n",
       "meta_1                  2.503974\n",
       "meta_2                  2.503974\n",
       "reaction_0              1.446708\n",
       "reaction_1              1.446708\n",
       "reaction_2              1.446708"
      ]
     },
     "execution_count": 54,
     "metadata": {},
     "output_type": "execute_result"
    }
   ],
   "source": [
    "model.entropy"
   ]
  },
  {
   "cell_type": "markdown",
   "metadata": {},
   "source": [
    "You can also study the entropy between group of elements of the model"
   ]
  },
  {
   "cell_type": "markdown",
   "metadata": {},
   "source": [
    "Taking as input :\n",
    "- [] -> every elements are studied individually\n",
    "- dict -> name of the groups as keys and list of str of the elements as values\n",
    "- list of list -> list of groups with default name"
   ]
  },
  {
   "cell_type": "code",
   "execution_count": 56,
   "metadata": {},
   "outputs": [
    {
     "data": {
      "text/html": [
       "<div>\n",
       "<style scoped>\n",
       "    .dataframe tbody tr th:only-of-type {\n",
       "        vertical-align: middle;\n",
       "    }\n",
       "\n",
       "    .dataframe tbody tr th {\n",
       "        vertical-align: top;\n",
       "    }\n",
       "\n",
       "    .dataframe thead th {\n",
       "        text-align: right;\n",
       "    }\n",
       "</style>\n",
       "<table border=\"1\" class=\"dataframe\">\n",
       "  <thead>\n",
       "    <tr style=\"text-align: right;\">\n",
       "      <th></th>\n",
       "      <th>Entropy</th>\n",
       "    </tr>\n",
       "  </thead>\n",
       "  <tbody>\n",
       "    <tr>\n",
       "      <th>group_0</th>\n",
       "      <td>3.348703</td>\n",
       "    </tr>\n",
       "    <tr>\n",
       "      <th>group_1</th>\n",
       "      <td>2.197410</td>\n",
       "    </tr>\n",
       "  </tbody>\n",
       "</table>\n",
       "</div>"
      ],
      "text/plain": [
       "          Entropy\n",
       "group_0  3.348703\n",
       "group_1  2.197410"
      ]
     },
     "execution_count": 56,
     "metadata": {},
     "output_type": "execute_result"
    }
   ],
   "source": [
    "model.group_entropy([[\"meta_0_para\", \"meta_1\"],[\"enzyme_reaction_0_para\", \"reaction_2\"]])"
   ]
  },
  {
   "cell_type": "markdown",
   "metadata": {},
   "source": [
    "### <font color='white'> [2.3.3] Conditional entropy </font> "
   ]
  },
  {
   "cell_type": "code",
   "execution_count": null,
   "metadata": {},
   "outputs": [
    {
     "data": {
      "text/html": [
       "<div>\n",
       "<style scoped>\n",
       "    .dataframe tbody tr th:only-of-type {\n",
       "        vertical-align: middle;\n",
       "    }\n",
       "\n",
       "    .dataframe tbody tr th {\n",
       "        vertical-align: top;\n",
       "    }\n",
       "\n",
       "    .dataframe thead th {\n",
       "        text-align: right;\n",
       "    }\n",
       "</style>\n",
       "<table border=\"1\" class=\"dataframe\">\n",
       "  <thead>\n",
       "    <tr style=\"text-align: right;\">\n",
       "      <th></th>\n",
       "      <th>meta_0_para</th>\n",
       "      <th>meta_3_para</th>\n",
       "      <th>enzyme_reaction_0_para</th>\n",
       "      <th>enzyme_reaction_1_para</th>\n",
       "      <th>enzyme_reaction_2_para</th>\n",
       "      <th>meta_1</th>\n",
       "      <th>meta_2</th>\n",
       "      <th>reaction_0</th>\n",
       "      <th>reaction_1</th>\n",
       "      <th>reaction_2</th>\n",
       "    </tr>\n",
       "  </thead>\n",
       "  <tbody>\n",
       "    <tr>\n",
       "      <th>meta_0_para</th>\n",
       "      <td>inf</td>\n",
       "      <td>0.918939</td>\n",
       "      <td>0.918939</td>\n",
       "      <td>0.918939</td>\n",
       "      <td>0.918939</td>\n",
       "      <td>0.844729</td>\n",
       "      <td>0.901393</td>\n",
       "      <td>0.881885</td>\n",
       "      <td>0.881885</td>\n",
       "      <td>0.881885</td>\n",
       "    </tr>\n",
       "    <tr>\n",
       "      <th>meta_3_para</th>\n",
       "      <td>0.918939</td>\n",
       "      <td>inf</td>\n",
       "      <td>0.918939</td>\n",
       "      <td>0.918939</td>\n",
       "      <td>0.918939</td>\n",
       "      <td>0.901393</td>\n",
       "      <td>0.844729</td>\n",
       "      <td>0.881885</td>\n",
       "      <td>0.881885</td>\n",
       "      <td>0.881885</td>\n",
       "    </tr>\n",
       "    <tr>\n",
       "      <th>enzyme_reaction_0_para</th>\n",
       "      <td>0.918939</td>\n",
       "      <td>0.918939</td>\n",
       "      <td>inf</td>\n",
       "      <td>0.918939</td>\n",
       "      <td>0.918939</td>\n",
       "      <td>0.517765</td>\n",
       "      <td>0.844729</td>\n",
       "      <td>0.750702</td>\n",
       "      <td>0.750702</td>\n",
       "      <td>0.750702</td>\n",
       "    </tr>\n",
       "    <tr>\n",
       "      <th>enzyme_reaction_1_para</th>\n",
       "      <td>0.918939</td>\n",
       "      <td>0.918939</td>\n",
       "      <td>0.918939</td>\n",
       "      <td>inf</td>\n",
       "      <td>0.918939</td>\n",
       "      <td>0.844729</td>\n",
       "      <td>0.844729</td>\n",
       "      <td>0.750702</td>\n",
       "      <td>0.750702</td>\n",
       "      <td>0.750702</td>\n",
       "    </tr>\n",
       "    <tr>\n",
       "      <th>enzyme_reaction_2_para</th>\n",
       "      <td>0.918939</td>\n",
       "      <td>0.918939</td>\n",
       "      <td>0.918939</td>\n",
       "      <td>0.918939</td>\n",
       "      <td>inf</td>\n",
       "      <td>0.844729</td>\n",
       "      <td>0.517765</td>\n",
       "      <td>0.750702</td>\n",
       "      <td>0.750702</td>\n",
       "      <td>0.750702</td>\n",
       "    </tr>\n",
       "    <tr>\n",
       "      <th>meta_1</th>\n",
       "      <td>1.429764</td>\n",
       "      <td>1.486428</td>\n",
       "      <td>1.102801</td>\n",
       "      <td>1.429764</td>\n",
       "      <td>1.429764</td>\n",
       "      <td>inf</td>\n",
       "      <td>1.322484</td>\n",
       "      <td>1.502741</td>\n",
       "      <td>1.502741</td>\n",
       "      <td>1.502741</td>\n",
       "    </tr>\n",
       "    <tr>\n",
       "      <th>meta_2</th>\n",
       "      <td>1.486428</td>\n",
       "      <td>1.429764</td>\n",
       "      <td>1.429764</td>\n",
       "      <td>1.429764</td>\n",
       "      <td>1.102801</td>\n",
       "      <td>1.322484</td>\n",
       "      <td>inf</td>\n",
       "      <td>1.502741</td>\n",
       "      <td>1.502741</td>\n",
       "      <td>1.502741</td>\n",
       "    </tr>\n",
       "    <tr>\n",
       "      <th>reaction_0</th>\n",
       "      <td>0.409654</td>\n",
       "      <td>0.409654</td>\n",
       "      <td>0.278472</td>\n",
       "      <td>0.278472</td>\n",
       "      <td>0.278472</td>\n",
       "      <td>0.445475</td>\n",
       "      <td>0.445475</td>\n",
       "      <td>inf</td>\n",
       "      <td>inf</td>\n",
       "      <td>inf</td>\n",
       "    </tr>\n",
       "    <tr>\n",
       "      <th>reaction_1</th>\n",
       "      <td>0.409654</td>\n",
       "      <td>0.409654</td>\n",
       "      <td>0.278472</td>\n",
       "      <td>0.278472</td>\n",
       "      <td>0.278472</td>\n",
       "      <td>0.445475</td>\n",
       "      <td>0.445475</td>\n",
       "      <td>inf</td>\n",
       "      <td>inf</td>\n",
       "      <td>inf</td>\n",
       "    </tr>\n",
       "    <tr>\n",
       "      <th>reaction_2</th>\n",
       "      <td>0.409654</td>\n",
       "      <td>0.409654</td>\n",
       "      <td>0.278472</td>\n",
       "      <td>0.278472</td>\n",
       "      <td>0.278472</td>\n",
       "      <td>0.445475</td>\n",
       "      <td>0.445475</td>\n",
       "      <td>inf</td>\n",
       "      <td>inf</td>\n",
       "      <td>inf</td>\n",
       "    </tr>\n",
       "  </tbody>\n",
       "</table>\n",
       "</div>"
      ],
      "text/plain": [
       "                        meta_0_para  meta_3_para  enzyme_reaction_0_para  \\\n",
       "meta_0_para                     inf     0.918939                0.918939   \n",
       "meta_3_para                0.918939          inf                0.918939   \n",
       "enzyme_reaction_0_para     0.918939     0.918939                     inf   \n",
       "enzyme_reaction_1_para     0.918939     0.918939                0.918939   \n",
       "enzyme_reaction_2_para     0.918939     0.918939                0.918939   \n",
       "meta_1                     1.429764     1.486428                1.102801   \n",
       "meta_2                     1.486428     1.429764                1.429764   \n",
       "reaction_0                 0.409654     0.409654                0.278472   \n",
       "reaction_1                 0.409654     0.409654                0.278472   \n",
       "reaction_2                 0.409654     0.409654                0.278472   \n",
       "\n",
       "                        enzyme_reaction_1_para  enzyme_reaction_2_para  \\\n",
       "meta_0_para                           0.918939                0.918939   \n",
       "meta_3_para                           0.918939                0.918939   \n",
       "enzyme_reaction_0_para                0.918939                0.918939   \n",
       "enzyme_reaction_1_para                     inf                0.918939   \n",
       "enzyme_reaction_2_para                0.918939                     inf   \n",
       "meta_1                                1.429764                1.429764   \n",
       "meta_2                                1.429764                1.102801   \n",
       "reaction_0                            0.278472                0.278472   \n",
       "reaction_1                            0.278472                0.278472   \n",
       "reaction_2                            0.278472                0.278472   \n",
       "\n",
       "                          meta_1    meta_2  reaction_0  reaction_1  reaction_2  \n",
       "meta_0_para             0.844729  0.901393    0.881885    0.881885    0.881885  \n",
       "meta_3_para             0.901393  0.844729    0.881885    0.881885    0.881885  \n",
       "enzyme_reaction_0_para  0.517765  0.844729    0.750702    0.750702    0.750702  \n",
       "enzyme_reaction_1_para  0.844729  0.844729    0.750702    0.750702    0.750702  \n",
       "enzyme_reaction_2_para  0.844729  0.517765    0.750702    0.750702    0.750702  \n",
       "meta_1                       inf  1.322484    1.502741    1.502741    1.502741  \n",
       "meta_2                  1.322484       inf    1.502741    1.502741    1.502741  \n",
       "reaction_0              0.445475  0.445475         inf         inf         inf  \n",
       "reaction_1              0.445475  0.445475         inf         inf         inf  \n",
       "reaction_2              0.445475  0.445475         inf         inf         inf  "
      ]
     },
     "execution_count": 61,
     "metadata": {},
     "output_type": "execute_result"
    }
   ],
   "source": [
    "model.entropy_conditional"
   ]
  },
  {
   "cell_type": "markdown",
   "metadata": {},
   "source": [
    "### <font color='white'> [2.3.4] Joint entropy </font> "
   ]
  },
  {
   "cell_type": "code",
   "execution_count": 57,
   "metadata": {},
   "outputs": [
    {
     "data": {
      "text/html": [
       "<div>\n",
       "<style scoped>\n",
       "    .dataframe tbody tr th:only-of-type {\n",
       "        vertical-align: middle;\n",
       "    }\n",
       "\n",
       "    .dataframe tbody tr th {\n",
       "        vertical-align: top;\n",
       "    }\n",
       "\n",
       "    .dataframe thead th {\n",
       "        text-align: right;\n",
       "    }\n",
       "</style>\n",
       "<table border=\"1\" class=\"dataframe\">\n",
       "  <thead>\n",
       "    <tr style=\"text-align: right;\">\n",
       "      <th></th>\n",
       "      <th>meta_0_para</th>\n",
       "      <th>meta_3_para</th>\n",
       "      <th>enzyme_reaction_0_para</th>\n",
       "      <th>enzyme_reaction_1_para</th>\n",
       "      <th>enzyme_reaction_2_para</th>\n",
       "      <th>meta_1</th>\n",
       "      <th>meta_2</th>\n",
       "      <th>reaction_0</th>\n",
       "      <th>reaction_1</th>\n",
       "      <th>reaction_2</th>\n",
       "    </tr>\n",
       "  </thead>\n",
       "  <tbody>\n",
       "    <tr>\n",
       "      <th>meta_0_para</th>\n",
       "      <td>inf</td>\n",
       "      <td>2.837877</td>\n",
       "      <td>2.837877</td>\n",
       "      <td>2.837877</td>\n",
       "      <td>2.837877</td>\n",
       "      <td>3.348703</td>\n",
       "      <td>3.405367</td>\n",
       "      <td>2.328592</td>\n",
       "      <td>2.328592</td>\n",
       "      <td>2.328592</td>\n",
       "    </tr>\n",
       "    <tr>\n",
       "      <th>meta_3_para</th>\n",
       "      <td>2.837877</td>\n",
       "      <td>inf</td>\n",
       "      <td>2.837877</td>\n",
       "      <td>2.837877</td>\n",
       "      <td>2.837877</td>\n",
       "      <td>3.405367</td>\n",
       "      <td>3.348703</td>\n",
       "      <td>2.328592</td>\n",
       "      <td>2.328592</td>\n",
       "      <td>2.328592</td>\n",
       "    </tr>\n",
       "    <tr>\n",
       "      <th>enzyme_reaction_0_para</th>\n",
       "      <td>2.837877</td>\n",
       "      <td>2.837877</td>\n",
       "      <td>inf</td>\n",
       "      <td>2.837877</td>\n",
       "      <td>2.837877</td>\n",
       "      <td>3.021739</td>\n",
       "      <td>3.348703</td>\n",
       "      <td>2.197410</td>\n",
       "      <td>2.197410</td>\n",
       "      <td>2.197410</td>\n",
       "    </tr>\n",
       "    <tr>\n",
       "      <th>enzyme_reaction_1_para</th>\n",
       "      <td>2.837877</td>\n",
       "      <td>2.837877</td>\n",
       "      <td>2.837877</td>\n",
       "      <td>inf</td>\n",
       "      <td>2.837877</td>\n",
       "      <td>3.348703</td>\n",
       "      <td>3.348703</td>\n",
       "      <td>2.197410</td>\n",
       "      <td>2.197410</td>\n",
       "      <td>2.197410</td>\n",
       "    </tr>\n",
       "    <tr>\n",
       "      <th>enzyme_reaction_2_para</th>\n",
       "      <td>2.837877</td>\n",
       "      <td>2.837877</td>\n",
       "      <td>2.837877</td>\n",
       "      <td>2.837877</td>\n",
       "      <td>inf</td>\n",
       "      <td>3.348703</td>\n",
       "      <td>3.021739</td>\n",
       "      <td>2.197410</td>\n",
       "      <td>2.197410</td>\n",
       "      <td>2.197410</td>\n",
       "    </tr>\n",
       "    <tr>\n",
       "      <th>meta_1</th>\n",
       "      <td>3.348703</td>\n",
       "      <td>3.405367</td>\n",
       "      <td>3.021739</td>\n",
       "      <td>3.348703</td>\n",
       "      <td>3.348703</td>\n",
       "      <td>inf</td>\n",
       "      <td>3.826458</td>\n",
       "      <td>2.949449</td>\n",
       "      <td>2.949449</td>\n",
       "      <td>2.949449</td>\n",
       "    </tr>\n",
       "    <tr>\n",
       "      <th>meta_2</th>\n",
       "      <td>3.405367</td>\n",
       "      <td>3.348703</td>\n",
       "      <td>3.348703</td>\n",
       "      <td>3.348703</td>\n",
       "      <td>3.021739</td>\n",
       "      <td>3.826458</td>\n",
       "      <td>inf</td>\n",
       "      <td>2.949449</td>\n",
       "      <td>2.949449</td>\n",
       "      <td>2.949449</td>\n",
       "    </tr>\n",
       "    <tr>\n",
       "      <th>reaction_0</th>\n",
       "      <td>2.328592</td>\n",
       "      <td>2.328592</td>\n",
       "      <td>2.197410</td>\n",
       "      <td>2.197410</td>\n",
       "      <td>2.197410</td>\n",
       "      <td>2.949449</td>\n",
       "      <td>2.949449</td>\n",
       "      <td>inf</td>\n",
       "      <td>inf</td>\n",
       "      <td>inf</td>\n",
       "    </tr>\n",
       "    <tr>\n",
       "      <th>reaction_1</th>\n",
       "      <td>2.328592</td>\n",
       "      <td>2.328592</td>\n",
       "      <td>2.197410</td>\n",
       "      <td>2.197410</td>\n",
       "      <td>2.197410</td>\n",
       "      <td>2.949449</td>\n",
       "      <td>2.949449</td>\n",
       "      <td>inf</td>\n",
       "      <td>inf</td>\n",
       "      <td>inf</td>\n",
       "    </tr>\n",
       "    <tr>\n",
       "      <th>reaction_2</th>\n",
       "      <td>2.328592</td>\n",
       "      <td>2.328592</td>\n",
       "      <td>2.197410</td>\n",
       "      <td>2.197410</td>\n",
       "      <td>2.197410</td>\n",
       "      <td>2.949449</td>\n",
       "      <td>2.949449</td>\n",
       "      <td>inf</td>\n",
       "      <td>inf</td>\n",
       "      <td>inf</td>\n",
       "    </tr>\n",
       "  </tbody>\n",
       "</table>\n",
       "</div>"
      ],
      "text/plain": [
       "                        meta_0_para  meta_3_para  enzyme_reaction_0_para  \\\n",
       "meta_0_para                     inf     2.837877                2.837877   \n",
       "meta_3_para                2.837877          inf                2.837877   \n",
       "enzyme_reaction_0_para     2.837877     2.837877                     inf   \n",
       "enzyme_reaction_1_para     2.837877     2.837877                2.837877   \n",
       "enzyme_reaction_2_para     2.837877     2.837877                2.837877   \n",
       "meta_1                     3.348703     3.405367                3.021739   \n",
       "meta_2                     3.405367     3.348703                3.348703   \n",
       "reaction_0                 2.328592     2.328592                2.197410   \n",
       "reaction_1                 2.328592     2.328592                2.197410   \n",
       "reaction_2                 2.328592     2.328592                2.197410   \n",
       "\n",
       "                        enzyme_reaction_1_para  enzyme_reaction_2_para  \\\n",
       "meta_0_para                           2.837877                2.837877   \n",
       "meta_3_para                           2.837877                2.837877   \n",
       "enzyme_reaction_0_para                2.837877                2.837877   \n",
       "enzyme_reaction_1_para                     inf                2.837877   \n",
       "enzyme_reaction_2_para                2.837877                     inf   \n",
       "meta_1                                3.348703                3.348703   \n",
       "meta_2                                3.348703                3.021739   \n",
       "reaction_0                            2.197410                2.197410   \n",
       "reaction_1                            2.197410                2.197410   \n",
       "reaction_2                            2.197410                2.197410   \n",
       "\n",
       "                          meta_1    meta_2  reaction_0  reaction_1  reaction_2  \n",
       "meta_0_para             3.348703  3.405367    2.328592    2.328592    2.328592  \n",
       "meta_3_para             3.405367  3.348703    2.328592    2.328592    2.328592  \n",
       "enzyme_reaction_0_para  3.021739  3.348703    2.197410    2.197410    2.197410  \n",
       "enzyme_reaction_1_para  3.348703  3.348703    2.197410    2.197410    2.197410  \n",
       "enzyme_reaction_2_para  3.348703  3.021739    2.197410    2.197410    2.197410  \n",
       "meta_1                       inf  3.826458    2.949449    2.949449    2.949449  \n",
       "meta_2                  3.826458       inf    2.949449    2.949449    2.949449  \n",
       "reaction_0              2.949449  2.949449         inf         inf         inf  \n",
       "reaction_1              2.949449  2.949449         inf         inf         inf  \n",
       "reaction_2              2.949449  2.949449         inf         inf         inf  "
      ]
     },
     "execution_count": 57,
     "metadata": {},
     "output_type": "execute_result"
    }
   ],
   "source": [
    "model.joint_entropy"
   ]
  },
  {
   "cell_type": "markdown",
   "metadata": {},
   "source": [
    "### <font color='white'> [2.3.5] Mutual Information </font> "
   ]
  },
  {
   "cell_type": "code",
   "execution_count": null,
   "metadata": {},
   "outputs": [
    {
     "name": "stderr",
     "output_type": "stream",
     "text": [
      "/home/alequertier/Documents/BadAss/Notebooks/../main.py:604: RuntimeWarning: divide by zero encountered in log\n",
      "  MI[i][j] = -0.5 * np.log(1 - self.__corelation[i][j] ** 2)\n"
     ]
    },
    {
     "data": {
      "text/html": [
       "<div>\n",
       "<style scoped>\n",
       "    .dataframe tbody tr th:only-of-type {\n",
       "        vertical-align: middle;\n",
       "    }\n",
       "\n",
       "    .dataframe tbody tr th {\n",
       "        vertical-align: top;\n",
       "    }\n",
       "\n",
       "    .dataframe thead th {\n",
       "        text-align: right;\n",
       "    }\n",
       "</style>\n",
       "<table border=\"1\" class=\"dataframe\">\n",
       "  <thead>\n",
       "    <tr style=\"text-align: right;\">\n",
       "      <th></th>\n",
       "      <th>meta_0_para</th>\n",
       "      <th>meta_3_para</th>\n",
       "      <th>enzyme_reaction_0_para</th>\n",
       "      <th>enzyme_reaction_1_para</th>\n",
       "      <th>enzyme_reaction_2_para</th>\n",
       "      <th>meta_1</th>\n",
       "      <th>meta_2</th>\n",
       "      <th>reaction_0</th>\n",
       "      <th>reaction_1</th>\n",
       "      <th>reaction_2</th>\n",
       "    </tr>\n",
       "  </thead>\n",
       "  <tbody>\n",
       "    <tr>\n",
       "      <th>meta_0_para</th>\n",
       "      <td>inf</td>\n",
       "      <td>-0.000000</td>\n",
       "      <td>-0.000000</td>\n",
       "      <td>-0.000000</td>\n",
       "      <td>-0.000000</td>\n",
       "      <td>0.074210</td>\n",
       "      <td>0.017546</td>\n",
       "      <td>0.037054</td>\n",
       "      <td>0.037054</td>\n",
       "      <td>0.037054</td>\n",
       "    </tr>\n",
       "    <tr>\n",
       "      <th>meta_3_para</th>\n",
       "      <td>-0.000000</td>\n",
       "      <td>inf</td>\n",
       "      <td>-0.000000</td>\n",
       "      <td>-0.000000</td>\n",
       "      <td>-0.000000</td>\n",
       "      <td>0.017546</td>\n",
       "      <td>0.074210</td>\n",
       "      <td>0.037054</td>\n",
       "      <td>0.037054</td>\n",
       "      <td>0.037054</td>\n",
       "    </tr>\n",
       "    <tr>\n",
       "      <th>enzyme_reaction_0_para</th>\n",
       "      <td>-0.000000</td>\n",
       "      <td>-0.000000</td>\n",
       "      <td>inf</td>\n",
       "      <td>-0.000000</td>\n",
       "      <td>-0.000000</td>\n",
       "      <td>0.401173</td>\n",
       "      <td>0.074210</td>\n",
       "      <td>0.168236</td>\n",
       "      <td>0.168236</td>\n",
       "      <td>0.168236</td>\n",
       "    </tr>\n",
       "    <tr>\n",
       "      <th>enzyme_reaction_1_para</th>\n",
       "      <td>-0.000000</td>\n",
       "      <td>-0.000000</td>\n",
       "      <td>-0.000000</td>\n",
       "      <td>inf</td>\n",
       "      <td>-0.000000</td>\n",
       "      <td>0.074210</td>\n",
       "      <td>0.074210</td>\n",
       "      <td>0.168236</td>\n",
       "      <td>0.168236</td>\n",
       "      <td>0.168236</td>\n",
       "    </tr>\n",
       "    <tr>\n",
       "      <th>enzyme_reaction_2_para</th>\n",
       "      <td>-0.000000</td>\n",
       "      <td>-0.000000</td>\n",
       "      <td>-0.000000</td>\n",
       "      <td>-0.000000</td>\n",
       "      <td>inf</td>\n",
       "      <td>0.074210</td>\n",
       "      <td>0.401173</td>\n",
       "      <td>0.168236</td>\n",
       "      <td>0.168236</td>\n",
       "      <td>0.168236</td>\n",
       "    </tr>\n",
       "    <tr>\n",
       "      <th>meta_1</th>\n",
       "      <td>0.074210</td>\n",
       "      <td>0.017546</td>\n",
       "      <td>0.401173</td>\n",
       "      <td>0.074210</td>\n",
       "      <td>0.074210</td>\n",
       "      <td>inf</td>\n",
       "      <td>0.181490</td>\n",
       "      <td>0.001233</td>\n",
       "      <td>0.001233</td>\n",
       "      <td>0.001233</td>\n",
       "    </tr>\n",
       "    <tr>\n",
       "      <th>meta_2</th>\n",
       "      <td>0.017546</td>\n",
       "      <td>0.074210</td>\n",
       "      <td>0.074210</td>\n",
       "      <td>0.074210</td>\n",
       "      <td>0.401173</td>\n",
       "      <td>0.181490</td>\n",
       "      <td>inf</td>\n",
       "      <td>0.001233</td>\n",
       "      <td>0.001233</td>\n",
       "      <td>0.001233</td>\n",
       "    </tr>\n",
       "    <tr>\n",
       "      <th>reaction_0</th>\n",
       "      <td>0.037054</td>\n",
       "      <td>0.037054</td>\n",
       "      <td>0.168236</td>\n",
       "      <td>0.168236</td>\n",
       "      <td>0.168236</td>\n",
       "      <td>0.001233</td>\n",
       "      <td>0.001233</td>\n",
       "      <td>inf</td>\n",
       "      <td>18.021827</td>\n",
       "      <td>18.021827</td>\n",
       "    </tr>\n",
       "    <tr>\n",
       "      <th>reaction_1</th>\n",
       "      <td>0.037054</td>\n",
       "      <td>0.037054</td>\n",
       "      <td>0.168236</td>\n",
       "      <td>0.168236</td>\n",
       "      <td>0.168236</td>\n",
       "      <td>0.001233</td>\n",
       "      <td>0.001233</td>\n",
       "      <td>18.021827</td>\n",
       "      <td>inf</td>\n",
       "      <td>inf</td>\n",
       "    </tr>\n",
       "    <tr>\n",
       "      <th>reaction_2</th>\n",
       "      <td>0.037054</td>\n",
       "      <td>0.037054</td>\n",
       "      <td>0.168236</td>\n",
       "      <td>0.168236</td>\n",
       "      <td>0.168236</td>\n",
       "      <td>0.001233</td>\n",
       "      <td>0.001233</td>\n",
       "      <td>18.021827</td>\n",
       "      <td>inf</td>\n",
       "      <td>inf</td>\n",
       "    </tr>\n",
       "  </tbody>\n",
       "</table>\n",
       "</div>"
      ],
      "text/plain": [
       "                        meta_0_para  meta_3_para  enzyme_reaction_0_para  \\\n",
       "meta_0_para                     inf    -0.000000               -0.000000   \n",
       "meta_3_para               -0.000000          inf               -0.000000   \n",
       "enzyme_reaction_0_para    -0.000000    -0.000000                     inf   \n",
       "enzyme_reaction_1_para    -0.000000    -0.000000               -0.000000   \n",
       "enzyme_reaction_2_para    -0.000000    -0.000000               -0.000000   \n",
       "meta_1                     0.074210     0.017546                0.401173   \n",
       "meta_2                     0.017546     0.074210                0.074210   \n",
       "reaction_0                 0.037054     0.037054                0.168236   \n",
       "reaction_1                 0.037054     0.037054                0.168236   \n",
       "reaction_2                 0.037054     0.037054                0.168236   \n",
       "\n",
       "                        enzyme_reaction_1_para  enzyme_reaction_2_para  \\\n",
       "meta_0_para                          -0.000000               -0.000000   \n",
       "meta_3_para                          -0.000000               -0.000000   \n",
       "enzyme_reaction_0_para               -0.000000               -0.000000   \n",
       "enzyme_reaction_1_para                     inf               -0.000000   \n",
       "enzyme_reaction_2_para               -0.000000                     inf   \n",
       "meta_1                                0.074210                0.074210   \n",
       "meta_2                                0.074210                0.401173   \n",
       "reaction_0                            0.168236                0.168236   \n",
       "reaction_1                            0.168236                0.168236   \n",
       "reaction_2                            0.168236                0.168236   \n",
       "\n",
       "                          meta_1    meta_2  reaction_0  reaction_1  reaction_2  \n",
       "meta_0_para             0.074210  0.017546    0.037054    0.037054    0.037054  \n",
       "meta_3_para             0.017546  0.074210    0.037054    0.037054    0.037054  \n",
       "enzyme_reaction_0_para  0.401173  0.074210    0.168236    0.168236    0.168236  \n",
       "enzyme_reaction_1_para  0.074210  0.074210    0.168236    0.168236    0.168236  \n",
       "enzyme_reaction_2_para  0.074210  0.401173    0.168236    0.168236    0.168236  \n",
       "meta_1                       inf  0.181490    0.001233    0.001233    0.001233  \n",
       "meta_2                  0.181490       inf    0.001233    0.001233    0.001233  \n",
       "reaction_0              0.001233  0.001233         inf   18.021827   18.021827  \n",
       "reaction_1              0.001233  0.001233   18.021827         inf         inf  \n",
       "reaction_2              0.001233  0.001233   18.021827         inf         inf  "
      ]
     },
     "execution_count": 58,
     "metadata": {},
     "output_type": "execute_result"
    }
   ],
   "source": [
    "model.MI"
   ]
  },
  {
   "cell_type": "markdown",
   "metadata": {},
   "source": [
    "# <font color='red'> [3] Graph of the result </font> "
   ]
  },
  {
   "cell_type": "markdown",
   "metadata": {},
   "source": [
    "to do"
   ]
  },
  {
   "cell_type": "code",
   "execution_count": null,
   "metadata": {},
   "outputs": [],
   "source": [
    "import numpy as np\n",
    "np.sqrt(2*np.pi*np.e*1)"
   ]
  },
  {
   "cell_type": "code",
   "execution_count": null,
   "metadata": {},
   "outputs": [],
   "source": [
    "momo.parameters.df"
   ]
  },
  {
   "cell_type": "code",
   "execution_count": null,
   "metadata": {},
   "outputs": [],
   "source": [
    "#momo.plot(result=\"MI\", label=True, value_in_cell=False )"
   ]
  },
  {
   "cell_type": "markdown",
   "metadata": {},
   "source": [
    "## <font color='green'> [2.2] Sampling </font> "
   ]
  },
  {
   "cell_type": "markdown",
   "metadata": {},
   "source": [
    "### <font color='white'> [2.2.0] Let's create an exemple </font> "
   ]
  },
  {
   "cell_type": "code",
   "execution_count": null,
   "metadata": {},
   "outputs": [],
   "source": [
    "from main import MODEL\n",
    "\n",
    "momo = MODEL()\n",
    "momo.read_SBML()\n",
    "\n",
    "momo.enzymes.add_to_all_reaction()\n",
    "momo.parameters.add_externals()\n",
    "momo.parameters.add_enzymes()\n",
    "\n",
    "momo.elasticity.s.half_satured()"
   ]
  },
  {
   "cell_type": "code",
   "execution_count": null,
   "metadata": {},
   "outputs": [],
   "source": [
    "momo.elasticity.p.df"
   ]
  },
  {
   "cell_type": "code",
   "execution_count": null,
   "metadata": {},
   "outputs": [],
   "source": [
    "print(f\"Shape of the stoichio matrix : {momo.Stoichio_matrix.shape} \\n\")\n",
    "print(f\"numbers of metabolite in the model : {momo.metabolites.len} \\n\")\n",
    "print(f\"Numbers of reaction in the model : {momo.reactions.len} \\n\")\n",
    "print(f\"Numbers of enzyme in the model : {momo.enzymes.df.shape[0]} \\n\")\n",
    "print(f\"Numbers of parameters in the model : {momo.parameters.df.shape[0]} \\n\")"
   ]
  },
  {
   "cell_type": "code",
   "execution_count": null,
   "metadata": {},
   "outputs": [],
   "source": [
    "momo.R"
   ]
  },
  {
   "cell_type": "markdown",
   "metadata": {},
   "source": [
    "### <font color='white'> [2.2.1] Updating the dataframe of the sampling data </font> "
   ]
  },
  {
   "cell_type": "code",
   "execution_count": null,
   "metadata": {},
   "outputs": [],
   "source": [
    "momo.data_sampling"
   ]
  },
  {
   "cell_type": "code",
   "execution_count": null,
   "metadata": {},
   "outputs": [],
   "source": [
    "momo.add_sampling_data([\"PTS_RPTSsy\",\"enzyme_PTS_RPTSsy_para\"], \"elasticity_p\", mean = True)\n",
    "\n",
    "momo.data_sampling"
   ]
  },
  {
   "cell_type": "markdown",
   "metadata": {},
   "source": [
    "### <font color='white'> [2.2.2] Launching the sampling loop </font> "
   ]
  },
  {
   "cell_type": "code",
   "execution_count": null,
   "metadata": {},
   "outputs": [],
   "source": [
    "#import cProfile\n",
    "#cProfile.run(\"momo.MI()\")"
   ]
  },
  {
   "cell_type": "code",
   "execution_count": null,
   "metadata": {},
   "outputs": [],
   "source": [
    "momo.sampling(10, result='rho', seed_constant=False)"
   ]
  },
  {
   "cell_type": "code",
   "execution_count": null,
   "metadata": {},
   "outputs": [],
   "source": [
    "momo.group_MI([[\"enzyme_PTS_RPTSsy_para\",\"enzyme_PGI_R02740_para\"],[\"FUM_R01082\",\"MDH_R00342\"],[\"PPC_R00345\"]])"
   ]
  },
  {
   "cell_type": "code",
   "execution_count": null,
   "metadata": {},
   "outputs": [],
   "source": [
    "from main import *\n",
    "momo = MODEL()\n",
    "momo.read_SBML()\n",
    "\n",
    "momo.elasticity.s.half_satured()\n",
    "momo.enzymes.add_to_all_reaction()\n",
    "momo.parameters.add_enzymes()\n",
    "momo.parameters.add_externals()"
   ]
  },
  {
   "cell_type": "code",
   "execution_count": null,
   "metadata": {},
   "outputs": [],
   "source": [
    "a = momo.group_MI()\n",
    "\n",
    "print(a.index[59])\n",
    "a.loc[a.index[59]]"
   ]
  },
  {
   "cell_type": "code",
   "execution_count": null,
   "metadata": {},
   "outputs": [],
   "source": [
    "momo.parameters.remove(\"Temperature\")"
   ]
  },
  {
   "cell_type": "code",
   "execution_count": null,
   "metadata": {},
   "outputs": [],
   "source": [
    "momo.group_entropy_fixed_vector()"
   ]
  },
  {
   "cell_type": "markdown",
   "metadata": {},
   "source": [
    "# Test Part"
   ]
  }
 ],
 "metadata": {
  "kernelspec": {
   "display_name": "Python 3",
   "language": "python",
   "name": "python3"
  },
  "language_info": {
   "codemirror_mode": {
    "name": "ipython",
    "version": 3
   },
   "file_extension": ".py",
   "mimetype": "text/x-python",
   "name": "python",
   "nbconvert_exporter": "python",
   "pygments_lexer": "ipython3",
   "version": "3.10.12"
  },
  "orig_nbformat": 4
 },
 "nbformat": 4,
 "nbformat_minor": 2
}
