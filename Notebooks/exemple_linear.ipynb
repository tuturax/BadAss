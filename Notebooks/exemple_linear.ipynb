{
 "cells": [
  {
   "cell_type": "markdown",
   "metadata": {},
   "source": [
    "### Importation of the module"
   ]
  },
  {
   "cell_type": "code",
   "execution_count": 1,
   "metadata": {},
   "outputs": [],
   "source": [
    "import sys\n",
    "sys.path.append('../')\n",
    "\n",
    "from main import *"
   ]
  },
  {
   "cell_type": "markdown",
   "metadata": {},
   "source": [
    "### Creation of the linear model"
   ]
  },
  {
   "cell_type": "code",
   "execution_count": 2,
   "metadata": {},
   "outputs": [
    {
     "name": "stdout",
     "output_type": "stream",
     "text": [
      "Model created \n",
      " \n",
      "To add metabolite, use .metabolites.add_meta \n",
      "To add reaction,   use .reactions.add_reaction\n",
      "Model created \n",
      " \n",
      "To add metabolite, use .metabolites.add_meta \n",
      "To add reaction,   use .reactions.add_reaction\n"
     ]
    }
   ],
   "source": [
    "momo = MODEL()\n",
    "\n",
    "momo.creat_linear(4)"
   ]
  },
  {
   "cell_type": "code",
   "execution_count": 3,
   "metadata": {},
   "outputs": [
    {
     "name": "stdout",
     "output_type": "stream",
     "text": [
      "Name of the removed parameter : Temperature\n"
     ]
    }
   ],
   "source": [
    "momo.enzymes.add_to_all_reaction()\n",
    "momo.parameters.add_enzymes()\n",
    "\n",
    "momo.parameters.add_externals()\n",
    "\n",
    "momo.elasticity.s.half_satured()\n",
    "\n",
    "momo.parameters.remove(\"Temperature\")"
   ]
  },
  {
   "cell_type": "code",
   "execution_count": 4,
   "metadata": {},
   "outputs": [
    {
     "data": {
      "text/html": [
       "<div>\n",
       "<style scoped>\n",
       "    .dataframe tbody tr th:only-of-type {\n",
       "        vertical-align: middle;\n",
       "    }\n",
       "\n",
       "    .dataframe tbody tr th {\n",
       "        vertical-align: top;\n",
       "    }\n",
       "\n",
       "    .dataframe thead th {\n",
       "        text-align: right;\n",
       "    }\n",
       "</style>\n",
       "<table border=\"1\" class=\"dataframe\">\n",
       "  <thead>\n",
       "    <tr style=\"text-align: right;\">\n",
       "      <th></th>\n",
       "      <th>enzyme_reaction_0_para</th>\n",
       "      <th>enzyme_reaction_1_para</th>\n",
       "      <th>enzyme_reaction_2_para</th>\n",
       "      <th>meta_0_para</th>\n",
       "      <th>meta_3_para</th>\n",
       "      <th>meta_1</th>\n",
       "      <th>meta_2</th>\n",
       "      <th>reaction_0</th>\n",
       "      <th>reaction_1</th>\n",
       "      <th>reaction_2</th>\n",
       "    </tr>\n",
       "  </thead>\n",
       "  <tbody>\n",
       "    <tr>\n",
       "      <th>enzyme_reaction_0_para</th>\n",
       "      <td>1.000000</td>\n",
       "      <td>0.000000</td>\n",
       "      <td>0.000000</td>\n",
       "      <td>0.000000</td>\n",
       "      <td>0.000000</td>\n",
       "      <td>1.333333</td>\n",
       "      <td>0.666667</td>\n",
       "      <td>0.333333</td>\n",
       "      <td>0.333333</td>\n",
       "      <td>0.333333</td>\n",
       "    </tr>\n",
       "    <tr>\n",
       "      <th>enzyme_reaction_1_para</th>\n",
       "      <td>0.000000</td>\n",
       "      <td>1.000000</td>\n",
       "      <td>0.000000</td>\n",
       "      <td>0.000000</td>\n",
       "      <td>0.000000</td>\n",
       "      <td>-0.666667</td>\n",
       "      <td>0.666667</td>\n",
       "      <td>0.333333</td>\n",
       "      <td>0.333333</td>\n",
       "      <td>0.333333</td>\n",
       "    </tr>\n",
       "    <tr>\n",
       "      <th>enzyme_reaction_2_para</th>\n",
       "      <td>0.000000</td>\n",
       "      <td>0.000000</td>\n",
       "      <td>1.000000</td>\n",
       "      <td>0.000000</td>\n",
       "      <td>0.000000</td>\n",
       "      <td>-0.666667</td>\n",
       "      <td>-1.333333</td>\n",
       "      <td>0.333333</td>\n",
       "      <td>0.333333</td>\n",
       "      <td>0.333333</td>\n",
       "    </tr>\n",
       "    <tr>\n",
       "      <th>meta_0_para</th>\n",
       "      <td>0.000000</td>\n",
       "      <td>0.000000</td>\n",
       "      <td>0.000000</td>\n",
       "      <td>1.000000</td>\n",
       "      <td>0.000000</td>\n",
       "      <td>0.666667</td>\n",
       "      <td>0.333333</td>\n",
       "      <td>0.166667</td>\n",
       "      <td>0.166667</td>\n",
       "      <td>0.166667</td>\n",
       "    </tr>\n",
       "    <tr>\n",
       "      <th>meta_3_para</th>\n",
       "      <td>0.000000</td>\n",
       "      <td>0.000000</td>\n",
       "      <td>0.000000</td>\n",
       "      <td>0.000000</td>\n",
       "      <td>1.000000</td>\n",
       "      <td>0.333333</td>\n",
       "      <td>0.666667</td>\n",
       "      <td>-0.166667</td>\n",
       "      <td>-0.166667</td>\n",
       "      <td>-0.166667</td>\n",
       "    </tr>\n",
       "    <tr>\n",
       "      <th>meta_1</th>\n",
       "      <td>1.333333</td>\n",
       "      <td>-0.666667</td>\n",
       "      <td>-0.666667</td>\n",
       "      <td>0.666667</td>\n",
       "      <td>0.333333</td>\n",
       "      <td>3.222222</td>\n",
       "      <td>1.777778</td>\n",
       "      <td>0.055556</td>\n",
       "      <td>0.055556</td>\n",
       "      <td>0.055556</td>\n",
       "    </tr>\n",
       "    <tr>\n",
       "      <th>meta_2</th>\n",
       "      <td>0.666667</td>\n",
       "      <td>0.666667</td>\n",
       "      <td>-1.333333</td>\n",
       "      <td>0.333333</td>\n",
       "      <td>0.666667</td>\n",
       "      <td>1.777778</td>\n",
       "      <td>3.222222</td>\n",
       "      <td>-0.055556</td>\n",
       "      <td>-0.055556</td>\n",
       "      <td>-0.055556</td>\n",
       "    </tr>\n",
       "    <tr>\n",
       "      <th>reaction_0</th>\n",
       "      <td>0.333333</td>\n",
       "      <td>0.333333</td>\n",
       "      <td>0.333333</td>\n",
       "      <td>0.166667</td>\n",
       "      <td>-0.166667</td>\n",
       "      <td>0.055556</td>\n",
       "      <td>-0.055556</td>\n",
       "      <td>0.388889</td>\n",
       "      <td>0.388889</td>\n",
       "      <td>0.388889</td>\n",
       "    </tr>\n",
       "    <tr>\n",
       "      <th>reaction_1</th>\n",
       "      <td>0.333333</td>\n",
       "      <td>0.333333</td>\n",
       "      <td>0.333333</td>\n",
       "      <td>0.166667</td>\n",
       "      <td>-0.166667</td>\n",
       "      <td>0.055556</td>\n",
       "      <td>-0.055556</td>\n",
       "      <td>0.388889</td>\n",
       "      <td>0.388889</td>\n",
       "      <td>0.388889</td>\n",
       "    </tr>\n",
       "    <tr>\n",
       "      <th>reaction_2</th>\n",
       "      <td>0.333333</td>\n",
       "      <td>0.333333</td>\n",
       "      <td>0.333333</td>\n",
       "      <td>0.166667</td>\n",
       "      <td>-0.166667</td>\n",
       "      <td>0.055556</td>\n",
       "      <td>-0.055556</td>\n",
       "      <td>0.388889</td>\n",
       "      <td>0.388889</td>\n",
       "      <td>0.388889</td>\n",
       "    </tr>\n",
       "  </tbody>\n",
       "</table>\n",
       "</div>"
      ],
      "text/plain": [
       "                        enzyme_reaction_0_para  enzyme_reaction_1_para  \\\n",
       "enzyme_reaction_0_para                1.000000                0.000000   \n",
       "enzyme_reaction_1_para                0.000000                1.000000   \n",
       "enzyme_reaction_2_para                0.000000                0.000000   \n",
       "meta_0_para                           0.000000                0.000000   \n",
       "meta_3_para                           0.000000                0.000000   \n",
       "meta_1                                1.333333               -0.666667   \n",
       "meta_2                                0.666667                0.666667   \n",
       "reaction_0                            0.333333                0.333333   \n",
       "reaction_1                            0.333333                0.333333   \n",
       "reaction_2                            0.333333                0.333333   \n",
       "\n",
       "                        enzyme_reaction_2_para  meta_0_para  meta_3_para  \\\n",
       "enzyme_reaction_0_para                0.000000     0.000000     0.000000   \n",
       "enzyme_reaction_1_para                0.000000     0.000000     0.000000   \n",
       "enzyme_reaction_2_para                1.000000     0.000000     0.000000   \n",
       "meta_0_para                           0.000000     1.000000     0.000000   \n",
       "meta_3_para                           0.000000     0.000000     1.000000   \n",
       "meta_1                               -0.666667     0.666667     0.333333   \n",
       "meta_2                               -1.333333     0.333333     0.666667   \n",
       "reaction_0                            0.333333     0.166667    -0.166667   \n",
       "reaction_1                            0.333333     0.166667    -0.166667   \n",
       "reaction_2                            0.333333     0.166667    -0.166667   \n",
       "\n",
       "                          meta_1    meta_2  reaction_0  reaction_1  reaction_2  \n",
       "enzyme_reaction_0_para  1.333333  0.666667    0.333333    0.333333    0.333333  \n",
       "enzyme_reaction_1_para -0.666667  0.666667    0.333333    0.333333    0.333333  \n",
       "enzyme_reaction_2_para -0.666667 -1.333333    0.333333    0.333333    0.333333  \n",
       "meta_0_para             0.666667  0.333333    0.166667    0.166667    0.166667  \n",
       "meta_3_para             0.333333  0.666667   -0.166667   -0.166667   -0.166667  \n",
       "meta_1                  3.222222  1.777778    0.055556    0.055556    0.055556  \n",
       "meta_2                  1.777778  3.222222   -0.055556   -0.055556   -0.055556  \n",
       "reaction_0              0.055556 -0.055556    0.388889    0.388889    0.388889  \n",
       "reaction_1              0.055556 -0.055556    0.388889    0.388889    0.388889  \n",
       "reaction_2              0.055556 -0.055556    0.388889    0.388889    0.388889  "
      ]
     },
     "execution_count": 4,
     "metadata": {},
     "output_type": "execute_result"
    }
   ],
   "source": [
    "momo.covariance"
   ]
  },
  {
   "cell_type": "code",
   "execution_count": null,
   "metadata": {},
   "outputs": [],
   "source": [
    "momo.regulations.add(\"reg_test\", regulated=\"reaction_1\", regulator=\"meta_2\", coefficient=1, allosteric=False, name_parameter=\"coucou\")"
   ]
  },
  {
   "cell_type": "code",
   "execution_count": null,
   "metadata": {},
   "outputs": [
    {
     "data": {
      "text/html": [
       "<div>\n",
       "<style scoped>\n",
       "    .dataframe tbody tr th:only-of-type {\n",
       "        vertical-align: middle;\n",
       "    }\n",
       "\n",
       "    .dataframe tbody tr th {\n",
       "        vertical-align: top;\n",
       "    }\n",
       "\n",
       "    .dataframe thead th {\n",
       "        text-align: right;\n",
       "    }\n",
       "</style>\n",
       "<table border=\"1\" class=\"dataframe\">\n",
       "  <thead>\n",
       "    <tr style=\"text-align: right;\">\n",
       "      <th></th>\n",
       "      <th>Mean values</th>\n",
       "      <th>Standard deviation</th>\n",
       "    </tr>\n",
       "  </thead>\n",
       "  <tbody>\n",
       "    <tr>\n",
       "      <th>Temperature</th>\n",
       "      <td>273.15</td>\n",
       "      <td>1.0</td>\n",
       "    </tr>\n",
       "    <tr>\n",
       "      <th>coucou</th>\n",
       "      <td>1.0</td>\n",
       "      <td>1.0</td>\n",
       "    </tr>\n",
       "  </tbody>\n",
       "</table>\n",
       "</div>"
      ],
      "text/plain": [
       "            Mean values Standard deviation\n",
       "Temperature      273.15                1.0\n",
       "coucou              1.0                1.0"
      ]
     },
     "execution_count": 5,
     "metadata": {},
     "output_type": "execute_result"
    }
   ],
   "source": [
    "momo.parameters.df"
   ]
  },
  {
   "cell_type": "code",
   "execution_count": null,
   "metadata": {},
   "outputs": [
    {
     "data": {
      "text/html": [
       "<div>\n",
       "<style scoped>\n",
       "    .dataframe tbody tr th:only-of-type {\n",
       "        vertical-align: middle;\n",
       "    }\n",
       "\n",
       "    .dataframe tbody tr th {\n",
       "        vertical-align: top;\n",
       "    }\n",
       "\n",
       "    .dataframe thead th {\n",
       "        text-align: right;\n",
       "    }\n",
       "</style>\n",
       "<table border=\"1\" class=\"dataframe\">\n",
       "  <thead>\n",
       "    <tr style=\"text-align: right;\">\n",
       "      <th></th>\n",
       "      <th>Mean values</th>\n",
       "      <th>Standard deviation</th>\n",
       "    </tr>\n",
       "  </thead>\n",
       "  <tbody>\n",
       "    <tr>\n",
       "      <th>Temperature</th>\n",
       "      <td>273.15</td>\n",
       "      <td>1.0</td>\n",
       "    </tr>\n",
       "  </tbody>\n",
       "</table>\n",
       "</div>"
      ],
      "text/plain": [
       "            Mean values Standard deviation\n",
       "Temperature      273.15                1.0"
      ]
     },
     "execution_count": 6,
     "metadata": {},
     "output_type": "execute_result"
    }
   ],
   "source": [
    "momo.parameters.df"
   ]
  },
  {
   "cell_type": "code",
   "execution_count": null,
   "metadata": {},
   "outputs": [
    {
     "data": {
      "text/html": [
       "<div>\n",
       "<style scoped>\n",
       "    .dataframe tbody tr th:only-of-type {\n",
       "        vertical-align: middle;\n",
       "    }\n",
       "\n",
       "    .dataframe tbody tr th {\n",
       "        vertical-align: top;\n",
       "    }\n",
       "\n",
       "    .dataframe thead th {\n",
       "        text-align: right;\n",
       "    }\n",
       "</style>\n",
       "<table border=\"1\" class=\"dataframe\">\n",
       "  <thead>\n",
       "    <tr style=\"text-align: right;\">\n",
       "      <th></th>\n",
       "      <th>Temperature</th>\n",
       "    </tr>\n",
       "  </thead>\n",
       "  <tbody>\n",
       "    <tr>\n",
       "      <th>reaction_0</th>\n",
       "      <td>0</td>\n",
       "    </tr>\n",
       "    <tr>\n",
       "      <th>reaction_1</th>\n",
       "      <td>0</td>\n",
       "    </tr>\n",
       "    <tr>\n",
       "      <th>reaction_2</th>\n",
       "      <td>0</td>\n",
       "    </tr>\n",
       "  </tbody>\n",
       "</table>\n",
       "</div>"
      ],
      "text/plain": [
       "            Temperature\n",
       "reaction_0            0\n",
       "reaction_1            0\n",
       "reaction_2            0"
      ]
     },
     "execution_count": 12,
     "metadata": {},
     "output_type": "execute_result"
    }
   ],
   "source": [
    "momo.elasticity.p.df"
   ]
  },
  {
   "cell_type": "code",
   "execution_count": null,
   "metadata": {},
   "outputs": [
    {
     "name": "stdout",
     "output_type": "stream",
     "text": [
      "Model created \n",
      " \n",
      "To add metabolite, use .metabolites.add_meta \n",
      "To add reaction,   use .reactions.add_reaction\n",
      "Model created \n",
      " \n",
      "To add metabolite, use .metabolites.add_meta \n",
      "To add reaction,   use .reactions.add_reaction\n"
     ]
    }
   ],
   "source": [
    "momo = MODEL()\n",
    "\n",
    "momo.creat_linear(4)\n",
    "\n",
    "momo.enzymes.add_to_all_reaction()\n",
    "momo.parameters.add_enzymes()\n",
    "\n",
    "momo.parameters.add_externals()\n",
    "\n",
    "momo.elasticity.s.half_satured()"
   ]
  },
  {
   "cell_type": "code",
   "execution_count": null,
   "metadata": {},
   "outputs": [
    {
     "name": "stdout",
     "output_type": "stream",
     "text": [
      "Name of the removed parameter : Temperature\n"
     ]
    }
   ],
   "source": [
    "momo.parameters.remove(\"Temperature\")"
   ]
  },
  {
   "cell_type": "code",
   "execution_count": null,
   "metadata": {},
   "outputs": [],
   "source": [
    "momo.BadAss2Cobra()"
   ]
  },
  {
   "cell_type": "code",
   "execution_count": null,
   "metadata": {},
   "outputs": [],
   "source": []
  },
  {
   "cell_type": "code",
   "execution_count": null,
   "metadata": {},
   "outputs": [
    {
     "data": {
      "text/html": [
       "<div>\n",
       "<style scoped>\n",
       "    .dataframe tbody tr th:only-of-type {\n",
       "        vertical-align: middle;\n",
       "    }\n",
       "\n",
       "    .dataframe tbody tr th {\n",
       "        vertical-align: top;\n",
       "    }\n",
       "\n",
       "    .dataframe thead th {\n",
       "        text-align: right;\n",
       "    }\n",
       "</style>\n",
       "<table border=\"1\" class=\"dataframe\">\n",
       "  <thead>\n",
       "    <tr style=\"text-align: right;\">\n",
       "      <th></th>\n",
       "      <th>Metabolites</th>\n",
       "      <th>Equilibrium constant</th>\n",
       "      <th>Reversible</th>\n",
       "      <th>Flux (mmol/gDW/h)</th>\n",
       "    </tr>\n",
       "  </thead>\n",
       "  <tbody>\n",
       "    <tr>\n",
       "      <th>reaction_0</th>\n",
       "      <td>{'meta_0': -1, 'meta_1': 1}</td>\n",
       "      <td>1.0</td>\n",
       "      <td></td>\n",
       "      <td>1</td>\n",
       "    </tr>\n",
       "    <tr>\n",
       "      <th>reaction_1</th>\n",
       "      <td>{'meta_1': -1, 'meta_2': 1}</td>\n",
       "      <td>1.0</td>\n",
       "      <td></td>\n",
       "      <td>1</td>\n",
       "    </tr>\n",
       "    <tr>\n",
       "      <th>reaction_2</th>\n",
       "      <td>{'meta_2': -1, 'meta_3': 1}</td>\n",
       "      <td>1.0</td>\n",
       "      <td></td>\n",
       "      <td>1</td>\n",
       "    </tr>\n",
       "  </tbody>\n",
       "</table>\n",
       "</div>"
      ],
      "text/plain": [
       "                            Metabolites  Equilibrium constant Reversible  \\\n",
       "reaction_0  {'meta_0': -1, 'meta_1': 1}                   1.0              \n",
       "reaction_1  {'meta_1': -1, 'meta_2': 1}                   1.0              \n",
       "reaction_2  {'meta_2': -1, 'meta_3': 1}                   1.0              \n",
       "\n",
       "            Flux (mmol/gDW/h)  \n",
       "reaction_0                  1  \n",
       "reaction_1                  1  \n",
       "reaction_2                  1  "
      ]
     },
     "execution_count": 24,
     "metadata": {},
     "output_type": "execute_result"
    }
   ],
   "source": [
    "momo.reactions.df"
   ]
  },
  {
   "cell_type": "code",
   "execution_count": null,
   "metadata": {},
   "outputs": [
    {
     "ename": "TypeError",
     "evalue": "Object of type type is not JSON serializable",
     "output_type": "error",
     "traceback": [
      "\u001b[0;31m---------------------------------------------------------------------------\u001b[0m",
      "\u001b[0;31mTypeError\u001b[0m                                 Traceback (most recent call last)",
      "Cell \u001b[0;32mIn [1], line 3\u001b[0m\n\u001b[1;32m      1\u001b[0m \u001b[38;5;28;01mimport\u001b[39;00m \u001b[38;5;21;01mjson\u001b[39;00m\n\u001b[1;32m      2\u001b[0m \u001b[38;5;28;01mwith\u001b[39;00m \u001b[38;5;28mopen\u001b[39m(\u001b[38;5;124m\"\u001b[39m\u001b[38;5;124mmap_escher.json\u001b[39m\u001b[38;5;124m\"\u001b[39m, \u001b[38;5;124m\"\u001b[39m\u001b[38;5;124mw\u001b[39m\u001b[38;5;124m\"\u001b[39m) \u001b[38;5;28;01mas\u001b[39;00m json_file:\n\u001b[0;32m----> 3\u001b[0m     json\u001b[38;5;241m.\u001b[39mdump(\u001b[38;5;28mmap\u001b[39m, json_file, indent\u001b[38;5;241m=\u001b[39m\u001b[38;5;241m4\u001b[39m)\n",
      "File \u001b[0;32m/usr/lib/python3.10/json/__init__.py:179\u001b[0m, in \u001b[0;36mdump\u001b[0;34m(obj, fp, skipkeys, ensure_ascii, check_circular, allow_nan, cls, indent, separators, default, sort_keys, **kw)\u001b[0m\n\u001b[1;32m    173\u001b[0m     iterable \u001b[38;5;241m=\u001b[39m \u001b[38;5;28mcls\u001b[39m(skipkeys\u001b[38;5;241m=\u001b[39mskipkeys, ensure_ascii\u001b[38;5;241m=\u001b[39mensure_ascii,\n\u001b[1;32m    174\u001b[0m         check_circular\u001b[38;5;241m=\u001b[39mcheck_circular, allow_nan\u001b[38;5;241m=\u001b[39mallow_nan, indent\u001b[38;5;241m=\u001b[39mindent,\n\u001b[1;32m    175\u001b[0m         separators\u001b[38;5;241m=\u001b[39mseparators,\n\u001b[1;32m    176\u001b[0m         default\u001b[38;5;241m=\u001b[39mdefault, sort_keys\u001b[38;5;241m=\u001b[39msort_keys, \u001b[38;5;241m*\u001b[39m\u001b[38;5;241m*\u001b[39mkw)\u001b[38;5;241m.\u001b[39miterencode(obj)\n\u001b[1;32m    177\u001b[0m \u001b[38;5;66;03m# could accelerate with writelines in some versions of Python, at\u001b[39;00m\n\u001b[1;32m    178\u001b[0m \u001b[38;5;66;03m# a debuggability cost\u001b[39;00m\n\u001b[0;32m--> 179\u001b[0m \u001b[38;5;28;01mfor\u001b[39;00m chunk \u001b[38;5;129;01min\u001b[39;00m iterable:\n\u001b[1;32m    180\u001b[0m     fp\u001b[38;5;241m.\u001b[39mwrite(chunk)\n",
      "File \u001b[0;32m/usr/lib/python3.10/json/encoder.py:438\u001b[0m, in \u001b[0;36m_make_iterencode.<locals>._iterencode\u001b[0;34m(o, _current_indent_level)\u001b[0m\n\u001b[1;32m    436\u001b[0m         \u001b[38;5;28;01mraise\u001b[39;00m \u001b[38;5;167;01mValueError\u001b[39;00m(\u001b[38;5;124m\"\u001b[39m\u001b[38;5;124mCircular reference detected\u001b[39m\u001b[38;5;124m\"\u001b[39m)\n\u001b[1;32m    437\u001b[0m     markers[markerid] \u001b[38;5;241m=\u001b[39m o\n\u001b[0;32m--> 438\u001b[0m o \u001b[38;5;241m=\u001b[39m \u001b[43m_default\u001b[49m\u001b[43m(\u001b[49m\u001b[43mo\u001b[49m\u001b[43m)\u001b[49m\n\u001b[1;32m    439\u001b[0m \u001b[38;5;28;01myield from\u001b[39;00m _iterencode(o, _current_indent_level)\n\u001b[1;32m    440\u001b[0m \u001b[38;5;28;01mif\u001b[39;00m markers \u001b[38;5;129;01mis\u001b[39;00m \u001b[38;5;129;01mnot\u001b[39;00m \u001b[38;5;28;01mNone\u001b[39;00m:\n",
      "File \u001b[0;32m/usr/lib/python3.10/json/encoder.py:179\u001b[0m, in \u001b[0;36mJSONEncoder.default\u001b[0;34m(self, o)\u001b[0m\n\u001b[1;32m    160\u001b[0m \u001b[38;5;28;01mdef\u001b[39;00m \u001b[38;5;21mdefault\u001b[39m(\u001b[38;5;28mself\u001b[39m, o):\n\u001b[1;32m    161\u001b[0m     \u001b[38;5;124;03m\"\"\"Implement this method in a subclass such that it returns\u001b[39;00m\n\u001b[1;32m    162\u001b[0m \u001b[38;5;124;03m    a serializable object for ``o``, or calls the base implementation\u001b[39;00m\n\u001b[1;32m    163\u001b[0m \u001b[38;5;124;03m    (to raise a ``TypeError``).\u001b[39;00m\n\u001b[0;32m   (...)\u001b[0m\n\u001b[1;32m    177\u001b[0m \n\u001b[1;32m    178\u001b[0m \u001b[38;5;124;03m    \"\"\"\u001b[39;00m\n\u001b[0;32m--> 179\u001b[0m     \u001b[38;5;28;01mraise\u001b[39;00m \u001b[38;5;167;01mTypeError\u001b[39;00m(\u001b[38;5;124mf\u001b[39m\u001b[38;5;124m'\u001b[39m\u001b[38;5;124mObject of type \u001b[39m\u001b[38;5;132;01m{\u001b[39;00mo\u001b[38;5;241m.\u001b[39m\u001b[38;5;18m__class__\u001b[39m\u001b[38;5;241m.\u001b[39m\u001b[38;5;18m__name__\u001b[39m\u001b[38;5;132;01m}\u001b[39;00m\u001b[38;5;124m \u001b[39m\u001b[38;5;124m'\u001b[39m\n\u001b[1;32m    180\u001b[0m                     \u001b[38;5;124mf\u001b[39m\u001b[38;5;124m'\u001b[39m\u001b[38;5;124mis not JSON serializable\u001b[39m\u001b[38;5;124m'\u001b[39m)\n",
      "\u001b[0;31mTypeError\u001b[0m: Object of type type is not JSON serializable"
     ]
    }
   ],
   "source": [
    "import json\n",
    "with open(\"map_escher.json\", \"w\") as json_file:\n",
    "    json.dump(map, json_file, indent=4)"
   ]
  },
  {
   "cell_type": "code",
   "execution_count": null,
   "metadata": {},
   "outputs": [
    {
     "data": {
      "image/png": "[encoded data removed]",
      "text/plain": [
       "<Figure size 640x480 with 1 Axes>"
      ]
     },
     "metadata": {},
     "output_type": "display_data"
    }
   ],
   "source": [
    "momo.graphic_interface()"
   ]
  },
  {
   "cell_type": "code",
   "execution_count": null,
   "metadata": {},
   "outputs": [
    {
     "data": {
      "text/plain": [
       "        External  Concentration (mmol/gDW)\n",
       "meta_0      True                         1\n",
       "meta_1     False                         1\n",
       "meta_2     False                         1\n",
       "meta_3      True                         1"
      ]
     },
     "execution_count": 6,
     "metadata": {},
     "output_type": "execute_result"
    }
   ],
   "source": [
    "momo.metabolites"
   ]
  },
  {
   "cell_type": "code",
   "execution_count": null,
   "metadata": {},
   "outputs": [
    {
     "data": {
      "text/html": [
       "<div>\n",
       "<style scoped>\n",
       "    .dataframe tbody tr th:only-of-type {\n",
       "        vertical-align: middle;\n",
       "    }\n",
       "\n",
       "    .dataframe tbody tr th {\n",
       "        vertical-align: top;\n",
       "    }\n",
       "\n",
       "    .dataframe thead th {\n",
       "        text-align: right;\n",
       "    }\n",
       "</style>\n",
       "<table border=\"1\" class=\"dataframe\">\n",
       "  <thead>\n",
       "    <tr style=\"text-align: right;\">\n",
       "      <th></th>\n",
       "      <th>Concentration / Activity</th>\n",
       "      <th>Reactions linked</th>\n",
       "    </tr>\n",
       "  </thead>\n",
       "  <tbody>\n",
       "    <tr>\n",
       "      <th>enzyme_reaction_0</th>\n",
       "      <td>1</td>\n",
       "      <td>[reaction_0]</td>\n",
       "    </tr>\n",
       "    <tr>\n",
       "      <th>enzyme_reaction_1</th>\n",
       "      <td>1</td>\n",
       "      <td>[reaction_1]</td>\n",
       "    </tr>\n",
       "    <tr>\n",
       "      <th>enzyme_reaction_2</th>\n",
       "      <td>1</td>\n",
       "      <td>[reaction_2]</td>\n",
       "    </tr>\n",
       "  </tbody>\n",
       "</table>\n",
       "</div>"
      ],
      "text/plain": [
       "                   Concentration / Activity Reactions linked\n",
       "enzyme_reaction_0                         1     [reaction_0]\n",
       "enzyme_reaction_1                         1     [reaction_1]\n",
       "enzyme_reaction_2                         1     [reaction_2]"
      ]
     },
     "execution_count": 7,
     "metadata": {},
     "output_type": "execute_result"
    }
   ],
   "source": [
    "momo.enzymes.df"
   ]
  },
  {
   "cell_type": "code",
   "execution_count": null,
   "metadata": {},
   "outputs": [],
   "source": [
    "momo.operons.add(\"lactose\", [\"enzyme_reaction_0\", \"enzyme_reaction_1\"], 1.)"
   ]
  },
  {
   "cell_type": "code",
   "execution_count": null,
   "metadata": {},
   "outputs": [
    {
     "data": {
      "text/html": [
       "<div>\n",
       "<style scoped>\n",
       "    .dataframe tbody tr th:only-of-type {\n",
       "        vertical-align: middle;\n",
       "    }\n",
       "\n",
       "    .dataframe tbody tr th {\n",
       "        vertical-align: top;\n",
       "    }\n",
       "\n",
       "    .dataframe thead th {\n",
       "        text-align: right;\n",
       "    }\n",
       "</style>\n",
       "<table border=\"1\" class=\"dataframe\">\n",
       "  <thead>\n",
       "    <tr style=\"text-align: right;\">\n",
       "      <th></th>\n",
       "      <th>Enzymes linked</th>\n",
       "      <th>Mixed covariance</th>\n",
       "      <th>Activated</th>\n",
       "    </tr>\n",
       "  </thead>\n",
       "  <tbody>\n",
       "    <tr>\n",
       "      <th>lactose</th>\n",
       "      <td>[enzyme_reaction_0_para, enzyme_reaction_1_para]</td>\n",
       "      <td>1.0</td>\n",
       "      <td>True</td>\n",
       "    </tr>\n",
       "  </tbody>\n",
       "</table>\n",
       "</div>"
      ],
      "text/plain": [
       "                                           Enzymes linked  Mixed covariance  \\\n",
       "lactose  [enzyme_reaction_0_para, enzyme_reaction_1_para]               1.0   \n",
       "\n",
       "         Activated  \n",
       "lactose       True  "
      ]
     },
     "execution_count": 9,
     "metadata": {},
     "output_type": "execute_result"
    }
   ],
   "source": [
    "momo.operons.df"
   ]
  },
  {
   "cell_type": "code",
   "execution_count": null,
   "metadata": {},
   "outputs": [
    {
     "data": {
      "image/png": "[encoded data removed]",
      "text/plain": [
       "<Figure size 640x480 with 2 Axes>"
      ]
     },
     "metadata": {},
     "output_type": "display_data"
    },
    {
     "data": {
      "text/plain": [
       "(<Figure size 640x480 with 2 Axes>,\n",
       " <AxesSubplot: title={'center': 'Title'}>,\n",
       " <matplotlib.image.AxesImage at 0x7fd4916f80d0>)"
      ]
     },
     "execution_count": 10,
     "metadata": {},
     "output_type": "execute_result"
    }
   ],
   "source": [
    "\n",
    "momo.plot(result=\"cov\", title=\"Title\", label=True)"
   ]
  },
  {
   "cell_type": "markdown",
   "metadata": {},
   "source": [
    "### You can then begin the analysis of the model"
   ]
  },
  {
   "cell_type": "code",
   "execution_count": null,
   "metadata": {},
   "outputs": [
    {
     "name": "stderr",
     "output_type": "stream",
     "text": [
      "/home/alequertier/Documents/BadAss/Notebooks/../main.py:589: RuntimeWarning: divide by zero encountered in log\n",
      "  MI[i][j] = -0.5 * np.log(1 - self.__corelation[i][j] ** 2)\n"
     ]
    },
    {
     "data": {
      "text/html": [
       "<div>\n",
       "<style scoped>\n",
       "    .dataframe tbody tr th:only-of-type {\n",
       "        vertical-align: middle;\n",
       "    }\n",
       "\n",
       "    .dataframe tbody tr th {\n",
       "        vertical-align: top;\n",
       "    }\n",
       "\n",
       "    .dataframe thead th {\n",
       "        text-align: right;\n",
       "    }\n",
       "</style>\n",
       "<table border=\"1\" class=\"dataframe\">\n",
       "  <thead>\n",
       "    <tr style=\"text-align: right;\">\n",
       "      <th></th>\n",
       "      <th>enzyme_reaction_0_para</th>\n",
       "      <th>enzyme_reaction_1_para</th>\n",
       "      <th>enzyme_reaction_2_para</th>\n",
       "      <th>meta_0_para</th>\n",
       "      <th>meta_3_para</th>\n",
       "      <th>meta_1</th>\n",
       "      <th>meta_2</th>\n",
       "      <th>reaction_0</th>\n",
       "      <th>reaction_1</th>\n",
       "      <th>reaction_2</th>\n",
       "    </tr>\n",
       "  </thead>\n",
       "  <tbody>\n",
       "    <tr>\n",
       "      <th>enzyme_reaction_0_para</th>\n",
       "      <td>inf</td>\n",
       "      <td>-0.000000</td>\n",
       "      <td>-0.000000</td>\n",
       "      <td>-0.000000</td>\n",
       "      <td>-0.000000</td>\n",
       "      <td>0.401173</td>\n",
       "      <td>0.074210</td>\n",
       "      <td>0.168236</td>\n",
       "      <td>0.168236</td>\n",
       "      <td>0.168236</td>\n",
       "    </tr>\n",
       "    <tr>\n",
       "      <th>enzyme_reaction_1_para</th>\n",
       "      <td>-0.000000</td>\n",
       "      <td>inf</td>\n",
       "      <td>-0.000000</td>\n",
       "      <td>-0.000000</td>\n",
       "      <td>-0.000000</td>\n",
       "      <td>0.074210</td>\n",
       "      <td>0.074210</td>\n",
       "      <td>0.168236</td>\n",
       "      <td>0.168236</td>\n",
       "      <td>0.168236</td>\n",
       "    </tr>\n",
       "    <tr>\n",
       "      <th>enzyme_reaction_2_para</th>\n",
       "      <td>-0.000000</td>\n",
       "      <td>-0.000000</td>\n",
       "      <td>inf</td>\n",
       "      <td>-0.000000</td>\n",
       "      <td>-0.000000</td>\n",
       "      <td>0.074210</td>\n",
       "      <td>0.401173</td>\n",
       "      <td>0.168236</td>\n",
       "      <td>0.168236</td>\n",
       "      <td>0.168236</td>\n",
       "    </tr>\n",
       "    <tr>\n",
       "      <th>meta_0_para</th>\n",
       "      <td>-0.000000</td>\n",
       "      <td>-0.000000</td>\n",
       "      <td>-0.000000</td>\n",
       "      <td>inf</td>\n",
       "      <td>-0.000000</td>\n",
       "      <td>0.074210</td>\n",
       "      <td>0.017546</td>\n",
       "      <td>0.037054</td>\n",
       "      <td>0.037054</td>\n",
       "      <td>0.037054</td>\n",
       "    </tr>\n",
       "    <tr>\n",
       "      <th>meta_3_para</th>\n",
       "      <td>-0.000000</td>\n",
       "      <td>-0.000000</td>\n",
       "      <td>-0.000000</td>\n",
       "      <td>-0.000000</td>\n",
       "      <td>inf</td>\n",
       "      <td>0.017546</td>\n",
       "      <td>0.074210</td>\n",
       "      <td>0.037054</td>\n",
       "      <td>0.037054</td>\n",
       "      <td>0.037054</td>\n",
       "    </tr>\n",
       "    <tr>\n",
       "      <th>meta_1</th>\n",
       "      <td>0.401173</td>\n",
       "      <td>0.074210</td>\n",
       "      <td>0.074210</td>\n",
       "      <td>0.074210</td>\n",
       "      <td>0.017546</td>\n",
       "      <td>inf</td>\n",
       "      <td>0.181490</td>\n",
       "      <td>0.001233</td>\n",
       "      <td>0.001233</td>\n",
       "      <td>0.001233</td>\n",
       "    </tr>\n",
       "    <tr>\n",
       "      <th>meta_2</th>\n",
       "      <td>0.074210</td>\n",
       "      <td>0.074210</td>\n",
       "      <td>0.401173</td>\n",
       "      <td>0.017546</td>\n",
       "      <td>0.074210</td>\n",
       "      <td>0.181490</td>\n",
       "      <td>inf</td>\n",
       "      <td>0.001233</td>\n",
       "      <td>0.001233</td>\n",
       "      <td>0.001233</td>\n",
       "    </tr>\n",
       "    <tr>\n",
       "      <th>reaction_0</th>\n",
       "      <td>0.168236</td>\n",
       "      <td>0.168236</td>\n",
       "      <td>0.168236</td>\n",
       "      <td>0.037054</td>\n",
       "      <td>0.037054</td>\n",
       "      <td>0.001233</td>\n",
       "      <td>0.001233</td>\n",
       "      <td>inf</td>\n",
       "      <td>inf</td>\n",
       "      <td>inf</td>\n",
       "    </tr>\n",
       "    <tr>\n",
       "      <th>reaction_1</th>\n",
       "      <td>0.168236</td>\n",
       "      <td>0.168236</td>\n",
       "      <td>0.168236</td>\n",
       "      <td>0.037054</td>\n",
       "      <td>0.037054</td>\n",
       "      <td>0.001233</td>\n",
       "      <td>0.001233</td>\n",
       "      <td>inf</td>\n",
       "      <td>inf</td>\n",
       "      <td>18.021827</td>\n",
       "    </tr>\n",
       "    <tr>\n",
       "      <th>reaction_2</th>\n",
       "      <td>0.168236</td>\n",
       "      <td>0.168236</td>\n",
       "      <td>0.168236</td>\n",
       "      <td>0.037054</td>\n",
       "      <td>0.037054</td>\n",
       "      <td>0.001233</td>\n",
       "      <td>0.001233</td>\n",
       "      <td>inf</td>\n",
       "      <td>18.021827</td>\n",
       "      <td>inf</td>\n",
       "    </tr>\n",
       "  </tbody>\n",
       "</table>\n",
       "</div>"
      ],
      "text/plain": [
       "                        enzyme_reaction_0_para  enzyme_reaction_1_para  \\\n",
       "enzyme_reaction_0_para                     inf               -0.000000   \n",
       "enzyme_reaction_1_para               -0.000000                     inf   \n",
       "enzyme_reaction_2_para               -0.000000               -0.000000   \n",
       "meta_0_para                          -0.000000               -0.000000   \n",
       "meta_3_para                          -0.000000               -0.000000   \n",
       "meta_1                                0.401173                0.074210   \n",
       "meta_2                                0.074210                0.074210   \n",
       "reaction_0                            0.168236                0.168236   \n",
       "reaction_1                            0.168236                0.168236   \n",
       "reaction_2                            0.168236                0.168236   \n",
       "\n",
       "                        enzyme_reaction_2_para  meta_0_para  meta_3_para  \\\n",
       "enzyme_reaction_0_para               -0.000000    -0.000000    -0.000000   \n",
       "enzyme_reaction_1_para               -0.000000    -0.000000    -0.000000   \n",
       "enzyme_reaction_2_para                     inf    -0.000000    -0.000000   \n",
       "meta_0_para                          -0.000000          inf    -0.000000   \n",
       "meta_3_para                          -0.000000    -0.000000          inf   \n",
       "meta_1                                0.074210     0.074210     0.017546   \n",
       "meta_2                                0.401173     0.017546     0.074210   \n",
       "reaction_0                            0.168236     0.037054     0.037054   \n",
       "reaction_1                            0.168236     0.037054     0.037054   \n",
       "reaction_2                            0.168236     0.037054     0.037054   \n",
       "\n",
       "                          meta_1    meta_2  reaction_0  reaction_1  reaction_2  \n",
       "enzyme_reaction_0_para  0.401173  0.074210    0.168236    0.168236    0.168236  \n",
       "enzyme_reaction_1_para  0.074210  0.074210    0.168236    0.168236    0.168236  \n",
       "enzyme_reaction_2_para  0.074210  0.401173    0.168236    0.168236    0.168236  \n",
       "meta_0_para             0.074210  0.017546    0.037054    0.037054    0.037054  \n",
       "meta_3_para             0.017546  0.074210    0.037054    0.037054    0.037054  \n",
       "meta_1                       inf  0.181490    0.001233    0.001233    0.001233  \n",
       "meta_2                  0.181490       inf    0.001233    0.001233    0.001233  \n",
       "reaction_0              0.001233  0.001233         inf         inf         inf  \n",
       "reaction_1              0.001233  0.001233         inf         inf   18.021827  \n",
       "reaction_2              0.001233  0.001233         inf   18.021827         inf  "
      ]
     },
     "execution_count": 11,
     "metadata": {},
     "output_type": "execute_result"
    }
   ],
   "source": [
    "momo.MI"
   ]
  },
  {
   "cell_type": "code",
   "execution_count": null,
   "metadata": {},
   "outputs": [
    {
     "data": {
      "image/png": "[encoded data removed]",
      "text/plain": [
       "<Figure size 640x480 with 2 Axes>"
      ]
     },
     "metadata": {},
     "output_type": "display_data"
    },
    {
     "data": {
      "text/plain": [
       "(<Figure size 640x480 with 2 Axes>,\n",
       " <AxesSubplot: title={'center': 'Mutual information'}>,\n",
       " <matplotlib.image.AxesImage at 0x7fd49160c610>)"
      ]
     },
     "execution_count": 12,
     "metadata": {},
     "output_type": "execute_result"
    }
   ],
   "source": [
    "momo.plot(result=\"MI\")"
   ]
  },
  {
   "cell_type": "markdown",
   "metadata": {},
   "source": [
    "### You can add regulation arrows"
   ]
  },
  {
   "cell_type": "code",
   "execution_count": null,
   "metadata": {},
   "outputs": [
    {
     "data": {
      "text/html": [
       "<div>\n",
       "<style scoped>\n",
       "    .dataframe tbody tr th:only-of-type {\n",
       "        vertical-align: middle;\n",
       "    }\n",
       "\n",
       "    .dataframe tbody tr th {\n",
       "        vertical-align: top;\n",
       "    }\n",
       "\n",
       "    .dataframe thead th {\n",
       "        text-align: right;\n",
       "    }\n",
       "</style>\n",
       "<table border=\"1\" class=\"dataframe\">\n",
       "  <thead>\n",
       "    <tr style=\"text-align: right;\">\n",
       "      <th></th>\n",
       "      <th>Metabolites</th>\n",
       "      <th>Equilibrium constant</th>\n",
       "      <th>Reversible</th>\n",
       "      <th>Flux (mmol/gDW/h)</th>\n",
       "    </tr>\n",
       "  </thead>\n",
       "  <tbody>\n",
       "    <tr>\n",
       "      <th>reaction_0</th>\n",
       "      <td>{'meta_0': -1, 'meta_1': 1}</td>\n",
       "      <td>1.0</td>\n",
       "      <td></td>\n",
       "      <td>1</td>\n",
       "    </tr>\n",
       "    <tr>\n",
       "      <th>reaction_1</th>\n",
       "      <td>{'meta_1': -1, 'meta_2': 1}</td>\n",
       "      <td>1.0</td>\n",
       "      <td></td>\n",
       "      <td>1</td>\n",
       "    </tr>\n",
       "    <tr>\n",
       "      <th>reaction_2</th>\n",
       "      <td>{'meta_2': -1, 'meta_3': 1}</td>\n",
       "      <td>1.0</td>\n",
       "      <td></td>\n",
       "      <td>1</td>\n",
       "    </tr>\n",
       "  </tbody>\n",
       "</table>\n",
       "</div>"
      ],
      "text/plain": [
       "                            Metabolites  Equilibrium constant Reversible  \\\n",
       "reaction_0  {'meta_0': -1, 'meta_1': 1}                   1.0              \n",
       "reaction_1  {'meta_1': -1, 'meta_2': 1}                   1.0              \n",
       "reaction_2  {'meta_2': -1, 'meta_3': 1}                   1.0              \n",
       "\n",
       "            Flux (mmol/gDW/h)  \n",
       "reaction_0                  1  \n",
       "reaction_1                  1  \n",
       "reaction_2                  1  "
      ]
     },
     "execution_count": 13,
     "metadata": {},
     "output_type": "execute_result"
    }
   ],
   "source": [
    "momo.reactions.df"
   ]
  },
  {
   "cell_type": "markdown",
   "metadata": {},
   "source": [
    "#### Exernite metabolite too ?"
   ]
  },
  {
   "cell_type": "code",
   "execution_count": null,
   "metadata": {},
   "outputs": [],
   "source": [
    "momo.regulations.add(name=\"regu_alo\", regulated=\"reaction_1\", regulator=\"meta_2\", allosteric=True)"
   ]
  },
  {
   "cell_type": "code",
   "execution_count": null,
   "metadata": {},
   "outputs": [],
   "source": [
    "momo.regulations.add(name=\"regu_transcri\", regulated=\"reaction_1\", regulator=\"meta_2\", allosteric=False)"
   ]
  },
  {
   "cell_type": "code",
   "execution_count": null,
   "metadata": {},
   "outputs": [
    {
     "data": {
      "text/html": [
       "<div>\n",
       "<style scoped>\n",
       "    .dataframe tbody tr th:only-of-type {\n",
       "        vertical-align: middle;\n",
       "    }\n",
       "\n",
       "    .dataframe tbody tr th {\n",
       "        vertical-align: top;\n",
       "    }\n",
       "\n",
       "    .dataframe thead th {\n",
       "        text-align: right;\n",
       "    }\n",
       "</style>\n",
       "<table border=\"1\" class=\"dataframe\">\n",
       "  <thead>\n",
       "    <tr style=\"text-align: right;\">\n",
       "      <th></th>\n",
       "      <th>Regulated flux</th>\n",
       "      <th>Regulator</th>\n",
       "      <th>Coefficient of regulation</th>\n",
       "      <th>Type regulation</th>\n",
       "      <th>Activated</th>\n",
       "    </tr>\n",
       "  </thead>\n",
       "  <tbody>\n",
       "    <tr>\n",
       "      <th>regu_alo</th>\n",
       "      <td>reaction_1</td>\n",
       "      <td>meta_2</td>\n",
       "      <td>1</td>\n",
       "      <td>allosteric</td>\n",
       "      <td>True</td>\n",
       "    </tr>\n",
       "    <tr>\n",
       "      <th>regu_transcri</th>\n",
       "      <td>reaction_1</td>\n",
       "      <td>meta_2</td>\n",
       "      <td>1</td>\n",
       "      <td>transcriptional</td>\n",
       "      <td>True</td>\n",
       "    </tr>\n",
       "  </tbody>\n",
       "</table>\n",
       "</div>"
      ],
      "text/plain": [
       "              Regulated flux Regulator  Coefficient of regulation  \\\n",
       "regu_alo          reaction_1    meta_2                          1   \n",
       "regu_transcri     reaction_1    meta_2                          1   \n",
       "\n",
       "               Type regulation  Activated  \n",
       "regu_alo            allosteric       True  \n",
       "regu_transcri  transcriptional       True  "
      ]
     },
     "execution_count": 16,
     "metadata": {},
     "output_type": "execute_result"
    }
   ],
   "source": [
    "momo.regulations.df"
   ]
  },
  {
   "cell_type": "markdown",
   "metadata": {},
   "source": [
    "#### You can also study periodic perturbation"
   ]
  },
  {
   "cell_type": "code",
   "execution_count": null,
   "metadata": {},
   "outputs": [],
   "source": [
    "momo.frequency_omega = 1.0"
   ]
  },
  {
   "cell_type": "code",
   "execution_count": null,
   "metadata": {},
   "outputs": [
    {
     "data": {
      "text/html": [
       "<div>\n",
       "<style scoped>\n",
       "    .dataframe tbody tr th:only-of-type {\n",
       "        vertical-align: middle;\n",
       "    }\n",
       "\n",
       "    .dataframe tbody tr th {\n",
       "        vertical-align: top;\n",
       "    }\n",
       "\n",
       "    .dataframe thead th {\n",
       "        text-align: right;\n",
       "    }\n",
       "</style>\n",
       "<table border=\"1\" class=\"dataframe\">\n",
       "  <thead>\n",
       "    <tr style=\"text-align: right;\">\n",
       "      <th></th>\n",
       "      <th>meta_1</th>\n",
       "      <th>meta_2</th>\n",
       "      <th>enzyme_regu_transcri</th>\n",
       "    </tr>\n",
       "  </thead>\n",
       "  <tbody>\n",
       "    <tr>\n",
       "      <th>meta_1</th>\n",
       "      <td>-1.000000e+00-1.000000e+00j</td>\n",
       "      <td>-0.5+0.0j</td>\n",
       "      <td>0.0+0.0j</td>\n",
       "    </tr>\n",
       "    <tr>\n",
       "      <th>meta_2</th>\n",
       "      <td>5.000000e-01+0.000000e+00j</td>\n",
       "      <td>-0.0-1.0j</td>\n",
       "      <td>0.0+0.0j</td>\n",
       "    </tr>\n",
       "    <tr>\n",
       "      <th>enzyme_regu_transcri</th>\n",
       "      <td>2.775558e-16+0.000000e+00j</td>\n",
       "      <td>1.0+0.0j</td>\n",
       "      <td>0.0-1.0j</td>\n",
       "    </tr>\n",
       "  </tbody>\n",
       "</table>\n",
       "</div>"
      ],
      "text/plain": [
       "                                          meta_1    meta_2  \\\n",
       "meta_1               -1.000000e+00-1.000000e+00j -0.5+0.0j   \n",
       "meta_2                5.000000e-01+0.000000e+00j -0.0-1.0j   \n",
       "enzyme_regu_transcri  2.775558e-16+0.000000e+00j  1.0+0.0j   \n",
       "\n",
       "                      enzyme_regu_transcri  \n",
       "meta_1                            0.0+0.0j  \n",
       "meta_2                            0.0+0.0j  \n",
       "enzyme_regu_transcri              0.0-1.0j  "
      ]
     },
     "execution_count": 18,
     "metadata": {},
     "output_type": "execute_result"
    }
   ],
   "source": [
    "momo.Jacobian"
   ]
  },
  {
   "cell_type": "markdown",
   "metadata": {},
   "source": [
    "#### You can also study temporal control coefficients"
   ]
  },
  {
   "cell_type": "code",
   "execution_count": null,
   "metadata": {},
   "outputs": [],
   "source": [
    "momo.frequency_omega = 0.0"
   ]
  },
  {
   "cell_type": "code",
   "execution_count": null,
   "metadata": {},
   "outputs": [
    {
     "data": {
      "text/plain": [
       "array([[ 0.55972788, -0.83374146,  0.27401359, -0.02340139,  0.02340139],\n",
       "       [-0.22246844,  0.38406222, -0.16159378, -0.20143823,  0.20143823],\n",
       "       [-0.22958199,  0.13123405,  0.09834793,  0.85255571, -0.85255571]])"
      ]
     },
     "execution_count": 20,
     "metadata": {},
     "output_type": "execute_result"
    }
   ],
   "source": [
    "momo.temporal_C_s_p(t=1)"
   ]
  },
  {
   "cell_type": "code",
   "execution_count": null,
   "metadata": {},
   "outputs": [
    {
     "data": {
      "text/plain": [
       "array([[ 0.55972788, -0.83374146,  0.27401359,  0.27986394, -0.13700679],\n",
       "       [-0.22246844,  0.38406222, -0.16159378, -0.11123422,  0.08079689],\n",
       "       [-0.22958199,  0.13123405,  0.09834793, -0.11479099, -0.04917397]])"
      ]
     },
     "execution_count": 21,
     "metadata": {},
     "output_type": "execute_result"
    }
   ],
   "source": [
    "momo.temporal_R_s_p(t=1)"
   ]
  },
  {
   "cell_type": "markdown",
   "metadata": {},
   "source": [
    "#### Thermodynamic sampling of the elsaticity coefficient"
   ]
  },
  {
   "cell_type": "code",
   "execution_count": null,
   "metadata": {},
   "outputs": [],
   "source": [
    "momo.elasticity.s.fill_sub_elasticity()"
   ]
  },
  {
   "cell_type": "code",
   "execution_count": null,
   "metadata": {},
   "outputs": [
    {
     "data": {
      "text/html": [
       "<div>\n",
       "<style scoped>\n",
       "    .dataframe tbody tr th:only-of-type {\n",
       "        vertical-align: middle;\n",
       "    }\n",
       "\n",
       "    .dataframe tbody tr th {\n",
       "        vertical-align: top;\n",
       "    }\n",
       "\n",
       "    .dataframe thead th {\n",
       "        text-align: right;\n",
       "    }\n",
       "</style>\n",
       "<table border=\"1\" class=\"dataframe\">\n",
       "  <thead>\n",
       "    <tr style=\"text-align: right;\">\n",
       "      <th></th>\n",
       "      <th>meta_1</th>\n",
       "      <th>meta_2</th>\n",
       "      <th>enzyme_regu_transcri</th>\n",
       "    </tr>\n",
       "  </thead>\n",
       "  <tbody>\n",
       "    <tr>\n",
       "      <th>reaction_0</th>\n",
       "      <td>0.006612</td>\n",
       "      <td>-0.368365</td>\n",
       "      <td>0.372220</td>\n",
       "    </tr>\n",
       "    <tr>\n",
       "      <th>reaction_1</th>\n",
       "      <td>-0.227309</td>\n",
       "      <td>-0.119231</td>\n",
       "      <td>-0.430639</td>\n",
       "    </tr>\n",
       "    <tr>\n",
       "      <th>reaction_2</th>\n",
       "      <td>-0.299563</td>\n",
       "      <td>0.378224</td>\n",
       "      <td>-0.174140</td>\n",
       "    </tr>\n",
       "    <tr>\n",
       "      <th>creation_regu_transcri</th>\n",
       "      <td>0.304090</td>\n",
       "      <td>0.474421</td>\n",
       "      <td>-0.267132</td>\n",
       "    </tr>\n",
       "    <tr>\n",
       "      <th>destruction_regu_transcri</th>\n",
       "      <td>-0.358525</td>\n",
       "      <td>-0.085798</td>\n",
       "      <td>0.028326</td>\n",
       "    </tr>\n",
       "  </tbody>\n",
       "</table>\n",
       "</div>"
      ],
      "text/plain": [
       "                             meta_1    meta_2  enzyme_regu_transcri\n",
       "reaction_0                 0.006612 -0.368365              0.372220\n",
       "reaction_1                -0.227309 -0.119231             -0.430639\n",
       "reaction_2                -0.299563  0.378224             -0.174140\n",
       "creation_regu_transcri     0.304090  0.474421             -0.267132\n",
       "destruction_regu_transcri -0.358525 -0.085798              0.028326"
      ]
     },
     "execution_count": 23,
     "metadata": {},
     "output_type": "execute_result"
    }
   ],
   "source": [
    "momo.elasticity.s.df"
   ]
  },
  {
   "cell_type": "markdown",
   "metadata": {},
   "source": [
    "#### It is possible to study group of variable"
   ]
  },
  {
   "cell_type": "code",
   "execution_count": null,
   "metadata": {},
   "outputs": [
    {
     "data": {
      "text/html": [
       "<div>\n",
       "<style scoped>\n",
       "    .dataframe tbody tr th:only-of-type {\n",
       "        vertical-align: middle;\n",
       "    }\n",
       "\n",
       "    .dataframe tbody tr th {\n",
       "        vertical-align: top;\n",
       "    }\n",
       "\n",
       "    .dataframe thead th {\n",
       "        text-align: right;\n",
       "    }\n",
       "</style>\n",
       "<table border=\"1\" class=\"dataframe\">\n",
       "  <thead>\n",
       "    <tr style=\"text-align: right;\">\n",
       "      <th></th>\n",
       "      <th>enzyme_reaction_0_para</th>\n",
       "      <th>enzyme_reaction_1_para</th>\n",
       "      <th>enzyme_reaction_2_para</th>\n",
       "      <th>meta_0_para</th>\n",
       "      <th>meta_3_para</th>\n",
       "      <th>meta_1</th>\n",
       "      <th>meta_2</th>\n",
       "      <th>enzyme_regu_transcri</th>\n",
       "      <th>reaction_0</th>\n",
       "      <th>reaction_1</th>\n",
       "      <th>reaction_2</th>\n",
       "      <th>creation_regu_transcri</th>\n",
       "      <th>destruction_regu_transcri</th>\n",
       "    </tr>\n",
       "  </thead>\n",
       "  <tbody>\n",
       "    <tr>\n",
       "      <th>enzyme_reaction_0_para</th>\n",
       "      <td>1.000000</td>\n",
       "      <td>1.000000</td>\n",
       "      <td>0.000000</td>\n",
       "      <td>0.000000</td>\n",
       "      <td>0.000000</td>\n",
       "      <td>-0.935378</td>\n",
       "      <td>1.494693</td>\n",
       "      <td>0.736349</td>\n",
       "      <td>0.717306</td>\n",
       "      <td>0.717306</td>\n",
       "      <td>0.717306</td>\n",
       "      <td>0.227972</td>\n",
       "      <td>0.227972</td>\n",
       "    </tr>\n",
       "    <tr>\n",
       "      <th>enzyme_reaction_1_para</th>\n",
       "      <td>1.000000</td>\n",
       "      <td>1.000000</td>\n",
       "      <td>0.000000</td>\n",
       "      <td>0.000000</td>\n",
       "      <td>0.000000</td>\n",
       "      <td>-0.935378</td>\n",
       "      <td>1.494693</td>\n",
       "      <td>0.736349</td>\n",
       "      <td>0.717306</td>\n",
       "      <td>0.717306</td>\n",
       "      <td>0.717306</td>\n",
       "      <td>0.227972</td>\n",
       "      <td>0.227972</td>\n",
       "    </tr>\n",
       "    <tr>\n",
       "      <th>enzyme_reaction_2_para</th>\n",
       "      <td>0.000000</td>\n",
       "      <td>0.000000</td>\n",
       "      <td>1.000000</td>\n",
       "      <td>0.000000</td>\n",
       "      <td>0.000000</td>\n",
       "      <td>0.935378</td>\n",
       "      <td>-1.494693</td>\n",
       "      <td>-0.736349</td>\n",
       "      <td>0.282694</td>\n",
       "      <td>0.282694</td>\n",
       "      <td>0.282694</td>\n",
       "      <td>-0.227972</td>\n",
       "      <td>-0.227972</td>\n",
       "    </tr>\n",
       "    <tr>\n",
       "      <th>meta_0_para</th>\n",
       "      <td>0.000000</td>\n",
       "      <td>0.000000</td>\n",
       "      <td>0.000000</td>\n",
       "      <td>1.000000</td>\n",
       "      <td>0.000000</td>\n",
       "      <td>-0.361393</td>\n",
       "      <td>0.184769</td>\n",
       "      <td>-0.460144</td>\n",
       "      <td>0.258273</td>\n",
       "      <td>0.258273</td>\n",
       "      <td>0.258273</td>\n",
       "      <td>0.100681</td>\n",
       "      <td>0.100681</td>\n",
       "    </tr>\n",
       "    <tr>\n",
       "      <th>meta_3_para</th>\n",
       "      <td>0.000000</td>\n",
       "      <td>0.000000</td>\n",
       "      <td>0.000000</td>\n",
       "      <td>0.000000</td>\n",
       "      <td>1.000000</td>\n",
       "      <td>-0.467689</td>\n",
       "      <td>0.747346</td>\n",
       "      <td>0.368174</td>\n",
       "      <td>-0.141347</td>\n",
       "      <td>-0.141347</td>\n",
       "      <td>-0.141347</td>\n",
       "      <td>0.113986</td>\n",
       "      <td>0.113986</td>\n",
       "    </tr>\n",
       "    <tr>\n",
       "      <th>meta_1</th>\n",
       "      <td>-0.935378</td>\n",
       "      <td>-0.935378</td>\n",
       "      <td>0.935378</td>\n",
       "      <td>-0.361393</td>\n",
       "      <td>-0.467689</td>\n",
       "      <td>2.099203</td>\n",
       "      <td>-3.212507</td>\n",
       "      <td>-1.383428</td>\n",
       "      <td>-0.433758</td>\n",
       "      <td>-0.433758</td>\n",
       "      <td>-0.433758</td>\n",
       "      <td>-0.516176</td>\n",
       "      <td>-0.516176</td>\n",
       "    </tr>\n",
       "    <tr>\n",
       "      <th>meta_2</th>\n",
       "      <td>1.494693</td>\n",
       "      <td>1.494693</td>\n",
       "      <td>-1.494693</td>\n",
       "      <td>0.184769</td>\n",
       "      <td>0.747346</td>\n",
       "      <td>-3.212507</td>\n",
       "      <td>5.060880</td>\n",
       "      <td>2.391364</td>\n",
       "      <td>0.591697</td>\n",
       "      <td>0.591697</td>\n",
       "      <td>0.591697</td>\n",
       "      <td>0.785286</td>\n",
       "      <td>0.785286</td>\n",
       "    </tr>\n",
       "    <tr>\n",
       "      <th>enzyme_regu_transcri</th>\n",
       "      <td>0.736349</td>\n",
       "      <td>0.736349</td>\n",
       "      <td>-0.736349</td>\n",
       "      <td>-0.460144</td>\n",
       "      <td>0.368174</td>\n",
       "      <td>-1.383428</td>\n",
       "      <td>2.391364</td>\n",
       "      <td>1.431704</td>\n",
       "      <td>0.149143</td>\n",
       "      <td>0.149143</td>\n",
       "      <td>0.149143</td>\n",
       "      <td>0.331373</td>\n",
       "      <td>0.331373</td>\n",
       "    </tr>\n",
       "    <tr>\n",
       "      <th>reaction_0</th>\n",
       "      <td>0.717306</td>\n",
       "      <td>0.717306</td>\n",
       "      <td>0.282694</td>\n",
       "      <td>0.258273</td>\n",
       "      <td>-0.141347</td>\n",
       "      <td>-0.433758</td>\n",
       "      <td>0.591697</td>\n",
       "      <td>0.149143</td>\n",
       "      <td>0.681128</td>\n",
       "      <td>0.681128</td>\n",
       "      <td>0.681128</td>\n",
       "      <td>0.108971</td>\n",
       "      <td>0.108971</td>\n",
       "    </tr>\n",
       "    <tr>\n",
       "      <th>reaction_1</th>\n",
       "      <td>0.717306</td>\n",
       "      <td>0.717306</td>\n",
       "      <td>0.282694</td>\n",
       "      <td>0.258273</td>\n",
       "      <td>-0.141347</td>\n",
       "      <td>-0.433758</td>\n",
       "      <td>0.591697</td>\n",
       "      <td>0.149143</td>\n",
       "      <td>0.681128</td>\n",
       "      <td>0.681128</td>\n",
       "      <td>0.681128</td>\n",
       "      <td>0.108971</td>\n",
       "      <td>0.108971</td>\n",
       "    </tr>\n",
       "    <tr>\n",
       "      <th>reaction_2</th>\n",
       "      <td>0.717306</td>\n",
       "      <td>0.717306</td>\n",
       "      <td>0.282694</td>\n",
       "      <td>0.258273</td>\n",
       "      <td>-0.141347</td>\n",
       "      <td>-0.433758</td>\n",
       "      <td>0.591697</td>\n",
       "      <td>0.149143</td>\n",
       "      <td>0.681128</td>\n",
       "      <td>0.681128</td>\n",
       "      <td>0.681128</td>\n",
       "      <td>0.108971</td>\n",
       "      <td>0.108971</td>\n",
       "    </tr>\n",
       "    <tr>\n",
       "      <th>creation_regu_transcri</th>\n",
       "      <td>0.227972</td>\n",
       "      <td>0.227972</td>\n",
       "      <td>-0.227972</td>\n",
       "      <td>0.100681</td>\n",
       "      <td>0.113986</td>\n",
       "      <td>-0.516176</td>\n",
       "      <td>0.785286</td>\n",
       "      <td>0.331373</td>\n",
       "      <td>0.108971</td>\n",
       "      <td>0.108971</td>\n",
       "      <td>0.108971</td>\n",
       "      <td>0.127072</td>\n",
       "      <td>0.127072</td>\n",
       "    </tr>\n",
       "    <tr>\n",
       "      <th>destruction_regu_transcri</th>\n",
       "      <td>0.227972</td>\n",
       "      <td>0.227972</td>\n",
       "      <td>-0.227972</td>\n",
       "      <td>0.100681</td>\n",
       "      <td>0.113986</td>\n",
       "      <td>-0.516176</td>\n",
       "      <td>0.785286</td>\n",
       "      <td>0.331373</td>\n",
       "      <td>0.108971</td>\n",
       "      <td>0.108971</td>\n",
       "      <td>0.108971</td>\n",
       "      <td>0.127072</td>\n",
       "      <td>0.127072</td>\n",
       "    </tr>\n",
       "  </tbody>\n",
       "</table>\n",
       "</div>"
      ],
      "text/plain": [
       "                           enzyme_reaction_0_para  enzyme_reaction_1_para  \\\n",
       "enzyme_reaction_0_para                   1.000000                1.000000   \n",
       "enzyme_reaction_1_para                   1.000000                1.000000   \n",
       "enzyme_reaction_2_para                   0.000000                0.000000   \n",
       "meta_0_para                              0.000000                0.000000   \n",
       "meta_3_para                              0.000000                0.000000   \n",
       "meta_1                                  -0.935378               -0.935378   \n",
       "meta_2                                   1.494693                1.494693   \n",
       "enzyme_regu_transcri                     0.736349                0.736349   \n",
       "reaction_0                               0.717306                0.717306   \n",
       "reaction_1                               0.717306                0.717306   \n",
       "reaction_2                               0.717306                0.717306   \n",
       "creation_regu_transcri                   0.227972                0.227972   \n",
       "destruction_regu_transcri                0.227972                0.227972   \n",
       "\n",
       "                           enzyme_reaction_2_para  meta_0_para  meta_3_para  \\\n",
       "enzyme_reaction_0_para                   0.000000     0.000000     0.000000   \n",
       "enzyme_reaction_1_para                   0.000000     0.000000     0.000000   \n",
       "enzyme_reaction_2_para                   1.000000     0.000000     0.000000   \n",
       "meta_0_para                              0.000000     1.000000     0.000000   \n",
       "meta_3_para                              0.000000     0.000000     1.000000   \n",
       "meta_1                                   0.935378    -0.361393    -0.467689   \n",
       "meta_2                                  -1.494693     0.184769     0.747346   \n",
       "enzyme_regu_transcri                    -0.736349    -0.460144     0.368174   \n",
       "reaction_0                               0.282694     0.258273    -0.141347   \n",
       "reaction_1                               0.282694     0.258273    -0.141347   \n",
       "reaction_2                               0.282694     0.258273    -0.141347   \n",
       "creation_regu_transcri                  -0.227972     0.100681     0.113986   \n",
       "destruction_regu_transcri               -0.227972     0.100681     0.113986   \n",
       "\n",
       "                             meta_1    meta_2  enzyme_regu_transcri  \\\n",
       "enzyme_reaction_0_para    -0.935378  1.494693              0.736349   \n",
       "enzyme_reaction_1_para    -0.935378  1.494693              0.736349   \n",
       "enzyme_reaction_2_para     0.935378 -1.494693             -0.736349   \n",
       "meta_0_para               -0.361393  0.184769             -0.460144   \n",
       "meta_3_para               -0.467689  0.747346              0.368174   \n",
       "meta_1                     2.099203 -3.212507             -1.383428   \n",
       "meta_2                    -3.212507  5.060880              2.391364   \n",
       "enzyme_regu_transcri      -1.383428  2.391364              1.431704   \n",
       "reaction_0                -0.433758  0.591697              0.149143   \n",
       "reaction_1                -0.433758  0.591697              0.149143   \n",
       "reaction_2                -0.433758  0.591697              0.149143   \n",
       "creation_regu_transcri    -0.516176  0.785286              0.331373   \n",
       "destruction_regu_transcri -0.516176  0.785286              0.331373   \n",
       "\n",
       "                           reaction_0  reaction_1  reaction_2  \\\n",
       "enzyme_reaction_0_para       0.717306    0.717306    0.717306   \n",
       "enzyme_reaction_1_para       0.717306    0.717306    0.717306   \n",
       "enzyme_reaction_2_para       0.282694    0.282694    0.282694   \n",
       "meta_0_para                  0.258273    0.258273    0.258273   \n",
       "meta_3_para                 -0.141347   -0.141347   -0.141347   \n",
       "meta_1                      -0.433758   -0.433758   -0.433758   \n",
       "meta_2                       0.591697    0.591697    0.591697   \n",
       "enzyme_regu_transcri         0.149143    0.149143    0.149143   \n",
       "reaction_0                   0.681128    0.681128    0.681128   \n",
       "reaction_1                   0.681128    0.681128    0.681128   \n",
       "reaction_2                   0.681128    0.681128    0.681128   \n",
       "creation_regu_transcri       0.108971    0.108971    0.108971   \n",
       "destruction_regu_transcri    0.108971    0.108971    0.108971   \n",
       "\n",
       "                           creation_regu_transcri  destruction_regu_transcri  \n",
       "enzyme_reaction_0_para                   0.227972                   0.227972  \n",
       "enzyme_reaction_1_para                   0.227972                   0.227972  \n",
       "enzyme_reaction_2_para                  -0.227972                  -0.227972  \n",
       "meta_0_para                              0.100681                   0.100681  \n",
       "meta_3_para                              0.113986                   0.113986  \n",
       "meta_1                                  -0.516176                  -0.516176  \n",
       "meta_2                                   0.785286                   0.785286  \n",
       "enzyme_regu_transcri                     0.331373                   0.331373  \n",
       "reaction_0                               0.108971                   0.108971  \n",
       "reaction_1                               0.108971                   0.108971  \n",
       "reaction_2                               0.108971                   0.108971  \n",
       "creation_regu_transcri                   0.127072                   0.127072  \n",
       "destruction_regu_transcri                0.127072                   0.127072  "
      ]
     },
     "execution_count": 24,
     "metadata": {},
     "output_type": "execute_result"
    }
   ],
   "source": [
    "momo.covariance"
   ]
  },
  {
   "cell_type": "code",
   "execution_count": null,
   "metadata": {},
   "outputs": [
    {
     "data": {
      "text/html": [
       "<div>\n",
       "<style scoped>\n",
       "    .dataframe tbody tr th:only-of-type {\n",
       "        vertical-align: middle;\n",
       "    }\n",
       "\n",
       "    .dataframe tbody tr th {\n",
       "        vertical-align: top;\n",
       "    }\n",
       "\n",
       "    .dataframe thead th {\n",
       "        text-align: right;\n",
       "    }\n",
       "</style>\n",
       "<table border=\"1\" class=\"dataframe\">\n",
       "  <thead>\n",
       "    <tr style=\"text-align: right;\">\n",
       "      <th></th>\n",
       "      <th>0</th>\n",
       "      <th>1</th>\n",
       "    </tr>\n",
       "  </thead>\n",
       "  <tbody>\n",
       "    <tr>\n",
       "      <th>0</th>\n",
       "      <td>inf</td>\n",
       "      <td>0.175037</td>\n",
       "    </tr>\n",
       "    <tr>\n",
       "      <th>1</th>\n",
       "      <td>0.175037</td>\n",
       "      <td>inf</td>\n",
       "    </tr>\n",
       "  </tbody>\n",
       "</table>\n",
       "</div>"
      ],
      "text/plain": [
       "          0         1\n",
       "0       inf  0.175037\n",
       "1  0.175037       inf"
      ]
     },
     "execution_count": 25,
     "metadata": {},
     "output_type": "execute_result"
    }
   ],
   "source": [
    "momo.group_MI(groups=[[\"meta_1\", \"reaction_0\"],[\"meta_3_para\",\"meta_0_para\"]])"
   ]
  },
  {
   "cell_type": "markdown",
   "metadata": {},
   "source": [
    "#### We can also fix value"
   ]
  },
  {
   "cell_type": "code",
   "execution_count": null,
   "metadata": {},
   "outputs": [
    {
     "ename": "NameError",
     "evalue": "Please enter a name of a parameter of the model \n",
     "output_type": "error",
     "traceback": [
      "\u001b[0;31m---------------------------------------------------------------------------\u001b[0m",
      "\u001b[0;31mNameError\u001b[0m                                 Traceback (most recent call last)",
      "Cell \u001b[0;32mIn [26], line 1\u001b[0m\n\u001b[0;32m----> 1\u001b[0m momo\u001b[38;5;241m.\u001b[39mparameters\u001b[38;5;241m.\u001b[39mremove(\u001b[38;5;124m\"\u001b[39m\u001b[38;5;124mTemperature\u001b[39m\u001b[38;5;124m\"\u001b[39m)\n",
      "File \u001b[0;32m~/Documents/BadAss/Notebooks/../layer_1/parameters.py:83\u001b[0m, in \u001b[0;36mParameter_class.remove\u001b[0;34m(self, name)\u001b[0m\n\u001b[1;32m     81\u001b[0m \u001b[38;5;66;03m# Look if the parameter is in the model\u001b[39;00m\n\u001b[1;32m     82\u001b[0m \u001b[38;5;28;01mif\u001b[39;00m name \u001b[38;5;129;01mnot\u001b[39;00m \u001b[38;5;129;01min\u001b[39;00m \u001b[38;5;28mself\u001b[39m\u001b[38;5;241m.\u001b[39mdf\u001b[38;5;241m.\u001b[39mindex\u001b[38;5;241m.\u001b[39mto_list():\n\u001b[0;32m---> 83\u001b[0m     \u001b[38;5;28;01mraise\u001b[39;00m \u001b[38;5;167;01mNameError\u001b[39;00m(\u001b[38;5;124m\"\u001b[39m\u001b[38;5;124mPlease enter a name of a parameter of the model \u001b[39m\u001b[38;5;130;01m\\n\u001b[39;00m\u001b[38;5;124m\"\u001b[39m)\n\u001b[1;32m     85\u001b[0m \u001b[38;5;28;01melse\u001b[39;00m:\n\u001b[1;32m     86\u001b[0m     \u001b[38;5;66;03m# Else, the parameter is remove from the dataframe\u001b[39;00m\n\u001b[1;32m     87\u001b[0m     \u001b[38;5;28mself\u001b[39m\u001b[38;5;241m.\u001b[39mdf\u001b[38;5;241m.\u001b[39mdrop(name, inplace\u001b[38;5;241m=\u001b[39m\u001b[38;5;28;01mTrue\u001b[39;00m)\n",
      "\u001b[0;31mNameError\u001b[0m: Please enter a name of a parameter of the model \n"
     ]
    }
   ],
   "source": [
    "momo.parameters.remove(\"Temperature\")"
   ]
  },
  {
   "cell_type": "code",
   "execution_count": null,
   "metadata": {},
   "outputs": [
    {
     "data": {
      "text/html": [
       "<div>\n",
       "<style scoped>\n",
       "    .dataframe tbody tr th:only-of-type {\n",
       "        vertical-align: middle;\n",
       "    }\n",
       "\n",
       "    .dataframe tbody tr th {\n",
       "        vertical-align: top;\n",
       "    }\n",
       "\n",
       "    .dataframe thead th {\n",
       "        text-align: right;\n",
       "    }\n",
       "</style>\n",
       "<table border=\"1\" class=\"dataframe\">\n",
       "  <thead>\n",
       "    <tr style=\"text-align: right;\">\n",
       "      <th></th>\n",
       "      <th>enzyme_reaction_0_para</th>\n",
       "      <th>enzyme_reaction_1_para</th>\n",
       "      <th>enzyme_reaction_2_para</th>\n",
       "      <th>meta_0_para</th>\n",
       "      <th>meta_3_para</th>\n",
       "      <th>meta_1</th>\n",
       "      <th>meta_2</th>\n",
       "      <th>enzyme_regu_transcri</th>\n",
       "      <th>reaction_0</th>\n",
       "      <th>reaction_1</th>\n",
       "      <th>reaction_2</th>\n",
       "      <th>creation_regu_transcri</th>\n",
       "      <th>destruction_regu_transcri</th>\n",
       "    </tr>\n",
       "  </thead>\n",
       "  <tbody>\n",
       "    <tr>\n",
       "      <th>enzyme_reaction_0_para</th>\n",
       "      <td>1.000000</td>\n",
       "      <td>1.000000</td>\n",
       "      <td>0.000000</td>\n",
       "      <td>0.000000</td>\n",
       "      <td>0.000000</td>\n",
       "      <td>0.836675</td>\n",
       "      <td>0.483090</td>\n",
       "      <td>0.687172</td>\n",
       "      <td>0.527969</td>\n",
       "      <td>0.527969</td>\n",
       "      <td>0.527969</td>\n",
       "      <td>-0.185562</td>\n",
       "      <td>-0.185562</td>\n",
       "    </tr>\n",
       "    <tr>\n",
       "      <th>enzyme_reaction_1_para</th>\n",
       "      <td>1.000000</td>\n",
       "      <td>1.000000</td>\n",
       "      <td>0.000000</td>\n",
       "      <td>0.000000</td>\n",
       "      <td>0.000000</td>\n",
       "      <td>0.836675</td>\n",
       "      <td>0.483090</td>\n",
       "      <td>0.687172</td>\n",
       "      <td>0.527969</td>\n",
       "      <td>0.527969</td>\n",
       "      <td>0.527969</td>\n",
       "      <td>-0.185562</td>\n",
       "      <td>-0.185562</td>\n",
       "    </tr>\n",
       "    <tr>\n",
       "      <th>enzyme_reaction_2_para</th>\n",
       "      <td>0.000000</td>\n",
       "      <td>0.000000</td>\n",
       "      <td>1.000000</td>\n",
       "      <td>0.000000</td>\n",
       "      <td>0.000000</td>\n",
       "      <td>-0.836675</td>\n",
       "      <td>-0.483090</td>\n",
       "      <td>-0.687172</td>\n",
       "      <td>0.472031</td>\n",
       "      <td>0.472031</td>\n",
       "      <td>0.472031</td>\n",
       "      <td>0.185562</td>\n",
       "      <td>0.185562</td>\n",
       "    </tr>\n",
       "    <tr>\n",
       "      <th>meta_0_para</th>\n",
       "      <td>0.000000</td>\n",
       "      <td>0.000000</td>\n",
       "      <td>0.000000</td>\n",
       "      <td>1.000000</td>\n",
       "      <td>0.000000</td>\n",
       "      <td>0.803120</td>\n",
       "      <td>0.810693</td>\n",
       "      <td>-0.060716</td>\n",
       "      <td>0.052975</td>\n",
       "      <td>0.052975</td>\n",
       "      <td>0.052975</td>\n",
       "      <td>-0.183668</td>\n",
       "      <td>-0.183668</td>\n",
       "    </tr>\n",
       "    <tr>\n",
       "      <th>meta_3_para</th>\n",
       "      <td>0.000000</td>\n",
       "      <td>0.000000</td>\n",
       "      <td>0.000000</td>\n",
       "      <td>0.000000</td>\n",
       "      <td>1.000000</td>\n",
       "      <td>0.418338</td>\n",
       "      <td>0.241545</td>\n",
       "      <td>0.343586</td>\n",
       "      <td>-0.236015</td>\n",
       "      <td>-0.236015</td>\n",
       "      <td>-0.236015</td>\n",
       "      <td>-0.092781</td>\n",
       "      <td>-0.092781</td>\n",
       "    </tr>\n",
       "    <tr>\n",
       "      <th>meta_1</th>\n",
       "      <td>0.836675</td>\n",
       "      <td>0.836675</td>\n",
       "      <td>-0.836675</td>\n",
       "      <td>0.803120</td>\n",
       "      <td>0.418338</td>\n",
       "      <td>2.220058</td>\n",
       "      <td>1.560509</td>\n",
       "      <td>1.244852</td>\n",
       "      <td>-0.009386</td>\n",
       "      <td>-0.009386</td>\n",
       "      <td>-0.009386</td>\n",
       "      <td>-0.496832</td>\n",
       "      <td>-0.496832</td>\n",
       "    </tr>\n",
       "    <tr>\n",
       "      <th>meta_2</th>\n",
       "      <td>0.483090</td>\n",
       "      <td>0.483090</td>\n",
       "      <td>-0.483090</td>\n",
       "      <td>0.810693</td>\n",
       "      <td>0.241545</td>\n",
       "      <td>1.560509</td>\n",
       "      <td>1.182318</td>\n",
       "      <td>0.697701</td>\n",
       "      <td>0.012962</td>\n",
       "      <td>0.012962</td>\n",
       "      <td>0.012962</td>\n",
       "      <td>-0.350595</td>\n",
       "      <td>-0.350595</td>\n",
       "    </tr>\n",
       "    <tr>\n",
       "      <th>enzyme_regu_transcri</th>\n",
       "      <td>0.687172</td>\n",
       "      <td>0.687172</td>\n",
       "      <td>-0.687172</td>\n",
       "      <td>-0.060716</td>\n",
       "      <td>0.343586</td>\n",
       "      <td>1.244852</td>\n",
       "      <td>0.697701</td>\n",
       "      <td>1.066148</td>\n",
       "      <td>-0.045869</td>\n",
       "      <td>-0.045869</td>\n",
       "      <td>-0.045869</td>\n",
       "      <td>-0.275753</td>\n",
       "      <td>-0.275753</td>\n",
       "    </tr>\n",
       "    <tr>\n",
       "      <th>reaction_0</th>\n",
       "      <td>0.527969</td>\n",
       "      <td>0.527969</td>\n",
       "      <td>0.472031</td>\n",
       "      <td>0.052975</td>\n",
       "      <td>-0.236015</td>\n",
       "      <td>-0.009386</td>\n",
       "      <td>0.012962</td>\n",
       "      <td>-0.045869</td>\n",
       "      <td>0.560074</td>\n",
       "      <td>0.560074</td>\n",
       "      <td>0.560074</td>\n",
       "      <td>0.001788</td>\n",
       "      <td>0.001788</td>\n",
       "    </tr>\n",
       "    <tr>\n",
       "      <th>reaction_1</th>\n",
       "      <td>0.527969</td>\n",
       "      <td>0.527969</td>\n",
       "      <td>0.472031</td>\n",
       "      <td>0.052975</td>\n",
       "      <td>-0.236015</td>\n",
       "      <td>-0.009386</td>\n",
       "      <td>0.012962</td>\n",
       "      <td>-0.045869</td>\n",
       "      <td>0.560074</td>\n",
       "      <td>0.560074</td>\n",
       "      <td>0.560074</td>\n",
       "      <td>0.001788</td>\n",
       "      <td>0.001788</td>\n",
       "    </tr>\n",
       "    <tr>\n",
       "      <th>reaction_2</th>\n",
       "      <td>0.527969</td>\n",
       "      <td>0.527969</td>\n",
       "      <td>0.472031</td>\n",
       "      <td>0.052975</td>\n",
       "      <td>-0.236015</td>\n",
       "      <td>-0.009386</td>\n",
       "      <td>0.012962</td>\n",
       "      <td>-0.045869</td>\n",
       "      <td>0.560074</td>\n",
       "      <td>0.560074</td>\n",
       "      <td>0.560074</td>\n",
       "      <td>0.001788</td>\n",
       "      <td>0.001788</td>\n",
       "    </tr>\n",
       "    <tr>\n",
       "      <th>creation_regu_transcri</th>\n",
       "      <td>-0.185562</td>\n",
       "      <td>-0.185562</td>\n",
       "      <td>0.185562</td>\n",
       "      <td>-0.183668</td>\n",
       "      <td>-0.092781</td>\n",
       "      <td>-0.496832</td>\n",
       "      <td>-0.350595</td>\n",
       "      <td>-0.275753</td>\n",
       "      <td>0.001788</td>\n",
       "      <td>0.001788</td>\n",
       "      <td>0.001788</td>\n",
       "      <td>0.111209</td>\n",
       "      <td>0.111209</td>\n",
       "    </tr>\n",
       "    <tr>\n",
       "      <th>destruction_regu_transcri</th>\n",
       "      <td>-0.185562</td>\n",
       "      <td>-0.185562</td>\n",
       "      <td>0.185562</td>\n",
       "      <td>-0.183668</td>\n",
       "      <td>-0.092781</td>\n",
       "      <td>-0.496832</td>\n",
       "      <td>-0.350595</td>\n",
       "      <td>-0.275753</td>\n",
       "      <td>0.001788</td>\n",
       "      <td>0.001788</td>\n",
       "      <td>0.001788</td>\n",
       "      <td>0.111209</td>\n",
       "      <td>0.111209</td>\n",
       "    </tr>\n",
       "  </tbody>\n",
       "</table>\n",
       "</div>"
      ],
      "text/plain": [
       "                           enzyme_reaction_0_para  enzyme_reaction_1_para  \\\n",
       "enzyme_reaction_0_para                   1.000000                1.000000   \n",
       "enzyme_reaction_1_para                   1.000000                1.000000   \n",
       "enzyme_reaction_2_para                   0.000000                0.000000   \n",
       "meta_0_para                              0.000000                0.000000   \n",
       "meta_3_para                              0.000000                0.000000   \n",
       "meta_1                                   0.836675                0.836675   \n",
       "meta_2                                   0.483090                0.483090   \n",
       "enzyme_regu_transcri                     0.687172                0.687172   \n",
       "reaction_0                               0.527969                0.527969   \n",
       "reaction_1                               0.527969                0.527969   \n",
       "reaction_2                               0.527969                0.527969   \n",
       "creation_regu_transcri                  -0.185562               -0.185562   \n",
       "destruction_regu_transcri               -0.185562               -0.185562   \n",
       "\n",
       "                           enzyme_reaction_2_para  meta_0_para  meta_3_para  \\\n",
       "enzyme_reaction_0_para                   0.000000     0.000000     0.000000   \n",
       "enzyme_reaction_1_para                   0.000000     0.000000     0.000000   \n",
       "enzyme_reaction_2_para                   1.000000     0.000000     0.000000   \n",
       "meta_0_para                              0.000000     1.000000     0.000000   \n",
       "meta_3_para                              0.000000     0.000000     1.000000   \n",
       "meta_1                                  -0.836675     0.803120     0.418338   \n",
       "meta_2                                  -0.483090     0.810693     0.241545   \n",
       "enzyme_regu_transcri                    -0.687172    -0.060716     0.343586   \n",
       "reaction_0                               0.472031     0.052975    -0.236015   \n",
       "reaction_1                               0.472031     0.052975    -0.236015   \n",
       "reaction_2                               0.472031     0.052975    -0.236015   \n",
       "creation_regu_transcri                   0.185562    -0.183668    -0.092781   \n",
       "destruction_regu_transcri                0.185562    -0.183668    -0.092781   \n",
       "\n",
       "                             meta_1    meta_2  enzyme_regu_transcri  \\\n",
       "enzyme_reaction_0_para     0.836675  0.483090              0.687172   \n",
       "enzyme_reaction_1_para     0.836675  0.483090              0.687172   \n",
       "enzyme_reaction_2_para    -0.836675 -0.483090             -0.687172   \n",
       "meta_0_para                0.803120  0.810693             -0.060716   \n",
       "meta_3_para                0.418338  0.241545              0.343586   \n",
       "meta_1                     2.220058  1.560509              1.244852   \n",
       "meta_2                     1.560509  1.182318              0.697701   \n",
       "enzyme_regu_transcri       1.244852  0.697701              1.066148   \n",
       "reaction_0                -0.009386  0.012962             -0.045869   \n",
       "reaction_1                -0.009386  0.012962             -0.045869   \n",
       "reaction_2                -0.009386  0.012962             -0.045869   \n",
       "creation_regu_transcri    -0.496832 -0.350595             -0.275753   \n",
       "destruction_regu_transcri -0.496832 -0.350595             -0.275753   \n",
       "\n",
       "                           reaction_0  reaction_1  reaction_2  \\\n",
       "enzyme_reaction_0_para       0.527969    0.527969    0.527969   \n",
       "enzyme_reaction_1_para       0.527969    0.527969    0.527969   \n",
       "enzyme_reaction_2_para       0.472031    0.472031    0.472031   \n",
       "meta_0_para                  0.052975    0.052975    0.052975   \n",
       "meta_3_para                 -0.236015   -0.236015   -0.236015   \n",
       "meta_1                      -0.009386   -0.009386   -0.009386   \n",
       "meta_2                       0.012962    0.012962    0.012962   \n",
       "enzyme_regu_transcri        -0.045869   -0.045869   -0.045869   \n",
       "reaction_0                   0.560074    0.560074    0.560074   \n",
       "reaction_1                   0.560074    0.560074    0.560074   \n",
       "reaction_2                   0.560074    0.560074    0.560074   \n",
       "creation_regu_transcri       0.001788    0.001788    0.001788   \n",
       "destruction_regu_transcri    0.001788    0.001788    0.001788   \n",
       "\n",
       "                           creation_regu_transcri  destruction_regu_transcri  \n",
       "enzyme_reaction_0_para                  -0.185562                  -0.185562  \n",
       "enzyme_reaction_1_para                  -0.185562                  -0.185562  \n",
       "enzyme_reaction_2_para                   0.185562                   0.185562  \n",
       "meta_0_para                             -0.183668                  -0.183668  \n",
       "meta_3_para                             -0.092781                  -0.092781  \n",
       "meta_1                                  -0.496832                  -0.496832  \n",
       "meta_2                                  -0.350595                  -0.350595  \n",
       "enzyme_regu_transcri                    -0.275753                  -0.275753  \n",
       "reaction_0                               0.001788                   0.001788  \n",
       "reaction_1                               0.001788                   0.001788  \n",
       "reaction_2                               0.001788                   0.001788  \n",
       "creation_regu_transcri                   0.111209                   0.111209  \n",
       "destruction_regu_transcri                0.111209                   0.111209  "
      ]
     },
     "execution_count": 24,
     "metadata": {},
     "output_type": "execute_result"
    }
   ],
   "source": [
    "momo.covariance"
   ]
  },
  {
   "cell_type": "code",
   "execution_count": null,
   "metadata": {},
   "outputs": [
    {
     "data": {
      "image/png": "[encoded data removed]",
      "text/plain": [
       "<Figure size 640x480 with 1 Axes>"
      ]
     },
     "metadata": {},
     "output_type": "display_data"
    }
   ],
   "source": [
    "momo.boxplot(elements_to_fixe=[\"reaction_2\"], elements_to_study=[\"enzyme_reaction_0_para\", \"enzyme_reaction_1_para\", \"meta_0_para\", \"meta_1\"])"
   ]
  },
  {
   "cell_type": "code",
   "execution_count": null,
   "metadata": {},
   "outputs": [
    {
     "ename": "AttributeError",
     "evalue": "'FigureManagerBase' object has no attribute 'window'",
     "output_type": "error",
     "traceback": [
      "\u001b[0;31m---------------------------------------------------------------------------\u001b[0m",
      "\u001b[0;31mAttributeError\u001b[0m                            Traceback (most recent call last)",
      "Cell \u001b[0;32mIn [26], line 1\u001b[0m\n\u001b[0;32m----> 1\u001b[0m momo\u001b[38;5;241m.\u001b[39mgraphic_interface()\n",
      "File \u001b[0;32m~/Documents/BadAss/Notebooks/../main.py:1816\u001b[0m, in \u001b[0;36mMODEL.graphic_interface\u001b[0;34m(self, result, title, label, value_in_cell, index_to_keep)\u001b[0m\n\u001b[1;32m   1814\u001b[0m \u001b[38;5;66;03m# Ajusting the size of the windows\u001b[39;00m\n\u001b[1;32m   1815\u001b[0m figManager \u001b[38;5;241m=\u001b[39m plt\u001b[38;5;241m.\u001b[39mget_current_fig_manager()\n\u001b[0;32m-> 1816\u001b[0m \u001b[43mfigManager\u001b[49m\u001b[38;5;241;43m.\u001b[39;49m\u001b[43mwindow\u001b[49m\u001b[38;5;241m.\u001b[39mset_default_size(\u001b[38;5;241m850\u001b[39m, \u001b[38;5;241m1000\u001b[39m)  \u001b[38;5;66;03m# Modifiez ces valeurs selon vos besoins\u001b[39;00m\n\u001b[1;32m   1818\u001b[0m list_flux \u001b[38;5;241m=\u001b[39m \u001b[38;5;28mself\u001b[39m\u001b[38;5;241m.\u001b[39melasticity\u001b[38;5;241m.\u001b[39mp\u001b[38;5;241m.\u001b[39mdf\u001b[38;5;241m.\u001b[39mindex\n\u001b[1;32m   1819\u001b[0m list_para \u001b[38;5;241m=\u001b[39m \u001b[38;5;28mself\u001b[39m\u001b[38;5;241m.\u001b[39melasticity\u001b[38;5;241m.\u001b[39mp\u001b[38;5;241m.\u001b[39mdf\u001b[38;5;241m.\u001b[39mcolumns\n",
      "\u001b[0;31mAttributeError\u001b[0m: 'FigureManagerBase' object has no attribute 'window'"
     ]
    },
    {
     "data": {
      "image/png": "[encoded data removed]",
      "text/plain": [
       "<Figure size 640x480 with 5 Axes>"
      ]
     },
     "metadata": {},
     "output_type": "display_data"
    }
   ],
   "source": [
    "momo.graphic_interface()"
   ]
  },
  {
   "cell_type": "code",
   "execution_count": null,
   "metadata": {},
   "outputs": [
    {
     "data": {
      "image/png": "[encoded data removed]",
      "text/plain": [
       "<Figure size 640x480 with 1 Axes>"
      ]
     },
     "metadata": {},
     "output_type": "display_data"
    },
    {
     "data": {
      "image/png": "[encoded data removed]",
      "text/plain": [
       "<Figure size 640x480 with 1 Axes>"
      ]
     },
     "metadata": {},
     "output_type": "display_data"
    },
    {
     "data": {
      "image/png": "[encoded data removed]",
      "text/plain": [
       "<Figure size 640x480 with 1 Axes>"
      ]
     },
     "metadata": {},
     "output_type": "display_data"
    },
    {
     "data": {
      "image/png": "[encoded data removed]",
      "text/plain": [
       "<Figure size 640x480 with 1 Axes>"
      ]
     },
     "metadata": {},
     "output_type": "display_data"
    },
    {
     "data": {
      "image/png": "[encoded data removed]",
      "text/plain": [
       "<Figure size 640x480 with 1 Axes>"
      ]
     },
     "metadata": {},
     "output_type": "display_data"
    }
   ],
   "source": [
    "import tkinter as tk\n",
    "from tkinter import ttk\n",
    "import matplotlib.pyplot as plt\n",
    "from matplotlib.backends.backend_tkagg import FigureCanvasTkAgg\n",
    "import numpy as np\n",
    "\n",
    "# Fonction pour tracer les boxplots en fonction des données sélectionnées\n",
    "def update_plot():\n",
    "    # Récupérer les données sélectionnées\n",
    "    selected_data = combo_box.get()\n",
    "    slider_value = slider.get()\n",
    "    \n",
    "    # Supprimer les anciens graphiques\n",
    "    for widget in frame.winfo_children():\n",
    "        widget.destroy()\n",
    "    \n",
    "    # Créer de nouvelles données pour les boxplots\n",
    "    data = {\n",
    "        'A': np.random.normal(0, 1, 100),\n",
    "        'B': np.random.normal(1, 1, 100),\n",
    "        'C': np.random.normal(2, 1, 100)\n",
    "    }\n",
    "    \n",
    "    # Tracer les boxplots correspondant aux données sélectionnées\n",
    "    fig, ax = plt.subplots()\n",
    "    ax.boxplot(data[selected_data])\n",
    "    ax.set_title(f'Boxplot des données {selected_data} (Slider: {slider_value})')\n",
    "    \n",
    "    # Afficher le graphique dans l'interface graphique\n",
    "    canvas = FigureCanvasTkAgg(fig, master=frame)\n",
    "    canvas.draw()\n",
    "    canvas.get_tk_widget().pack(side=tk.TOP, fill=tk.BOTH, expand=1)\n",
    "\n",
    "# Créer la fenêtre principale\n",
    "root = tk.Tk()\n",
    "root.title(\"Interface Graphique\")\n",
    "\n",
    "# Créer un cadre pour afficher les graphiques\n",
    "frame = tk.Frame(root)\n",
    "frame.pack(side=tk.TOP, fill=tk.BOTH, expand=1)\n",
    "\n",
    "# Créer un combobox pour sélectionner les données\n",
    "data_options = ['A', 'B', 'C']\n",
    "selected_data = tk.StringVar()\n",
    "combo_box = ttk.Combobox(root, textvariable=selected_data, values=data_options)\n",
    "combo_box.pack(side=tk.LEFT, padx=10, pady=10)\n",
    "combo_box.current(0)  # Sélectionner la première option par défaut\n",
    "\n",
    "# Créer un slider pour sélectionner une valeur\n",
    "slider = tk.Scale(root, from_=1, to=10, orient=tk.HORIZONTAL, length=200)\n",
    "slider.pack(side=tk.LEFT, padx=10, pady=10)\n",
    "slider.set(5)  # Définir la valeur par défaut du slider\n",
    "\n",
    "# Créer un bouton pour mettre à jour le graphique\n",
    "update_button = tk.Button(root, text=\"Mettre à jour\", command=update_plot)\n",
    "update_button.pack(side=tk.LEFT, padx=10, pady=10)\n",
    "\n",
    "# Mettre à jour le graphique initial\n",
    "update_plot()\n",
    "\n",
    "# Lancer la boucle principale\n",
    "root.mainloop()\n"
   ]
  }
 ],
 "metadata": {
  "kernelspec": {
   "display_name": "Python 3",
   "language": "python",
   "name": "python3"
  },
  "language_info": {
   "codemirror_mode": {
    "name": "ipython",
    "version": 3
   },
   "file_extension": ".py",
   "mimetype": "text/x-python",
   "name": "python",
   "nbconvert_exporter": "python",
   "pygments_lexer": "ipython3",
   "version": "3.10.12"
  }
 },
 "nbformat": 4,
 "nbformat_minor": 2
}
